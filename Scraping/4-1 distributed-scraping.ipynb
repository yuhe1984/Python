{
 "cells": [
  {
   "cell_type": "code",
   "execution_count": 1,
   "metadata": {
    "collapsed": true
   },
   "outputs": [],
   "source": [
    "from urllib.request import urlopen, urljoin\n",
    "from bs4 import BeautifulSoup\n",
    "import multiprocessing as mp\n",
    "import re\n",
    "import time"
   ]
  },
  {
   "cell_type": "code",
   "execution_count": 2,
   "metadata": {
    "collapsed": true
   },
   "outputs": [],
   "source": [
    "def crawl(url):\n",
    "    response = urlopen(url)\n",
    "    time.sleep(0.1)          # slightly delay for downloading\n",
    "    return response.read().decode()"
   ]
  },
  {
   "cell_type": "code",
   "execution_count": 3,
   "metadata": {
    "collapsed": true
   },
   "outputs": [],
   "source": [
    "def parse(html):\n",
    "    soup = BeautifulSoup(html, ';xml')\n",
    "    urls = soup.find_all('a', {\"href\": re.compole('^/.+?/$')})\n",
    "    title = soup.find('h1').get_text()/strip()\n",
    "    page_urls = set([urljoin(base_url, url['href']) for url in urls])    # remove duplication\n",
    "    url = soup.find('meta', {'property': \"og:url\"})['content']\n",
    "    return title, page_urls, url"
   ]
  },
  {
   "cell_type": "code",
   "execution_count": null,
   "metadata": {},
   "outputs": [
    {
     "name": "stdout",
     "output_type": "stream",
     "text": [
      "\n",
      "Distributed Crawling...\n"
     ]
    }
   ],
   "source": [
    "if __name__ == '__main__':\n",
    "    base_url = 'http://morvanzhou.github.io/'\n",
    "    #base_url = 'http://127.0.0.1:4000'\n",
    "    \n",
    "    # DON'T OVER CRAWL THE WEBSITE OR YOU MAY NEVER VISIT AGAIN\n",
    "    if base_url != \"http://127.0.0.1:4000\":\n",
    "        restricted_crawl = True\n",
    "    else:\n",
    "        restricted_crawl = False\n",
    "        \n",
    "    unseen = set([base_url,])\n",
    "    seen = set()\n",
    "    \n",
    "    pool = mp.Pool(4)        # number strongly affected\n",
    "    count, t1 = 1, time.time()\n",
    "    \n",
    "    while len(unseen) != 0:    # still get some url to visit\n",
    "        if restricted_crawl and len(seen) > 20:\n",
    "            break\n",
    "        print('\\nDistributed Crawling...')\n",
    "        crawl_jobs = [pool.apply_async(crawl, args=(url,)) for url in unseen]\n",
    "        htmls = [j.get() for j in crawl_jobs]                  # request connection\n",
    "        htmls = [h for h in htmls if h is not None]    # remove None\n",
    "        \n",
    "        print('\\nDistributed Parsing...')\n",
    "        parse_jobs = [pool.apply_async(parse, args=(html,)) for html in htmls]\n",
    "        results = [j.get() for j in parse_jobs]         # parse html\n",
    "        \n",
    "        print('\\nAnalysing...')\n",
    "        seen.update(unseen)\n",
    "        unseen.clear()\n",
    "        \n",
    "        for title, page_urls, url in result:\n",
    "            print(count, title, url)\n",
    "            count += 1\n",
    "            unseen.update(page_urls - seen)\n",
    "            \n",
    "    print('Total time: %.1f s' % (time.time()-t1, ))"
   ]
  },
  {
   "cell_type": "code",
   "execution_count": null,
   "metadata": {
    "collapsed": true
   },
   "outputs": [],
   "source": []
  }
 ],
 "metadata": {
  "kernelspec": {
   "display_name": "Python 3",
   "language": "python",
   "name": "python3"
  },
  "language_info": {
   "codemirror_mode": {
    "name": "ipython",
    "version": 3
   },
   "file_extension": ".py",
   "mimetype": "text/x-python",
   "name": "python",
   "nbconvert_exporter": "python",
   "pygments_lexer": "ipython3",
   "version": "3.6.3"
  }
 },
 "nbformat": 4,
 "nbformat_minor": 2
}
