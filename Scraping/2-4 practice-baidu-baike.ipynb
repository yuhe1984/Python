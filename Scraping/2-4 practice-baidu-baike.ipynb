{
 "cells": [
  {
   "cell_type": "code",
   "execution_count": 14,
   "metadata": {
    "collapsed": true
   },
   "outputs": [],
   "source": [
    "from bs4 import BeautifulSoup\n",
    "from urllib.request import urlopen\n",
    "import re \n",
    "import random"
   ]
  },
  {
   "cell_type": "code",
   "execution_count": 15,
   "metadata": {
    "collapsed": true
   },
   "outputs": [],
   "source": [
    "base_url = \"https://baike.baidu.com\"\n",
    "his = [\"/item/%E7%BD%91%E7%BB%9C%E7%88%AC%E8%99%AB/5162711\"]"
   ]
  },
  {
   "cell_type": "code",
   "execution_count": 16,
   "metadata": {},
   "outputs": [
    {
     "name": "stdout",
     "output_type": "stream",
     "text": [
      "0 网络爬虫     url:  /item/%E7%BD%91%E7%BB%9C%E7%88%AC%E8%99%AB/5162711\n",
      "1 捷克     url:  /item/%E6%8D%B7%E5%85%8B\n",
      "2 雅罗斯拉夫·塞弗尔特     url:  /item/%E5%A1%9E%E5%BC%97%E5%B0%94%E7%89%B9\n",
      "3 文艺流派     url:  /item/%E6%96%87%E8%89%BA%E6%B5%81%E6%B4%BE\n",
      "4 雅罗斯拉夫·塞弗尔特     url:  /item/%E5%A1%9E%E5%BC%97%E5%B0%94%E7%89%B9\n",
      "5 诗集     url:  /item/%E8%AF%97%E9%9B%86\n",
      "6 贺敬之诗选     url:  /item/%E8%B4%BA%E6%95%AC%E4%B9%8B%E8%AF%97%E9%80%89\n",
      "7 诗集     url:  /item/%E8%AF%97%E9%9B%86\n",
      "8 南方南方，北方北方     url:  /item/%E5%8D%97%E6%96%B9%E5%8D%97%E6%96%B9%EF%BC%8C%E5%8C%97%E6%96%B9%E5%8C%97%E6%96%B9\n",
      "9 螺洲镇     url:  /item/%E8%9E%BA%E6%B4%B2%E9%95%87\n",
      "10 陈若霖     url:  /item/%E9%99%88%E8%8B%A5%E9%9C%96\n",
      "11 议叙     url:  /item/%E8%AE%AE%E5%8F%99\n",
      "12 朱珪     url:  /item/%E6%9C%B1%E7%8F%AA\n",
      "13 议叙     url:  /item/%E8%AE%AE%E5%8F%99\n",
      "14 朱珪     url:  /item/%E6%9C%B1%E7%8F%AA\n",
      "15 议叙     url:  /item/%E8%AE%AE%E5%8F%99\n",
      "16 朱珪     url:  /item/%E6%9C%B1%E7%8F%AA\n",
      "17 议叙     url:  /item/%E8%AE%AE%E5%8F%99\n",
      "18 谭嗣同     url:  /item/%E8%B0%AD%E5%97%A3%E5%90%8C\n",
      "19 唐才常     url:  /item/%E5%94%90%E6%89%8D%E5%B8%B8\n"
     ]
    }
   ],
   "source": [
    "for i in range(20):\n",
    "    # dealing with Chinese symbols\n",
    "    url = base_url + his[-1] # -1代表读取列表末尾第一个元素\n",
    "    \n",
    "    html = urlopen(url).read().decode('utf-8')\n",
    "    soup = BeautifulSoup(html, features='lxml')\n",
    "    print(i, soup.find('h1').get_text(), '    url: ', his[-1])\n",
    "    \n",
    "    # find vaild urls\n",
    "    sub_urls = soup.find_all(\"a\", {\"target\": \"_blank\", \"href\": re.compile(\"/item/(%.{2})+$\")})\n",
    "    \n",
    "    if len(sub_urls) != 0:\n",
    "        his.append(random.sample(sub_urls, 1)[0]['href'])\n",
    "    else:\n",
    "        # no vaild sub link found\n",
    "        his.pop()           "
   ]
  },
  {
   "cell_type": "code",
   "execution_count": null,
   "metadata": {
    "collapsed": true
   },
   "outputs": [],
   "source": []
  }
 ],
 "metadata": {
  "kernelspec": {
   "display_name": "Python 3",
   "language": "python",
   "name": "python3"
  },
  "language_info": {
   "codemirror_mode": {
    "name": "ipython",
    "version": 3
   },
   "file_extension": ".py",
   "mimetype": "text/x-python",
   "name": "python",
   "nbconvert_exporter": "python",
   "pygments_lexer": "ipython3",
   "version": "3.6.3"
  }
 },
 "nbformat": 4,
 "nbformat_minor": 2
}
