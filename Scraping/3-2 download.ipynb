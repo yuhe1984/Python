{
 "cells": [
  {
   "cell_type": "code",
   "execution_count": 1,
   "metadata": {
    "collapsed": true
   },
   "outputs": [],
   "source": [
    "import os\n",
    "os.makedirs('./img/', exist_ok=True)"
   ]
  },
  {
   "cell_type": "code",
   "execution_count": 2,
   "metadata": {
    "collapsed": true
   },
   "outputs": [],
   "source": [
    "IMAGE_URL = \"https://morvanzhou.github.io/static/img/description/learning_step_flowchart.png\""
   ]
  },
  {
   "cell_type": "code",
   "execution_count": 3,
   "metadata": {
    "collapsed": true
   },
   "outputs": [],
   "source": [
    "def urllib_download():\n",
    "    from urllib.request import urlretrieve\n",
    "    urlretrieve(IMAGE_URL, './img/image1.png')   # whole document"
   ]
  },
  {
   "cell_type": "code",
   "execution_count": 8,
   "metadata": {},
   "outputs": [],
   "source": [
    "def request_download():\n",
    "    import requests\n",
    "    r = requests.get(IMAGE_URL)\n",
    "    with open('./img/image2.png', 'wb') as f:\n",
    "        f.write(r.content)                    # whole document"
   ]
  },
  {
   "cell_type": "code",
   "execution_count": 12,
   "metadata": {},
   "outputs": [],
   "source": [
    "def chunk_download():\n",
    "    import requests\n",
    "    r = requests.get(IMAGE_URL, stream=True)  # stream loading\n",
    "    \n",
    "    with open('./img/image3.png', 'wb') as f:\n",
    "        for chunk in r.iter_content(chunk_size=32):\n",
    "            f.write(chunk)"
   ]
  },
  {
   "cell_type": "code",
   "execution_count": 13,
   "metadata": {},
   "outputs": [
    {
     "name": "stdout",
     "output_type": "stream",
     "text": [
      "download image1\n",
      "download image2\n",
      "download image3\n"
     ]
    }
   ],
   "source": [
    "urllib_download()\n",
    "print('download image1')\n",
    "request_download()\n",
    "print('download image2')\n",
    "chunk_download()\n",
    "print('download image3')"
   ]
  },
  {
   "cell_type": "code",
   "execution_count": null,
   "metadata": {
    "collapsed": true
   },
   "outputs": [],
   "source": []
  }
 ],
 "metadata": {
  "kernelspec": {
   "display_name": "Python 3",
   "language": "python",
   "name": "python3"
  },
  "language_info": {
   "codemirror_mode": {
    "name": "ipython",
    "version": 3
   },
   "file_extension": ".py",
   "mimetype": "text/x-python",
   "name": "python",
   "nbconvert_exporter": "python",
   "pygments_lexer": "ipython3",
   "version": "3.6.3"
  }
 },
 "nbformat": 4,
 "nbformat_minor": 2
}
