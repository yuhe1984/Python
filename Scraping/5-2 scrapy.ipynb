{
 "cells": [
  {
   "cell_type": "code",
   "execution_count": 1,
   "metadata": {
    "collapsed": true
   },
   "outputs": [],
   "source": [
    "import scrapy\n",
    "\n",
    "class MofanSpider(scrapy.Spider):\n",
    "    name = \"mofan\"\n",
    "    start_urls = [\n",
    "        'https://morvanzhou.github.io/',\n",
    "    ]\n",
    "    # unseen = set()\n",
    "    # seen = set()      # we don't need these two as scrapy will deal with them automatically\n",
    "    \n",
    "    def parse(self, response):\n",
    "        yield {    # return some results\n",
    "            'title': response.css('h1::text').extract_first(default='Missing').replace('\"', \"\"),\n",
    "            'url': response.url,\n",
    "        }\n",
    "        \n",
    "        urls = response.css('a::attr(href)').re(r'^/.+?/$')    # find all sub urls\n",
    "        for url in urls:\n",
    "            yield response.follow(url, callback=self.parse)    # it will filter duplication automatically"
   ]
  },
  {
   "cell_type": "code",
   "execution_count": 14,
   "metadata": {},
   "outputs": [
    {
     "name": "stderr",
     "output_type": "stream",
     "text": [
      "ERROR:root:File `'scrapy.py'` not found.\n"
     ]
    }
   ],
   "source": [
    "%run scrapy runspider 5-2 scrapy.ipynb -o res.json"
   ]
  },
  {
   "cell_type": "code",
   "execution_count": null,
   "metadata": {
    "collapsed": true
   },
   "outputs": [],
   "source": []
  }
 ],
 "metadata": {
  "kernelspec": {
   "display_name": "Python 3",
   "language": "python",
   "name": "python3"
  },
  "language_info": {
   "codemirror_mode": {
    "name": "ipython",
    "version": 3
   },
   "file_extension": ".py",
   "mimetype": "text/x-python",
   "name": "python",
   "nbconvert_exporter": "python",
   "pygments_lexer": "ipython3",
   "version": "3.6.3"
  }
 },
 "nbformat": 4,
 "nbformat_minor": 2
}
