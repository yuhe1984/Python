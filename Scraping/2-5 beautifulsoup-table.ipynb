{
 "cells": [
  {
   "cell_type": "code",
   "execution_count": 1,
   "metadata": {
    "collapsed": true
   },
   "outputs": [],
   "source": [
    "from bs4 import BeautifulSoup\n",
    "from urllib.request import urlopen"
   ]
  },
  {
   "cell_type": "code",
   "execution_count": 2,
   "metadata": {
    "collapsed": true
   },
   "outputs": [],
   "source": [
    "# if ha Chinese, apply decode()\n",
    "html = urlopen(\"https://morvanzhou.github.io/static/scraping/table.html\").read().decode('utf-8')"
   ]
  },
  {
   "cell_type": "code",
   "execution_count": 3,
   "metadata": {
    "collapsed": true
   },
   "outputs": [],
   "source": [
    "soup = BeautifulSoup(html, features='lxml')"
   ]
  },
  {
   "cell_type": "code",
   "execution_count": 5,
   "metadata": {},
   "outputs": [
    {
     "name": "stdout",
     "output_type": "stream",
     "text": [
      "\n",
      "\n",
      "<tr>\n",
      "<th>\n",
      "\t\t\t分类\n",
      "\t\t</th><th>\n",
      "\t\t\t名字\n",
      "\t\t</th><th>\n",
      "\t\t\t时长\n",
      "\t\t</th><th>\n",
      "\t\t\t预览\n",
      "\t\t</th>\n",
      "</tr>\n",
      "\n",
      "\n",
      "<tr class=\"ml\" id=\"course1\">\n",
      "<td>\n",
      "\t\t\t机器学习\n",
      "\t\t</td><td>\n",
      "<a href=\"https://morvanzhou.github.io/tutorials/machine-learning/tensorflow/\">\n",
      "\t\t\t\tTensorflow 神经网络</a>\n",
      "</td><td>\n",
      "\t\t\t2:00\n",
      "\t\t</td><td>\n",
      "<img src=\"https://morvanzhou.github.io/static/img/course_cover/tf.jpg\"/>\n",
      "</td>\n",
      "</tr>\n",
      "\n",
      "\n",
      "<tr class=\"ml\" id=\"course2\">\n",
      "<td>\n",
      "\t\t\t机器学习\n",
      "\t\t</td><td>\n",
      "<a href=\"https://morvanzhou.github.io/tutorials/machine-learning/reinforcement-learning/\">\n",
      "\t\t\t\t强化学习</a>\n",
      "</td><td>\n",
      "\t\t\t5:00\n",
      "\t\t</td><td>\n",
      "<img src=\"https://morvanzhou.github.io/static/img/course_cover/rl.jpg\"/>\n",
      "</td>\n",
      "</tr>\n",
      "\n",
      "\n",
      "<tr class=\"data\" id=\"course3\">\n",
      "<td>\n",
      "\t\t\t数据处理\n",
      "\t\t</td><td>\n",
      "<a href=\"https://morvanzhou.github.io/tutorials/data-manipulation/scraping/\">\n",
      "\t\t\t\t爬虫</a>\n",
      "</td><td>\n",
      "\t\t\t3:00\n",
      "\t\t</td><td>\n",
      "<img src=\"https://morvanzhou.github.io/static/img/course_cover/scraping.jpg\"/>\n",
      "</td>\n",
      "</tr>\n",
      "\n",
      "\n"
     ]
    }
   ],
   "source": [
    "# print with title\n",
    "for item in soup.find(\"table\", {\"id\": \"course-list\"}).children:\n",
    "    print(item)"
   ]
  },
  {
   "cell_type": "code",
   "execution_count": 6,
   "metadata": {},
   "outputs": [
    {
     "name": "stdout",
     "output_type": "stream",
     "text": [
      "\n",
      "\n",
      "<tr class=\"ml\" id=\"course1\">\n",
      "<td>\n",
      "\t\t\t机器学习\n",
      "\t\t</td><td>\n",
      "<a href=\"https://morvanzhou.github.io/tutorials/machine-learning/tensorflow/\">\n",
      "\t\t\t\tTensorflow 神经网络</a>\n",
      "</td><td>\n",
      "\t\t\t2:00\n",
      "\t\t</td><td>\n",
      "<img src=\"https://morvanzhou.github.io/static/img/course_cover/tf.jpg\"/>\n",
      "</td>\n",
      "</tr>\n",
      "\n",
      "\n",
      "<tr class=\"ml\" id=\"course2\">\n",
      "<td>\n",
      "\t\t\t机器学习\n",
      "\t\t</td><td>\n",
      "<a href=\"https://morvanzhou.github.io/tutorials/machine-learning/reinforcement-learning/\">\n",
      "\t\t\t\t强化学习</a>\n",
      "</td><td>\n",
      "\t\t\t5:00\n",
      "\t\t</td><td>\n",
      "<img src=\"https://morvanzhou.github.io/static/img/course_cover/rl.jpg\"/>\n",
      "</td>\n",
      "</tr>\n",
      "\n",
      "\n",
      "<tr class=\"data\" id=\"course3\">\n",
      "<td>\n",
      "\t\t\t数据处理\n",
      "\t\t</td><td>\n",
      "<a href=\"https://morvanzhou.github.io/tutorials/data-manipulation/scraping/\">\n",
      "\t\t\t\t爬虫</a>\n",
      "</td><td>\n",
      "\t\t\t3:00\n",
      "\t\t</td><td>\n",
      "<img src=\"https://morvanzhou.github.io/static/img/course_cover/scraping.jpg\"/>\n",
      "</td>\n",
      "</tr>\n",
      "\n",
      "\n"
     ]
    }
   ],
   "source": [
    "# print without title\n",
    "for item in soup.find(\"table\", {\"id\": \"course-list\"}).tr.next_siblings:\n",
    "    print(item)"
   ]
  },
  {
   "cell_type": "code",
   "execution_count": 7,
   "metadata": {},
   "outputs": [
    {
     "name": "stdout",
     "output_type": "stream",
     "text": [
      "\n",
      "\t\t\t3:00\n",
      "\t\t\n"
     ]
    }
   ],
   "source": [
    "# navigate using next_sibling/previous_sibling\n",
    "print(soup.find(\"img\", {\"src\": \"https://morvanzhou.github.io/static/img/course_cover/scraping.jpg\"}\n",
    "               ).parent.previous_sibling.get_text())"
   ]
  },
  {
   "cell_type": "code",
   "execution_count": null,
   "metadata": {
    "collapsed": true
   },
   "outputs": [],
   "source": []
  }
 ],
 "metadata": {
  "kernelspec": {
   "display_name": "Python 3",
   "language": "python",
   "name": "python3"
  },
  "language_info": {
   "codemirror_mode": {
    "name": "ipython",
    "version": 3
   },
   "file_extension": ".py",
   "mimetype": "text/x-python",
   "name": "python",
   "nbconvert_exporter": "python",
   "pygments_lexer": "ipython3",
   "version": "3.6.3"
  }
 },
 "nbformat": 4,
 "nbformat_minor": 2
}
