{
 "cells": [
  {
   "cell_type": "code",
   "execution_count": 1,
   "metadata": {
    "collapsed": true
   },
   "outputs": [],
   "source": [
    "import matplotlib.pyplot as plt\n",
    "import numpy as np"
   ]
  },
  {
   "cell_type": "code",
   "execution_count": 2,
   "metadata": {
    "collapsed": true
   },
   "outputs": [],
   "source": [
    "x = np.linspace(-3,3,50)\n",
    "y1 = 2*x+1\n",
    "y2 = x**2"
   ]
  },
  {
   "cell_type": "code",
   "execution_count": 7,
   "metadata": {},
   "outputs": [
    {
     "data": {
      "text/plain": [
       "Text(0,0.5,'I am y')"
      ]
     },
     "execution_count": 7,
     "metadata": {},
     "output_type": "execute_result"
    }
   ],
   "source": [
    "plt.figure()\n",
    "plt.xlim((-1,2))\n",
    "plt.ylim((-2,3))\n",
    "plt.xlabel('I am x')\n",
    "plt.ylabel('I am y')"
   ]
  },
  {
   "cell_type": "code",
   "execution_count": 8,
   "metadata": {},
   "outputs": [
    {
     "name": "stdout",
     "output_type": "stream",
     "text": [
      "[-1.   -0.25  0.5   1.25  2.  ]\n"
     ]
    },
    {
     "data": {
      "text/plain": [
       "([<matplotlib.axis.YTick at 0x1a1f4b6ff28>,\n",
       "  <matplotlib.axis.YTick at 0x1a1f4b6feb8>,\n",
       "  <matplotlib.axis.YTick at 0x1a1f4b91588>,\n",
       "  <matplotlib.axis.YTick at 0x1a1f4c14438>,\n",
       "  <matplotlib.axis.YTick at 0x1a1f4bfd080>],\n",
       " <a list of 5 Text yticklabel objects>)"
      ]
     },
     "execution_count": 8,
     "metadata": {},
     "output_type": "execute_result"
    }
   ],
   "source": [
    "new_ticks = np.linspace(-1,2,5)\n",
    "print(new_ticks)\n",
    "plt.xticks(new_ticks)\n",
    "plt.yticks([-2,-1.8,-1,1.22,3,],\n",
    "          [r'$really\\ bad$',r'$bad\\ \\alpha$',r'$normal$',r'$good$',r'$really\\ good$'])"
   ]
  },
  {
   "cell_type": "code",
   "execution_count": 9,
   "metadata": {},
   "outputs": [
    {
     "data": {
      "text/plain": [
       "<matplotlib.legend.Legend at 0x1a1f4b91a90>"
      ]
     },
     "execution_count": 9,
     "metadata": {},
     "output_type": "execute_result"
    }
   ],
   "source": [
    "l1, = plt.plot(x,y2,label='up')\n",
    "l2, = plt.plot(x,y1,color='red',linewidth=1.0,linestyle='--',label='down')\n",
    "plt.legend(handles=[l1,l2,],labels=['aaa','bbb'],loc='best')"
   ]
  },
  {
   "cell_type": "code",
   "execution_count": 10,
   "metadata": {},
   "outputs": [
    {
     "data": {
      "image/png": "[encoded data removed]",
      "text/plain": [
       "<matplotlib.figure.Figure at 0x1a1f4c100f0>"
      ]
     },
     "metadata": {},
     "output_type": "display_data"
    }
   ],
   "source": [
    "plt.show()"
   ]
  },
  {
   "cell_type": "code",
   "execution_count": null,
   "metadata": {
    "collapsed": true
   },
   "outputs": [],
   "source": []
  }
 ],
 "metadata": {
  "kernelspec": {
   "display_name": "Python 3",
   "language": "python",
   "name": "python3"
  },
  "language_info": {
   "codemirror_mode": {
    "name": "ipython",
    "version": 3
   },
   "file_extension": ".py",
   "mimetype": "text/x-python",
   "name": "python",
   "nbconvert_exporter": "python",
   "pygments_lexer": "ipython3",
   "version": "3.6.3"
  }
 },
 "nbformat": 4,
 "nbformat_minor": 2
}
