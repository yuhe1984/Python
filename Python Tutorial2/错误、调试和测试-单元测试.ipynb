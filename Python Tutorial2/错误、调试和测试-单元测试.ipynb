{
 "cells": [
  {
   "cell_type": "code",
   "execution_count": 2,
   "metadata": {
    "collapsed": true
   },
   "outputs": [],
   "source": [
    "class Dict(dict):\n",
    "    \n",
    "    def __init__(self, **kw):\n",
    "        super().__init__(**kw)\n",
    "        \n",
    "    def __getattr__(self, key):\n",
    "        try:\n",
    "            return self[key]\n",
    "        except KeyError:\n",
    "            raise AttributeError(r\"'Dict' object has no attribute '%s'\" % key)\n",
    "            \n",
    "    def __setattr__(self, key, value):\n",
    "        self[key] = value"
   ]
  },
  {
   "cell_type": "code",
   "execution_count": 3,
   "metadata": {},
   "outputs": [],
   "source": [
    "d = Dict(a=1, b=2)"
   ]
  },
  {
   "cell_type": "code",
   "execution_count": 4,
   "metadata": {},
   "outputs": [
    {
     "data": {
      "text/plain": [
       "1"
      ]
     },
     "execution_count": 4,
     "metadata": {},
     "output_type": "execute_result"
    }
   ],
   "source": [
    "d['a']"
   ]
  },
  {
   "cell_type": "code",
   "execution_count": 5,
   "metadata": {},
   "outputs": [
    {
     "data": {
      "text/plain": [
       "1"
      ]
     },
     "execution_count": 5,
     "metadata": {},
     "output_type": "execute_result"
    }
   ],
   "source": [
    "d.a"
   ]
  },
  {
   "cell_type": "code",
   "execution_count": 10,
   "metadata": {},
   "outputs": [
    {
     "name": "stderr",
     "output_type": "stream",
     "text": [
      "E\n",
      "======================================================================\n",
      "ERROR: C:\\Users\\Administrator\\AppData\\Roaming\\jupyter\\runtime\\kernel-2890d822-8f9e-4327-b19a-05c874b93b55 (unittest.loader._FailedTest)\n",
      "----------------------------------------------------------------------\n",
      "AttributeError: module '__main__' has no attribute 'C:\\Users\\Administrator\\AppData\\Roaming\\jupyter\\runtime\\kernel-2890d822-8f9e-4327-b19a-05c874b93b55'\n",
      "\n",
      "----------------------------------------------------------------------\n",
      "Ran 1 test in 0.002s\n",
      "\n",
      "FAILED (errors=1)\n"
     ]
    },
    {
     "ename": "SystemExit",
     "evalue": "True",
     "output_type": "error",
     "traceback": [
      "An exception has occurred, use %tb to see the full traceback.\n",
      "\u001b[1;31mSystemExit\u001b[0m\u001b[1;31m:\u001b[0m True\n"
     ]
    },
    {
     "name": "stderr",
     "output_type": "stream",
     "text": [
      "D:\\Anaconda\\lib\\site-packages\\IPython\\core\\interactiveshell.py:2870: UserWarning: To exit: use 'exit', 'quit', or Ctrl-D.\n",
      "  warn(\"To exit: use 'exit', 'quit', or Ctrl-D.\", stacklevel=1)\n"
     ]
    }
   ],
   "source": [
    "import unittest\n",
    "\n",
    "from mydict import Dict\n",
    "\n",
    "class TestDict(unittest.TestCase):\n",
    "    \n",
    "    def test_init(self):\n",
    "        d = Dict(a=1, b='test')\n",
    "        self.assertEqual(d.a, 1)\n",
    "        self.assertEqual(d.b, 'test')\n",
    "        self.assertTrue(isinstance(d, dict))\n",
    "        \n",
    "    def test_key(self):\n",
    "        d = Dict()\n",
    "        d['key'] = 'value'\n",
    "        self.assertEqual(d.key, 'value')\n",
    "        \n",
    "    def test_attr(self):\n",
    "        d = Dict()\n",
    "        d.key = 'value'\n",
    "        self.assertTrue('key' in d)\n",
    "        self.assertEqual(d['key'], 'value')\n",
    "        \n",
    "    def test_keyerror(self):\n",
    "        d = Dict()\n",
    "        with self.assertRaises(KeyError):\n",
    "            value = d['empty']\n",
    "            \n",
    "    def test_attrerror(self):\n",
    "        d = Dict()\n",
    "        with self.assertRaises(AttributeError):\n",
    "            value = d.empty\n",
    "            \n",
    "if __name__ == '__main__':\n",
    "    unittest.main()"
   ]
  },
  {
   "cell_type": "code",
   "execution_count": 12,
   "metadata": {
    "collapsed": true
   },
   "outputs": [],
   "source": [
    "# python mydict_test.py\n",
    "\n",
    "# python -m unittest mydict_test"
   ]
  },
  {
   "cell_type": "markdown",
   "metadata": {},
   "source": [
    "# setUp与tearDown"
   ]
  },
  {
   "cell_type": "code",
   "execution_count": 15,
   "metadata": {},
   "outputs": [
    {
     "name": "stderr",
     "output_type": "stream",
     "text": [
      "E\n",
      "======================================================================\n",
      "ERROR: C:\\Users\\Administrator\\AppData\\Roaming\\jupyter\\runtime\\kernel-2890d822-8f9e-4327-b19a-05c874b93b55 (unittest.loader._FailedTest)\n",
      "----------------------------------------------------------------------\n",
      "AttributeError: module '__main__' has no attribute 'C:\\Users\\Administrator\\AppData\\Roaming\\jupyter\\runtime\\kernel-2890d822-8f9e-4327-b19a-05c874b93b55'\n",
      "\n",
      "----------------------------------------------------------------------\n",
      "Ran 1 test in 0.002s\n",
      "\n",
      "FAILED (errors=1)\n"
     ]
    },
    {
     "ename": "SystemExit",
     "evalue": "True",
     "output_type": "error",
     "traceback": [
      "An exception has occurred, use %tb to see the full traceback.\n",
      "\u001b[1;31mSystemExit\u001b[0m\u001b[1;31m:\u001b[0m True\n"
     ]
    },
    {
     "name": "stderr",
     "output_type": "stream",
     "text": [
      "D:\\Anaconda\\lib\\site-packages\\IPython\\core\\interactiveshell.py:2870: UserWarning: To exit: use 'exit', 'quit', or Ctrl-D.\n",
      "  warn(\"To exit: use 'exit', 'quit', or Ctrl-D.\", stacklevel=1)\n"
     ]
    }
   ],
   "source": [
    "import unittest\n",
    "\n",
    "from mydict import Dict\n",
    "\n",
    "class TestDict(unittest.TestCase):\n",
    "    \n",
    "    def setUp(self):\n",
    "        print('setUp...')\n",
    "        \n",
    "    def tearDown(self):\n",
    "        print('teearDown...')\n",
    "        \n",
    "    def test_init(self):\n",
    "        d = Dict(a=1, b='test')\n",
    "        self.assertEqual(d.a, 1)\n",
    "        self.assertEqual(d.b, 'test')\n",
    "        self.assertTrue(isinstance(d, dict))\n",
    "        \n",
    "    def test_key(self):\n",
    "        d = Dict()\n",
    "        d['key'] = 'value'\n",
    "        self.assertEqual(d.key, 'value')\n",
    "        \n",
    "    def test_attr(self):\n",
    "        d = Dict()\n",
    "        d.key = 'value'\n",
    "        self.assertTrue('key' in d)\n",
    "        self.assertEqual(d['key'], 'value')\n",
    "        \n",
    "    def test_keyerror(self):\n",
    "        d = Dict()\n",
    "        with self.assertRaises(KeyError):\n",
    "            value = d['empty']\n",
    "            \n",
    "    def test_attrerror(self):\n",
    "        d = Dict()\n",
    "        with self.assertRaises(AttributeError):\n",
    "            value = d.empty\n",
    "            \n",
    "if __name__ == '__main__':\n",
    "    unittest.main()"
   ]
  },
  {
   "cell_type": "markdown",
   "metadata": {},
   "source": [
    "# practice"
   ]
  },
  {
   "cell_type": "code",
   "execution_count": 18,
   "metadata": {
    "collapsed": true
   },
   "outputs": [],
   "source": [
    "import unittest\n",
    "class Student(object):\n",
    "    def __init__(self, name, score):\n",
    "        self.name = name\n",
    "        self.score = score\n",
    "    def get_grade(self):\n",
    "        if self.score >= 60 and self.score <= 80:\n",
    "            return 'B'\n",
    "        if self.score >= 80 and self.score <= 100:\n",
    "            return 'A'\n",
    "        if self.score >= 0 and self.score <= 60:\n",
    "            return 'C'\n",
    "        else:\n",
    "            raise ValueError"
   ]
  },
  {
   "cell_type": "code",
   "execution_count": 19,
   "metadata": {},
   "outputs": [
    {
     "name": "stderr",
     "output_type": "stream",
     "text": [
      "E\n",
      "======================================================================\n",
      "ERROR: C:\\Users\\Administrator\\AppData\\Roaming\\jupyter\\runtime\\kernel-2890d822-8f9e-4327-b19a-05c874b93b55 (unittest.loader._FailedTest)\n",
      "----------------------------------------------------------------------\n",
      "AttributeError: module '__main__' has no attribute 'C:\\Users\\Administrator\\AppData\\Roaming\\jupyter\\runtime\\kernel-2890d822-8f9e-4327-b19a-05c874b93b55'\n",
      "\n",
      "----------------------------------------------------------------------\n",
      "Ran 1 test in 0.002s\n",
      "\n",
      "FAILED (errors=1)\n"
     ]
    },
    {
     "ename": "SystemExit",
     "evalue": "True",
     "output_type": "error",
     "traceback": [
      "An exception has occurred, use %tb to see the full traceback.\n",
      "\u001b[1;31mSystemExit\u001b[0m\u001b[1;31m:\u001b[0m True\n"
     ]
    },
    {
     "name": "stderr",
     "output_type": "stream",
     "text": [
      "D:\\Anaconda\\lib\\site-packages\\IPython\\core\\interactiveshell.py:2870: UserWarning: To exit: use 'exit', 'quit', or Ctrl-D.\n",
      "  warn(\"To exit: use 'exit', 'quit', or Ctrl-D.\", stacklevel=1)\n"
     ]
    }
   ],
   "source": [
    "class TestStudent(unittest.TestCase):\n",
    "\n",
    "    def test_80_to_100(self):\n",
    "        s1 = Student('Bart', 80)\n",
    "        s2 = Student('Lisa', 100)\n",
    "        self.assertEqual(s1.get_grade(), 'A')\n",
    "        self.assertEqual(s2.get_grade(), 'A')\n",
    "\n",
    "    def test_60_to_80(self):\n",
    "        s1 = Student('Bart', 60)\n",
    "        s2 = Student('Lisa', 79)\n",
    "        self.assertEqual(s1.get_grade(), 'B')\n",
    "        self.assertEqual(s2.get_grade(), 'B')\n",
    "\n",
    "    def test_0_to_60(self):\n",
    "        s1 = Student('Bart', 0)\n",
    "        s2 = Student('Lisa', 59)\n",
    "        self.assertEqual(s1.get_grade(), 'C')\n",
    "        self.assertEqual(s2.get_grade(), 'C')\n",
    "\n",
    "    def test_invalid(self):\n",
    "        s1 = Student('Bart', -1)\n",
    "        s2 = Student('Lisa', 101)\n",
    "        with self.assertRaises(ValueError):\n",
    "            s1.get_grade()\n",
    "        with self.assertRaises(ValueError):\n",
    "            s2.get_grade()\n",
    "\n",
    "if __name__ == '__main__':\n",
    "    unittest.main()"
   ]
  },
  {
   "cell_type": "code",
   "execution_count": null,
   "metadata": {
    "collapsed": true
   },
   "outputs": [],
   "source": []
  }
 ],
 "metadata": {
  "kernelspec": {
   "display_name": "Python 3",
   "language": "python",
   "name": "python3"
  },
  "language_info": {
   "codemirror_mode": {
    "name": "ipython",
    "version": 3
   },
   "file_extension": ".py",
   "mimetype": "text/x-python",
   "name": "python",
   "nbconvert_exporter": "python",
   "pygments_lexer": "ipython3",
   "version": "3.6.3"
  }
 },
 "nbformat": 4,
 "nbformat_minor": 2
}
