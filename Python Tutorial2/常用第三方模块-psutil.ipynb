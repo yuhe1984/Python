{
 "cells": [
  {
   "cell_type": "markdown",
   "metadata": {},
   "source": [
    "# 获取CPU信息"
   ]
  },
  {
   "cell_type": "code",
   "execution_count": 1,
   "metadata": {
    "collapsed": true
   },
   "outputs": [],
   "source": [
    "import psutil"
   ]
  },
  {
   "cell_type": "code",
   "execution_count": 2,
   "metadata": {},
   "outputs": [
    {
     "data": {
      "text/plain": [
       "16"
      ]
     },
     "execution_count": 2,
     "metadata": {},
     "output_type": "execute_result"
    }
   ],
   "source": [
    "psutil.cpu_count()"
   ]
  },
  {
   "cell_type": "code",
   "execution_count": 3,
   "metadata": {},
   "outputs": [
    {
     "data": {
      "text/plain": [
       "8"
      ]
     },
     "execution_count": 3,
     "metadata": {},
     "output_type": "execute_result"
    }
   ],
   "source": [
    "psutil.cpu_count(logical=False)"
   ]
  },
  {
   "cell_type": "code",
   "execution_count": 4,
   "metadata": {},
   "outputs": [
    {
     "data": {
      "text/plain": [
       "scputimes(user=929.640625, system=1485.296875, idle=74749.796875, interrupt=40.4375, dpc=39.59375)"
      ]
     },
     "execution_count": 4,
     "metadata": {},
     "output_type": "execute_result"
    }
   ],
   "source": [
    "psutil.cpu_times()"
   ]
  },
  {
   "cell_type": "code",
   "execution_count": 5,
   "metadata": {
    "collapsed": true
   },
   "outputs": [],
   "source": [
    "for x in range(10):\n",
    "    psutil.cpu_percent(interval=1, percpu=True)"
   ]
  },
  {
   "cell_type": "markdown",
   "metadata": {},
   "source": [
    "# 获取内存信息"
   ]
  },
  {
   "cell_type": "code",
   "execution_count": 6,
   "metadata": {},
   "outputs": [
    {
     "data": {
      "text/plain": [
       "svmem(total=68636151808, available=61207928832, percent=10.8, used=7428222976, free=61207928832)"
      ]
     },
     "execution_count": 6,
     "metadata": {},
     "output_type": "execute_result"
    }
   ],
   "source": [
    "psutil.virtual_memory()"
   ]
  },
  {
   "cell_type": "code",
   "execution_count": 7,
   "metadata": {},
   "outputs": [
    {
     "data": {
      "text/plain": [
       "sswap(total=78836699136, used=9033887744, free=69802811392, percent=11.5, sin=0, sout=0)"
      ]
     },
     "execution_count": 7,
     "metadata": {},
     "output_type": "execute_result"
    }
   ],
   "source": [
    "psutil.swap_memory()"
   ]
  },
  {
   "cell_type": "code",
   "execution_count": 8,
   "metadata": {},
   "outputs": [
    {
     "data": {
      "text/plain": [
       "63.92239760700613"
      ]
     },
     "execution_count": 8,
     "metadata": {},
     "output_type": "execute_result"
    }
   ],
   "source": [
    "68636151801 / 1024 / 1024 / 1024"
   ]
  },
  {
   "cell_type": "markdown",
   "metadata": {},
   "source": [
    "# 获取磁盘信息"
   ]
  },
  {
   "cell_type": "code",
   "execution_count": 9,
   "metadata": {},
   "outputs": [
    {
     "data": {
      "text/plain": [
       "[sdiskpart(device='C:\\\\', mountpoint='C:\\\\', fstype='NTFS', opts='rw,fixed'),\n",
       " sdiskpart(device='D:\\\\', mountpoint='D:\\\\', fstype='NTFS', opts='rw,fixed')]"
      ]
     },
     "execution_count": 9,
     "metadata": {},
     "output_type": "execute_result"
    }
   ],
   "source": [
    "psutil.disk_partitions() # 磁盘分区信息"
   ]
  },
  {
   "cell_type": "code",
   "execution_count": 10,
   "metadata": {},
   "outputs": [
    {
     "data": {
      "text/plain": [
       "sdiskusage(total=2000393596928, used=57606193152, free=1942787403776, percent=2.9)"
      ]
     },
     "execution_count": 10,
     "metadata": {},
     "output_type": "execute_result"
    }
   ],
   "source": [
    "psutil.disk_usage('/') # 磁盘使用情况"
   ]
  },
  {
   "cell_type": "code",
   "execution_count": 11,
   "metadata": {},
   "outputs": [
    {
     "data": {
      "text/plain": [
       "sdiskio(read_count=206918, write_count=117681, read_bytes=5900945920, write_bytes=4390524416, read_time=57, write_time=44)"
      ]
     },
     "execution_count": 11,
     "metadata": {},
     "output_type": "execute_result"
    }
   ],
   "source": [
    "psutil.disk_io_counters() # 磁盘IO"
   ]
  },
  {
   "cell_type": "markdown",
   "metadata": {
    "collapsed": true
   },
   "source": [
    "# 获取网络信息"
   ]
  },
  {
   "cell_type": "code",
   "execution_count": 12,
   "metadata": {},
   "outputs": [
    {
     "data": {
      "text/plain": [
       "snetio(bytes_sent=7386840, bytes_recv=213806962, packets_sent=71151, packets_recv=151602, errin=0, errout=0, dropin=0, dropout=0)"
      ]
     },
     "execution_count": 12,
     "metadata": {},
     "output_type": "execute_result"
    }
   ],
   "source": [
    "psutil.net_io_counters() # 获取网络读取字节/包的个数"
   ]
  },
  {
   "cell_type": "code",
   "execution_count": 13,
   "metadata": {},
   "outputs": [
    {
     "data": {
      "text/plain": [
       "{'Loopback Pseudo-Interface 1': [snic(family=<AddressFamily.AF_INET: 2>, address='127.0.0.1', netmask='255.0.0.0', broadcast=None, ptp=None),\n",
       "  snic(family=<AddressFamily.AF_INET6: 23>, address='::1', netmask=None, broadcast=None, ptp=None)],\n",
       " 'WLAN': [snic(family=<AddressFamily.AF_LINK: -1>, address='D0-C5-D3-B3-12-E3', netmask=None, broadcast=None, ptp=None),\n",
       "  snic(family=<AddressFamily.AF_INET: 2>, address='172.27.63.14', netmask='255.255.0.0', broadcast=None, ptp=None),\n",
       "  snic(family=<AddressFamily.AF_INET6: 23>, address='fe80::8966:f9ed:5d77:e6cb', netmask=None, broadcast=None, ptp=None)],\n",
       " '以太网': [snic(family=<AddressFamily.AF_LINK: -1>, address='04-92-26-D9-C9-AD', netmask=None, broadcast=None, ptp=None),\n",
       "  snic(family=<AddressFamily.AF_INET: 2>, address='169.254.197.102', netmask='255.255.0.0', broadcast=None, ptp=None),\n",
       "  snic(family=<AddressFamily.AF_INET6: 23>, address='fe80::4470:9e0c:9ced:c566', netmask=None, broadcast=None, ptp=None)],\n",
       " '以太网 2': [snic(family=<AddressFamily.AF_LINK: -1>, address='00-FF-9E-B9-DC-E4', netmask=None, broadcast=None, ptp=None),\n",
       "  snic(family=<AddressFamily.AF_INET: 2>, address='169.254.46.63', netmask='255.255.0.0', broadcast=None, ptp=None),\n",
       "  snic(family=<AddressFamily.AF_INET6: 23>, address='fe80::426:5a8:c61e:2e3f', netmask=None, broadcast=None, ptp=None)],\n",
       " '本地连接* 10': [snic(family=<AddressFamily.AF_LINK: -1>, address='D0-C5-D3-B3-12-E3', netmask=None, broadcast=None, ptp=None),\n",
       "  snic(family=<AddressFamily.AF_INET: 2>, address='169.254.202.193', netmask='255.255.0.0', broadcast=None, ptp=None),\n",
       "  snic(family=<AddressFamily.AF_INET6: 23>, address='fe80::5845:bd2c:8ecc:cac1', netmask=None, broadcast=None, ptp=None)],\n",
       " '本地连接* 9': [snic(family=<AddressFamily.AF_LINK: -1>, address='D2-C5-D3-B3-12-E3', netmask=None, broadcast=None, ptp=None),\n",
       "  snic(family=<AddressFamily.AF_INET: 2>, address='169.254.28.117', netmask='255.255.0.0', broadcast=None, ptp=None),\n",
       "  snic(family=<AddressFamily.AF_INET6: 23>, address='fe80::10b3:6641:e693:1c75', netmask=None, broadcast=None, ptp=None)]}"
      ]
     },
     "execution_count": 13,
     "metadata": {},
     "output_type": "execute_result"
    }
   ],
   "source": [
    "psutil.net_if_addrs() # 获取网络接口信息"
   ]
  },
  {
   "cell_type": "code",
   "execution_count": 14,
   "metadata": {},
   "outputs": [
    {
     "data": {
      "text/plain": [
       "{'Loopback Pseudo-Interface 1': snicstats(isup=True, duplex=<NicDuplex.NIC_DUPLEX_FULL: 2>, speed=1073, mtu=1500),\n",
       " 'WLAN': snicstats(isup=True, duplex=<NicDuplex.NIC_DUPLEX_FULL: 2>, speed=113, mtu=1500),\n",
       " '以太网': snicstats(isup=False, duplex=<NicDuplex.NIC_DUPLEX_FULL: 2>, speed=0, mtu=1500),\n",
       " '以太网 2': snicstats(isup=False, duplex=<NicDuplex.NIC_DUPLEX_FULL: 2>, speed=10, mtu=1400),\n",
       " '本地连接* 10': snicstats(isup=False, duplex=<NicDuplex.NIC_DUPLEX_FULL: 2>, speed=0, mtu=1500),\n",
       " '本地连接* 9': snicstats(isup=False, duplex=<NicDuplex.NIC_DUPLEX_FULL: 2>, speed=0, mtu=1500)}"
      ]
     },
     "execution_count": 14,
     "metadata": {},
     "output_type": "execute_result"
    }
   ],
   "source": [
    "psutil.net_if_stats() # 获取网络接口信息"
   ]
  },
  {
   "cell_type": "code",
   "execution_count": 15,
   "metadata": {},
   "outputs": [
    {
     "data": {
      "text/plain": [
       "[sconn(fd=-1, family=<AddressFamily.AF_INET: 2>, type=1, laddr=addr(ip='127.0.0.1', port=53380), raddr=addr(ip='127.0.0.1', port=53381), status='ESTABLISHED', pid=1504),\n",
       " sconn(fd=-1, family=<AddressFamily.AF_INET6: 23>, type=1, laddr=addr(ip='::1', port=53327), raddr=addr(ip='::1', port=8888), status='ESTABLISHED', pid=11312),\n",
       " sconn(fd=-1, family=<AddressFamily.AF_INET6: 23>, type=2, laddr=addr(ip='::', port=5353), raddr=(), status='NONE', pid=2144),\n",
       " sconn(fd=-1, family=<AddressFamily.AF_INET: 2>, type=2, laddr=addr(ip='0.0.0.0', port=5355), raddr=(), status='NONE', pid=2144),\n",
       " sconn(fd=-1, family=<AddressFamily.AF_INET: 2>, type=2, laddr=addr(ip='127.0.0.1', port=40000), raddr=(), status='NONE', pid=4028),\n",
       " sconn(fd=-1, family=<AddressFamily.AF_INET: 2>, type=2, laddr=addr(ip='127.0.0.1', port=1900), raddr=(), status='NONE', pid=10468),\n",
       " sconn(fd=-1, family=<AddressFamily.AF_INET: 2>, type=2, laddr=addr(ip='172.27.63.14', port=53584), raddr=(), status='NONE', pid=10468),\n",
       " sconn(fd=-1, family=<AddressFamily.AF_INET6: 23>, type=1, laddr=addr(ip='::1', port=8888), raddr=addr(ip='::1', port=53327), status='ESTABLISHED', pid=5016),\n",
       " sconn(fd=-1, family=<AddressFamily.AF_INET: 2>, type=1, laddr=addr(ip='172.27.63.14', port=52911), raddr=addr(ip='47.75.95.214', port=443), status='ESTABLISHED', pid=8920),\n",
       " sconn(fd=-1, family=<AddressFamily.AF_INET: 2>, type=1, laddr=addr(ip='127.0.0.1', port=53367), raddr=addr(ip='127.0.0.1', port=53368), status='ESTABLISHED', pid=1504),\n",
       " sconn(fd=-1, family=<AddressFamily.AF_INET: 2>, type=1, laddr=addr(ip='127.0.0.1', port=50734), raddr=addr(ip='127.0.0.1', port=53391), status='ESTABLISHED', pid=1504),\n",
       " sconn(fd=-1, family=<AddressFamily.AF_INET: 2>, type=1, laddr=addr(ip='127.0.0.1', port=50738), raddr=(), status='LISTEN', pid=1504),\n",
       " sconn(fd=-1, family=<AddressFamily.AF_INET6: 23>, type=1, laddr=addr(ip='::1', port=53272), raddr=addr(ip='::1', port=8888), status='TIME_WAIT', pid=0),\n",
       " sconn(fd=-1, family=<AddressFamily.AF_INET: 2>, type=1, laddr=addr(ip='127.0.0.1', port=53351), raddr=addr(ip='127.0.0.1', port=50735), status='ESTABLISHED', pid=5016),\n",
       " sconn(fd=-1, family=<AddressFamily.AF_INET: 2>, type=1, laddr=addr(ip='127.0.0.1', port=50739), raddr=addr(ip='127.0.0.1', port=50740), status='ESTABLISHED', pid=5016),\n",
       " sconn(fd=-1, family=<AddressFamily.AF_INET: 2>, type=1, laddr=addr(ip='127.0.0.1', port=53395), raddr=addr(ip='127.0.0.1', port=53396), status='ESTABLISHED', pid=5016),\n",
       " sconn(fd=-1, family=<AddressFamily.AF_INET6: 23>, type=1, laddr=addr(ip='::1', port=8888), raddr=(), status='LISTEN', pid=5016),\n",
       " sconn(fd=-1, family=<AddressFamily.AF_INET: 2>, type=1, laddr=addr(ip='127.0.0.1', port=50740), raddr=addr(ip='127.0.0.1', port=50739), status='ESTABLISHED', pid=5016),\n",
       " sconn(fd=-1, family=<AddressFamily.AF_INET: 2>, type=1, laddr=addr(ip='127.0.0.1', port=53363), raddr=addr(ip='127.0.0.1', port=53364), status='ESTABLISHED', pid=1504),\n",
       " sconn(fd=-1, family=<AddressFamily.AF_INET6: 23>, type=2, laddr=addr(ip='::', port=5353), raddr=(), status='NONE', pid=8920),\n",
       " sconn(fd=-1, family=<AddressFamily.AF_INET: 2>, type=1, laddr=addr(ip='172.27.63.14', port=53314), raddr=addr(ip='62.128.100.221', port=443), status='TIME_WAIT', pid=0),\n",
       " sconn(fd=-1, family=<AddressFamily.AF_INET6: 23>, type=2, laddr=addr(ip='::', port=123), raddr=(), status='NONE', pid=1548),\n",
       " sconn(fd=-1, family=<AddressFamily.AF_INET: 2>, type=1, laddr=addr(ip='127.0.0.1', port=53358), raddr=addr(ip='127.0.0.1', port=53357), status='ESTABLISHED', pid=1504),\n",
       " sconn(fd=-1, family=<AddressFamily.AF_INET: 2>, type=1, laddr=addr(ip='0.0.0.0', port=135), raddr=(), status='LISTEN', pid=1196),\n",
       " sconn(fd=-1, family=<AddressFamily.AF_INET: 2>, type=1, laddr=addr(ip='127.0.0.1', port=50736), raddr=addr(ip='127.0.0.1', port=53397), status='ESTABLISHED', pid=1504),\n",
       " sconn(fd=-1, family=<AddressFamily.AF_INET6: 23>, type=2, laddr=addr(ip='::', port=500), raddr=(), status='NONE', pid=4108),\n",
       " sconn(fd=-1, family=<AddressFamily.AF_INET6: 23>, type=1, laddr=addr(ip='::1', port=8888), raddr=addr(ip='::1', port=52688), status='TIME_WAIT', pid=0),\n",
       " sconn(fd=-1, family=<AddressFamily.AF_INET: 2>, type=1, laddr=addr(ip='127.0.0.1', port=50743), raddr=addr(ip='127.0.0.1', port=50744), status='ESTABLISHED', pid=5016),\n",
       " sconn(fd=-1, family=<AddressFamily.AF_INET: 2>, type=1, laddr=addr(ip='127.0.0.1', port=53378), raddr=addr(ip='127.0.0.1', port=53379), status='ESTABLISHED', pid=1504),\n",
       " sconn(fd=-1, family=<AddressFamily.AF_INET: 2>, type=1, laddr=addr(ip='127.0.0.1', port=53377), raddr=addr(ip='127.0.0.1', port=53376), status='ESTABLISHED', pid=1504),\n",
       " sconn(fd=-1, family=<AddressFamily.AF_INET: 2>, type=1, laddr=addr(ip='127.0.0.1', port=53352), raddr=addr(ip='127.0.0.1', port=50734), status='TIME_WAIT', pid=0),\n",
       " sconn(fd=-1, family=<AddressFamily.AF_INET: 2>, type=1, laddr=addr(ip='127.0.0.1', port=53373), raddr=(), status='LISTEN', pid=1504),\n",
       " sconn(fd=-1, family=<AddressFamily.AF_INET: 2>, type=1, laddr=addr(ip='172.27.63.14', port=53343), raddr=addr(ip='120.92.32.253', port=80), status='TIME_WAIT', pid=0),\n",
       " sconn(fd=-1, family=<AddressFamily.AF_INET: 2>, type=2, laddr=addr(ip='172.27.63.14', port=1900), raddr=(), status='NONE', pid=10468),\n",
       " sconn(fd=-1, family=<AddressFamily.AF_INET: 2>, type=1, laddr=addr(ip='127.0.0.1', port=49666), raddr=addr(ip='127.0.0.1', port=49669), status='ESTABLISHED', pid=2604),\n",
       " sconn(fd=-1, family=<AddressFamily.AF_INET: 2>, type=1, laddr=addr(ip='127.0.0.1', port=52148), raddr=addr(ip='127.0.0.1', port=52149), status='ESTABLISHED', pid=8172),\n",
       " sconn(fd=-1, family=<AddressFamily.AF_INET: 2>, type=1, laddr=addr(ip='172.27.63.14', port=53354), raddr=addr(ip='120.92.32.253', port=80), status='TIME_WAIT', pid=0),\n",
       " sconn(fd=-1, family=<AddressFamily.AF_INET6: 23>, type=1, laddr=addr(ip='::', port=49673), raddr=(), status='LISTEN', pid=1004),\n",
       " sconn(fd=-1, family=<AddressFamily.AF_INET: 2>, type=1, laddr=addr(ip='127.0.0.1', port=52694), raddr=addr(ip='127.0.0.1', port=50735), status='TIME_WAIT', pid=0),\n",
       " sconn(fd=-1, family=<AddressFamily.AF_INET: 2>, type=1, laddr=addr(ip='127.0.0.1', port=53366), raddr=addr(ip='127.0.0.1', port=53365), status='ESTABLISHED', pid=1504),\n",
       " sconn(fd=-1, family=<AddressFamily.AF_INET: 2>, type=1, laddr=addr(ip='127.0.0.1', port=53361), raddr=addr(ip='127.0.0.1', port=53362), status='ESTABLISHED', pid=1504),\n",
       " sconn(fd=-1, family=<AddressFamily.AF_INET6: 23>, type=1, laddr=addr(ip='::', port=49671), raddr=(), status='LISTEN', pid=3020),\n",
       " sconn(fd=-1, family=<AddressFamily.AF_INET: 2>, type=1, laddr=addr(ip='127.0.0.1', port=10000), raddr=(), status='LISTEN', pid=4028),\n",
       " sconn(fd=-1, family=<AddressFamily.AF_INET: 2>, type=1, laddr=addr(ip='127.0.0.1', port=52691), raddr=addr(ip='127.0.0.1', port=50734), status='TIME_WAIT', pid=0),\n",
       " sconn(fd=-1, family=<AddressFamily.AF_INET: 2>, type=1, laddr=addr(ip='127.0.0.1', port=53355), raddr=addr(ip='127.0.0.1', port=53356), status='ESTABLISHED', pid=1504),\n",
       " sconn(fd=-1, family=<AddressFamily.AF_INET: 2>, type=1, laddr=addr(ip='127.0.0.1', port=53376), raddr=addr(ip='127.0.0.1', port=53377), status='ESTABLISHED', pid=1504),\n",
       " sconn(fd=-1, family=<AddressFamily.AF_INET: 2>, type=1, laddr=addr(ip='0.0.0.0', port=49664), raddr=(), status='LISTEN', pid=920),\n",
       " sconn(fd=-1, family=<AddressFamily.AF_INET6: 23>, type=1, laddr=addr(ip='::', port=49672), raddr=(), status='LISTEN', pid=1012),\n",
       " sconn(fd=-1, family=<AddressFamily.AF_INET: 2>, type=1, laddr=addr(ip='172.27.63.14', port=50820), raddr=addr(ip='52.80.157.64', port=80), status='CLOSE_WAIT', pid=10484),\n",
       " sconn(fd=-1, family=<AddressFamily.AF_INET: 2>, type=2, laddr=addr(ip='0.0.0.0', port=5353), raddr=(), status='NONE', pid=2144),\n",
       " sconn(fd=-1, family=<AddressFamily.AF_INET: 2>, type=1, laddr=addr(ip='127.0.0.1', port=53374), raddr=addr(ip='127.0.0.1', port=53375), status='ESTABLISHED', pid=1504),\n",
       " sconn(fd=-1, family=<AddressFamily.AF_INET: 2>, type=1, laddr=addr(ip='127.0.0.1', port=53387), raddr=addr(ip='127.0.0.1', port=53386), status='ESTABLISHED', pid=1504),\n",
       " sconn(fd=-1, family=<AddressFamily.AF_INET: 2>, type=1, laddr=addr(ip='127.0.0.1', port=31415), raddr=(), status='LISTEN', pid=1396),\n",
       " sconn(fd=-1, family=<AddressFamily.AF_INET6: 23>, type=2, laddr=addr(ip='fe80::8966:f9ed:5d77:e6cb', port=53582), raddr=(), status='NONE', pid=10468),\n",
       " sconn(fd=-1, family=<AddressFamily.AF_INET: 2>, type=1, laddr=addr(ip='127.0.0.1', port=50737), raddr=(), status='LISTEN', pid=1504),\n",
       " sconn(fd=-1, family=<AddressFamily.AF_INET6: 23>, type=1, laddr=addr(ip='::1', port=8888), raddr=addr(ip='::1', port=53388), status='ESTABLISHED', pid=5016),\n",
       " sconn(fd=-1, family=<AddressFamily.AF_INET: 2>, type=1, laddr=addr(ip='127.0.0.1', port=53384), raddr=addr(ip='127.0.0.1', port=53385), status='ESTABLISHED', pid=1504),\n",
       " sconn(fd=-1, family=<AddressFamily.AF_INET: 2>, type=1, laddr=addr(ip='127.0.0.1', port=50735), raddr=addr(ip='127.0.0.1', port=53351), status='ESTABLISHED', pid=1504),\n",
       " sconn(fd=-1, family=<AddressFamily.AF_INET: 2>, type=1, laddr=addr(ip='127.0.0.1', port=53371), raddr=addr(ip='127.0.0.1', port=53372), status='ESTABLISHED', pid=1504),\n",
       " sconn(fd=-1, family=<AddressFamily.AF_INET: 2>, type=2, laddr=addr(ip='0.0.0.0', port=49665), raddr=(), status='NONE', pid=4012),\n",
       " sconn(fd=-1, family=<AddressFamily.AF_INET6: 23>, type=2, laddr=addr(ip='fe80::8966:f9ed:5d77:e6cb', port=1900), raddr=(), status='NONE', pid=10468),\n",
       " sconn(fd=-1, family=<AddressFamily.AF_INET: 2>, type=1, laddr=addr(ip='127.0.0.1', port=53392), raddr=addr(ip='127.0.0.1', port=53393), status='ESTABLISHED', pid=5016),\n",
       " sconn(fd=-1, family=<AddressFamily.AF_INET: 2>, type=1, laddr=addr(ip='127.0.0.1', port=53353), raddr=addr(ip='127.0.0.1', port=50737), status='ESTABLISHED', pid=5016),\n",
       " sconn(fd=-1, family=<AddressFamily.AF_INET: 2>, type=1, laddr=addr(ip='127.0.0.1', port=50744), raddr=addr(ip='127.0.0.1', port=50743), status='ESTABLISHED', pid=5016),\n",
       " sconn(fd=-1, family=<AddressFamily.AF_INET: 2>, type=1, laddr=addr(ip='0.0.0.0', port=49671), raddr=(), status='LISTEN', pid=3020),\n",
       " sconn(fd=-1, family=<AddressFamily.AF_INET: 2>, type=2, laddr=addr(ip='0.0.0.0', port=5353), raddr=(), status='NONE', pid=8920),\n",
       " sconn(fd=-1, family=<AddressFamily.AF_INET: 2>, type=1, laddr=addr(ip='0.0.0.0', port=45769), raddr=(), status='LISTEN', pid=8576),\n",
       " sconn(fd=-1, family=<AddressFamily.AF_INET: 2>, type=2, laddr=addr(ip='172.27.63.14', port=137), raddr=(), status='NONE', pid=4),\n",
       " sconn(fd=-1, family=<AddressFamily.AF_INET: 2>, type=2, laddr=addr(ip='127.0.0.1', port=53585), raddr=(), status='NONE', pid=10468),\n",
       " sconn(fd=-1, family=<AddressFamily.AF_INET6: 23>, type=2, laddr=addr(ip='::1', port=1900), raddr=(), status='NONE', pid=10468),\n",
       " sconn(fd=-1, family=<AddressFamily.AF_INET: 2>, type=1, laddr=addr(ip='127.0.0.1', port=53365), raddr=addr(ip='127.0.0.1', port=53366), status='ESTABLISHED', pid=1504),\n",
       " sconn(fd=-1, family=<AddressFamily.AF_INET6: 23>, type=1, laddr=addr(ip='::1', port=31515), raddr=(), status='LISTEN', pid=1396),\n",
       " sconn(fd=-1, family=<AddressFamily.AF_INET: 2>, type=1, laddr=addr(ip='127.0.0.1', port=52697), raddr=addr(ip='127.0.0.1', port=50736), status='TIME_WAIT', pid=0),\n",
       " sconn(fd=-1, family=<AddressFamily.AF_INET: 2>, type=1, laddr=addr(ip='127.0.0.1', port=49669), raddr=addr(ip='127.0.0.1', port=49666), status='ESTABLISHED', pid=2604),\n",
       " sconn(fd=-1, family=<AddressFamily.AF_INET: 2>, type=1, laddr=addr(ip='172.27.63.14', port=139), raddr=(), status='LISTEN', pid=4),\n",
       " sconn(fd=-1, family=<AddressFamily.AF_INET: 2>, type=1, laddr=addr(ip='127.0.0.1', port=54530), raddr=addr(ip='127.0.0.1', port=52147), status='ESTABLISHED', pid=8172),\n",
       " sconn(fd=-1, family=<AddressFamily.AF_INET: 2>, type=1, laddr=addr(ip='0.0.0.0', port=49665), raddr=(), status='LISTEN', pid=1448),\n",
       " sconn(fd=-1, family=<AddressFamily.AF_INET: 2>, type=1, laddr=addr(ip='127.0.0.1', port=53383), raddr=addr(ip='127.0.0.1', port=53382), status='ESTABLISHED', pid=1504),\n",
       " sconn(fd=-1, family=<AddressFamily.AF_INET: 2>, type=1, laddr=addr(ip='127.0.0.1', port=50735), raddr=addr(ip='127.0.0.1', port=53394), status='ESTABLISHED', pid=1504),\n",
       " sconn(fd=-1, family=<AddressFamily.AF_INET: 2>, type=1, laddr=addr(ip='127.0.0.1', port=8888), raddr=(), status='LISTEN', pid=5016),\n",
       " sconn(fd=-1, family=<AddressFamily.AF_INET: 2>, type=2, laddr=addr(ip='0.0.0.0', port=4500), raddr=(), status='NONE', pid=4108),\n",
       " sconn(fd=-1, family=<AddressFamily.AF_INET: 2>, type=1, laddr=addr(ip='127.0.0.1', port=31515), raddr=(), status='LISTEN', pid=1396),\n",
       " sconn(fd=-1, family=<AddressFamily.AF_INET: 2>, type=1, laddr=addr(ip='127.0.0.1', port=50742), raddr=addr(ip='127.0.0.1', port=50741), status='ESTABLISHED', pid=5016),\n",
       " sconn(fd=-1, family=<AddressFamily.AF_INET6: 23>, type=1, laddr=addr(ip='::', port=49664), raddr=(), status='LISTEN', pid=920),\n",
       " sconn(fd=-1, family=<AddressFamily.AF_INET: 2>, type=1, laddr=addr(ip='127.0.0.1', port=53394), raddr=addr(ip='127.0.0.1', port=50735), status='ESTABLISHED', pid=5016),\n",
       " sconn(fd=-1, family=<AddressFamily.AF_INET: 2>, type=2, laddr=addr(ip='172.27.63.14', port=138), raddr=(), status='NONE', pid=4),\n",
       " sconn(fd=-1, family=<AddressFamily.AF_INET: 2>, type=1, laddr=addr(ip='127.0.0.1', port=53346), raddr=addr(ip='127.0.0.1', port=53345), status='ESTABLISHED', pid=5016),\n",
       " sconn(fd=-1, family=<AddressFamily.AF_INET: 2>, type=1, laddr=addr(ip='127.0.0.1', port=53397), raddr=addr(ip='127.0.0.1', port=50736), status='ESTABLISHED', pid=5016),\n",
       " sconn(fd=-1, family=<AddressFamily.AF_INET6: 23>, type=2, laddr=addr(ip='::1', port=53583), raddr=(), status='NONE', pid=10468),\n",
       " sconn(fd=-1, family=<AddressFamily.AF_INET: 2>, type=1, laddr=addr(ip='127.0.0.1', port=50737), raddr=addr(ip='127.0.0.1', port=53353), status='ESTABLISHED', pid=1504),\n",
       " sconn(fd=-1, family=<AddressFamily.AF_INET: 2>, type=1, laddr=addr(ip='172.27.63.14', port=53307), raddr=addr(ip='111.48.53.184', port=80), status='TIME_WAIT', pid=0),\n",
       " sconn(fd=-1, family=<AddressFamily.AF_INET: 2>, type=1, laddr=addr(ip='127.0.0.1', port=53357), raddr=addr(ip='127.0.0.1', port=53358), status='ESTABLISHED', pid=1504),\n",
       " sconn(fd=-1, family=<AddressFamily.AF_INET: 2>, type=1, laddr=addr(ip='172.27.63.14', port=53338), raddr=addr(ip='119.255.133.60', port=443), status='ESTABLISHED', pid=3928),\n",
       " sconn(fd=-1, family=<AddressFamily.AF_INET: 2>, type=1, laddr=addr(ip='127.0.0.1', port=53359), raddr=addr(ip='127.0.0.1', port=53360), status='ESTABLISHED', pid=1504),\n",
       " sconn(fd=-1, family=<AddressFamily.AF_INET: 2>, type=1, laddr=addr(ip='127.0.0.1', port=53345), raddr=addr(ip='127.0.0.1', port=53346), status='ESTABLISHED', pid=5016),\n",
       " sconn(fd=-1, family=<AddressFamily.AF_INET: 2>, type=1, laddr=addr(ip='127.0.0.1', port=50741), raddr=addr(ip='127.0.0.1', port=50742), status='ESTABLISHED', pid=5016),\n",
       " sconn(fd=-1, family=<AddressFamily.AF_INET: 2>, type=1, laddr=addr(ip='127.0.0.1', port=53372), raddr=addr(ip='127.0.0.1', port=53371), status='ESTABLISHED', pid=1504),\n",
       " sconn(fd=-1, family=<AddressFamily.AF_INET: 2>, type=2, laddr=addr(ip='0.0.0.0', port=49891), raddr=(), status='NONE', pid=4012),\n",
       " sconn(fd=-1, family=<AddressFamily.AF_INET: 2>, type=1, laddr=addr(ip='0.0.0.0', port=445), raddr=(), status='LISTEN', pid=4),\n",
       " sconn(fd=-1, family=<AddressFamily.AF_INET: 2>, type=1, laddr=addr(ip='127.0.0.1', port=8990), raddr=(), status='LISTEN', pid=2604),\n",
       " sconn(fd=-1, family=<AddressFamily.AF_INET: 2>, type=1, laddr=addr(ip='172.27.63.14', port=53335), raddr=addr(ip='111.48.30.102', port=80), status='TIME_WAIT', pid=0),\n",
       " sconn(fd=-1, family=<AddressFamily.AF_INET: 2>, type=1, laddr=addr(ip='127.0.0.1', port=53362), raddr=addr(ip='127.0.0.1', port=53361), status='ESTABLISHED', pid=1504),\n",
       " sconn(fd=-1, family=<AddressFamily.AF_INET: 2>, type=1, laddr=addr(ip='127.0.0.1', port=8890), raddr=(), status='LISTEN', pid=2604),\n",
       " sconn(fd=-1, family=<AddressFamily.AF_INET: 2>, type=1, laddr=addr(ip='127.0.0.1', port=50749), raddr=addr(ip='127.0.0.1', port=50748), status='ESTABLISHED', pid=5016),\n",
       " sconn(fd=-1, family=<AddressFamily.AF_INET6: 23>, type=1, laddr=addr(ip='::1', port=53388), raddr=addr(ip='::1', port=8888), status='ESTABLISHED', pid=11312),\n",
       " sconn(fd=-1, family=<AddressFamily.AF_INET: 2>, type=1, laddr=addr(ip='127.0.0.1', port=53379), raddr=addr(ip='127.0.0.1', port=53378), status='ESTABLISHED', pid=1504),\n",
       " sconn(fd=-1, family=<AddressFamily.AF_INET: 2>, type=1, laddr=addr(ip='127.0.0.1', port=53393), raddr=addr(ip='127.0.0.1', port=53392), status='ESTABLISHED', pid=5016),\n",
       " sconn(fd=-1, family=<AddressFamily.AF_INET: 2>, type=1, laddr=addr(ip='127.0.0.1', port=53368), raddr=addr(ip='127.0.0.1', port=53367), status='ESTABLISHED', pid=1504),\n",
       " sconn(fd=-1, family=<AddressFamily.AF_INET6: 23>, type=1, laddr=addr(ip='::', port=135), raddr=(), status='LISTEN', pid=1196),\n",
       " sconn(fd=-1, family=<AddressFamily.AF_INET: 2>, type=1, laddr=addr(ip='127.0.0.1', port=50737), raddr=addr(ip='127.0.0.1', port=52654), status='TIME_WAIT', pid=0),\n",
       " sconn(fd=-1, family=<AddressFamily.AF_INET: 2>, type=1, laddr=addr(ip='0.0.0.0', port=49672), raddr=(), status='LISTEN', pid=1012),\n",
       " sconn(fd=-1, family=<AddressFamily.AF_INET: 2>, type=1, laddr=addr(ip='127.0.0.1', port=50553), raddr=addr(ip='127.0.0.1', port=50552), status='ESTABLISHED', pid=5016),\n",
       " sconn(fd=-1, family=<AddressFamily.AF_INET: 2>, type=1, laddr=addr(ip='127.0.0.1', port=52147), raddr=addr(ip='127.0.0.1', port=54530), status='ESTABLISHED', pid=4028),\n",
       " sconn(fd=-1, family=<AddressFamily.AF_INET: 2>, type=1, laddr=addr(ip='172.27.63.14', port=53337), raddr=addr(ip='110.43.89.13', port=80), status='TIME_WAIT', pid=0),\n",
       " sconn(fd=-1, family=<AddressFamily.AF_INET: 2>, type=1, laddr=addr(ip='127.0.0.1', port=53389), raddr=addr(ip='127.0.0.1', port=53390), status='ESTABLISHED', pid=5016),\n",
       " sconn(fd=-1, family=<AddressFamily.AF_INET6: 23>, type=1, laddr=addr(ip='::1', port=31415), raddr=(), status='LISTEN', pid=1396),\n",
       " sconn(fd=-1, family=<AddressFamily.AF_INET: 2>, type=1, laddr=addr(ip='127.0.0.1', port=53391), raddr=addr(ip='127.0.0.1', port=50734), status='ESTABLISHED', pid=5016),\n",
       " sconn(fd=-1, family=<AddressFamily.AF_INET: 2>, type=1, laddr=addr(ip='127.0.0.1', port=53370), raddr=addr(ip='127.0.0.1', port=53369), status='ESTABLISHED', pid=1504),\n",
       " sconn(fd=-1, family=<AddressFamily.AF_INET: 2>, type=1, laddr=addr(ip='127.0.0.1', port=49667), raddr=addr(ip='127.0.0.1', port=49668), status='ESTABLISHED', pid=2604),\n",
       " sconn(fd=-1, family=<AddressFamily.AF_INET: 2>, type=1, laddr=addr(ip='172.27.63.14', port=50299), raddr=addr(ip='223.252.199.69', port=6003), status='ESTABLISHED', pid=12612),\n",
       " sconn(fd=-1, family=<AddressFamily.AF_INET6: 23>, type=1, laddr=addr(ip='::', port=445), raddr=(), status='LISTEN', pid=4),\n",
       " sconn(fd=-1, family=<AddressFamily.AF_INET: 2>, type=1, laddr=addr(ip='127.0.0.1', port=53381), raddr=addr(ip='127.0.0.1', port=53380), status='ESTABLISHED', pid=1504),\n",
       " sconn(fd=-1, family=<AddressFamily.AF_INET: 2>, type=2, laddr=addr(ip='0.0.0.0', port=500), raddr=(), status='NONE', pid=4108),\n",
       " sconn(fd=-1, family=<AddressFamily.AF_INET: 2>, type=1, laddr=addr(ip='127.0.0.1', port=50734), raddr=(), status='LISTEN', pid=1504),\n",
       " sconn(fd=-1, family=<AddressFamily.AF_INET: 2>, type=1, laddr=addr(ip='127.0.0.1', port=50735), raddr=(), status='LISTEN', pid=1504),\n",
       " sconn(fd=-1, family=<AddressFamily.AF_INET: 2>, type=1, laddr=addr(ip='127.0.0.1', port=54530), raddr=(), status='LISTEN', pid=8172),\n",
       " sconn(fd=-1, family=<AddressFamily.AF_INET: 2>, type=1, laddr=addr(ip='127.0.0.1', port=50735), raddr=addr(ip='127.0.0.1', port=52653), status='TIME_WAIT', pid=0),\n",
       " sconn(fd=-1, family=<AddressFamily.AF_INET: 2>, type=1, laddr=addr(ip='127.0.0.1', port=49668), raddr=addr(ip='127.0.0.1', port=49667), status='ESTABLISHED', pid=2604),\n",
       " sconn(fd=-1, family=<AddressFamily.AF_INET: 2>, type=1, laddr=addr(ip='0.0.0.0', port=49673), raddr=(), status='LISTEN', pid=1004),\n",
       " sconn(fd=-1, family=<AddressFamily.AF_INET: 2>, type=1, laddr=addr(ip='127.0.0.1', port=53356), raddr=addr(ip='127.0.0.1', port=53355), status='ESTABLISHED', pid=1504),\n",
       " sconn(fd=-1, family=<AddressFamily.AF_INET: 2>, type=1, laddr=addr(ip='127.0.0.1', port=53390), raddr=addr(ip='127.0.0.1', port=53389), status='ESTABLISHED', pid=5016),\n",
       " sconn(fd=-1, family=<AddressFamily.AF_INET: 2>, type=1, laddr=addr(ip='127.0.0.1', port=53364), raddr=addr(ip='127.0.0.1', port=53363), status='ESTABLISHED', pid=1504),\n",
       " sconn(fd=-1, family=<AddressFamily.AF_INET: 2>, type=1, laddr=addr(ip='172.27.63.14', port=49869), raddr=addr(ip='223.119.154.125', port=443), status='ESTABLISHED', pid=1396),\n",
       " sconn(fd=-1, family=<AddressFamily.AF_INET6: 23>, type=1, laddr=addr(ip='::', port=49665), raddr=(), status='LISTEN', pid=1448),\n",
       " sconn(fd=-1, family=<AddressFamily.AF_INET: 2>, type=1, laddr=addr(ip='127.0.0.1', port=53396), raddr=addr(ip='127.0.0.1', port=53395), status='ESTABLISHED', pid=5016),\n",
       " sconn(fd=-1, family=<AddressFamily.AF_INET: 2>, type=2, laddr=addr(ip='0.0.0.0', port=123), raddr=(), status='NONE', pid=1548),\n",
       " sconn(fd=-1, family=<AddressFamily.AF_INET: 2>, type=2, laddr=addr(ip='0.0.0.0', port=45769), raddr=(), status='NONE', pid=8576),\n",
       " sconn(fd=-1, family=<AddressFamily.AF_INET: 2>, type=1, laddr=addr(ip='127.0.0.1', port=50552), raddr=addr(ip='127.0.0.1', port=50553), status='ESTABLISHED', pid=5016),\n",
       " sconn(fd=-1, family=<AddressFamily.AF_INET: 2>, type=1, laddr=addr(ip='127.0.0.1', port=50748), raddr=addr(ip='127.0.0.1', port=50749), status='ESTABLISHED', pid=5016),\n",
       " sconn(fd=-1, family=<AddressFamily.AF_INET: 2>, type=1, laddr=addr(ip='127.0.0.1', port=53382), raddr=addr(ip='127.0.0.1', port=53383), status='ESTABLISHED', pid=1504),\n",
       " sconn(fd=-1, family=<AddressFamily.AF_INET: 2>, type=1, laddr=addr(ip='127.0.0.1', port=52149), raddr=addr(ip='127.0.0.1', port=52148), status='ESTABLISHED', pid=8172),\n",
       " sconn(fd=-1, family=<AddressFamily.AF_INET: 2>, type=2, laddr=addr(ip='127.0.0.1', port=49664), raddr=(), status='NONE', pid=4536),\n",
       " sconn(fd=-1, family=<AddressFamily.AF_INET: 2>, type=1, laddr=addr(ip='127.0.0.1', port=49670), raddr=(), status='LISTEN', pid=3928),\n",
       " sconn(fd=-1, family=<AddressFamily.AF_INET: 2>, type=1, laddr=addr(ip='127.0.0.1', port=53375), raddr=addr(ip='127.0.0.1', port=53374), status='ESTABLISHED', pid=1504),\n",
       " sconn(fd=-1, family=<AddressFamily.AF_INET: 2>, type=1, laddr=addr(ip='127.0.0.1', port=53386), raddr=addr(ip='127.0.0.1', port=53387), status='ESTABLISHED', pid=1504),\n",
       " sconn(fd=-1, family=<AddressFamily.AF_INET: 2>, type=1, laddr=addr(ip='127.0.0.1', port=53385), raddr=addr(ip='127.0.0.1', port=53384), status='ESTABLISHED', pid=1504),\n",
       " sconn(fd=-1, family=<AddressFamily.AF_INET: 2>, type=1, laddr=addr(ip='127.0.0.1', port=53369), raddr=addr(ip='127.0.0.1', port=53370), status='ESTABLISHED', pid=1504),\n",
       " sconn(fd=-1, family=<AddressFamily.AF_INET6: 23>, type=2, laddr=addr(ip='::', port=4500), raddr=(), status='NONE', pid=4108),\n",
       " sconn(fd=-1, family=<AddressFamily.AF_INET6: 23>, type=2, laddr=addr(ip='::', port=5355), raddr=(), status='NONE', pid=2144),\n",
       " sconn(fd=-1, family=<AddressFamily.AF_INET: 2>, type=1, laddr=addr(ip='127.0.0.1', port=53360), raddr=addr(ip='127.0.0.1', port=53359), status='ESTABLISHED', pid=1504),\n",
       " sconn(fd=-1, family=<AddressFamily.AF_INET: 2>, type=1, laddr=addr(ip='127.0.0.1', port=50736), raddr=(), status='LISTEN', pid=1504)]"
      ]
     },
     "execution_count": 15,
     "metadata": {},
     "output_type": "execute_result"
    }
   ],
   "source": [
    "psutil.net_connections()"
   ]
  },
  {
   "cell_type": "markdown",
   "metadata": {},
   "source": [
    "# 获取进程信息"
   ]
  },
  {
   "cell_type": "code",
   "execution_count": 16,
   "metadata": {},
   "outputs": [
    {
     "data": {
      "text/plain": [
       "[0,\n",
       " 4,\n",
       " 168,\n",
       " 556,\n",
       " 824,\n",
       " 920,\n",
       " 944,\n",
       " 1004,\n",
       " 1012,\n",
       " 784,\n",
       " 144,\n",
       " 1052,\n",
       " 1100,\n",
       " 1128,\n",
       " 1196,\n",
       " 1244,\n",
       " 1300,\n",
       " 1384,\n",
       " 1448,\n",
       " 1512,\n",
       " 1520,\n",
       " 1528,\n",
       " 1536,\n",
       " 1676,\n",
       " 1756,\n",
       " 1848,\n",
       " 1856,\n",
       " 2004,\n",
       " 1748,\n",
       " 2064,\n",
       " 2088,\n",
       " 2092,\n",
       " 2136,\n",
       " 2144,\n",
       " 2152,\n",
       " 2292,\n",
       " 2360,\n",
       " 2416,\n",
       " 2524,\n",
       " 2588,\n",
       " 2596,\n",
       " 2604,\n",
       " 2628,\n",
       " 3020,\n",
       " 3528,\n",
       " 3732,\n",
       " 3900,\n",
       " 3916,\n",
       " 3928,\n",
       " 3936,\n",
       " 3944,\n",
       " 3968,\n",
       " 3980,\n",
       " 3988,\n",
       " 3996,\n",
       " 4004,\n",
       " 4012,\n",
       " 4020,\n",
       " 4028,\n",
       " 4036,\n",
       " 4056,\n",
       " 3572,\n",
       " 4108,\n",
       " 4144,\n",
       " 4308,\n",
       " 4536,\n",
       " 4676,\n",
       " 5308,\n",
       " 5564,\n",
       " 6660,\n",
       " 2132,\n",
       " 1492,\n",
       " 1608,\n",
       " 3548,\n",
       " 4140,\n",
       " 4268,\n",
       " 4356,\n",
       " 4280,\n",
       " 4400,\n",
       " 7124,\n",
       " 2264,\n",
       " 772,\n",
       " 4104,\n",
       " 7172,\n",
       " 7404,\n",
       " 7588,\n",
       " 7688,\n",
       " 8060,\n",
       " 8184,\n",
       " 2072,\n",
       " 8172,\n",
       " 8276,\n",
       " 8384,\n",
       " 8576,\n",
       " 8892,\n",
       " 8976,\n",
       " 4228,\n",
       " 9188,\n",
       " 8224,\n",
       " 7336,\n",
       " 9808,\n",
       " 9840,\n",
       " 9872,\n",
       " 10080,\n",
       " 9700,\n",
       " 10388,\n",
       " 10552,\n",
       " 8884,\n",
       " 1396,\n",
       " 10484,\n",
       " 8920,\n",
       " 9200,\n",
       " 6128,\n",
       " 10856,\n",
       " 9120,\n",
       " 8612,\n",
       " 11784,\n",
       " 12612,\n",
       " 8964,\n",
       " 12956,\n",
       " 11488,\n",
       " 936,\n",
       " 13192,\n",
       " 12600,\n",
       " 11568,\n",
       " 5016,\n",
       " 11312,\n",
       " 1548,\n",
       " 4604,\n",
       " 10468,\n",
       " 11480,\n",
       " 11336,\n",
       " 7036,\n",
       " 1504,\n",
       " 9320,\n",
       " 6916]"
      ]
     },
     "execution_count": 16,
     "metadata": {},
     "output_type": "execute_result"
    }
   ],
   "source": [
    "psutil.pids() # 所有进程ID"
   ]
  },
  {
   "cell_type": "code",
   "execution_count": 42,
   "metadata": {
    "collapsed": true
   },
   "outputs": [],
   "source": [
    "p = psutil.Process(3732) # 获取指定进程ID=3732"
   ]
  },
  {
   "cell_type": "code",
   "execution_count": 43,
   "metadata": {},
   "outputs": [
    {
     "data": {
      "text/plain": [
       "'svchost.exe'"
      ]
     },
     "execution_count": 43,
     "metadata": {},
     "output_type": "execute_result"
    }
   ],
   "source": [
    "p.name()"
   ]
  },
  {
   "cell_type": "code",
   "execution_count": 47,
   "metadata": {},
   "outputs": [
    {
     "data": {
      "text/plain": [
       "1004"
      ]
     },
     "execution_count": 47,
     "metadata": {},
     "output_type": "execute_result"
    }
   ],
   "source": [
    "p.ppid()"
   ]
  },
  {
   "cell_type": "code",
   "execution_count": 48,
   "metadata": {},
   "outputs": [
    {
     "data": {
      "text/plain": [
       "<psutil.Process(pid=1004, name='services.exe') at 2322207527488>"
      ]
     },
     "execution_count": 48,
     "metadata": {},
     "output_type": "execute_result"
    }
   ],
   "source": [
    "p.parent()"
   ]
  },
  {
   "cell_type": "code",
   "execution_count": 49,
   "metadata": {},
   "outputs": [
    {
     "data": {
      "text/plain": [
       "[]"
      ]
     },
     "execution_count": 49,
     "metadata": {},
     "output_type": "execute_result"
    }
   ],
   "source": [
    "p.children()"
   ]
  },
  {
   "cell_type": "code",
   "execution_count": 50,
   "metadata": {},
   "outputs": [
    {
     "data": {
      "text/plain": [
       "'running'"
      ]
     },
     "execution_count": 50,
     "metadata": {},
     "output_type": "execute_result"
    }
   ],
   "source": [
    "p.status()"
   ]
  },
  {
   "cell_type": "code",
   "execution_count": 51,
   "metadata": {},
   "outputs": [
    {
     "data": {
      "text/plain": [
       "<bound method Process.create_time of <psutil.Process(pid=3732, name='svchost.exe') at 2322207527208>>"
      ]
     },
     "execution_count": 51,
     "metadata": {},
     "output_type": "execute_result"
    }
   ],
   "source": [
    "p.create_time"
   ]
  },
  {
   "cell_type": "code",
   "execution_count": 52,
   "metadata": {},
   "outputs": [
    {
     "data": {
      "text/plain": [
       "pcputimes(user=0.046875, system=0.5, children_user=0.0, children_system=0.0)"
      ]
     },
     "execution_count": 52,
     "metadata": {},
     "output_type": "execute_result"
    }
   ],
   "source": [
    "p.cpu_times()"
   ]
  },
  {
   "cell_type": "code",
   "execution_count": null,
   "metadata": {
    "collapsed": true
   },
   "outputs": [],
   "source": []
  }
 ],
 "metadata": {
  "kernelspec": {
   "display_name": "Python 3",
   "language": "python",
   "name": "python3"
  },
  "language_info": {
   "codemirror_mode": {
    "name": "ipython",
    "version": 3
   },
   "file_extension": ".py",
   "mimetype": "text/x-python",
   "name": "python",
   "nbconvert_exporter": "python",
   "pygments_lexer": "ipython3",
   "version": "3.6.3"
  }
 },
 "nbformat": 4,
 "nbformat_minor": 2
}
