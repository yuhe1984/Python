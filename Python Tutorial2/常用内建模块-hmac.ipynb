{
 "cells": [
  {
   "cell_type": "code",
   "execution_count": 1,
   "metadata": {
    "collapsed": true
   },
   "outputs": [],
   "source": [
    "import hmac"
   ]
  },
  {
   "cell_type": "code",
   "execution_count": 2,
   "metadata": {
    "collapsed": true
   },
   "outputs": [],
   "source": [
    "message = b'Hello, world!'"
   ]
  },
  {
   "cell_type": "code",
   "execution_count": 3,
   "metadata": {
    "collapsed": true
   },
   "outputs": [],
   "source": [
    "key = b'secret'"
   ]
  },
  {
   "cell_type": "code",
   "execution_count": 4,
   "metadata": {
    "collapsed": true
   },
   "outputs": [],
   "source": [
    "h = hmac.new(key, message, digestmod='MD5')"
   ]
  },
  {
   "cell_type": "code",
   "execution_count": 5,
   "metadata": {},
   "outputs": [
    {
     "data": {
      "text/plain": [
       "'fa4ee7d173f2d97ee79022d1a7355bcf'"
      ]
     },
     "execution_count": 5,
     "metadata": {},
     "output_type": "execute_result"
    }
   ],
   "source": [
    "h.hexdigest()"
   ]
  },
  {
   "cell_type": "markdown",
   "metadata": {},
   "source": [
    "# practice"
   ]
  },
  {
   "cell_type": "code",
   "execution_count": 21,
   "metadata": {
    "collapsed": true
   },
   "outputs": [],
   "source": [
    "import hmac, random\n",
    "\n",
    "def hmac_md5(key, s):\n",
    "    return hmac.new(key.encode('utf-8'), s.encode('utf-8'), 'MD5').hexdigest()\n",
    "\n",
    "class User(object):\n",
    "    def __init__(self, username, password):\n",
    "        self.username = username\n",
    "        self.key = ''.join([chr(random.randint(48, 122)) for i in range(20)])\n",
    "        self.password = hmac_md5(self.key, password)\n",
    "\n",
    "db = {\n",
    "    'michael': User('michael', '123456'),\n",
    "    'bob': User('bob', 'abc999'),\n",
    "    'alice': User('alice', 'alice2008')\n",
    "}"
   ]
  },
  {
   "cell_type": "code",
   "execution_count": 22,
   "metadata": {
    "collapsed": true
   },
   "outputs": [],
   "source": [
    "def login(username, password):\n",
    "    user = db[username]\n",
    "    return user.password == hmac_md5(user.key, password)"
   ]
  },
  {
   "cell_type": "code",
   "execution_count": 23,
   "metadata": {},
   "outputs": [
    {
     "name": "stdout",
     "output_type": "stream",
     "text": [
      "ok\n"
     ]
    }
   ],
   "source": [
    "# 测试:\n",
    "assert login('michael', '123456')\n",
    "assert login('bob', 'abc999')\n",
    "assert login('alice', 'alice2008')\n",
    "assert not login('michael', '1234567')\n",
    "assert not login('bob', '123456')\n",
    "assert not login('alice', 'Alice2008')\n",
    "print('ok')"
   ]
  },
  {
   "cell_type": "code",
   "execution_count": null,
   "metadata": {
    "collapsed": true
   },
   "outputs": [],
   "source": []
  }
 ],
 "metadata": {
  "kernelspec": {
   "display_name": "Python 3",
   "language": "python",
   "name": "python3"
  },
  "language_info": {
   "codemirror_mode": {
    "name": "ipython",
    "version": 3
   },
   "file_extension": ".py",
   "mimetype": "text/x-python",
   "name": "python",
   "nbconvert_exporter": "python",
   "pygments_lexer": "ipython3",
   "version": "3.6.3"
  }
 },
 "nbformat": 4,
 "nbformat_minor": 2
}
