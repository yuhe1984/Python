{
 "cells": [
  {
   "cell_type": "code",
   "execution_count": 1,
   "metadata": {
    "collapsed": true
   },
   "outputs": [],
   "source": [
    "# import asyncio\n",
    "\n",
    "# async def hello():\n",
    "#     print(\"Hello world!\")\n",
    "#     # 异步调用asyncio.sleep(1):\n",
    "#     r = await asyncio.sleep(1)\n",
    "#     print(\"Hello again!\")\n",
    "\n",
    "# # 获取Evenloop\n",
    "# loop = asyncio.get_event_loop()\n",
    "# # 执行corouting\n",
    "# loop.run_until_complete(hello())\n",
    "# loop.close()"
   ]
  },
  {
   "cell_type": "code",
   "execution_count": 2,
   "metadata": {},
   "outputs": [],
   "source": [
    "# import threading\n",
    "# import asyncio\n",
    "\n",
    "# async def hello():\n",
    "#     print('Hello world! (%s)' % threading.currentThread())\n",
    "#     await asyncio.sleep(1)\n",
    "#     print('Hello again! (%s)' % threading.currentThread())\n",
    "\n",
    "# loop = asyncio.get_event_loop()\n",
    "# tasks = [hello(), hello()]\n",
    "# loop.run_until_complete(asyncio.wait(tasks))\n",
    "# loop.close()"
   ]
  },
  {
   "cell_type": "code",
   "execution_count": 3,
   "metadata": {},
   "outputs": [
    {
     "name": "stdout",
     "output_type": "stream",
     "text": [
      "wget www.sohu.com...\n",
      "wget www.163.com...\n",
      "wget www.sina.com.cn...\n",
      "www.sohu.com header > HTTP/1.1 200 OK\n",
      "www.sohu.com header > Content-Type: text/html;charset=UTF-8\n",
      "www.sohu.com header > Connection: close\n",
      "www.sohu.com header > Server: nginx\n",
      "www.sohu.com header > Date: Tue, 22 Oct 2019 01:08:56 GMT\n",
      "www.sohu.com header > Cache-Control: max-age=60\n",
      "www.sohu.com header > X-From-Sohu: X-SRC-Cached\n",
      "www.sohu.com header > Content-Encoding: gzip\n",
      "www.sohu.com header > FSS-Cache: HIT from 4336953.6237507.6111062\n",
      "www.sohu.com header > FSS-Proxy: Powered by 3419435.4402485.5193530\n",
      "www.sina.com.cn header > HTTP/1.1 302 Moved Temporarily\n",
      "www.sina.com.cn header > Server: nginx\n",
      "www.sina.com.cn header > Date: Tue, 22 Oct 2019 01:09:06 GMT\n",
      "www.sina.com.cn header > Content-Type: text/html\n",
      "www.sina.com.cn header > Content-Length: 154\n",
      "www.sina.com.cn header > Connection: close\n",
      "www.sina.com.cn header > Location: https://www.sina.com.cn/\n",
      "www.sina.com.cn header > X-Via-CDN: f=edge,s=cmcc.wuhan.ha2ts4.12.nb.sinaedge.com,c=117.152.82.82;\n",
      "www.sina.com.cn header > X-Via-Edge: 1571706546693525298750c84306f0dd38d98\n",
      "www.163.com header > HTTP/1.1 200 OK\n",
      "www.163.com header > Date: Tue, 22 Oct 2019 01:09:06 GMT\n",
      "www.163.com header > Content-Type: text/html; charset=GBK\n",
      "www.163.com header > Connection: close\n",
      "www.163.com header > Expires: Tue, 22 Oct 2019 01:10:05 GMT\n",
      "www.163.com header > Server: nginx\n",
      "www.163.com header > Cache-Control: no-cache,no-store,private\n",
      "www.163.com header > Age: 20\n",
      "www.163.com header > Vary: Accept-Encoding\n",
      "www.163.com header > X-Ser: BC51_dx-lt-yd-shandong-jinan-5-cache-6, BC18_dx-lt-yd-shandong-jinan-5-cache-6, BC19_yd-hubei-wuhan-5-cache-2\n",
      "www.163.com header > cdn-user-ip: 117.152.82.82\n",
      "www.163.com header > cdn-ip: 111.48.98.15\n",
      "www.163.com header > X-Cache-Remote: HIT\n",
      "www.163.com header > cdn-source: baishan\n"
     ]
    }
   ],
   "source": [
    "import asyncio\n",
    "\n",
    "async def wget(host):\n",
    "    print('wget %s...' % host)\n",
    "    connect = asyncio.open_connection(host, 80)\n",
    "    reader, writer = await connect\n",
    "    header = 'GET / HTTP/1.0\\r\\nHost: %s\\r\\n\\r\\n' % host\n",
    "    writer.write(header.encode('utf-8'))\n",
    "    await writer.drain()\n",
    "    while True:\n",
    "        line = await reader.readline()\n",
    "        if line == b'\\r\\n':\n",
    "            break\n",
    "        print('%s header > %s' % (host, line.decode('utf-8').rstrip()))\n",
    "    # Ignore the body, close the socket\n",
    "    writer.close()\n",
    "\n",
    "loop = asyncio.get_event_loop()\n",
    "tasks = [wget(host) for host in ['www.sina.com.cn', 'www.sohu.com', 'www.163.com']]\n",
    "loop.run_until_complete(asyncio.wait(tasks))\n",
    "loop.close()"
   ]
  }
 ],
 "metadata": {
  "kernelspec": {
   "display_name": "Python 3",
   "language": "python",
   "name": "python3"
  },
  "language_info": {
   "codemirror_mode": {
    "name": "ipython",
    "version": 3
   },
   "file_extension": ".py",
   "mimetype": "text/x-python",
   "name": "python",
   "nbconvert_exporter": "python",
   "pygments_lexer": "ipython3",
   "version": "3.6.3"
  }
 },
 "nbformat": 4,
 "nbformat_minor": 2
}
