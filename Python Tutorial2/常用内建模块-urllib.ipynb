{
 "cells": [
  {
   "cell_type": "markdown",
   "metadata": {
    "collapsed": true
   },
   "source": [
    "# Get"
   ]
  },
  {
   "cell_type": "code",
   "execution_count": 1,
   "metadata": {},
   "outputs": [
    {
     "name": "stdout",
     "output_type": "stream",
     "text": [
      "Status: 200 OK\n",
      "Date: Tue, 15 Oct 2019 11:24:41 GMT\n",
      "Content-Type: application/json; charset=UTF-8\n",
      "Content-Length: 3269\n",
      "Connection: close\n",
      "Set-Cookie: tgw_l7_route=a37704a413efa26cf3f23813004f1a3b; Expires=Tue, 15-Oct-2019 11:39:41 GMT; Path=/\n",
      "Vary: Accept-Encoding\n",
      "Etag: \"67de39a7277bc36e5bd3dcf7e269d21ffaa87388\"\n",
      "X-Backend: zhihu-daily-web--36-32992b25-85658c68b-7kps7\n",
      "X-Backend-Response: 0.005\n",
      "Server: ZWS\n",
      "Set-Cookie: _xsrf=6YReo9rqu5PZAiLafyZ7RD1Lx54ikc5s; path=/; domain=zhihu.com; expires=Sat, 02-Apr-22 11:24:41 GMT\n",
      "Data: {\"date\":\"20191015\",\"stories\":[{\"image_hue\":\"0xaa9728\",\"title\":\"神奇宝贝是咋交流的？\",\"url\":\"https:\\/\\/daily.zhihu.com\\/story\\/9716097\",\"hint\":\"疯癫的A兵者 · 5 分钟阅读\",\"ga_prefix\":\"101518\",\"images\":[\"https:\\/\\/pic4.zhimg.com\\/v2-c5c429f6a204bbeb26b8a2f4034a07ab.jpg\"],\"type\":0,\"id\":9716097},{\"image_hue\":\"0x63625e\",\"title\":\"数学究竟是真实存在的，还是人类精神的产物？\",\"url\":\"https:\\/\\/daily.zhihu.com\\/story\\/9716094\",\"hint\":\"光明日报 · 8 分钟阅读\",\"ga_prefix\":\"101516\",\"images\":[\"https:\\/\\/pic1.zhimg.com\\/v2-da7317f2fe8f257281147fd8d597e230.jpg\"],\"type\":0,\"id\":9716094},{\"image_hue\":\"0x424442\",\"title\":\"漫威电影不算是「电影」？\",\"url\":\"https:\\/\\/daily.zhihu.com\\/story\\/9716090\",\"hint\":\"2001室的库布里克 · 4 分钟阅读\",\"ga_prefix\":\"101515\",\"images\":[\"https:\\/\\/pic1.zhimg.com\\/v2-535c26258df105bb24bdea5fe723c140.jpg\"],\"type\":0,\"id\":9716090},{\"image_hue\":\"0x55606e\",\"title\":\"自动泊车系统现在发展到什么程度了？\",\"url\":\"https:\\/\\/daily.zhihu.com\\/story\\/9716101\",\"hint\":\"懂车帝App · 7 分钟阅读\",\"ga_prefix\":\"101509\",\"images\":[\"https:\\/\\/pic2.zhimg.com\\/v2-d7ca6707a247fe72653e70c936885855.jpg\"],\"type\":0,\"id\":9716101},{\"image_hue\":\"0x8f8f8f\",\"title\":\"原 f(x) 成员崔雪莉确认身亡，事情的真相如何？\",\"url\":\"https:\\/\\/daily.zhihu.com\\/story\\/9716169\",\"hint\":\"Pucifan · 1 分钟阅读\",\"ga_prefix\":\"101507\",\"images\":[\"https:\\/\\/pic2.zhimg.com\\/v2-2c30aa62201465e008cd288293736ab5.jpg\"],\"type\":0,\"id\":9716169},{\"image_hue\":\"0xb4a179\",\"title\":\"瞎扯 · 如何正确地吐槽\",\"url\":\"https:\\/\\/daily.zhihu.com\\/story\\/9716160\",\"hint\":\"VOL.2239\",\"ga_prefix\":\"101506\",\"images\":[\"https:\\/\\/pic2.zhimg.com\\/v2-c9e9d13003b3b77110f3fc230c452cc1.jpg\"],\"type\":0,\"id\":9716160}],\"top_stories\":[{\"image_hue\":\"0x636b62\",\"hint\":\"作者 \\/ 黄彦思Raymond\",\"url\":\"https:\\/\\/daily.zhihu.com\\/story\\/9716048\",\"image\":\"https:\\/\\/pic4.zhimg.com\\/v2-e4625163a1bd98cf50c77406cef6be53.jpg\",\"title\":\"无锡小吃店燃气爆炸致 9 人死亡，为什么伤亡如此惨重？\",\"ga_prefix\":\"101407\",\"type\":0,\"id\":9716048},{\"image_hue\":\"0x675948\",\"hint\":\"作者 \\/ 飒姐\",\"url\":\"https:\\/\\/daily.zhihu.com\\/story\\/9715893\",\"image\":\"https:\\/\\/pic1.zhimg.com\\/v2-73eba9226854eb384bac0b39f417d978.jpg\",\"title\":\"无痛分娩到底管用么？\",\"ga_prefix\":\"101016\",\"type\":0,\"id\":9715893},{\"image_hue\":\"0xf7db1c\",\"hint\":\"作者 \\/ 张抗抗\",\"url\":\"https:\\/\\/daily.zhihu.com\\/story\\/9715912\",\"image\":\"https:\\/\\/pic3.zhimg.com\\/v2-4bd771a11c83b38bc015da823c7a8ce6.jpg\",\"title\":\"2019 年诺贝尔化学奖授予锂电池，这项技术如何改变了我们的生活？\",\"ga_prefix\":\"101009\",\"type\":0,\"id\":9715912},{\"image_hue\":\"0x662530\",\"hint\":\"作者 \\/ 知识分子\",\"url\":\"https:\\/\\/daily.zhihu.com\\/story\\/9715796\",\"image\":\"https:\\/\\/pic2.zhimg.com\\/v2-650616a8303ffc11e4668a08625a9581.jpg\",\"title\":\"如何通俗地理解 2019 年诺贝尔生理学或医学奖？\",\"ga_prefix\":\"100807\",\"type\":0,\"id\":9715796},{\"image_hue\":\"0x8b9391\",\"hint\":\"作者 \\/ 知乎日报\",\"url\":\"https:\\/\\/daily.zhihu.com\\/story\\/9715527\",\"image\":\"https:\\/\\/pic4.zhimg.com\\/v2-eeac7fe3e3c28eae5517eea4cc7f56bf.jpg\",\"title\":\"谁，还没有点光荣历史呢？\",\"ga_prefix\":\"092709\",\"type\":0,\"id\":9715527}]}\n"
     ]
    }
   ],
   "source": [
    "from urllib import request\n",
    "\n",
    "with request.urlopen('http://news-at.zhihu.com/api/4/news/latest') as f:\n",
    "    data = f.read()\n",
    "    print('Status:', f.status, f.reason)\n",
    "    for k, v in f.getheaders():\n",
    "        print('%s: %s' % (k, v))\n",
    "    print('Data:', data.decode('utf-8'))"
   ]
  },
  {
   "cell_type": "code",
   "execution_count": 2,
   "metadata": {},
   "outputs": [
    {
     "name": "stdout",
     "output_type": "stream",
     "text": [
      "Status: 200 OK\n",
      "Date: Tue, 15 Oct 2019 11:24:42 GMT\n",
      "Content-Type: text/html; charset=utf-8\n",
      "Transfer-Encoding: chunked\n",
      "Connection: close\n",
      "Vary: Accept-Encoding\n",
      "Vary: Accept-Encoding\n",
      "X-Xss-Protection: 1; mode=block\n",
      "X-Douban-Mobileapp: 0\n",
      "Expires: Sun, 1 Jan 2006 01:00:00 GMT\n",
      "Pragma: no-cache\n",
      "Cache-Control: must-revalidate, no-cache, private\n",
      "Set-Cookie: bid=ubMmY1zZJjw; Expires=Wed, 14-Oct-20 11:24:42 GMT; Domain=.douban.com; Path=/\n",
      "X-DOUBAN-NEWBID: ubMmY1zZJjw\n",
      "X-DAE-App: talion\n",
      "X-DAE-Instance: default\n",
      "Server: dae\n",
      "X-Frame-Options: SAMEORIGIN\n",
      "Strict-Transport-Security: max-age=15552000;\n",
      "X-Content-Type-Options: nosniff\n",
      "Data: {\"date\":\"20191015\",\"stories\":[{\"image_hue\":\"0xaa9728\",\"title\":\"神奇宝贝是咋交流的？\",\"url\":\"https:\\/\\/daily.zhihu.com\\/story\\/9716097\",\"hint\":\"疯癫的A兵者 · 5 分钟阅读\",\"ga_prefix\":\"101518\",\"images\":[\"https:\\/\\/pic4.zhimg.com\\/v2-c5c429f6a204bbeb26b8a2f4034a07ab.jpg\"],\"type\":0,\"id\":9716097},{\"image_hue\":\"0x63625e\",\"title\":\"数学究竟是真实存在的，还是人类精神的产物？\",\"url\":\"https:\\/\\/daily.zhihu.com\\/story\\/9716094\",\"hint\":\"光明日报 · 8 分钟阅读\",\"ga_prefix\":\"101516\",\"images\":[\"https:\\/\\/pic1.zhimg.com\\/v2-da7317f2fe8f257281147fd8d597e230.jpg\"],\"type\":0,\"id\":9716094},{\"image_hue\":\"0x424442\",\"title\":\"漫威电影不算是「电影」？\",\"url\":\"https:\\/\\/daily.zhihu.com\\/story\\/9716090\",\"hint\":\"2001室的库布里克 · 4 分钟阅读\",\"ga_prefix\":\"101515\",\"images\":[\"https:\\/\\/pic1.zhimg.com\\/v2-535c26258df105bb24bdea5fe723c140.jpg\"],\"type\":0,\"id\":9716090},{\"image_hue\":\"0x55606e\",\"title\":\"自动泊车系统现在发展到什么程度了？\",\"url\":\"https:\\/\\/daily.zhihu.com\\/story\\/9716101\",\"hint\":\"懂车帝App · 7 分钟阅读\",\"ga_prefix\":\"101509\",\"images\":[\"https:\\/\\/pic2.zhimg.com\\/v2-d7ca6707a247fe72653e70c936885855.jpg\"],\"type\":0,\"id\":9716101},{\"image_hue\":\"0x8f8f8f\",\"title\":\"原 f(x) 成员崔雪莉确认身亡，事情的真相如何？\",\"url\":\"https:\\/\\/daily.zhihu.com\\/story\\/9716169\",\"hint\":\"Pucifan · 1 分钟阅读\",\"ga_prefix\":\"101507\",\"images\":[\"https:\\/\\/pic2.zhimg.com\\/v2-2c30aa62201465e008cd288293736ab5.jpg\"],\"type\":0,\"id\":9716169},{\"image_hue\":\"0xb4a179\",\"title\":\"瞎扯 · 如何正确地吐槽\",\"url\":\"https:\\/\\/daily.zhihu.com\\/story\\/9716160\",\"hint\":\"VOL.2239\",\"ga_prefix\":\"101506\",\"images\":[\"https:\\/\\/pic2.zhimg.com\\/v2-c9e9d13003b3b77110f3fc230c452cc1.jpg\"],\"type\":0,\"id\":9716160}],\"top_stories\":[{\"image_hue\":\"0x636b62\",\"hint\":\"作者 \\/ 黄彦思Raymond\",\"url\":\"https:\\/\\/daily.zhihu.com\\/story\\/9716048\",\"image\":\"https:\\/\\/pic4.zhimg.com\\/v2-e4625163a1bd98cf50c77406cef6be53.jpg\",\"title\":\"无锡小吃店燃气爆炸致 9 人死亡，为什么伤亡如此惨重？\",\"ga_prefix\":\"101407\",\"type\":0,\"id\":9716048},{\"image_hue\":\"0x675948\",\"hint\":\"作者 \\/ 飒姐\",\"url\":\"https:\\/\\/daily.zhihu.com\\/story\\/9715893\",\"image\":\"https:\\/\\/pic1.zhimg.com\\/v2-73eba9226854eb384bac0b39f417d978.jpg\",\"title\":\"无痛分娩到底管用么？\",\"ga_prefix\":\"101016\",\"type\":0,\"id\":9715893},{\"image_hue\":\"0xf7db1c\",\"hint\":\"作者 \\/ 张抗抗\",\"url\":\"https:\\/\\/daily.zhihu.com\\/story\\/9715912\",\"image\":\"https:\\/\\/pic3.zhimg.com\\/v2-4bd771a11c83b38bc015da823c7a8ce6.jpg\",\"title\":\"2019 年诺贝尔化学奖授予锂电池，这项技术如何改变了我们的生活？\",\"ga_prefix\":\"101009\",\"type\":0,\"id\":9715912},{\"image_hue\":\"0x662530\",\"hint\":\"作者 \\/ 知识分子\",\"url\":\"https:\\/\\/daily.zhihu.com\\/story\\/9715796\",\"image\":\"https:\\/\\/pic2.zhimg.com\\/v2-650616a8303ffc11e4668a08625a9581.jpg\",\"title\":\"如何通俗地理解 2019 年诺贝尔生理学或医学奖？\",\"ga_prefix\":\"100807\",\"type\":0,\"id\":9715796},{\"image_hue\":\"0x8b9391\",\"hint\":\"作者 \\/ 知乎日报\",\"url\":\"https:\\/\\/daily.zhihu.com\\/story\\/9715527\",\"image\":\"https:\\/\\/pic4.zhimg.com\\/v2-eeac7fe3e3c28eae5517eea4cc7f56bf.jpg\",\"title\":\"谁，还没有点光荣历史呢？\",\"ga_prefix\":\"092709\",\"type\":0,\"id\":9715527}]}\n"
     ]
    }
   ],
   "source": [
    "from urllib import request\n",
    "\n",
    "req = request.Request('http://www.douban.com/')\n",
    "req.add_header('User-Agent', 'Mozilla/6.0 (iPhone; CPU iPhone OS 8_0 like Mac OS X) AppleWebKit/536.26 (KHTML, like Gecko) Version/8.0 Mobile/10A5376e Safari/8536.25')\n",
    "with request.urlopen(req) as f:\n",
    "    print('Status:', f.status, f.reason)\n",
    "    for k, v in f.getheaders():\n",
    "        print('%s: %s' % (k, v))\n",
    "    print('Data:', data.decode('utf-8'))"
   ]
  },
  {
   "cell_type": "markdown",
   "metadata": {},
   "source": [
    "# Post"
   ]
  },
  {
   "cell_type": "code",
   "execution_count": 3,
   "metadata": {},
   "outputs": [
    {
     "name": "stdout",
     "output_type": "stream",
     "text": [
      "Login to weibo.cn...\n",
      "Email: \n",
      "Password: \n",
      "Status: 200 OK\n",
      "Server: nginx/1.6.1\n",
      "Date: Tue, 15 Oct 2019 11:24:56 GMT\n",
      "Content-Type: text/html\n",
      "Transfer-Encoding: chunked\n",
      "Connection: close\n",
      "Vary: Accept-Encoding\n",
      "Cache-Control: no-cache, must-revalidate\n",
      "Expires: Sat, 26 Jul 1997 05:00:00 GMT\n",
      "Pragma: no-cache\n",
      "Access-Control-Allow-Origin: https://passport.weibo.cn\n",
      "Access-Control-Allow-Credentials: true\n",
      "DPOOL_HEADER: luna135\n",
      "Set-Cookie: login=219e4a0617d3288012618552eb672f75; Path=/\n",
      "Data: {\"retcode\":50011007,\"msg\":\"\\u8bf7\\u8f93\\u5165\\u7528\\u6237\\u540d\",\"data\":{\"errline\":320}}\n"
     ]
    }
   ],
   "source": [
    "from urllib import request, parse\n",
    "\n",
    "print('Login to weibo.cn...')\n",
    "email = input('Email: ')\n",
    "passwd = input('Password: ')\n",
    "login_data = parse.urlencode([\n",
    "    ('username', email),\n",
    "    ('password', passwd),\n",
    "    ('entry', 'mweibo'),\n",
    "    ('client_id', ''),\n",
    "    ('savestate', '1'),\n",
    "    ('ec', ''),\n",
    "    ('pagerefer', 'https://passport.weibo.cn/signin/welcome?entry=mweibo&r=http%3A%2F%2Fm.weibo.cn%2F')\n",
    "])\n",
    "\n",
    "req = request.Request('https://passport.weibo.cn/sso/login')\n",
    "req.add_header('Origin', 'https://passport.weibo.cn')\n",
    "req.add_header('User-Agent', 'Mozilla/6.0 (iPhone; CPU iPhone OS 8_0 like Mac OS X) AppleWebKit/536.26 (KHTML, like Gecko) Version/8.0 Mobile/10A5376e Safari/8536.25')\n",
    "req.add_header('Referer', 'https://passport.weibo.cn/signin/login?entry=mweibo&res=wel&wm=3349&r=http%3A%2F%2Fm.weibo.cn%2F')\n",
    "\n",
    "with request.urlopen(req, data=login_data.encode('utf-8')) as f:\n",
    "    print('Status:', f.status, f.reason)\n",
    "    for k, v in f.getheaders():\n",
    "        print('%s: %s' % (k, v))\n",
    "    print('Data:', f.read().decode('utf-8'))"
   ]
  },
  {
   "cell_type": "markdown",
   "metadata": {},
   "source": [
    "# Handler"
   ]
  },
  {
   "cell_type": "code",
   "execution_count": 4,
   "metadata": {},
   "outputs": [
    {
     "ename": "URLError",
     "evalue": "<urlopen error [WinError 10060] 由于连接方在一段时间后没有正确答复或连接的主机没有反应，连接尝试失败。>",
     "output_type": "error",
     "traceback": [
      "\u001b[1;31m---------------------------------------------------------------------------\u001b[0m",
      "\u001b[1;31mTimeoutError\u001b[0m                              Traceback (most recent call last)",
      "\u001b[1;32mD:\\Anaconda\\lib\\urllib\\request.py\u001b[0m in \u001b[0;36mdo_open\u001b[1;34m(self, http_class, req, **http_conn_args)\u001b[0m\n\u001b[0;32m   1317\u001b[0m                 h.request(req.get_method(), req.selector, req.data, headers,\n\u001b[1;32m-> 1318\u001b[1;33m                           encode_chunked=req.has_header('Transfer-encoding'))\n\u001b[0m\u001b[0;32m   1319\u001b[0m             \u001b[1;32mexcept\u001b[0m \u001b[0mOSError\u001b[0m \u001b[1;32mas\u001b[0m \u001b[0merr\u001b[0m\u001b[1;33m:\u001b[0m \u001b[1;31m# timeout error\u001b[0m\u001b[1;33m\u001b[0m\u001b[0m\n",
      "\u001b[1;32mD:\\Anaconda\\lib\\http\\client.py\u001b[0m in \u001b[0;36mrequest\u001b[1;34m(self, method, url, body, headers, encode_chunked)\u001b[0m\n\u001b[0;32m   1238\u001b[0m         \u001b[1;34m\"\"\"Send a complete request to the server.\"\"\"\u001b[0m\u001b[1;33m\u001b[0m\u001b[0m\n\u001b[1;32m-> 1239\u001b[1;33m         \u001b[0mself\u001b[0m\u001b[1;33m.\u001b[0m\u001b[0m_send_request\u001b[0m\u001b[1;33m(\u001b[0m\u001b[0mmethod\u001b[0m\u001b[1;33m,\u001b[0m \u001b[0murl\u001b[0m\u001b[1;33m,\u001b[0m \u001b[0mbody\u001b[0m\u001b[1;33m,\u001b[0m \u001b[0mheaders\u001b[0m\u001b[1;33m,\u001b[0m \u001b[0mencode_chunked\u001b[0m\u001b[1;33m)\u001b[0m\u001b[1;33m\u001b[0m\u001b[0m\n\u001b[0m\u001b[0;32m   1240\u001b[0m \u001b[1;33m\u001b[0m\u001b[0m\n",
      "\u001b[1;32mD:\\Anaconda\\lib\\http\\client.py\u001b[0m in \u001b[0;36m_send_request\u001b[1;34m(self, method, url, body, headers, encode_chunked)\u001b[0m\n\u001b[0;32m   1284\u001b[0m             \u001b[0mbody\u001b[0m \u001b[1;33m=\u001b[0m \u001b[0m_encode\u001b[0m\u001b[1;33m(\u001b[0m\u001b[0mbody\u001b[0m\u001b[1;33m,\u001b[0m \u001b[1;34m'body'\u001b[0m\u001b[1;33m)\u001b[0m\u001b[1;33m\u001b[0m\u001b[0m\n\u001b[1;32m-> 1285\u001b[1;33m         \u001b[0mself\u001b[0m\u001b[1;33m.\u001b[0m\u001b[0mendheaders\u001b[0m\u001b[1;33m(\u001b[0m\u001b[0mbody\u001b[0m\u001b[1;33m,\u001b[0m \u001b[0mencode_chunked\u001b[0m\u001b[1;33m=\u001b[0m\u001b[0mencode_chunked\u001b[0m\u001b[1;33m)\u001b[0m\u001b[1;33m\u001b[0m\u001b[0m\n\u001b[0m\u001b[0;32m   1286\u001b[0m \u001b[1;33m\u001b[0m\u001b[0m\n",
      "\u001b[1;32mD:\\Anaconda\\lib\\http\\client.py\u001b[0m in \u001b[0;36mendheaders\u001b[1;34m(self, message_body, encode_chunked)\u001b[0m\n\u001b[0;32m   1233\u001b[0m             \u001b[1;32mraise\u001b[0m \u001b[0mCannotSendHeader\u001b[0m\u001b[1;33m(\u001b[0m\u001b[1;33m)\u001b[0m\u001b[1;33m\u001b[0m\u001b[0m\n\u001b[1;32m-> 1234\u001b[1;33m         \u001b[0mself\u001b[0m\u001b[1;33m.\u001b[0m\u001b[0m_send_output\u001b[0m\u001b[1;33m(\u001b[0m\u001b[0mmessage_body\u001b[0m\u001b[1;33m,\u001b[0m \u001b[0mencode_chunked\u001b[0m\u001b[1;33m=\u001b[0m\u001b[0mencode_chunked\u001b[0m\u001b[1;33m)\u001b[0m\u001b[1;33m\u001b[0m\u001b[0m\n\u001b[0m\u001b[0;32m   1235\u001b[0m \u001b[1;33m\u001b[0m\u001b[0m\n",
      "\u001b[1;32mD:\\Anaconda\\lib\\http\\client.py\u001b[0m in \u001b[0;36m_send_output\u001b[1;34m(self, message_body, encode_chunked)\u001b[0m\n\u001b[0;32m   1025\u001b[0m         \u001b[1;32mdel\u001b[0m \u001b[0mself\u001b[0m\u001b[1;33m.\u001b[0m\u001b[0m_buffer\u001b[0m\u001b[1;33m[\u001b[0m\u001b[1;33m:\u001b[0m\u001b[1;33m]\u001b[0m\u001b[1;33m\u001b[0m\u001b[0m\n\u001b[1;32m-> 1026\u001b[1;33m         \u001b[0mself\u001b[0m\u001b[1;33m.\u001b[0m\u001b[0msend\u001b[0m\u001b[1;33m(\u001b[0m\u001b[0mmsg\u001b[0m\u001b[1;33m)\u001b[0m\u001b[1;33m\u001b[0m\u001b[0m\n\u001b[0m\u001b[0;32m   1027\u001b[0m \u001b[1;33m\u001b[0m\u001b[0m\n",
      "\u001b[1;32mD:\\Anaconda\\lib\\http\\client.py\u001b[0m in \u001b[0;36msend\u001b[1;34m(self, data)\u001b[0m\n\u001b[0;32m    963\u001b[0m             \u001b[1;32mif\u001b[0m \u001b[0mself\u001b[0m\u001b[1;33m.\u001b[0m\u001b[0mauto_open\u001b[0m\u001b[1;33m:\u001b[0m\u001b[1;33m\u001b[0m\u001b[0m\n\u001b[1;32m--> 964\u001b[1;33m                 \u001b[0mself\u001b[0m\u001b[1;33m.\u001b[0m\u001b[0mconnect\u001b[0m\u001b[1;33m(\u001b[0m\u001b[1;33m)\u001b[0m\u001b[1;33m\u001b[0m\u001b[0m\n\u001b[0m\u001b[0;32m    965\u001b[0m             \u001b[1;32melse\u001b[0m\u001b[1;33m:\u001b[0m\u001b[1;33m\u001b[0m\u001b[0m\n",
      "\u001b[1;32mD:\\Anaconda\\lib\\http\\client.py\u001b[0m in \u001b[0;36mconnect\u001b[1;34m(self)\u001b[0m\n\u001b[0;32m    935\u001b[0m         self.sock = self._create_connection(\n\u001b[1;32m--> 936\u001b[1;33m             (self.host,self.port), self.timeout, self.source_address)\n\u001b[0m\u001b[0;32m    937\u001b[0m         \u001b[0mself\u001b[0m\u001b[1;33m.\u001b[0m\u001b[0msock\u001b[0m\u001b[1;33m.\u001b[0m\u001b[0msetsockopt\u001b[0m\u001b[1;33m(\u001b[0m\u001b[0msocket\u001b[0m\u001b[1;33m.\u001b[0m\u001b[0mIPPROTO_TCP\u001b[0m\u001b[1;33m,\u001b[0m \u001b[0msocket\u001b[0m\u001b[1;33m.\u001b[0m\u001b[0mTCP_NODELAY\u001b[0m\u001b[1;33m,\u001b[0m \u001b[1;36m1\u001b[0m\u001b[1;33m)\u001b[0m\u001b[1;33m\u001b[0m\u001b[0m\n",
      "\u001b[1;32mD:\\Anaconda\\lib\\socket.py\u001b[0m in \u001b[0;36mcreate_connection\u001b[1;34m(address, timeout, source_address)\u001b[0m\n\u001b[0;32m    723\u001b[0m     \u001b[1;32mif\u001b[0m \u001b[0merr\u001b[0m \u001b[1;32mis\u001b[0m \u001b[1;32mnot\u001b[0m \u001b[1;32mNone\u001b[0m\u001b[1;33m:\u001b[0m\u001b[1;33m\u001b[0m\u001b[0m\n\u001b[1;32m--> 724\u001b[1;33m         \u001b[1;32mraise\u001b[0m \u001b[0merr\u001b[0m\u001b[1;33m\u001b[0m\u001b[0m\n\u001b[0m\u001b[0;32m    725\u001b[0m     \u001b[1;32melse\u001b[0m\u001b[1;33m:\u001b[0m\u001b[1;33m\u001b[0m\u001b[0m\n",
      "\u001b[1;32mD:\\Anaconda\\lib\\socket.py\u001b[0m in \u001b[0;36mcreate_connection\u001b[1;34m(address, timeout, source_address)\u001b[0m\n\u001b[0;32m    712\u001b[0m                 \u001b[0msock\u001b[0m\u001b[1;33m.\u001b[0m\u001b[0mbind\u001b[0m\u001b[1;33m(\u001b[0m\u001b[0msource_address\u001b[0m\u001b[1;33m)\u001b[0m\u001b[1;33m\u001b[0m\u001b[0m\n\u001b[1;32m--> 713\u001b[1;33m             \u001b[0msock\u001b[0m\u001b[1;33m.\u001b[0m\u001b[0mconnect\u001b[0m\u001b[1;33m(\u001b[0m\u001b[0msa\u001b[0m\u001b[1;33m)\u001b[0m\u001b[1;33m\u001b[0m\u001b[0m\n\u001b[0m\u001b[0;32m    714\u001b[0m             \u001b[1;31m# Break explicitly a reference cycle\u001b[0m\u001b[1;33m\u001b[0m\u001b[1;33m\u001b[0m\u001b[0m\n",
      "\u001b[1;31mTimeoutError\u001b[0m: [WinError 10060] 由于连接方在一段时间后没有正确答复或连接的主机没有反应，连接尝试失败。",
      "\nDuring handling of the above exception, another exception occurred:\n",
      "\u001b[1;31mURLError\u001b[0m                                  Traceback (most recent call last)",
      "\u001b[1;32m<ipython-input-4-ee59789abac1>\u001b[0m in \u001b[0;36m<module>\u001b[1;34m()\u001b[0m\n\u001b[0;32m      4\u001b[0m \u001b[0mproxy_auth_handler\u001b[0m\u001b[1;33m.\u001b[0m\u001b[0madd_password\u001b[0m\u001b[1;33m(\u001b[0m\u001b[1;34m'realm'\u001b[0m\u001b[1;33m,\u001b[0m \u001b[1;34m'host'\u001b[0m\u001b[1;33m,\u001b[0m \u001b[1;34m'username'\u001b[0m\u001b[1;33m,\u001b[0m \u001b[1;34m'password'\u001b[0m\u001b[1;33m)\u001b[0m\u001b[1;33m\u001b[0m\u001b[0m\n\u001b[0;32m      5\u001b[0m \u001b[0mopener\u001b[0m \u001b[1;33m=\u001b[0m \u001b[0murllib\u001b[0m\u001b[1;33m.\u001b[0m\u001b[0mrequest\u001b[0m\u001b[1;33m.\u001b[0m\u001b[0mbuild_opener\u001b[0m\u001b[1;33m(\u001b[0m\u001b[0mproxy_handler\u001b[0m\u001b[1;33m,\u001b[0m \u001b[0mproxy_auth_handler\u001b[0m\u001b[1;33m)\u001b[0m\u001b[1;33m\u001b[0m\u001b[0m\n\u001b[1;32m----> 6\u001b[1;33m \u001b[1;32mwith\u001b[0m \u001b[0mopener\u001b[0m\u001b[1;33m.\u001b[0m\u001b[0mopen\u001b[0m\u001b[1;33m(\u001b[0m\u001b[1;34m'http://www.example.com/login/html'\u001b[0m\u001b[1;33m)\u001b[0m \u001b[1;32mas\u001b[0m \u001b[0mf\u001b[0m\u001b[1;33m:\u001b[0m\u001b[1;33m\u001b[0m\u001b[0m\n\u001b[0m\u001b[0;32m      7\u001b[0m     \u001b[1;32mpass\u001b[0m\u001b[1;33m\u001b[0m\u001b[0m\n",
      "\u001b[1;32mD:\\Anaconda\\lib\\urllib\\request.py\u001b[0m in \u001b[0;36mopen\u001b[1;34m(self, fullurl, data, timeout)\u001b[0m\n\u001b[0;32m    524\u001b[0m             \u001b[0mreq\u001b[0m \u001b[1;33m=\u001b[0m \u001b[0mmeth\u001b[0m\u001b[1;33m(\u001b[0m\u001b[0mreq\u001b[0m\u001b[1;33m)\u001b[0m\u001b[1;33m\u001b[0m\u001b[0m\n\u001b[0;32m    525\u001b[0m \u001b[1;33m\u001b[0m\u001b[0m\n\u001b[1;32m--> 526\u001b[1;33m         \u001b[0mresponse\u001b[0m \u001b[1;33m=\u001b[0m \u001b[0mself\u001b[0m\u001b[1;33m.\u001b[0m\u001b[0m_open\u001b[0m\u001b[1;33m(\u001b[0m\u001b[0mreq\u001b[0m\u001b[1;33m,\u001b[0m \u001b[0mdata\u001b[0m\u001b[1;33m)\u001b[0m\u001b[1;33m\u001b[0m\u001b[0m\n\u001b[0m\u001b[0;32m    527\u001b[0m \u001b[1;33m\u001b[0m\u001b[0m\n\u001b[0;32m    528\u001b[0m         \u001b[1;31m# post-process response\u001b[0m\u001b[1;33m\u001b[0m\u001b[1;33m\u001b[0m\u001b[0m\n",
      "\u001b[1;32mD:\\Anaconda\\lib\\urllib\\request.py\u001b[0m in \u001b[0;36m_open\u001b[1;34m(self, req, data)\u001b[0m\n\u001b[0;32m    542\u001b[0m         \u001b[0mprotocol\u001b[0m \u001b[1;33m=\u001b[0m \u001b[0mreq\u001b[0m\u001b[1;33m.\u001b[0m\u001b[0mtype\u001b[0m\u001b[1;33m\u001b[0m\u001b[0m\n\u001b[0;32m    543\u001b[0m         result = self._call_chain(self.handle_open, protocol, protocol +\n\u001b[1;32m--> 544\u001b[1;33m                                   '_open', req)\n\u001b[0m\u001b[0;32m    545\u001b[0m         \u001b[1;32mif\u001b[0m \u001b[0mresult\u001b[0m\u001b[1;33m:\u001b[0m\u001b[1;33m\u001b[0m\u001b[0m\n\u001b[0;32m    546\u001b[0m             \u001b[1;32mreturn\u001b[0m \u001b[0mresult\u001b[0m\u001b[1;33m\u001b[0m\u001b[0m\n",
      "\u001b[1;32mD:\\Anaconda\\lib\\urllib\\request.py\u001b[0m in \u001b[0;36m_call_chain\u001b[1;34m(self, chain, kind, meth_name, *args)\u001b[0m\n\u001b[0;32m    502\u001b[0m         \u001b[1;32mfor\u001b[0m \u001b[0mhandler\u001b[0m \u001b[1;32min\u001b[0m \u001b[0mhandlers\u001b[0m\u001b[1;33m:\u001b[0m\u001b[1;33m\u001b[0m\u001b[0m\n\u001b[0;32m    503\u001b[0m             \u001b[0mfunc\u001b[0m \u001b[1;33m=\u001b[0m \u001b[0mgetattr\u001b[0m\u001b[1;33m(\u001b[0m\u001b[0mhandler\u001b[0m\u001b[1;33m,\u001b[0m \u001b[0mmeth_name\u001b[0m\u001b[1;33m)\u001b[0m\u001b[1;33m\u001b[0m\u001b[0m\n\u001b[1;32m--> 504\u001b[1;33m             \u001b[0mresult\u001b[0m \u001b[1;33m=\u001b[0m \u001b[0mfunc\u001b[0m\u001b[1;33m(\u001b[0m\u001b[1;33m*\u001b[0m\u001b[0margs\u001b[0m\u001b[1;33m)\u001b[0m\u001b[1;33m\u001b[0m\u001b[0m\n\u001b[0m\u001b[0;32m    505\u001b[0m             \u001b[1;32mif\u001b[0m \u001b[0mresult\u001b[0m \u001b[1;32mis\u001b[0m \u001b[1;32mnot\u001b[0m \u001b[1;32mNone\u001b[0m\u001b[1;33m:\u001b[0m\u001b[1;33m\u001b[0m\u001b[0m\n\u001b[0;32m    506\u001b[0m                 \u001b[1;32mreturn\u001b[0m \u001b[0mresult\u001b[0m\u001b[1;33m\u001b[0m\u001b[0m\n",
      "\u001b[1;32mD:\\Anaconda\\lib\\urllib\\request.py\u001b[0m in \u001b[0;36mhttp_open\u001b[1;34m(self, req)\u001b[0m\n\u001b[0;32m   1344\u001b[0m \u001b[1;33m\u001b[0m\u001b[0m\n\u001b[0;32m   1345\u001b[0m     \u001b[1;32mdef\u001b[0m \u001b[0mhttp_open\u001b[0m\u001b[1;33m(\u001b[0m\u001b[0mself\u001b[0m\u001b[1;33m,\u001b[0m \u001b[0mreq\u001b[0m\u001b[1;33m)\u001b[0m\u001b[1;33m:\u001b[0m\u001b[1;33m\u001b[0m\u001b[0m\n\u001b[1;32m-> 1346\u001b[1;33m         \u001b[1;32mreturn\u001b[0m \u001b[0mself\u001b[0m\u001b[1;33m.\u001b[0m\u001b[0mdo_open\u001b[0m\u001b[1;33m(\u001b[0m\u001b[0mhttp\u001b[0m\u001b[1;33m.\u001b[0m\u001b[0mclient\u001b[0m\u001b[1;33m.\u001b[0m\u001b[0mHTTPConnection\u001b[0m\u001b[1;33m,\u001b[0m \u001b[0mreq\u001b[0m\u001b[1;33m)\u001b[0m\u001b[1;33m\u001b[0m\u001b[0m\n\u001b[0m\u001b[0;32m   1347\u001b[0m \u001b[1;33m\u001b[0m\u001b[0m\n\u001b[0;32m   1348\u001b[0m     \u001b[0mhttp_request\u001b[0m \u001b[1;33m=\u001b[0m \u001b[0mAbstractHTTPHandler\u001b[0m\u001b[1;33m.\u001b[0m\u001b[0mdo_request_\u001b[0m\u001b[1;33m\u001b[0m\u001b[0m\n",
      "\u001b[1;32mD:\\Anaconda\\lib\\urllib\\request.py\u001b[0m in \u001b[0;36mdo_open\u001b[1;34m(self, http_class, req, **http_conn_args)\u001b[0m\n\u001b[0;32m   1318\u001b[0m                           encode_chunked=req.has_header('Transfer-encoding'))\n\u001b[0;32m   1319\u001b[0m             \u001b[1;32mexcept\u001b[0m \u001b[0mOSError\u001b[0m \u001b[1;32mas\u001b[0m \u001b[0merr\u001b[0m\u001b[1;33m:\u001b[0m \u001b[1;31m# timeout error\u001b[0m\u001b[1;33m\u001b[0m\u001b[0m\n\u001b[1;32m-> 1320\u001b[1;33m                 \u001b[1;32mraise\u001b[0m \u001b[0mURLError\u001b[0m\u001b[1;33m(\u001b[0m\u001b[0merr\u001b[0m\u001b[1;33m)\u001b[0m\u001b[1;33m\u001b[0m\u001b[0m\n\u001b[0m\u001b[0;32m   1321\u001b[0m             \u001b[0mr\u001b[0m \u001b[1;33m=\u001b[0m \u001b[0mh\u001b[0m\u001b[1;33m.\u001b[0m\u001b[0mgetresponse\u001b[0m\u001b[1;33m(\u001b[0m\u001b[1;33m)\u001b[0m\u001b[1;33m\u001b[0m\u001b[0m\n\u001b[0;32m   1322\u001b[0m         \u001b[1;32mexcept\u001b[0m\u001b[1;33m:\u001b[0m\u001b[1;33m\u001b[0m\u001b[0m\n",
      "\u001b[1;31mURLError\u001b[0m: <urlopen error [WinError 10060] 由于连接方在一段时间后没有正确答复或连接的主机没有反应，连接尝试失败。>"
     ]
    }
   ],
   "source": [
    "import urllib\n",
    "proxy_handler = urllib.request.ProxyHandler({'http': 'http://www.example.com:3128/'})\n",
    "proxy_auth_handler = urllib.request.ProxyBasicAuthHandler()\n",
    "proxy_auth_handler.add_password('realm', 'host', 'username', 'password')\n",
    "opener = urllib.request.build_opener(proxy_handler, proxy_auth_handler)\n",
    "with opener.open('http://www.example.com/login/html') as f:\n",
    "    pass"
   ]
  },
  {
   "cell_type": "markdown",
   "metadata": {},
   "source": [
    "# practice"
   ]
  },
  {
   "cell_type": "code",
   "execution_count": 5,
   "metadata": {
    "collapsed": true
   },
   "outputs": [],
   "source": [
    "from urllib import request\n",
    "\n",
    "import json\n",
    "def fetch_data(url):\n",
    "    with request.urlopen(url) as f:\n",
    "        data = f.read()\n",
    "        data_str = data.decode('utf-8')\n",
    "        return json.loads(data_str)"
   ]
  },
  {
   "cell_type": "code",
   "execution_count": 6,
   "metadata": {},
   "outputs": [
    {
     "name": "stdout",
     "output_type": "stream",
     "text": [
      "{'date': '20191015', 'stories': [{'image_hue': '0xaa9728', 'title': '神奇宝贝是咋交流的？', 'url': 'https://daily.zhihu.com/story/9716097', 'hint': '疯癫的A兵者 · 5 分钟阅读', 'ga_prefix': '101518', 'images': ['https://pic4.zhimg.com/v2-c5c429f6a204bbeb26b8a2f4034a07ab.jpg'], 'type': 0, 'id': 9716097}, {'image_hue': '0x63625e', 'title': '数学究竟是真实存在的，还是人类精神的产物？', 'url': 'https://daily.zhihu.com/story/9716094', 'hint': '光明日报 · 8 分钟阅读', 'ga_prefix': '101516', 'images': ['https://pic1.zhimg.com/v2-da7317f2fe8f257281147fd8d597e230.jpg'], 'type': 0, 'id': 9716094}, {'image_hue': '0x424442', 'title': '漫威电影不算是「电影」？', 'url': 'https://daily.zhihu.com/story/9716090', 'hint': '2001室的库布里克 · 4 分钟阅读', 'ga_prefix': '101515', 'images': ['https://pic1.zhimg.com/v2-535c26258df105bb24bdea5fe723c140.jpg'], 'type': 0, 'id': 9716090}, {'image_hue': '0x55606e', 'title': '自动泊车系统现在发展到什么程度了？', 'url': 'https://daily.zhihu.com/story/9716101', 'hint': '懂车帝App · 7 分钟阅读', 'ga_prefix': '101509', 'images': ['https://pic2.zhimg.com/v2-d7ca6707a247fe72653e70c936885855.jpg'], 'type': 0, 'id': 9716101}, {'image_hue': '0x8f8f8f', 'title': '原 f(x) 成员崔雪莉确认身亡，事情的真相如何？', 'url': 'https://daily.zhihu.com/story/9716169', 'hint': 'Pucifan · 1 分钟阅读', 'ga_prefix': '101507', 'images': ['https://pic2.zhimg.com/v2-2c30aa62201465e008cd288293736ab5.jpg'], 'type': 0, 'id': 9716169}, {'image_hue': '0xb4a179', 'title': '瞎扯 · 如何正确地吐槽', 'url': 'https://daily.zhihu.com/story/9716160', 'hint': 'VOL.2239', 'ga_prefix': '101506', 'images': ['https://pic2.zhimg.com/v2-c9e9d13003b3b77110f3fc230c452cc1.jpg'], 'type': 0, 'id': 9716160}], 'top_stories': [{'image_hue': '0x636b62', 'hint': '作者 / 黄彦思Raymond', 'url': 'https://daily.zhihu.com/story/9716048', 'image': 'https://pic4.zhimg.com/v2-e4625163a1bd98cf50c77406cef6be53.jpg', 'title': '无锡小吃店燃气爆炸致 9 人死亡，为什么伤亡如此惨重？', 'ga_prefix': '101407', 'type': 0, 'id': 9716048}, {'image_hue': '0x675948', 'hint': '作者 / 飒姐', 'url': 'https://daily.zhihu.com/story/9715893', 'image': 'https://pic1.zhimg.com/v2-73eba9226854eb384bac0b39f417d978.jpg', 'title': '无痛分娩到底管用么？', 'ga_prefix': '101016', 'type': 0, 'id': 9715893}, {'image_hue': '0xf7db1c', 'hint': '作者 / 张抗抗', 'url': 'https://daily.zhihu.com/story/9715912', 'image': 'https://pic3.zhimg.com/v2-4bd771a11c83b38bc015da823c7a8ce6.jpg', 'title': '2019 年诺贝尔化学奖授予锂电池，这项技术如何改变了我们的生活？', 'ga_prefix': '101009', 'type': 0, 'id': 9715912}, {'image_hue': '0x662530', 'hint': '作者 / 知识分子', 'url': 'https://daily.zhihu.com/story/9715796', 'image': 'https://pic2.zhimg.com/v2-650616a8303ffc11e4668a08625a9581.jpg', 'title': '如何通俗地理解 2019 年诺贝尔生理学或医学奖？', 'ga_prefix': '100807', 'type': 0, 'id': 9715796}, {'image_hue': '0x8b9391', 'hint': '作者 / 知乎日报', 'url': 'https://daily.zhihu.com/story/9715527', 'image': 'https://pic4.zhimg.com/v2-eeac7fe3e3c28eae5517eea4cc7f56bf.jpg', 'title': '谁，还没有点光荣历史呢？', 'ga_prefix': '092709', 'type': 0, 'id': 9715527}]}\n",
      "ok\n"
     ]
    }
   ],
   "source": [
    "# 测试\n",
    "URL = 'http://news-at.zhihu.com/api/4/news/latest'\n",
    "data = fetch_data(URL)\n",
    "print(data)\n",
    "print('ok')"
   ]
  },
  {
   "cell_type": "code",
   "execution_count": null,
   "metadata": {
    "collapsed": true
   },
   "outputs": [],
   "source": []
  }
 ],
 "metadata": {
  "kernelspec": {
   "display_name": "Python 3",
   "language": "python",
   "name": "python3"
  },
  "language_info": {
   "codemirror_mode": {
    "name": "ipython",
    "version": 3
   },
   "file_extension": ".py",
   "mimetype": "text/x-python",
   "name": "python",
   "nbconvert_exporter": "python",
   "pygments_lexer": "ipython3",
   "version": "3.6.3"
  }
 },
 "nbformat": 4,
 "nbformat_minor": 2
}
