{
 "cells": [
  {
   "cell_type": "code",
   "execution_count": 1,
   "metadata": {
    "collapsed": true
   },
   "outputs": [],
   "source": [
    "# import asyncio\n",
    "\n",
    "# @asyncio.coroutine\n",
    "# def hello():\n",
    "#     print(\"Hello world!\")\n",
    "#     # 异步调用asyncio.sleep(1):\n",
    "#     r = yield from asyncio.sleep(1)\n",
    "#     print(\"Hello again!\")\n",
    "\n",
    "# # 获取Evenloop\n",
    "# loop = asyncio.get_event_loop()\n",
    "# # 执行corouting\n",
    "# loop.run_until_complete(hello())\n",
    "# loop.close()"
   ]
  },
  {
   "cell_type": "code",
   "execution_count": 2,
   "metadata": {
    "collapsed": true
   },
   "outputs": [],
   "source": [
    "# import threading\n",
    "# import asyncio\n",
    "\n",
    "# @asyncio.coroutine\n",
    "# def hello():\n",
    "#     print('Hello world! (%s)' % threading.currentThread())\n",
    "#     yield from asyncio.sleep(1)\n",
    "#     print('Hello again! (%s)' % threading.currentThread())\n",
    "\n",
    "# loop = asyncio.get_event_loop()\n",
    "# tasks = [hello(), hello()]\n",
    "# loop.run_until_complete(asyncio.wait(tasks))\n",
    "# loop.close()"
   ]
  },
  {
   "cell_type": "code",
   "execution_count": 3,
   "metadata": {},
   "outputs": [
    {
     "name": "stdout",
     "output_type": "stream",
     "text": [
      "wget www.sohu.com...\n",
      "wget www.163.com...\n",
      "wget www.sina.com.cn...\n",
      "www.sohu.com header > HTTP/1.1 200 OK\n",
      "www.sohu.com header > Content-Type: text/html;charset=UTF-8\n",
      "www.sohu.com header > Connection: close\n",
      "www.sohu.com header > Server: nginx\n",
      "www.sohu.com header > Date: Mon, 21 Oct 2019 13:14:51 GMT\n",
      "www.sohu.com header > Access-Control-Allow-Credentials: true\n",
      "www.sohu.com header > Vary: Origin,Access-Control-Request-Method,Access-Control-Request-Headers\n",
      "www.sohu.com header > Access-Control-Allow-Headers: Origin,Content-Type,authorization,Accept,token,X-Requested-With\n",
      "www.sohu.com header > Content-Encoding: gzip\n",
      "www.sohu.com header > Access-Control-Allow-Methods: POST,GET,OPTIONS,DELETE\n",
      "www.sohu.com header > Content-Language: en-US\n",
      "www.sohu.com header > Access-Control-Expose-Headers: Origin,Access-Control-Request-Method,Access-Control-Request-Headers,X-forwared-port,X-forwarded-host\n",
      "www.sohu.com header > Cache-Control: max-age=60\n",
      "www.sohu.com header > X-From-Sohu: X-SRC-Source\n",
      "www.sohu.com header > FSS-Cache: HIT from 4336953.6237507.6111062\n",
      "www.sohu.com header > FSS-Proxy: Powered by 3288361.4140339.5062454\n",
      "www.sina.com.cn header > HTTP/1.1 302 Moved Temporarily\n",
      "www.sina.com.cn header > Server: nginx\n",
      "www.sina.com.cn header > Date: Mon, 21 Oct 2019 13:15:31 GMT\n",
      "www.sina.com.cn header > Content-Type: text/html\n",
      "www.sina.com.cn header > Content-Length: 154\n",
      "www.sina.com.cn header > Connection: close\n",
      "www.sina.com.cn header > Location: https://www.sina.com.cn/\n",
      "www.sina.com.cn header > X-Via-CDN: f=edge,s=ctc.wuhan.ha2ts4.39.nb.sinaedge.com,c=117.152.80.91;\n",
      "www.sina.com.cn header > X-Via-Edge: 15716637316255b50987581e3313a3b59e09b\n",
      "www.163.com header > HTTP/1.1 200 OK\n",
      "www.163.com header > Date: Mon, 21 Oct 2019 13:15:31 GMT\n",
      "www.163.com header > Content-Type: text/html; charset=GBK\n",
      "www.163.com header > Connection: close\n",
      "www.163.com header > Expires: Mon, 21 Oct 2019 13:16:47 GMT\n",
      "www.163.com header > Server: nginx\n",
      "www.163.com header > Cache-Control: no-cache,no-store,private\n",
      "www.163.com header > Age: 4\n",
      "www.163.com header > Vary: Accept-Encoding\n",
      "www.163.com header > X-Ser: BC51_dx-lt-yd-shandong-jinan-5-cache-6, BC18_dx-lt-yd-shandong-jinan-5-cache-6, BC19_yd-hubei-wuhan-5-cache-2\n",
      "www.163.com header > cdn-user-ip: 117.152.80.91\n",
      "www.163.com header > cdn-ip: 111.48.98.23\n",
      "www.163.com header > X-Cache-Remote: HIT\n",
      "www.163.com header > cdn-source: baishan\n"
     ]
    }
   ],
   "source": [
    "import asyncio\n",
    "\n",
    "@asyncio.coroutine\n",
    "def wget(host):\n",
    "    print('wget %s...' % host)\n",
    "    connect = asyncio.open_connection(host, 80)\n",
    "    reader, writer = yield from connect\n",
    "    header = 'GET / HTTP/1.0\\r\\nHost: %s\\r\\n\\r\\n' % host\n",
    "    writer.write(header.encode('utf-8'))\n",
    "    yield from writer.drain()\n",
    "    while True:\n",
    "        line = yield from reader.readline()\n",
    "        if line == b'\\r\\n':\n",
    "            break\n",
    "        print('%s header > %s' % (host, line.decode('utf-8').rstrip()))\n",
    "    # Ignore the body, close the socket\n",
    "    writer.close()\n",
    "\n",
    "loop = asyncio.get_event_loop()\n",
    "tasks = [wget(host) for host in ['www.sina.com.cn', 'www.sohu.com', 'www.163.com']]\n",
    "loop.run_until_complete(asyncio.wait(tasks))\n",
    "loop.close()"
   ]
  },
  {
   "cell_type": "code",
   "execution_count": null,
   "metadata": {
    "collapsed": true
   },
   "outputs": [],
   "source": []
  }
 ],
 "metadata": {
  "kernelspec": {
   "display_name": "Python 3",
   "language": "python",
   "name": "python3"
  },
  "language_info": {
   "codemirror_mode": {
    "name": "ipython",
    "version": 3
   },
   "file_extension": ".py",
   "mimetype": "text/x-python",
   "name": "python",
   "nbconvert_exporter": "python",
   "pygments_lexer": "ipython3",
   "version": "3.6.3"
  }
 },
 "nbformat": 4,
 "nbformat_minor": 2
}
