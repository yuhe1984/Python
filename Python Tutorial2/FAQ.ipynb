{
 "cells": [
  {
   "cell_type": "markdown",
   "metadata": {},
   "source": [
    "# 如何获取当前路径"
   ]
  },
  {
   "cell_type": "code",
   "execution_count": 1,
   "metadata": {},
   "outputs": [
    {
     "name": "stdout",
     "output_type": "stream",
     "text": [
      "D:\\Jupyter\\Python\\Python Tutorial2\n"
     ]
    }
   ],
   "source": [
    "import os\n",
    "\n",
    "print(os.path.abspath('.'))"
   ]
  },
  {
   "cell_type": "markdown",
   "metadata": {},
   "source": [
    "# 如何让获取命令行参数"
   ]
  },
  {
   "cell_type": "code",
   "execution_count": 2,
   "metadata": {},
   "outputs": [
    {
     "name": "stdout",
     "output_type": "stream",
     "text": [
      "['D:\\\\Anaconda\\\\lib\\\\site-packages\\\\ipykernel_launcher.py', '-f', 'C:\\\\Users\\\\Administrator\\\\AppData\\\\Roaming\\\\jupyter\\\\runtime\\\\kernel-19427bec-4391-4cc6-89b4-21b3ef73b9c5.json']\n"
     ]
    }
   ],
   "source": [
    "import sys\n",
    "\n",
    "print(sys.argv)"
   ]
  },
  {
   "cell_type": "code",
   "execution_count": 3,
   "metadata": {},
   "outputs": [
    {
     "name": "stdout",
     "output_type": "stream",
     "text": [
      "['-f', 'C:\\\\Users\\\\Administrator\\\\AppData\\\\Roaming\\\\jupyter\\\\runtime\\\\kernel-19427bec-4391-4cc6-89b4-21b3ef73b9c5.json']\n"
     ]
    }
   ],
   "source": [
    "print(sys.argv[1:])"
   ]
  },
  {
   "cell_type": "markdown",
   "metadata": {},
   "source": [
    "# 如何获取当前Python命令的可执行文件路径"
   ]
  },
  {
   "cell_type": "code",
   "execution_count": 4,
   "metadata": {},
   "outputs": [
    {
     "name": "stdout",
     "output_type": "stream",
     "text": [
      "D:\\Anaconda\\python.exe\n"
     ]
    }
   ],
   "source": [
    "import sys\n",
    "\n",
    "print(sys.executable)"
   ]
  },
  {
   "cell_type": "markdown",
   "metadata": {},
   "source": [
    "# 操作系统接口"
   ]
  },
  {
   "cell_type": "code",
   "execution_count": 5,
   "metadata": {
    "collapsed": true
   },
   "outputs": [],
   "source": [
    "import os"
   ]
  },
  {
   "cell_type": "code",
   "execution_count": 6,
   "metadata": {},
   "outputs": [
    {
     "data": {
      "text/plain": [
       "'D:\\\\Jupyter\\\\Python\\\\Python Tutorial2'"
      ]
     },
     "execution_count": 6,
     "metadata": {},
     "output_type": "execute_result"
    }
   ],
   "source": [
    "os.getcwd()  # 返回当前的工作目录"
   ]
  },
  {
   "cell_type": "code",
   "execution_count": 7,
   "metadata": {},
   "outputs": [
    {
     "data": {
      "text/plain": [
       "['DirEntry',\n",
       " 'F_OK',\n",
       " 'MutableMapping',\n",
       " 'O_APPEND',\n",
       " 'O_BINARY',\n",
       " 'O_CREAT',\n",
       " 'O_EXCL',\n",
       " 'O_NOINHERIT',\n",
       " 'O_RANDOM',\n",
       " 'O_RDONLY',\n",
       " 'O_RDWR',\n",
       " 'O_SEQUENTIAL',\n",
       " 'O_SHORT_LIVED',\n",
       " 'O_TEMPORARY',\n",
       " 'O_TEXT',\n",
       " 'O_TRUNC',\n",
       " 'O_WRONLY',\n",
       " 'P_DETACH',\n",
       " 'P_NOWAIT',\n",
       " 'P_NOWAITO',\n",
       " 'P_OVERLAY',\n",
       " 'P_WAIT',\n",
       " 'PathLike',\n",
       " 'R_OK',\n",
       " 'SEEK_CUR',\n",
       " 'SEEK_END',\n",
       " 'SEEK_SET',\n",
       " 'TMP_MAX',\n",
       " 'W_OK',\n",
       " 'X_OK',\n",
       " '_Environ',\n",
       " '__all__',\n",
       " '__builtins__',\n",
       " '__cached__',\n",
       " '__doc__',\n",
       " '__file__',\n",
       " '__loader__',\n",
       " '__name__',\n",
       " '__package__',\n",
       " '__spec__',\n",
       " '_execvpe',\n",
       " '_exists',\n",
       " '_exit',\n",
       " '_fspath',\n",
       " '_get_exports_list',\n",
       " '_putenv',\n",
       " '_unsetenv',\n",
       " '_wrap_close',\n",
       " 'abc',\n",
       " 'abort',\n",
       " 'access',\n",
       " 'altsep',\n",
       " 'chdir',\n",
       " 'chmod',\n",
       " 'close',\n",
       " 'closerange',\n",
       " 'cpu_count',\n",
       " 'curdir',\n",
       " 'defpath',\n",
       " 'device_encoding',\n",
       " 'devnull',\n",
       " 'dup',\n",
       " 'dup2',\n",
       " 'environ',\n",
       " 'errno',\n",
       " 'error',\n",
       " 'execl',\n",
       " 'execle',\n",
       " 'execlp',\n",
       " 'execlpe',\n",
       " 'execv',\n",
       " 'execve',\n",
       " 'execvp',\n",
       " 'execvpe',\n",
       " 'extsep',\n",
       " 'fdopen',\n",
       " 'fsdecode',\n",
       " 'fsencode',\n",
       " 'fspath',\n",
       " 'fstat',\n",
       " 'fsync',\n",
       " 'ftruncate',\n",
       " 'get_exec_path',\n",
       " 'get_handle_inheritable',\n",
       " 'get_inheritable',\n",
       " 'get_terminal_size',\n",
       " 'getcwd',\n",
       " 'getcwdb',\n",
       " 'getenv',\n",
       " 'getlogin',\n",
       " 'getpid',\n",
       " 'getppid',\n",
       " 'isatty',\n",
       " 'kill',\n",
       " 'linesep',\n",
       " 'link',\n",
       " 'listdir',\n",
       " 'lseek',\n",
       " 'lstat',\n",
       " 'makedirs',\n",
       " 'mkdir',\n",
       " 'name',\n",
       " 'open',\n",
       " 'pardir',\n",
       " 'path',\n",
       " 'pathsep',\n",
       " 'pipe',\n",
       " 'popen',\n",
       " 'putenv',\n",
       " 'read',\n",
       " 'readlink',\n",
       " 'remove',\n",
       " 'removedirs',\n",
       " 'rename',\n",
       " 'renames',\n",
       " 'replace',\n",
       " 'rmdir',\n",
       " 'scandir',\n",
       " 'sep',\n",
       " 'set_handle_inheritable',\n",
       " 'set_inheritable',\n",
       " 'spawnl',\n",
       " 'spawnle',\n",
       " 'spawnv',\n",
       " 'spawnve',\n",
       " 'st',\n",
       " 'startfile',\n",
       " 'stat',\n",
       " 'stat_float_times',\n",
       " 'stat_result',\n",
       " 'statvfs_result',\n",
       " 'strerror',\n",
       " 'supports_bytes_environ',\n",
       " 'supports_dir_fd',\n",
       " 'supports_effective_ids',\n",
       " 'supports_fd',\n",
       " 'supports_follow_symlinks',\n",
       " 'symlink',\n",
       " 'sys',\n",
       " 'system',\n",
       " 'terminal_size',\n",
       " 'times',\n",
       " 'times_result',\n",
       " 'truncate',\n",
       " 'umask',\n",
       " 'uname_result',\n",
       " 'unlink',\n",
       " 'urandom',\n",
       " 'utime',\n",
       " 'waitpid',\n",
       " 'walk',\n",
       " 'write']"
      ]
     },
     "execution_count": 7,
     "metadata": {},
     "output_type": "execute_result"
    }
   ],
   "source": [
    "dir(os)"
   ]
  },
  {
   "cell_type": "code",
   "execution_count": 8,
   "metadata": {},
   "outputs": [
    {
     "name": "stdout",
     "output_type": "stream",
     "text": [
      "Help on module os:\n",
      "\n",
      "NAME\n",
      "    os - OS routines for NT or Posix depending on what system we're on.\n",
      "\n",
      "DESCRIPTION\n",
      "    This exports:\n",
      "      - all functions from posix or nt, e.g. unlink, stat, etc.\n",
      "      - os.path is either posixpath or ntpath\n",
      "      - os.name is either 'posix' or 'nt'\n",
      "      - os.curdir is a string representing the current directory (always '.')\n",
      "      - os.pardir is a string representing the parent directory (always '..')\n",
      "      - os.sep is the (or a most common) pathname separator ('/' or '\\\\')\n",
      "      - os.extsep is the extension separator (always '.')\n",
      "      - os.altsep is the alternate pathname separator (None or '/')\n",
      "      - os.pathsep is the component separator used in $PATH etc\n",
      "      - os.linesep is the line separator in text files ('\\r' or '\\n' or '\\r\\n')\n",
      "      - os.defpath is the default search path for executables\n",
      "      - os.devnull is the file path of the null device ('/dev/null', etc.)\n",
      "    \n",
      "    Programs that import and use 'os' stand a better chance of being\n",
      "    portable between different platforms.  Of course, they must then\n",
      "    only use functions that are defined by all platforms (e.g., unlink\n",
      "    and opendir), and leave all pathname manipulation to os.path\n",
      "    (e.g., split and join).\n",
      "\n",
      "CLASSES\n",
      "    builtins.Exception(builtins.BaseException)\n",
      "        builtins.OSError\n",
      "    builtins.object\n",
      "        nt.DirEntry\n",
      "    builtins.tuple(builtins.object)\n",
      "        nt.times_result\n",
      "        nt.uname_result\n",
      "        stat_result\n",
      "        statvfs_result\n",
      "        terminal_size\n",
      "    \n",
      "    class DirEntry(builtins.object)\n",
      "     |  Methods defined here:\n",
      "     |  \n",
      "     |  __fspath__(...)\n",
      "     |      returns the path for the entry\n",
      "     |  \n",
      "     |  __repr__(self, /)\n",
      "     |      Return repr(self).\n",
      "     |  \n",
      "     |  inode(...)\n",
      "     |      return inode of the entry; cached per entry\n",
      "     |  \n",
      "     |  is_dir(...)\n",
      "     |      return True if the entry is a directory; cached per entry\n",
      "     |  \n",
      "     |  is_file(...)\n",
      "     |      return True if the entry is a file; cached per entry\n",
      "     |  \n",
      "     |  is_symlink(...)\n",
      "     |      return True if the entry is a symbolic link; cached per entry\n",
      "     |  \n",
      "     |  stat(...)\n",
      "     |      return stat_result object for the entry; cached per entry\n",
      "     |  \n",
      "     |  ----------------------------------------------------------------------\n",
      "     |  Data descriptors defined here:\n",
      "     |  \n",
      "     |  name\n",
      "     |      the entry's base filename, relative to scandir() \"path\" argument\n",
      "     |  \n",
      "     |  path\n",
      "     |      the entry's full path name; equivalent to os.path.join(scandir_path, entry.name)\n",
      "    \n",
      "    error = class OSError(Exception)\n",
      "     |  Base class for I/O related errors.\n",
      "     |  \n",
      "     |  Method resolution order:\n",
      "     |      OSError\n",
      "     |      Exception\n",
      "     |      BaseException\n",
      "     |      object\n",
      "     |  \n",
      "     |  Methods defined here:\n",
      "     |  \n",
      "     |  __init__(self, /, *args, **kwargs)\n",
      "     |      Initialize self.  See help(type(self)) for accurate signature.\n",
      "     |  \n",
      "     |  __new__(*args, **kwargs) from builtins.type\n",
      "     |      Create and return a new object.  See help(type) for accurate signature.\n",
      "     |  \n",
      "     |  __reduce__(...)\n",
      "     |      helper for pickle\n",
      "     |  \n",
      "     |  __str__(self, /)\n",
      "     |      Return str(self).\n",
      "     |  \n",
      "     |  ----------------------------------------------------------------------\n",
      "     |  Data descriptors defined here:\n",
      "     |  \n",
      "     |  characters_written\n",
      "     |  \n",
      "     |  errno\n",
      "     |      POSIX exception code\n",
      "     |  \n",
      "     |  filename\n",
      "     |      exception filename\n",
      "     |  \n",
      "     |  filename2\n",
      "     |      second exception filename\n",
      "     |  \n",
      "     |  strerror\n",
      "     |      exception strerror\n",
      "     |  \n",
      "     |  winerror\n",
      "     |      Win32 exception code\n",
      "     |  \n",
      "     |  ----------------------------------------------------------------------\n",
      "     |  Methods inherited from BaseException:\n",
      "     |  \n",
      "     |  __delattr__(self, name, /)\n",
      "     |      Implement delattr(self, name).\n",
      "     |  \n",
      "     |  __getattribute__(self, name, /)\n",
      "     |      Return getattr(self, name).\n",
      "     |  \n",
      "     |  __repr__(self, /)\n",
      "     |      Return repr(self).\n",
      "     |  \n",
      "     |  __setattr__(self, name, value, /)\n",
      "     |      Implement setattr(self, name, value).\n",
      "     |  \n",
      "     |  __setstate__(...)\n",
      "     |  \n",
      "     |  with_traceback(...)\n",
      "     |      Exception.with_traceback(tb) --\n",
      "     |      set self.__traceback__ to tb and return self.\n",
      "     |  \n",
      "     |  ----------------------------------------------------------------------\n",
      "     |  Data descriptors inherited from BaseException:\n",
      "     |  \n",
      "     |  __cause__\n",
      "     |      exception cause\n",
      "     |  \n",
      "     |  __context__\n",
      "     |      exception context\n",
      "     |  \n",
      "     |  __dict__\n",
      "     |  \n",
      "     |  __suppress_context__\n",
      "     |  \n",
      "     |  __traceback__\n",
      "     |  \n",
      "     |  args\n",
      "    \n",
      "    class stat_result(builtins.tuple)\n",
      "     |  stat_result: Result from stat, fstat, or lstat.\n",
      "     |  \n",
      "     |  This object may be accessed either as a tuple of\n",
      "     |    (mode, ino, dev, nlink, uid, gid, size, atime, mtime, ctime)\n",
      "     |  or via the attributes st_mode, st_ino, st_dev, st_nlink, st_uid, and so on.\n",
      "     |  \n",
      "     |  Posix/windows: If your platform supports st_blksize, st_blocks, st_rdev,\n",
      "     |  or st_flags, they are available as attributes only.\n",
      "     |  \n",
      "     |  See os.stat for more information.\n",
      "     |  \n",
      "     |  Method resolution order:\n",
      "     |      stat_result\n",
      "     |      builtins.tuple\n",
      "     |      builtins.object\n",
      "     |  \n",
      "     |  Methods defined here:\n",
      "     |  \n",
      "     |  __new__(*args, **kwargs) from builtins.type\n",
      "     |      Create and return a new object.  See help(type) for accurate signature.\n",
      "     |  \n",
      "     |  __reduce__(...)\n",
      "     |      helper for pickle\n",
      "     |  \n",
      "     |  __repr__(self, /)\n",
      "     |      Return repr(self).\n",
      "     |  \n",
      "     |  ----------------------------------------------------------------------\n",
      "     |  Data descriptors defined here:\n",
      "     |  \n",
      "     |  st_atime\n",
      "     |      time of last access\n",
      "     |  \n",
      "     |  st_atime_ns\n",
      "     |      time of last access in nanoseconds\n",
      "     |  \n",
      "     |  st_ctime\n",
      "     |      time of last change\n",
      "     |  \n",
      "     |  st_ctime_ns\n",
      "     |      time of last change in nanoseconds\n",
      "     |  \n",
      "     |  st_dev\n",
      "     |      device\n",
      "     |  \n",
      "     |  st_file_attributes\n",
      "     |      Windows file attribute bits\n",
      "     |  \n",
      "     |  st_gid\n",
      "     |      group ID of owner\n",
      "     |  \n",
      "     |  st_ino\n",
      "     |      inode\n",
      "     |  \n",
      "     |  st_mode\n",
      "     |      protection bits\n",
      "     |  \n",
      "     |  st_mtime\n",
      "     |      time of last modification\n",
      "     |  \n",
      "     |  st_mtime_ns\n",
      "     |      time of last modification in nanoseconds\n",
      "     |  \n",
      "     |  st_nlink\n",
      "     |      number of hard links\n",
      "     |  \n",
      "     |  st_size\n",
      "     |      total size, in bytes\n",
      "     |  \n",
      "     |  st_uid\n",
      "     |      user ID of owner\n",
      "     |  \n",
      "     |  ----------------------------------------------------------------------\n",
      "     |  Data and other attributes defined here:\n",
      "     |  \n",
      "     |  n_fields = 17\n",
      "     |  \n",
      "     |  n_sequence_fields = 10\n",
      "     |  \n",
      "     |  n_unnamed_fields = 3\n",
      "     |  \n",
      "     |  ----------------------------------------------------------------------\n",
      "     |  Methods inherited from builtins.tuple:\n",
      "     |  \n",
      "     |  __add__(self, value, /)\n",
      "     |      Return self+value.\n",
      "     |  \n",
      "     |  __contains__(self, key, /)\n",
      "     |      Return key in self.\n",
      "     |  \n",
      "     |  __eq__(self, value, /)\n",
      "     |      Return self==value.\n",
      "     |  \n",
      "     |  __ge__(self, value, /)\n",
      "     |      Return self>=value.\n",
      "     |  \n",
      "     |  __getattribute__(self, name, /)\n",
      "     |      Return getattr(self, name).\n",
      "     |  \n",
      "     |  __getitem__(self, key, /)\n",
      "     |      Return self[key].\n",
      "     |  \n",
      "     |  __getnewargs__(...)\n",
      "     |  \n",
      "     |  __gt__(self, value, /)\n",
      "     |      Return self>value.\n",
      "     |  \n",
      "     |  __hash__(self, /)\n",
      "     |      Return hash(self).\n",
      "     |  \n",
      "     |  __iter__(self, /)\n",
      "     |      Implement iter(self).\n",
      "     |  \n",
      "     |  __le__(self, value, /)\n",
      "     |      Return self<=value.\n",
      "     |  \n",
      "     |  __len__(self, /)\n",
      "     |      Return len(self).\n",
      "     |  \n",
      "     |  __lt__(self, value, /)\n",
      "     |      Return self<value.\n",
      "     |  \n",
      "     |  __mul__(self, value, /)\n",
      "     |      Return self*value.n\n",
      "     |  \n",
      "     |  __ne__(self, value, /)\n",
      "     |      Return self!=value.\n",
      "     |  \n",
      "     |  __rmul__(self, value, /)\n",
      "     |      Return self*value.\n",
      "     |  \n",
      "     |  count(...)\n",
      "     |      T.count(value) -> integer -- return number of occurrences of value\n",
      "     |  \n",
      "     |  index(...)\n",
      "     |      T.index(value, [start, [stop]]) -> integer -- return first index of value.\n",
      "     |      Raises ValueError if the value is not present.\n",
      "    \n",
      "    class statvfs_result(builtins.tuple)\n",
      "     |  statvfs_result: Result from statvfs or fstatvfs.\n",
      "     |  \n",
      "     |  This object may be accessed either as a tuple of\n",
      "     |    (bsize, frsize, blocks, bfree, bavail, files, ffree, favail, flag, namemax),\n",
      "     |  or via the attributes f_bsize, f_frsize, f_blocks, f_bfree, and so on.\n",
      "     |  \n",
      "     |  See os.statvfs for more information.\n",
      "     |  \n",
      "     |  Method resolution order:\n",
      "     |      statvfs_result\n",
      "     |      builtins.tuple\n",
      "     |      builtins.object\n",
      "     |  \n",
      "     |  Methods defined here:\n",
      "     |  \n",
      "     |  __new__(*args, **kwargs) from builtins.type\n",
      "     |      Create and return a new object.  See help(type) for accurate signature.\n",
      "     |  \n",
      "     |  __reduce__(...)\n",
      "     |      helper for pickle\n",
      "     |  \n",
      "     |  __repr__(self, /)\n",
      "     |      Return repr(self).\n",
      "     |  \n",
      "     |  ----------------------------------------------------------------------\n",
      "     |  Data descriptors defined here:\n",
      "     |  \n",
      "     |  f_bavail\n",
      "     |  \n",
      "     |  f_bfree\n",
      "     |  \n",
      "     |  f_blocks\n",
      "     |  \n",
      "     |  f_bsize\n",
      "     |  \n",
      "     |  f_favail\n",
      "     |  \n",
      "     |  f_ffree\n",
      "     |  \n",
      "     |  f_files\n",
      "     |  \n",
      "     |  f_flag\n",
      "     |  \n",
      "     |  f_frsize\n",
      "     |  \n",
      "     |  f_namemax\n",
      "     |  \n",
      "     |  ----------------------------------------------------------------------\n",
      "     |  Data and other attributes defined here:\n",
      "     |  \n",
      "     |  n_fields = 10\n",
      "     |  \n",
      "     |  n_sequence_fields = 10\n",
      "     |  \n",
      "     |  n_unnamed_fields = 0\n",
      "     |  \n",
      "     |  ----------------------------------------------------------------------\n",
      "     |  Methods inherited from builtins.tuple:\n",
      "     |  \n",
      "     |  __add__(self, value, /)\n",
      "     |      Return self+value.\n",
      "     |  \n",
      "     |  __contains__(self, key, /)\n",
      "     |      Return key in self.\n",
      "     |  \n",
      "     |  __eq__(self, value, /)\n",
      "     |      Return self==value.\n",
      "     |  \n",
      "     |  __ge__(self, value, /)\n",
      "     |      Return self>=value.\n",
      "     |  \n",
      "     |  __getattribute__(self, name, /)\n",
      "     |      Return getattr(self, name).\n",
      "     |  \n",
      "     |  __getitem__(self, key, /)\n",
      "     |      Return self[key].\n",
      "     |  \n",
      "     |  __getnewargs__(...)\n",
      "     |  \n",
      "     |  __gt__(self, value, /)\n",
      "     |      Return self>value.\n",
      "     |  \n",
      "     |  __hash__(self, /)\n",
      "     |      Return hash(self).\n",
      "     |  \n",
      "     |  __iter__(self, /)\n",
      "     |      Implement iter(self).\n",
      "     |  \n",
      "     |  __le__(self, value, /)\n",
      "     |      Return self<=value.\n",
      "     |  \n",
      "     |  __len__(self, /)\n",
      "     |      Return len(self).\n",
      "     |  \n",
      "     |  __lt__(self, value, /)\n",
      "     |      Return self<value.\n",
      "     |  \n",
      "     |  __mul__(self, value, /)\n",
      "     |      Return self*value.n\n",
      "     |  \n",
      "     |  __ne__(self, value, /)\n",
      "     |      Return self!=value.\n",
      "     |  \n",
      "     |  __rmul__(self, value, /)\n",
      "     |      Return self*value.\n",
      "     |  \n",
      "     |  count(...)\n",
      "     |      T.count(value) -> integer -- return number of occurrences of value\n",
      "     |  \n",
      "     |  index(...)\n",
      "     |      T.index(value, [start, [stop]]) -> integer -- return first index of value.\n",
      "     |      Raises ValueError if the value is not present.\n",
      "    \n",
      "    class terminal_size(builtins.tuple)\n",
      "     |  A tuple of (columns, lines) for holding terminal window size\n",
      "     |  \n",
      "     |  Method resolution order:\n",
      "     |      terminal_size\n",
      "     |      builtins.tuple\n",
      "     |      builtins.object\n",
      "     |  \n",
      "     |  Methods defined here:\n",
      "     |  \n",
      "     |  __new__(*args, **kwargs) from builtins.type\n",
      "     |      Create and return a new object.  See help(type) for accurate signature.\n",
      "     |  \n",
      "     |  __reduce__(...)\n",
      "     |      helper for pickle\n",
      "     |  \n",
      "     |  __repr__(self, /)\n",
      "     |      Return repr(self).\n",
      "     |  \n",
      "     |  ----------------------------------------------------------------------\n",
      "     |  Data descriptors defined here:\n",
      "     |  \n",
      "     |  columns\n",
      "     |      width of the terminal window in characters\n",
      "     |  \n",
      "     |  lines\n",
      "     |      height of the terminal window in characters\n",
      "     |  \n",
      "     |  ----------------------------------------------------------------------\n",
      "     |  Data and other attributes defined here:\n",
      "     |  \n",
      "     |  n_fields = 2\n",
      "     |  \n",
      "     |  n_sequence_fields = 2\n",
      "     |  \n",
      "     |  n_unnamed_fields = 0\n",
      "     |  \n",
      "     |  ----------------------------------------------------------------------\n",
      "     |  Methods inherited from builtins.tuple:\n",
      "     |  \n",
      "     |  __add__(self, value, /)\n",
      "     |      Return self+value.\n",
      "     |  \n",
      "     |  __contains__(self, key, /)\n",
      "     |      Return key in self.\n",
      "     |  \n",
      "     |  __eq__(self, value, /)\n",
      "     |      Return self==value.\n",
      "     |  \n",
      "     |  __ge__(self, value, /)\n",
      "     |      Return self>=value.\n",
      "     |  \n",
      "     |  __getattribute__(self, name, /)\n",
      "     |      Return getattr(self, name).\n",
      "     |  \n",
      "     |  __getitem__(self, key, /)\n",
      "     |      Return self[key].\n",
      "     |  \n",
      "     |  __getnewargs__(...)\n",
      "     |  \n",
      "     |  __gt__(self, value, /)\n",
      "     |      Return self>value.\n",
      "     |  \n",
      "     |  __hash__(self, /)\n",
      "     |      Return hash(self).\n",
      "     |  \n",
      "     |  __iter__(self, /)\n",
      "     |      Implement iter(self).\n",
      "     |  \n",
      "     |  __le__(self, value, /)\n",
      "     |      Return self<=value.\n",
      "     |  \n",
      "     |  __len__(self, /)\n",
      "     |      Return len(self).\n",
      "     |  \n",
      "     |  __lt__(self, value, /)\n",
      "     |      Return self<value.\n",
      "     |  \n",
      "     |  __mul__(self, value, /)\n",
      "     |      Return self*value.n\n",
      "     |  \n",
      "     |  __ne__(self, value, /)\n",
      "     |      Return self!=value.\n",
      "     |  \n",
      "     |  __rmul__(self, value, /)\n",
      "     |      Return self*value.\n",
      "     |  \n",
      "     |  count(...)\n",
      "     |      T.count(value) -> integer -- return number of occurrences of value\n",
      "     |  \n",
      "     |  index(...)\n",
      "     |      T.index(value, [start, [stop]]) -> integer -- return first index of value.\n",
      "     |      Raises ValueError if the value is not present.\n",
      "    \n",
      "    class times_result(builtins.tuple)\n",
      "     |  times_result: Result from os.times().\n",
      "     |  \n",
      "     |  This object may be accessed either as a tuple of\n",
      "     |    (user, system, children_user, children_system, elapsed),\n",
      "     |  or via the attributes user, system, children_user, children_system,\n",
      "     |  and elapsed.\n",
      "     |  \n",
      "     |  See os.times for more information.\n",
      "     |  \n",
      "     |  Method resolution order:\n",
      "     |      times_result\n",
      "     |      builtins.tuple\n",
      "     |      builtins.object\n",
      "     |  \n",
      "     |  Methods defined here:\n",
      "     |  \n",
      "     |  __new__(*args, **kwargs) from builtins.type\n",
      "     |      Create and return a new object.  See help(type) for accurate signature.\n",
      "     |  \n",
      "     |  __reduce__(...)\n",
      "     |      helper for pickle\n",
      "     |  \n",
      "     |  __repr__(self, /)\n",
      "     |      Return repr(self).\n",
      "     |  \n",
      "     |  ----------------------------------------------------------------------\n",
      "     |  Data descriptors defined here:\n",
      "     |  \n",
      "     |  children_system\n",
      "     |      system time of children\n",
      "     |  \n",
      "     |  children_user\n",
      "     |      user time of children\n",
      "     |  \n",
      "     |  elapsed\n",
      "     |      elapsed time since an arbitrary point in the past\n",
      "     |  \n",
      "     |  system\n",
      "     |      system time\n",
      "     |  \n",
      "     |  user\n",
      "     |      user time\n",
      "     |  \n",
      "     |  ----------------------------------------------------------------------\n",
      "     |  Data and other attributes defined here:\n",
      "     |  \n",
      "     |  n_fields = 5\n",
      "     |  \n",
      "     |  n_sequence_fields = 5\n",
      "     |  \n",
      "     |  n_unnamed_fields = 0\n",
      "     |  \n",
      "     |  ----------------------------------------------------------------------\n",
      "     |  Methods inherited from builtins.tuple:\n",
      "     |  \n",
      "     |  __add__(self, value, /)\n",
      "     |      Return self+value.\n",
      "     |  \n",
      "     |  __contains__(self, key, /)\n",
      "     |      Return key in self.\n",
      "     |  \n",
      "     |  __eq__(self, value, /)\n",
      "     |      Return self==value.\n",
      "     |  \n",
      "     |  __ge__(self, value, /)\n",
      "     |      Return self>=value.\n",
      "     |  \n",
      "     |  __getattribute__(self, name, /)\n",
      "     |      Return getattr(self, name).\n",
      "     |  \n",
      "     |  __getitem__(self, key, /)\n",
      "     |      Return self[key].\n",
      "     |  \n",
      "     |  __getnewargs__(...)\n",
      "     |  \n",
      "     |  __gt__(self, value, /)\n",
      "     |      Return self>value.\n",
      "     |  \n",
      "     |  __hash__(self, /)\n",
      "     |      Return hash(self).\n",
      "     |  \n",
      "     |  __iter__(self, /)\n",
      "     |      Implement iter(self).\n",
      "     |  \n",
      "     |  __le__(self, value, /)\n",
      "     |      Return self<=value.\n",
      "     |  \n",
      "     |  __len__(self, /)\n",
      "     |      Return len(self).\n",
      "     |  \n",
      "     |  __lt__(self, value, /)\n",
      "     |      Return self<value.\n",
      "     |  \n",
      "     |  __mul__(self, value, /)\n",
      "     |      Return self*value.n\n",
      "     |  \n",
      "     |  __ne__(self, value, /)\n",
      "     |      Return self!=value.\n",
      "     |  \n",
      "     |  __rmul__(self, value, /)\n",
      "     |      Return self*value.\n",
      "     |  \n",
      "     |  count(...)\n",
      "     |      T.count(value) -> integer -- return number of occurrences of value\n",
      "     |  \n",
      "     |  index(...)\n",
      "     |      T.index(value, [start, [stop]]) -> integer -- return first index of value.\n",
      "     |      Raises ValueError if the value is not present.\n",
      "    \n",
      "    class uname_result(builtins.tuple)\n",
      "     |  uname_result: Result from os.uname().\n",
      "     |  \n",
      "     |  This object may be accessed either as a tuple of\n",
      "     |    (sysname, nodename, release, version, machine),\n",
      "     |  or via the attributes sysname, nodename, release, version, and machine.\n",
      "     |  \n",
      "     |  See os.uname for more information.\n",
      "     |  \n",
      "     |  Method resolution order:\n",
      "     |      uname_result\n",
      "     |      builtins.tuple\n",
      "     |      builtins.object\n",
      "     |  \n",
      "     |  Methods defined here:\n",
      "     |  \n",
      "     |  __new__(*args, **kwargs) from builtins.type\n",
      "     |      Create and return a new object.  See help(type) for accurate signature.\n",
      "     |  \n",
      "     |  __reduce__(...)\n",
      "     |      helper for pickle\n",
      "     |  \n",
      "     |  __repr__(self, /)\n",
      "     |      Return repr(self).\n",
      "     |  \n",
      "     |  ----------------------------------------------------------------------\n",
      "     |  Data descriptors defined here:\n",
      "     |  \n",
      "     |  machine\n",
      "     |      hardware identifier\n",
      "     |  \n",
      "     |  nodename\n",
      "     |      name of machine on network (implementation-defined)\n",
      "     |  \n",
      "     |  release\n",
      "     |      operating system release\n",
      "     |  \n",
      "     |  sysname\n",
      "     |      operating system name\n",
      "     |  \n",
      "     |  version\n",
      "     |      operating system version\n",
      "     |  \n",
      "     |  ----------------------------------------------------------------------\n",
      "     |  Data and other attributes defined here:\n",
      "     |  \n",
      "     |  n_fields = 5\n",
      "     |  \n",
      "     |  n_sequence_fields = 5\n",
      "     |  \n",
      "     |  n_unnamed_fields = 0\n",
      "     |  \n",
      "     |  ----------------------------------------------------------------------\n",
      "     |  Methods inherited from builtins.tuple:\n",
      "     |  \n",
      "     |  __add__(self, value, /)\n",
      "     |      Return self+value.\n",
      "     |  \n",
      "     |  __contains__(self, key, /)\n",
      "     |      Return key in self.\n",
      "     |  \n",
      "     |  __eq__(self, value, /)\n",
      "     |      Return self==value.\n",
      "     |  \n",
      "     |  __ge__(self, value, /)\n",
      "     |      Return self>=value.\n",
      "     |  \n",
      "     |  __getattribute__(self, name, /)\n",
      "     |      Return getattr(self, name).\n",
      "     |  \n",
      "     |  __getitem__(self, key, /)\n",
      "     |      Return self[key].\n",
      "     |  \n",
      "     |  __getnewargs__(...)\n",
      "     |  \n",
      "     |  __gt__(self, value, /)\n",
      "     |      Return self>value.\n",
      "     |  \n",
      "     |  __hash__(self, /)\n",
      "     |      Return hash(self).\n",
      "     |  \n",
      "     |  __iter__(self, /)\n",
      "     |      Implement iter(self).\n",
      "     |  \n",
      "     |  __le__(self, value, /)\n",
      "     |      Return self<=value.\n",
      "     |  \n",
      "     |  __len__(self, /)\n",
      "     |      Return len(self).\n",
      "     |  \n",
      "     |  __lt__(self, value, /)\n",
      "     |      Return self<value.\n",
      "     |  \n",
      "     |  __mul__(self, value, /)\n",
      "     |      Return self*value.n\n",
      "     |  \n",
      "     |  __ne__(self, value, /)\n",
      "     |      Return self!=value.\n",
      "     |  \n",
      "     |  __rmul__(self, value, /)\n",
      "     |      Return self*value.\n",
      "     |  \n",
      "     |  count(...)\n",
      "     |      T.count(value) -> integer -- return number of occurrences of value\n",
      "     |  \n",
      "     |  index(...)\n",
      "     |      T.index(value, [start, [stop]]) -> integer -- return first index of value.\n",
      "     |      Raises ValueError if the value is not present.\n",
      "\n",
      "FUNCTIONS\n",
      "    _exit(status)\n",
      "        Exit to the system with specified status, without normal exit processing.\n",
      "    \n",
      "    abort()\n",
      "        Abort the interpreter immediately.\n",
      "        \n",
      "        This function 'dumps core' or otherwise fails in the hardest way possible\n",
      "        on the hosting operating system.  This function never returns.\n",
      "    \n",
      "    access(path, mode, *, dir_fd=None, effective_ids=False, follow_symlinks=True)\n",
      "        Use the real uid/gid to test for access to a path.\n",
      "        \n",
      "          path\n",
      "            Path to be tested; can be string or bytes\n",
      "          mode\n",
      "            Operating-system mode bitfield.  Can be F_OK to test existence,\n",
      "            or the inclusive-OR of R_OK, W_OK, and X_OK.\n",
      "          dir_fd\n",
      "            If not None, it should be a file descriptor open to a directory,\n",
      "            and path should be relative; path will then be relative to that\n",
      "            directory.\n",
      "          effective_ids\n",
      "            If True, access will use the effective uid/gid instead of\n",
      "            the real uid/gid.\n",
      "          follow_symlinks\n",
      "            If False, and the last element of the path is a symbolic link,\n",
      "            access will examine the symbolic link itself instead of the file\n",
      "            the link points to.\n",
      "        \n",
      "        dir_fd, effective_ids, and follow_symlinks may not be implemented\n",
      "          on your platform.  If they are unavailable, using them will raise a\n",
      "          NotImplementedError.\n",
      "        \n",
      "        Note that most operations will use the effective uid/gid, therefore this\n",
      "          routine can be used in a suid/sgid environment to test if the invoking user\n",
      "          has the specified access to the path.\n",
      "    \n",
      "    chdir(path)\n",
      "        Change the current working directory to the specified path.\n",
      "        \n",
      "        path may always be specified as a string.\n",
      "        On some platforms, path may also be specified as an open file descriptor.\n",
      "          If this functionality is unavailable, using it raises an exception.\n",
      "    \n",
      "    chmod(path, mode, *, dir_fd=None, follow_symlinks=True)\n",
      "        Change the access permissions of a file.\n",
      "        \n",
      "          path\n",
      "            Path to be modified.  May always be specified as a str or bytes.\n",
      "            On some platforms, path may also be specified as an open file descriptor.\n",
      "            If this functionality is unavailable, using it raises an exception.\n",
      "          mode\n",
      "            Operating-system mode bitfield.\n",
      "          dir_fd\n",
      "            If not None, it should be a file descriptor open to a directory,\n",
      "            and path should be relative; path will then be relative to that\n",
      "            directory.\n",
      "          follow_symlinks\n",
      "            If False, and the last element of the path is a symbolic link,\n",
      "            chmod will modify the symbolic link itself instead of the file\n",
      "            the link points to.\n",
      "        \n",
      "        It is an error to use dir_fd or follow_symlinks when specifying path as\n",
      "          an open file descriptor.\n",
      "        dir_fd and follow_symlinks may not be implemented on your platform.\n",
      "          If they are unavailable, using them will raise a NotImplementedError.\n",
      "    \n",
      "    close(fd)\n",
      "        Close a file descriptor.\n",
      "    \n",
      "    closerange(fd_low, fd_high, /)\n",
      "        Closes all file descriptors in [fd_low, fd_high), ignoring errors.\n",
      "    \n",
      "    cpu_count()\n",
      "        Return the number of CPUs in the system; return None if indeterminable.\n",
      "        \n",
      "        This number is not equivalent to the number of CPUs the current process can\n",
      "        use.  The number of usable CPUs can be obtained with\n",
      "        ``len(os.sched_getaffinity(0))``\n",
      "    \n",
      "    device_encoding(fd)\n",
      "        Return a string describing the encoding of a terminal's file descriptor.\n",
      "        \n",
      "        The file descriptor must be attached to a terminal.\n",
      "        If the device is not a terminal, return None.\n",
      "    \n",
      "    dup(fd, /)\n",
      "        Return a duplicate of a file descriptor.\n",
      "    \n",
      "    dup2(fd, fd2, inheritable=True)\n",
      "        Duplicate file descriptor.\n",
      "    \n",
      "    execl(file, *args)\n",
      "        execl(file, *args)\n",
      "        \n",
      "        Execute the executable file with argument list args, replacing the\n",
      "        current process.\n",
      "    \n",
      "    execle(file, *args)\n",
      "        execle(file, *args, env)\n",
      "        \n",
      "        Execute the executable file with argument list args and\n",
      "        environment env, replacing the current process.\n",
      "    \n",
      "    execlp(file, *args)\n",
      "        execlp(file, *args)\n",
      "        \n",
      "        Execute the executable file (which is searched for along $PATH)\n",
      "        with argument list args, replacing the current process.\n",
      "    \n",
      "    execlpe(file, *args)\n",
      "        execlpe(file, *args, env)\n",
      "        \n",
      "        Execute the executable file (which is searched for along $PATH)\n",
      "        with argument list args and environment env, replacing the current\n",
      "        process.\n",
      "    \n",
      "    execv(path, argv, /)\n",
      "        Execute an executable path with arguments, replacing current process.\n",
      "        \n",
      "        path\n",
      "          Path of executable file.\n",
      "        argv\n",
      "          Tuple or list of strings.\n",
      "    \n",
      "    execve(path, argv, env)\n",
      "        Execute an executable path with arguments, replacing current process.\n",
      "        \n",
      "        path\n",
      "          Path of executable file.\n",
      "        argv\n",
      "          Tuple or list of strings.\n",
      "        env\n",
      "          Dictionary of strings mapping to strings.\n",
      "    \n",
      "    execvp(file, args)\n",
      "        execvp(file, args)\n",
      "        \n",
      "        Execute the executable file (which is searched for along $PATH)\n",
      "        with argument list args, replacing the current process.\n",
      "        args may be a list or tuple of strings.\n",
      "    \n",
      "    execvpe(file, args, env)\n",
      "        execvpe(file, args, env)\n",
      "        \n",
      "        Execute the executable file (which is searched for along $PATH)\n",
      "        with argument list args and environment env , replacing the\n",
      "        current process.\n",
      "        args may be a list or tuple of strings.\n",
      "    \n",
      "    fdopen(fd, *args, **kwargs)\n",
      "        # Supply os.fdopen()\n",
      "    \n",
      "    fsdecode(filename)\n",
      "        Decode filename (an os.PathLike, bytes, or str) from the filesystem\n",
      "        encoding with 'surrogateescape' error handler, return str unchanged. On\n",
      "        Windows, use 'strict' error handler if the file system encoding is\n",
      "        'mbcs' (which is the default encoding).\n",
      "    \n",
      "    fsencode(filename)\n",
      "        Encode filename (an os.PathLike, bytes, or str) to the filesystem\n",
      "        encoding with 'surrogateescape' error handler, return bytes unchanged.\n",
      "        On Windows, use 'strict' error handler if the file system encoding is\n",
      "        'mbcs' (which is the default encoding).\n",
      "    \n",
      "    fspath(path)\n",
      "        Return the file system path representation of the object.\n",
      "        \n",
      "        If the object is str or bytes, then allow it to pass through as-is. If the\n",
      "        object defines __fspath__(), then return the result of that method. All other\n",
      "        types raise a TypeError.\n",
      "    \n",
      "    fstat(fd)\n",
      "        Perform a stat system call on the given file descriptor.\n",
      "        \n",
      "        Like stat(), but for an open file descriptor.\n",
      "        Equivalent to os.stat(fd).\n",
      "    \n",
      "    fsync(fd)\n",
      "        Force write of fd to disk.\n",
      "    \n",
      "    ftruncate(fd, length, /)\n",
      "        Truncate a file, specified by file descriptor, to a specific length.\n",
      "    \n",
      "    get_exec_path(env=None)\n",
      "        Returns the sequence of directories that will be searched for the\n",
      "        named executable (similar to a shell) when launching a process.\n",
      "        \n",
      "        *env* must be an environment variable dict or None.  If *env* is None,\n",
      "        os.environ will be used.\n",
      "    \n",
      "    get_handle_inheritable(handle, /)\n",
      "        Get the close-on-exe flag of the specified file descriptor.\n",
      "    \n",
      "    get_inheritable(fd, /)\n",
      "        Get the close-on-exe flag of the specified file descriptor.\n",
      "    \n",
      "    get_terminal_size(...)\n",
      "        Return the size of the terminal window as (columns, lines).\n",
      "        \n",
      "        The optional argument fd (default standard output) specifies\n",
      "        which file descriptor should be queried.\n",
      "        \n",
      "        If the file descriptor is not connected to a terminal, an OSError\n",
      "        is thrown.\n",
      "        \n",
      "        This function will only be defined if an implementation is\n",
      "        available for this system.\n",
      "        \n",
      "        shutil.get_terminal_size is the high-level function which should \n",
      "        normally be used, os.get_terminal_size is the low-level implementation.\n",
      "    \n",
      "    getcwd()\n",
      "        Return a unicode string representing the current working directory.\n",
      "    \n",
      "    getcwdb()\n",
      "        Return a bytes string representing the current working directory.\n",
      "    \n",
      "    getenv(key, default=None)\n",
      "        Get an environment variable, return None if it doesn't exist.\n",
      "        The optional second argument can specify an alternate default.\n",
      "        key, default and the result are str.\n",
      "    \n",
      "    getlogin()\n",
      "        Return the actual login name.\n",
      "    \n",
      "    getpid()\n",
      "        Return the current process id.\n",
      "    \n",
      "    getppid()\n",
      "        Return the parent's process id.\n",
      "        \n",
      "        If the parent process has already exited, Windows machines will still\n",
      "        return its id; others systems will return the id of the 'init' process (1).\n",
      "    \n",
      "    isatty(fd, /)\n",
      "        Return True if the fd is connected to a terminal.\n",
      "        \n",
      "        Return True if the file descriptor is an open file descriptor\n",
      "        connected to the slave end of a terminal.\n",
      "    \n",
      "    kill(pid, signal, /)\n",
      "        Kill a process with a signal.\n",
      "    \n",
      "    link(src, dst, *, src_dir_fd=None, dst_dir_fd=None, follow_symlinks=True)\n",
      "        Create a hard link to a file.\n",
      "        \n",
      "        If either src_dir_fd or dst_dir_fd is not None, it should be a file\n",
      "          descriptor open to a directory, and the respective path string (src or dst)\n",
      "          should be relative; the path will then be relative to that directory.\n",
      "        If follow_symlinks is False, and the last element of src is a symbolic\n",
      "          link, link will create a link to the symbolic link itself instead of the\n",
      "          file the link points to.\n",
      "        src_dir_fd, dst_dir_fd, and follow_symlinks may not be implemented on your\n",
      "          platform.  If they are unavailable, using them will raise a\n",
      "          NotImplementedError.\n",
      "    \n",
      "    listdir(path=None)\n",
      "        Return a list containing the names of the files in the directory.\n",
      "        \n",
      "        path can be specified as either str or bytes.  If path is bytes,\n",
      "          the filenames returned will also be bytes; in all other circumstances\n",
      "          the filenames returned will be str.\n",
      "        If path is None, uses the path='.'.\n",
      "        On some platforms, path may also be specified as an open file descriptor;\\\n",
      "          the file descriptor must refer to a directory.\n",
      "          If this functionality is unavailable, using it raises NotImplementedError.\n",
      "        \n",
      "        The list is in arbitrary order.  It does not include the special\n",
      "        entries '.' and '..' even if they are present in the directory.\n",
      "    \n",
      "    lseek(fd, position, how, /)\n",
      "        Set the position of a file descriptor.  Return the new position.\n",
      "        \n",
      "        Return the new cursor position in number of bytes\n",
      "        relative to the beginning of the file.\n",
      "    \n",
      "    lstat(path, *, dir_fd=None)\n",
      "        Perform a stat system call on the given path, without following symbolic links.\n",
      "        \n",
      "        Like stat(), but do not follow symbolic links.\n",
      "        Equivalent to stat(path, follow_symlinks=False).\n",
      "    \n",
      "    makedirs(name, mode=511, exist_ok=False)\n",
      "        makedirs(name [, mode=0o777][, exist_ok=False])\n",
      "        \n",
      "        Super-mkdir; create a leaf directory and all intermediate ones.  Works like\n",
      "        mkdir, except that any intermediate path segment (not just the rightmost)\n",
      "        will be created if it does not exist. If the target directory already\n",
      "        exists, raise an OSError if exist_ok is False. Otherwise no exception is\n",
      "        raised.  This is recursive.\n",
      "    \n",
      "    mkdir(path, mode=511, *, dir_fd=None)\n",
      "        Create a directory.\n",
      "        \n",
      "        If dir_fd is not None, it should be a file descriptor open to a directory,\n",
      "          and path should be relative; path will then be relative to that directory.\n",
      "        dir_fd may not be implemented on your platform.\n",
      "          If it is unavailable, using it will raise a NotImplementedError.\n",
      "        \n",
      "        The mode argument is ignored on Windows.\n",
      "    \n",
      "    open(path, flags, mode=511, *, dir_fd=None)\n",
      "        Open a file for low level IO.  Returns a file descriptor (integer).\n",
      "        \n",
      "        If dir_fd is not None, it should be a file descriptor open to a directory,\n",
      "          and path should be relative; path will then be relative to that directory.\n",
      "        dir_fd may not be implemented on your platform.\n",
      "          If it is unavailable, using it will raise a NotImplementedError.\n",
      "    \n",
      "    pipe()\n",
      "        Create a pipe.\n",
      "        \n",
      "        Returns a tuple of two file descriptors:\n",
      "          (read_fd, write_fd)\n",
      "    \n",
      "    popen(cmd, mode='r', buffering=-1)\n",
      "        # Supply os.popen()\n",
      "    \n",
      "    putenv(name, value, /)\n",
      "        Change or add an environment variable.\n",
      "    \n",
      "    read(fd, length, /)\n",
      "        Read from a file descriptor.  Returns a bytes object.\n",
      "    \n",
      "    readlink(...)\n",
      "        readlink(path, *, dir_fd=None) -> path\n",
      "        \n",
      "        Return a string representing the path to which the symbolic link points.\n",
      "        \n",
      "        If dir_fd is not None, it should be a file descriptor open to a directory,\n",
      "          and path should be relative; path will then be relative to that directory.\n",
      "        dir_fd may not be implemented on your platform.\n",
      "          If it is unavailable, using it will raise a NotImplementedError.\n",
      "    \n",
      "    remove(path, *, dir_fd=None)\n",
      "        Remove a file (same as unlink()).\n",
      "        \n",
      "        If dir_fd is not None, it should be a file descriptor open to a directory,\n",
      "          and path should be relative; path will then be relative to that directory.\n",
      "        dir_fd may not be implemented on your platform.\n",
      "          If it is unavailable, using it will raise a NotImplementedError.\n",
      "    \n",
      "    removedirs(name)\n",
      "        removedirs(name)\n",
      "        \n",
      "        Super-rmdir; remove a leaf directory and all empty intermediate\n",
      "        ones.  Works like rmdir except that, if the leaf directory is\n",
      "        successfully removed, directories corresponding to rightmost path\n",
      "        segments will be pruned away until either the whole path is\n",
      "        consumed or an error occurs.  Errors during this latter phase are\n",
      "        ignored -- they generally mean that a directory was not empty.\n",
      "    \n",
      "    rename(src, dst, *, src_dir_fd=None, dst_dir_fd=None)\n",
      "        Rename a file or directory.\n",
      "        \n",
      "        If either src_dir_fd or dst_dir_fd is not None, it should be a file\n",
      "          descriptor open to a directory, and the respective path string (src or dst)\n",
      "          should be relative; the path will then be relative to that directory.\n",
      "        src_dir_fd and dst_dir_fd, may not be implemented on your platform.\n",
      "          If they are unavailable, using them will raise a NotImplementedError.\n",
      "    \n",
      "    renames(old, new)\n",
      "        renames(old, new)\n",
      "        \n",
      "        Super-rename; create directories as necessary and delete any left\n",
      "        empty.  Works like rename, except creation of any intermediate\n",
      "        directories needed to make the new pathname good is attempted\n",
      "        first.  After the rename, directories corresponding to rightmost\n",
      "        path segments of the old name will be pruned until either the\n",
      "        whole path is consumed or a nonempty directory is found.\n",
      "        \n",
      "        Note: this function can fail with the new directory structure made\n",
      "        if you lack permissions needed to unlink the leaf directory or\n",
      "        file.\n",
      "    \n",
      "    replace(src, dst, *, src_dir_fd=None, dst_dir_fd=None)\n",
      "        Rename a file or directory, overwriting the destination.\n",
      "        \n",
      "        If either src_dir_fd or dst_dir_fd is not None, it should be a file\n",
      "          descriptor open to a directory, and the respective path string (src or dst)\n",
      "          should be relative; the path will then be relative to that directory.\n",
      "        src_dir_fd and dst_dir_fd, may not be implemented on your platform.\n",
      "          If they are unavailable, using them will raise a NotImplementedError.\"\n",
      "    \n",
      "    rmdir(path, *, dir_fd=None)\n",
      "        Remove a directory.\n",
      "        \n",
      "        If dir_fd is not None, it should be a file descriptor open to a directory,\n",
      "          and path should be relative; path will then be relative to that directory.\n",
      "        dir_fd may not be implemented on your platform.\n",
      "          If it is unavailable, using it will raise a NotImplementedError.\n",
      "    \n",
      "    scandir(...)\n",
      "        scandir(path='.') -> iterator of DirEntry objects for given path\n",
      "    \n",
      "    set_handle_inheritable(handle, inheritable, /)\n",
      "        Set the inheritable flag of the specified handle.\n",
      "    \n",
      "    set_inheritable(fd, inheritable, /)\n",
      "        Set the inheritable flag of the specified file descriptor.\n",
      "    \n",
      "    spawnl(mode, file, *args)\n",
      "        spawnl(mode, file, *args) -> integer\n",
      "        \n",
      "        Execute file with arguments from args in a subprocess.\n",
      "        If mode == P_NOWAIT return the pid of the process.\n",
      "        If mode == P_WAIT return the process's exit code if it exits normally;\n",
      "        otherwise return -SIG, where SIG is the signal that killed it.\n",
      "    \n",
      "    spawnle(mode, file, *args)\n",
      "        spawnle(mode, file, *args, env) -> integer\n",
      "        \n",
      "        Execute file with arguments from args in a subprocess with the\n",
      "        supplied environment.\n",
      "        If mode == P_NOWAIT return the pid of the process.\n",
      "        If mode == P_WAIT return the process's exit code if it exits normally;\n",
      "        otherwise return -SIG, where SIG is the signal that killed it.\n",
      "    \n",
      "    spawnv(mode, path, argv, /)\n",
      "        Execute the program specified by path in a new process.\n",
      "        \n",
      "        mode\n",
      "          Mode of process creation.\n",
      "        path\n",
      "          Path of executable file.\n",
      "        argv\n",
      "          Tuple or list of strings.\n",
      "    \n",
      "    spawnve(mode, path, argv, env, /)\n",
      "        Execute the program specified by path in a new process.\n",
      "        \n",
      "        mode\n",
      "          Mode of process creation.\n",
      "        path\n",
      "          Path of executable file.\n",
      "        argv\n",
      "          Tuple or list of strings.\n",
      "        env\n",
      "          Dictionary of strings mapping to strings.\n",
      "    \n",
      "    startfile(filepath, operation=None)\n",
      "        startfile(filepath [, operation])\n",
      "        \n",
      "        Start a file with its associated application.\n",
      "        \n",
      "        When \"operation\" is not specified or \"open\", this acts like\n",
      "        double-clicking the file in Explorer, or giving the file name as an\n",
      "        argument to the DOS \"start\" command: the file is opened with whatever\n",
      "        application (if any) its extension is associated.\n",
      "        When another \"operation\" is given, it specifies what should be done with\n",
      "        the file.  A typical operation is \"print\".\n",
      "        \n",
      "        startfile returns as soon as the associated application is launched.\n",
      "        There is no option to wait for the application to close, and no way\n",
      "        to retrieve the application's exit status.\n",
      "        \n",
      "        The filepath is relative to the current directory.  If you want to use\n",
      "        an absolute path, make sure the first character is not a slash (\"/\");\n",
      "        the underlying Win32 ShellExecute function doesn't work if it is.\n",
      "    \n",
      "    stat(path, *, dir_fd=None, follow_symlinks=True)\n",
      "        Perform a stat system call on the given path.\n",
      "        \n",
      "          path\n",
      "            Path to be examined; can be string, bytes, path-like object or\n",
      "            open-file-descriptor int.\n",
      "          dir_fd\n",
      "            If not None, it should be a file descriptor open to a directory,\n",
      "            and path should be a relative string; path will then be relative to\n",
      "            that directory.\n",
      "          follow_symlinks\n",
      "            If False, and the last element of the path is a symbolic link,\n",
      "            stat will examine the symbolic link itself instead of the file\n",
      "            the link points to.\n",
      "        \n",
      "        dir_fd and follow_symlinks may not be implemented\n",
      "          on your platform.  If they are unavailable, using them will raise a\n",
      "          NotImplementedError.\n",
      "        \n",
      "        It's an error to use dir_fd or follow_symlinks when specifying path as\n",
      "          an open file descriptor.\n",
      "    \n",
      "    stat_float_times(...)\n",
      "        stat_float_times([newval]) -> oldval\n",
      "        \n",
      "        Determine whether os.[lf]stat represents time stamps as float objects.\n",
      "        \n",
      "        If value is True, future calls to stat() return floats; if it is False,\n",
      "        future calls return ints.\n",
      "        If value is omitted, return the current setting.\n",
      "    \n",
      "    strerror(code, /)\n",
      "        Translate an error code to a message string.\n",
      "    \n",
      "    symlink(src, dst, target_is_directory=False, *, dir_fd=None)\n",
      "        Create a symbolic link pointing to src named dst.\n",
      "        \n",
      "        target_is_directory is required on Windows if the target is to be\n",
      "          interpreted as a directory.  (On Windows, symlink requires\n",
      "          Windows 6.0 or greater, and raises a NotImplementedError otherwise.)\n",
      "          target_is_directory is ignored on non-Windows platforms.\n",
      "        \n",
      "        If dir_fd is not None, it should be a file descriptor open to a directory,\n",
      "          and path should be relative; path will then be relative to that directory.\n",
      "        dir_fd may not be implemented on your platform.\n",
      "          If it is unavailable, using it will raise a NotImplementedError.\n",
      "    \n",
      "    system(command)\n",
      "        Execute the command in a subshell.\n",
      "    \n",
      "    times()\n",
      "        Return a collection containing process timing information.\n",
      "        \n",
      "        The object returned behaves like a named tuple with these fields:\n",
      "          (utime, stime, cutime, cstime, elapsed_time)\n",
      "        All fields are floating point numbers.\n",
      "    \n",
      "    truncate(path, length)\n",
      "        Truncate a file, specified by path, to a specific length.\n",
      "        \n",
      "        On some platforms, path may also be specified as an open file descriptor.\n",
      "          If this functionality is unavailable, using it raises an exception.\n",
      "    \n",
      "    umask(mask, /)\n",
      "        Set the current numeric umask and return the previous umask.\n",
      "    \n",
      "    unlink(path, *, dir_fd=None)\n",
      "        Remove a file (same as remove()).\n",
      "        \n",
      "        If dir_fd is not None, it should be a file descriptor open to a directory,\n",
      "          and path should be relative; path will then be relative to that directory.\n",
      "        dir_fd may not be implemented on your platform.\n",
      "          If it is unavailable, using it will raise a NotImplementedError.\n",
      "    \n",
      "    urandom(size, /)\n",
      "        Return a bytes object containing random bytes suitable for cryptographic use.\n",
      "    \n",
      "    utime(path, times=None, *, ns=None, dir_fd=None, follow_symlinks=True)\n",
      "        Set the access and modified time of path.\n",
      "        \n",
      "        path may always be specified as a string.\n",
      "        On some platforms, path may also be specified as an open file descriptor.\n",
      "          If this functionality is unavailable, using it raises an exception.\n",
      "        \n",
      "        If times is not None, it must be a tuple (atime, mtime);\n",
      "            atime and mtime should be expressed as float seconds since the epoch.\n",
      "        If ns is specified, it must be a tuple (atime_ns, mtime_ns);\n",
      "            atime_ns and mtime_ns should be expressed as integer nanoseconds\n",
      "            since the epoch.\n",
      "        If times is None and ns is unspecified, utime uses the current time.\n",
      "        Specifying tuples for both times and ns is an error.\n",
      "        \n",
      "        If dir_fd is not None, it should be a file descriptor open to a directory,\n",
      "          and path should be relative; path will then be relative to that directory.\n",
      "        If follow_symlinks is False, and the last element of the path is a symbolic\n",
      "          link, utime will modify the symbolic link itself instead of the file the\n",
      "          link points to.\n",
      "        It is an error to use dir_fd or follow_symlinks when specifying path\n",
      "          as an open file descriptor.\n",
      "        dir_fd and follow_symlinks may not be available on your platform.\n",
      "          If they are unavailable, using them will raise a NotImplementedError.\n",
      "    \n",
      "    waitpid(pid, options, /)\n",
      "        Wait for completion of a given process.\n",
      "        \n",
      "        Returns a tuple of information regarding the process:\n",
      "            (pid, status << 8)\n",
      "        \n",
      "        The options argument is ignored on Windows.\n",
      "    \n",
      "    walk(top, topdown=True, onerror=None, followlinks=False)\n",
      "        Directory tree generator.\n",
      "        \n",
      "        For each directory in the directory tree rooted at top (including top\n",
      "        itself, but excluding '.' and '..'), yields a 3-tuple\n",
      "        \n",
      "            dirpath, dirnames, filenames\n",
      "        \n",
      "        dirpath is a string, the path to the directory.  dirnames is a list of\n",
      "        the names of the subdirectories in dirpath (excluding '.' and '..').\n",
      "        filenames is a list of the names of the non-directory files in dirpath.\n",
      "        Note that the names in the lists are just names, with no path components.\n",
      "        To get a full path (which begins with top) to a file or directory in\n",
      "        dirpath, do os.path.join(dirpath, name).\n",
      "        \n",
      "        If optional arg 'topdown' is true or not specified, the triple for a\n",
      "        directory is generated before the triples for any of its subdirectories\n",
      "        (directories are generated top down).  If topdown is false, the triple\n",
      "        for a directory is generated after the triples for all of its\n",
      "        subdirectories (directories are generated bottom up).\n",
      "        \n",
      "        When topdown is true, the caller can modify the dirnames list in-place\n",
      "        (e.g., via del or slice assignment), and walk will only recurse into the\n",
      "        subdirectories whose names remain in dirnames; this can be used to prune the\n",
      "        search, or to impose a specific order of visiting.  Modifying dirnames when\n",
      "        topdown is false is ineffective, since the directories in dirnames have\n",
      "        already been generated by the time dirnames itself is generated. No matter\n",
      "        the value of topdown, the list of subdirectories is retrieved before the\n",
      "        tuples for the directory and its subdirectories are generated.\n",
      "        \n",
      "        By default errors from the os.scandir() call are ignored.  If\n",
      "        optional arg 'onerror' is specified, it should be a function; it\n",
      "        will be called with one argument, an OSError instance.  It can\n",
      "        report the error to continue with the walk, or raise the exception\n",
      "        to abort the walk.  Note that the filename is available as the\n",
      "        filename attribute of the exception object.\n",
      "        \n",
      "        By default, os.walk does not follow symbolic links to subdirectories on\n",
      "        systems that support them.  In order to get this functionality, set the\n",
      "        optional argument 'followlinks' to true.\n",
      "        \n",
      "        Caution:  if you pass a relative pathname for top, don't change the\n",
      "        current working directory between resumptions of walk.  walk never\n",
      "        changes the current directory, and assumes that the client doesn't\n",
      "        either.\n",
      "        \n",
      "        Example:\n",
      "        \n",
      "        import os\n",
      "        from os.path import join, getsize\n",
      "        for root, dirs, files in os.walk('python/Lib/email'):\n",
      "            print(root, \"consumes\", end=\"\")\n",
      "            print(sum([getsize(join(root, name)) for name in files]), end=\"\")\n",
      "            print(\"bytes in\", len(files), \"non-directory files\")\n",
      "            if 'CVS' in dirs:\n",
      "                dirs.remove('CVS')  # don't visit CVS directories\n",
      "    \n",
      "    write(fd, data, /)\n",
      "        Write a bytes object to a file descriptor.\n",
      "\n",
      "DATA\n",
      "    F_OK = 0\n",
      "    O_APPEND = 8\n",
      "    O_BINARY = 32768\n",
      "    O_CREAT = 256\n",
      "    O_EXCL = 1024\n",
      "    O_NOINHERIT = 128\n",
      "    O_RANDOM = 16\n",
      "    O_RDONLY = 0\n",
      "    O_RDWR = 2\n",
      "    O_SEQUENTIAL = 32\n",
      "    O_SHORT_LIVED = 4096\n",
      "    O_TEMPORARY = 64\n",
      "    O_TEXT = 16384\n",
      "    O_TRUNC = 512\n",
      "    O_WRONLY = 1\n",
      "    P_DETACH = 4\n",
      "    P_NOWAIT = 1\n",
      "    P_NOWAITO = 3\n",
      "    P_OVERLAY = 2\n",
      "    P_WAIT = 0\n",
      "    R_OK = 4\n",
      "    SEEK_CUR = 1\n",
      "    SEEK_END = 2\n",
      "    SEEK_SET = 0\n",
      "    TMP_MAX = 2147483647\n",
      "    W_OK = 2\n",
      "    X_OK = 1\n",
      "    __all__ = ['altsep', 'curdir', 'pardir', 'sep', 'pathsep', 'linesep', ...\n",
      "    altsep = '/'\n",
      "    curdir = '.'\n",
      "    defpath = r'.;C:\\bin'\n",
      "    devnull = 'nul'\n",
      "    environ = environ({'ALLUSERSPROFILE': 'C:\\\\ProgramData', '...END': 'mo...\n",
      "    extsep = '.'\n",
      "    linesep = '\\r\\n'\n",
      "    name = 'nt'\n",
      "    pardir = '..'\n",
      "    pathsep = ';'\n",
      "    sep = r'\\'\n",
      "    supports_bytes_environ = False\n",
      "\n",
      "FILE\n",
      "    d:\\anaconda\\lib\\os.py\n",
      "\n",
      "\n"
     ]
    }
   ],
   "source": [
    "help(os)"
   ]
  },
  {
   "cell_type": "markdown",
   "metadata": {},
   "source": [
    "# 文件通配符"
   ]
  },
  {
   "cell_type": "code",
   "execution_count": 9,
   "metadata": {
    "collapsed": true
   },
   "outputs": [],
   "source": [
    "import glob"
   ]
  },
  {
   "cell_type": "code",
   "execution_count": 10,
   "metadata": {},
   "outputs": [
    {
     "data": {
      "text/plain": [
       "['FAQ.ipynb',\n",
       " 'IO编程-StringIO和BytesIO.ipynb',\n",
       " 'IO编程-序列化.ipynb',\n",
       " 'IO编程-操作文件和目录.ipynb',\n",
       " 'IO编程-文件读写.ipynb',\n",
       " 'Web开发-WSGI 接口.ipynb',\n",
       " 'Web开发-使用Web框架.ipynb',\n",
       " 'Web开发-使用模板.ipynb',\n",
       " '函数式编程-偏函数.ipynb',\n",
       " '函数式编程-匿名函数.ipynb',\n",
       " '函数式编程-装饰器.ipynb',\n",
       " '函数式编程-返回函数.ipynb',\n",
       " '函数式编程-高阶函数-filter.ipynb',\n",
       " '函数式编程-高阶函数-map reduce.ipynb',\n",
       " '函数式编程-高阶函数-sorted.ipynb',\n",
       " '函数式编程-高阶函数.ipynb',\n",
       " '图形界面-海龟绘图.ipynb',\n",
       " '图形界面.ipynb',\n",
       " '常用内建模块-base64.ipynb',\n",
       " '常用内建模块-collections.ipynb',\n",
       " '常用内建模块-contextlib.ipynb',\n",
       " '常用内建模块-datetime.ipynb',\n",
       " '常用内建模块-hashlib.ipynb',\n",
       " '常用内建模块-hmac.ipynb',\n",
       " '常用内建模块-HTMLParser.ipynb',\n",
       " '常用内建模块-itertools.ipynb',\n",
       " '常用内建模块-struct.ipynb',\n",
       " '常用内建模块-urllib.ipynb',\n",
       " '常用内建模块-XML.ipynb',\n",
       " '常用第三方模块-chardet.ipynb',\n",
       " '常用第三方模块-Pillow.ipynb',\n",
       " '常用第三方模块-psutil.ipynb',\n",
       " '常用第三方模块-request.ipynb',\n",
       " '异步-async,await.ipynb',\n",
       " '异步IO-aiohttp.ipynb',\n",
       " '异步IO-asyncio.ipynb',\n",
       " '异步IO-协程.ipynb',\n",
       " '模块-使用模块.ipynb',\n",
       " '模块-安装第三方模块.ipynb',\n",
       " '电子邮件-SMTP发送邮件.ipynb',\n",
       " '网络编程-TCP编程.ipynb',\n",
       " '网络编程-UDP编程.ipynb',\n",
       " '访问数据库-使用MySQL.ipynb',\n",
       " '访问数据库-使用SQLAlchemy.ipynb',\n",
       " '访问数据库-使用SQLite.ipynb',\n",
       " '错误、调试和测试-单元测试.ipynb',\n",
       " '错误、调试和测试-文档测试.ipynb',\n",
       " '错误、调试和测试-调试.ipynb',\n",
       " '错误、调试和测试-错误处理.ipynb',\n",
       " '面向对象的编程-使用@property.ipynb',\n",
       " '面向对象的编程-实例属性和类属性.ipynb',\n",
       " '面向对象的编程-访问限制.ipynb',\n",
       " '面向对象的编程.ipynb',\n",
       " '面向对象编程-类和实例.ipynb',\n",
       " '面向对象编程-继承和多态.ipynb',\n",
       " '面向对象编程-获取对象信息.ipynb',\n",
       " '面向对象高级编程-使用__slots__.ipynb',\n",
       " '面向对象高级编程-使用元类.ipynb',\n",
       " '面向对象高级编程-使用枚举类.ipynb',\n",
       " '面向对象高级编程-多重继承.ipynb',\n",
       " '面向对象高级编程-定制类.ipynb',\n",
       " '高级特性-列表生成器.ipynb',\n",
       " '高级特性-生成器.ipynb',\n",
       " '高级特性-迭代.ipynb',\n",
       " '高级特性-迭代器.ipynb']"
      ]
     },
     "execution_count": 10,
     "metadata": {},
     "output_type": "execute_result"
    }
   ],
   "source": [
    "glob.glob('*.ipynb')"
   ]
  },
  {
   "cell_type": "markdown",
   "metadata": {},
   "source": [
    "# 错误输出重定向和程序终止"
   ]
  },
  {
   "cell_type": "code",
   "execution_count": 11,
   "metadata": {
    "collapsed": true
   },
   "outputs": [],
   "source": [
    "import sys"
   ]
  },
  {
   "cell_type": "code",
   "execution_count": 12,
   "metadata": {},
   "outputs": [
    {
     "name": "stderr",
     "output_type": "stream",
     "text": [
      "Warning, log file not found starting a new one\n"
     ]
    }
   ],
   "source": [
    "sys.stderr.write('Warning, log file not found starting a new one\\n')"
   ]
  },
  {
   "cell_type": "markdown",
   "metadata": {},
   "source": [
    "# 字符串正则匹配"
   ]
  },
  {
   "cell_type": "code",
   "execution_count": 13,
   "metadata": {
    "collapsed": true
   },
   "outputs": [],
   "source": [
    "import re"
   ]
  },
  {
   "cell_type": "code",
   "execution_count": 14,
   "metadata": {},
   "outputs": [
    {
     "data": {
      "text/plain": [
       "['foot', 'fell', 'fastest']"
      ]
     },
     "execution_count": 14,
     "metadata": {},
     "output_type": "execute_result"
    }
   ],
   "source": [
    "re.findall(r'\\bf[a-z]*', 'which foot or hand fell fastest')"
   ]
  },
  {
   "cell_type": "code",
   "execution_count": 15,
   "metadata": {},
   "outputs": [
    {
     "data": {
      "text/plain": [
       "'cat in the hat'"
      ]
     },
     "execution_count": 15,
     "metadata": {},
     "output_type": "execute_result"
    }
   ],
   "source": [
    "re.sub(r'(\\b[a-z]+) \\1', r'\\1', 'cat in the the hat')"
   ]
  },
  {
   "cell_type": "code",
   "execution_count": 16,
   "metadata": {},
   "outputs": [
    {
     "data": {
      "text/plain": [
       "'tea for two'"
      ]
     },
     "execution_count": 16,
     "metadata": {},
     "output_type": "execute_result"
    }
   ],
   "source": [
    "'tea for too'.replace('too', 'two')"
   ]
  },
  {
   "cell_type": "markdown",
   "metadata": {},
   "source": [
    "# 数学"
   ]
  },
  {
   "cell_type": "code",
   "execution_count": 17,
   "metadata": {
    "collapsed": true
   },
   "outputs": [],
   "source": [
    "import math"
   ]
  },
  {
   "cell_type": "code",
   "execution_count": 18,
   "metadata": {},
   "outputs": [
    {
     "data": {
      "text/plain": [
       "0.7071067811865476"
      ]
     },
     "execution_count": 18,
     "metadata": {},
     "output_type": "execute_result"
    }
   ],
   "source": [
    "math.cos(math.pi /4)"
   ]
  },
  {
   "cell_type": "code",
   "execution_count": 19,
   "metadata": {},
   "outputs": [
    {
     "data": {
      "text/plain": [
       "10.0"
      ]
     },
     "execution_count": 19,
     "metadata": {},
     "output_type": "execute_result"
    }
   ],
   "source": [
    "math.log(1024, 2)"
   ]
  },
  {
   "cell_type": "code",
   "execution_count": 20,
   "metadata": {
    "collapsed": true
   },
   "outputs": [],
   "source": [
    "import random"
   ]
  },
  {
   "cell_type": "code",
   "execution_count": 21,
   "metadata": {},
   "outputs": [
    {
     "data": {
      "text/plain": [
       "'banana'"
      ]
     },
     "execution_count": 21,
     "metadata": {},
     "output_type": "execute_result"
    }
   ],
   "source": [
    "random.choice(['apple', 'pear', 'banana'])"
   ]
  },
  {
   "cell_type": "code",
   "execution_count": 22,
   "metadata": {},
   "outputs": [
    {
     "data": {
      "text/plain": [
       "[49, 97, 95, 84, 56, 88, 53, 86, 23, 69]"
      ]
     },
     "execution_count": 22,
     "metadata": {},
     "output_type": "execute_result"
    }
   ],
   "source": [
    "random.sample(range(100), 10)  # sampling without replacement"
   ]
  },
  {
   "cell_type": "code",
   "execution_count": 23,
   "metadata": {},
   "outputs": [
    {
     "data": {
      "text/plain": [
       "0.17836841024125683"
      ]
     },
     "execution_count": 23,
     "metadata": {},
     "output_type": "execute_result"
    }
   ],
   "source": [
    "random.random()  # random float"
   ]
  },
  {
   "cell_type": "code",
   "execution_count": 24,
   "metadata": {},
   "outputs": [
    {
     "data": {
      "text/plain": [
       "4"
      ]
     },
     "execution_count": 24,
     "metadata": {},
     "output_type": "execute_result"
    }
   ],
   "source": [
    "random.randrange(6)  # random integer chosen from range(6)"
   ]
  },
  {
   "cell_type": "code",
   "execution_count": 25,
   "metadata": {},
   "outputs": [
    {
     "data": {
      "text/plain": [
       "2.718281828459045"
      ]
     },
     "execution_count": 25,
     "metadata": {},
     "output_type": "execute_result"
    }
   ],
   "source": [
    "math.exp(1)"
   ]
  },
  {
   "cell_type": "code",
   "execution_count": 26,
   "metadata": {},
   "outputs": [
    {
     "data": {
      "text/plain": [
       "-0.8390715290764524"
      ]
     },
     "execution_count": 26,
     "metadata": {},
     "output_type": "execute_result"
    }
   ],
   "source": [
    "math.cos(10)"
   ]
  },
  {
   "cell_type": "code",
   "execution_count": 27,
   "metadata": {},
   "outputs": [
    {
     "data": {
      "text/plain": [
       "-1.995200412208242"
      ]
     },
     "execution_count": 27,
     "metadata": {},
     "output_type": "execute_result"
    }
   ],
   "source": [
    "math.tan(90)"
   ]
  },
  {
   "cell_type": "markdown",
   "metadata": {},
   "source": [
    "# 访问互联网"
   ]
  },
  {
   "cell_type": "code",
   "execution_count": 28,
   "metadata": {
    "collapsed": true
   },
   "outputs": [],
   "source": [
    "from urllib.request import urlopen"
   ]
  },
  {
   "cell_type": "code",
   "execution_count": 29,
   "metadata": {},
   "outputs": [
    {
     "name": "stdout",
     "output_type": "stream",
     "text": [
      "<a href=\"https://s.taobao.com/search?ie=utf8&initiative_id=staobaoz_20180724&stats_click=search_radio_all%3A1&js=1&imgfile=&q=%E7%94%9F%E9%B2%9C&suggest=history_1&_input_charset=utf-8&wq=%E7%94%9F%E9%B2%9C&suggest_query=%E7%94%9F%E9%B2%9C&source=suggest\" data-cid=\"1\" data-dataid=\"222905\">生鲜</a> /\n",
      "\n",
      "<a href=\"https://s.taobao.com/search?ie=utf8&initiative_id=staobaoz_20170419&stats_click=search_radio_all%3A1&js=1&imgfile=&q=%E8%BF%9B%E5%8F%A3%E7%8B%97%E7%B2%AE&suggest=history_3&_input_charset=utf-8&wq=&suggest_query=&source=suggest\" data-cid=\"1\" data-dataid=\"222894\">宠物</a> /\n",
      "\n",
      "  window.suggestModuleVersion = '6.3.1';\n",
      "\n",
      "<script src=\"//g.alicdn.com/??kissy/k/6.2.4/event-custom-min.js,kissy/k/6.2.4/event-base-min.js,kissy/k/6.2.4/io-min.js,kissy/k/6.2.4/io-extra-min.js,kissy/k/6.2.4/io-base-min.js,kissy/k/6.2.4/promise-min.js,kissy/k/6.2.4/dom-base-min.js,kissy/k/6.2.4/query-selector-base-min.js,kissy/k/6.2.4/dom-extra-min.js,kissy/k/6.2.4/io-form-min.js,kissy/k/6.2.4/node-min.js,kissy/k/6.2.4/node-base-min.js,kissy/k/6.2.4/node-event-min.js,kissy/k/6.2.4/event-dom-base-min.js,kissy/k/6.2.4/event-dom-extra-min.js,kissy/k/6.2.4/event-gesture-min.js,kissy/k/6.2.4/event-touch-min.js,kissy/k/6.2.4/node-anim-min.js,kissy/k/6.2.4/anim-transition-min.js,kissy/k/6.2.4/anim-base-min.js,kissy/k/6.2.4/cookie-min.js,kissy/k/6.2.4/event-min.js,kissy/k/6.2.4/base-min.js,kissy/k/6.2.4/attribute-min.js,kissy/k/6.2.4/json-base-min.js,kg/attr-anim/6.0.6/index-min.js,kg/xctrl/7.2.1/xctrl-kissy-min.js,sd/sufei/0.2.4/app/common/sufei-kissy.js,kg/offline/7.0.1/index-min.js,kg/session/0.0.1/index-min.js,kg/slide/6.0.8/index-min.js,kg/straw/1.0.2/index-min.js,kg/datalazyload/6.0.10/index-min.js,kg/route-map-http/0.0.3/index.js\"></script>\n",
      "\n"
     ]
    }
   ],
   "source": [
    "for line in urlopen('https://www.taobao.com'):\n",
    "    line = line.decode('utf-8')  # Decoding the binary data to text.\n",
    "    if 'est' in line or 'EDT' in line:  # look for Eastern Time\n",
    "        print(line)"
   ]
  },
  {
   "cell_type": "code",
   "execution_count": 30,
   "metadata": {},
   "outputs": [
    {
     "name": "stdout",
     "output_type": "stream",
     "text": [
      "<link rel=\"manifest\" href=\"//www.iqiyi.com/manifest.json\">                 <script type=\"text/javascript\">\n",
      "\n",
      "    var pageJsMap = window.pageJsMap = {\"albumBodan\":\"albumBodan.f0296351.js\",\"play\":\"play.dd6bcb79.js\",\"talkshow\":\"talkshow.16388261.js\",\"talkshow-legacy\":\"talkshow-legacy.7d4b3f50.js\",\"child-legacy\":\"child-legacy.6d349571.js\",\"home2017-legacy\":\"home2017-legacy.7a2504bf.js\",\"caijing\":\"caijing.33bb4976.js\",\"playLong-legacy\":\"playLong-legacy.26ddc40c.js\",\"vendor-legacy\":\"vendor-legacy.072f18c4.js\",\"vip-legacy\":\"vip-legacy.b2cfaf57.js\",\"yanchu\":\"yanchu.1b6624d1.js\",\"playSeries-legacy\":\"playSeries-legacy.7a77306f.js\",\"music\":\"music.c25a4c5a.js\",\"muying-legacy\":\"muying-legacy.2a589929.js\",\"games\":\"games.3f9ce6a9.js\",\"movie2018-legacy\":\"movie2018-legacy.193f1244.js\",\"zixun-legacy\":\"zixun-legacy.d5d0e7fb.js\",\"vip\":\"vip.06f0182f.js\",\"weidianying\":\"weidianying.7fb9e336.js\",\"bodan-legacy\":\"bodan-legacy.ccdd6989.js\",\"app\":\"app.af3fd9ab.js\",\"jiankang-legacy\":\"jiankang-legacy.81e202d8.js\",\"jilupian-legacy\":\"jilupian-legacy.bfae717e.js\",\"music-legacy\":\"music-legacy.1216b257.js\",\"common-legacy\":\"common-legacy.b3178a64.js\",\"manifest-legacy\":\"manifest-legacy.0d4cd492.js\",\"playLong\":\"playLong.8ff0b2b1.js\",\"keji\":\"keji.3128d8f7.js\",\"list\":\"list.cce1d908.js\",\"playBodan\":\"playBodan.eb6f7503.js\",\"movie2018\":\"movie2018.0574d3e1.js\",\"yule\":\"yule.26a656f6.js\",\"dianshiju-legacy\":\"dianshiju-legacy.8f3c5778.js\",\"vr-legacy\":\"vr-legacy.7ba8df97.js\",\"yuanchuang\":\"yuanchuang.a4f41146.js\",\"edu\":\"edu.d0d174c3.js\",\"home2017\":\"home2017.bc120e79.js\",\"fashion-legacy\":\"fashion-legacy.1ec2d769.js\",\"keji-legacy\":\"keji-legacy.d4d35fdf.js\",\"playSource-legacy\":\"playSource-legacy.1471deb6.js\",\"zongyi-legacy\":\"zongyi-legacy.aa878852.js\",\"playShort-legacy\":\"playShort-legacy.e225efc1.js\",\"playShortFeed-legacy\":\"playShortFeed-legacy.476436ec.js\",\"yuanchuang-legacy\":\"yuanchuang-legacy.0d8ee5ca.js\",\"bodan\":\"bodan.3913b54b.js\",\"vr\":\"vr.3ce5c3bf.js\",\"list-legacy\":\"list-legacy.9ccbcea0.js\",\"shenghuo\":\"shenghuo.cc5f07e6.js\",\"app-legacy\":\"app-legacy.34790b70.js\",\"mil-legacy\":\"mil-legacy.93655ffd.js\",\"child\":\"child.60158d55.js\",\"pianhua\":\"pianhua.7819047b.js\",\"dianshiju\":\"dianshiju.a6a54c38.js\",\"playSeries\":\"playSeries.fc3ff436.js\",\"playShort\":\"playShort.0a04ee49.js\",\"zongyi\":\"zongyi.c29c8532.js\",\"albumBodan-legacy\":\"albumBodan-legacy.1266a8cb.js\",\"games-legacy\":\"games-legacy.4bff61e3.js\",\"gaoxiao\":\"gaoxiao.6c157004.js\",\"jiankang\":\"jiankang.1e453678.js\",\"playShortFeed\":\"playShortFeed.edd33d3f.js\",\"gaoxiao-legacy\":\"gaoxiao-legacy.5e990efd.js\",\"caijing-legacy\":\"caijing-legacy.11dc9087.js\",\"yanchu-legacy\":\"yanchu-legacy.520c6082.js\",\"mil\":\"mil.d255efce.js\",\"common\":\"common.625e634c.js\",\"playBodan-legacy\":\"playBodan-legacy.7fc752ec.js\",\"vendor\":\"vendor.df45bfb7.js\",\"muying\":\"muying.d0b94658.js\",\"playKnowledge-legacy\":\"playKnowledge-legacy.89464ba3.js\",\"playKnowledge\":\"playKnowledge.8580c11f.js\",\"qiche\":\"qiche.6c220cb2.js\",\"edu-legacy\":\"edu-legacy.489e1462.js\",\"gongyi\":\"gongyi.d04d71c2.js\",\"gongyi-legacy\":\"gongyi-legacy.b6c7d55f.js\",\"yule-legacy\":\"yule-legacy.589a0117.js\",\"pianhua-legacy\":\"pianhua-legacy.6e2ac4f1.js\",\"manifest\":\"manifest.0d4cd492.js\",\"zixun\":\"zixun.3b6edecf.js\",\"lvyou-legacy\":\"lvyou-legacy.cfbb8aa3.js\",\"shenghuo-legacy\":\"shenghuo-legacy.f397f15f.js\",\"play-legacy\":\"play-legacy.464336d8.js\",\"qiche-legacy\":\"qiche-legacy.a2b91f38.js\",\"weidianying-legacy\":\"weidianying-legacy.82bb2a24.js\",\"jilupian\":\"jilupian.710cc44f.js\",\"playSource\":\"playSource.e1b36e17.js\",\"lvyou\":\"lvyou.6db138ac.js\",\"fashion\":\"fashion.4f7910b3.js\"};\n",
      "\n",
      "(function(win){var localStorageQC005=window.localStorage&&localStorage.getItem(\"QC005\");var isValidKey=function(key){return(new RegExp('^[^\\\\x00-\\\\x20\\\\x7f\\\\(\\\\)<>@,;:\\\\\\\\\\\\\"\\\\[\\\\]\\\\?=\\\\{\\\\}\\\\/\\\\u0080-\\\\uffff]+\\x24')).test(key)};var setRaw=function(key,value,options){if(!isValidKey(key)){return}options=options||{};var expires=options.expires;if(\"number\"==typeof options.expires){expires=new Date();expires.setTime(expires.getTime()+options.expires)}document.cookie=key+\"=\"+value+(options.path?\"; path=\"+options.path:\"\")+(expires?\"; expires=\"+expires.toGMTString():\"\")+(options.domain?\"; domain=\"+options.domain:\"\")+(options.secure?\"; secure\":\"\")};var getRaw=function(key){if(isValidKey(key)){var reg=new RegExp(\"(^| )\"+key+\"=([^;]*)(;|\\x24)\"),result=reg.exec(document.cookie);if(result){return result[2]||null}}return null};var set=function(key,value,options){setRaw(key,encodeURIComponent(value),options)};var get=function(key){var value=getRaw(key);if(\"string\"==typeof value){value=decodeURIComponent(value);return value}return null};var setNewUser=function(isNewuser){set(\"QC173\",isNewuser,{path:\"/\",domain:\"iqiyi.com\",expires:90*365*24*3600*1000})};var getLocal005=function(){if(localStorageQC005){set(\"QC005\",localStorageQC005,{path:\"/\",domain:\"iqiyi.com\",expires:90*365*24*3600*1000});setNewUser(0);return true}return false};var generate=function(){if(!getLocal005()){var chars=[\"0\",\"1\",\"2\",\"3\",\"4\",\"5\",\"6\",\"7\",\"8\",\"9\",\"a\",\"b\",\"c\",\"d\",\"e\",\"f\"];var nums=\"\";for(var i=0;i<32;i++){var id=Math.floor(Math.random()*16);nums+=chars[id]}uid=nums;set(\"QC005\",uid,{path:\"/\",domain:\"iqiyi.com\",expires:90*365*24*3600*1000});if(window.localStorage){localStorage.setItem(\"QC005\",uid)}setNewUser(1)}};if(!get(\"QC005\")){generate()}else{if(localStorageQC005){set(\"QC005\",localStorageQC005,{path:\"/\",domain:\"iqiyi.com\",expires:90*365*24*3600*1000})}setNewUser(0)}})(window);\r\n",
      "\n",
      "    <div class=\"header-wrap  qy-header-abtest\">\n",
      "\n",
      "    :source-data='{\"videos\":[{\"itemId\":9486354900,\"type\":1,\"name\":\"中国计划2022年前后建成规模100吨可载3人空间站\",\"pageUrl\":\"\",\"imageUrl\":\"\",\"prompt\":\"\",\"subordinateTitle\":\"\",\"shortDisplayName\":\"\",\"mixinVideo\":{\"name\":\"加油中国航天！2022前后建成可载3人中国空间站\",\"description\":\"全球热点资讯奇闻趣事第一时间为您放送！\",\"tvId\":9486354900,\"url\":\"http://www.iqiyi.com/v_19rvcso5o8.html\",\"albumId\":224633001,\"duration\":62,\"imageUrl\":\"http://pic8.iqiyipic.com/image/20191118/fc/af/v_141249101_m_601.jpg\",\"channelId\":25,\"subtitle\":\"2022前后建成中国空间站\",\"vip\":{\"payMarkUrl\":\"\",\"payMark\":0,\"vipType\":[0],\"purchaseType\":0},\"userId\":1251473600,\"period\":\"20191118\",\"exclusive\":0,\"qiyiProduced\":0,\"shortTitle\":\"2022前后建成中国空间站\",\"recommendation\":\"奇闻资讯头条大搜罗\",\"contentType\":1,\"album\":{\"id\":224633001,\"name\":\"奇闻热点资讯实时播报\",\"url\":\"http://www.iqiyi.com/a_19rrgxvdmt.html\",\"imageUrl\":\"http://pic3.iqiyipic.com/image/20190425/2e/fe/a_100140120_m_601_m3.jpg\",\"videoCount\":0,\"isSource\":1,\"exclusive\":0,\"qiyiProduced\":0,\"latestVideo\":{\"tvId\":9503741300,\"url\":\"http://www.iqiyi.com/v_19rvdlow7s.html\",\"order\":1}},\"user\":{\"id\":1251473600,\"name\":\"奇闻资讯大搜罗\"}},\"kvs\":{}},{\"itemId\":9490291600,\"type\":1,\"name\":\"央视揭假名牌包制售过程 万元出口假LV\",\"pageUrl\":\"\",\"imageUrl\":\"\",\"prompt\":\"\",\"subordinateTitle\":\"\",\"shortDisplayName\":\"\",\"mixinVideo\":{\"name\":\"央视揭假名牌包制售过程 成本两百元假LV以万元价格出口\",\"description\":\"\",\"tvId\":9490291600,\"url\":\"http://www.iqiyi.com/v_19rvd00b98.html\",\"albumId\":0,\"duration\":96,\"imageUrl\":\"http://pic8.iqiyipic.com/image/20191118/b7/51/v_141255748_m_601.jpg\",\"channelId\":25,\"subtitle\":\"两百元假LV万元出口\",\"vip\":{\"payMarkUrl\":\"\",\"payMark\":0,\"vipType\":[0],\"purchaseType\":0},\"userId\":1229434509,\"period\":\"20191118\",\"exclusive\":0,\"qiyiProduced\":0,\"shortTitle\":\"两百元假LV万元出口\",\"recommendation\":\"\",\"contentType\":1,\"user\":{\"id\":1229434509,\"name\":\"雷达视频\"}},\"kvs\":{}},{\"itemId\":9401487000,\"type\":1,\"name\":\"【奇葩说大乱斗】BBKing等你来战斗\",\"pageUrl\":\"\",\"imageUrl\":\"http://pic1.iqiyipic.com/common/lego/20191118/ef6e07fb6937478aae17fdd1d7ce9829.jpg\",\"prompt\":\"\",\"subordinateTitle\":\"\",\"shortDisplayName\":\"\",\"mixinVideo\":{\"name\":\"【奇葩说大乱斗】BBKing等你来战斗\",\"description\":\"别怂，够胆，不服来战！和《奇葩说6》选手面对面辩论互怼，就在《奇葩说大乱斗》！\",\"tvId\":9401487000,\"url\":\"http://www.iqiyi.com/v_19rvbzaf3o.html\",\"albumId\":241066001,\"duration\":99,\"imageUrl\":\"http://pic1.iqiyipic.com/image/20191118/33/55/v_141165899_m_601_m1.jpg\",\"channelId\":6,\"subtitle\":\"奇葩说加时赛\",\"vip\":{\"payMarkUrl\":\"\",\"payMark\":0,\"vipType\":[0],\"purchaseType\":0},\"userId\":0,\"period\":\"20191118\",\"exclusive\":1,\"qiyiProduced\":1,\"shortTitle\":\"BBKing等你来战斗\",\"recommendation\":\"快来和BBKing战斗\",\"contentType\":4,\"album\":{\"id\":241066001,\"name\":\"奇葩说第6季\",\"url\":\"http://www.iqiyi.com/a_19rrhsxu9p.html\",\"imageUrl\":\"http://pic1.iqiyipic.com/image/20191101/db/eb/a_100291051_m_601_m9.jpg\",\"videoCount\":0,\"isSource\":1,\"exclusive\":1,\"qiyiProduced\":1,\"latestVideo\":{\"tvId\":9386529800,\"url\":\"http://www.iqiyi.com/v_19rv6o3yw4.html\",\"order\":1}}},\"kvs\":{\"defImg_webp\":\"http://pic1.iqiyipic.com/common/lego/20191118/ef6e07fb6937478aae17fdd1d7ce9829.webp\"}},{\"itemId\":9298496900,\"type\":1,\"name\":\"妻子3：唐一菲谈260元婚纱心结 凌潇肃首谈上段婚姻\",\"pageUrl\":\"\",\"imageUrl\":\"http://pic0.iqiyipic.com/common/lego/20191116/ca506acfa2b1422dbc3f744832c0e194.jpg\",\"prompt\":\"\",\"subordinateTitle\":\"\",\"shortDisplayName\":\"\",\"mixinVideo\":{\"name\":\"《妻子的浪漫旅行3》唐一菲谈260元婚纱心结 凌潇肃首谈上段婚姻\",\"description\":\"《妻子的浪漫旅行3》唐一菲谈260元婚纱心结 凌潇肃首谈上段婚姻\",\"tvId\":9298496900,\"url\":\"http://www.iqiyi.com/v_19rv5wne20.html\",\"albumId\":241328601,\"duration\":257,\"imageUrl\":\"http://pic2.iqiyipic.com/image/20191113/f9/f1/v_141014187_m_601_m1.jpg\",\"channelId\":6,\"subtitle\":\"《妻子的浪漫旅行3》唐一菲谈260元婚纱心结 凌潇肃首谈上段婚姻\",\"vip\":{\"payMarkUrl\":\"\",\"payMark\":0,\"vipType\":[0],\"purchaseType\":0},\"userId\":990468386,\"period\":\"20191113\",\"exclusive\":0,\"qiyiProduced\":0,\"shortTitle\":\"凌潇肃首谈上段婚姻\",\"recommendation\":\"唐一菲谈婚纱心结\",\"contentType\":7,\"album\":{\"id\":241328601,\"name\":\"妻子的浪漫旅行第3季\",\"url\":\"http://www.iqiyi.com/a_19rrhrui7p.html\",\"imageUrl\":\"http://pic6.iqiyipic.com/image/20191111/03/f0/a_100293605_m_601_m8.jpg\",\"videoCount\":0,\"isSource\":1,\"exclusive\":0,\"qiyiProduced\":0,\"latestVideo\":{\"tvId\":9281604500,\"url\":\"http://www.iqiyi.com/v_19rv52po8o.html\",\"order\":1}},\"user\":{\"id\":990468386,\"name\":\"妻子的浪漫旅行官方\"}},\"kvs\":{\"defImg_webp\":\"http://pic0.iqiyipic.com/common/lego/20191116/ca506acfa2b1422dbc3f744832c0e194.webp\"}},{\"itemId\":9492983600,\"type\":1,\"name\":\"46城确定为垃圾分类重点城市！速转垃圾分类指南\",\"pageUrl\":\"\",\"imageUrl\":\"\",\"prompt\":\"\",\"subordinateTitle\":\"\",\"shortDisplayName\":\"\",\"mixinVideo\":{\"name\":\"46城被确定为垃圾分类重点城市！速转垃圾分类指南\",\"description\":\"住房和城乡建设部15日发布了《生活垃圾分类标志》标准，将于12月1日起正式实施。截至目前，我国237个地级及以上城市已启动垃圾分类。北京、天津、郑州、成都等地也将推行垃圾分类。\",\"tvId\":9492983600,\"url\":\"http://www.iqiyi.com/v_19rvcxryho.html\",\"albumId\":242674501,\"duration\":62,\"imageUrl\":\"http://pic7.iqiyipic.com/image/20191118/9b/b8/v_141261023_m_601.jpg\",\"channelId\":25,\"subtitle\":\"46城为垃圾分类重点城市\",\"vip\":{\"payMarkUrl\":\"\",\"payMark\":0,\"vipType\":[0],\"purchaseType\":0},\"userId\":1503109755,\"period\":\"20191118\",\"exclusive\":0,\"qiyiProduced\":0,\"shortTitle\":\"46城为垃圾分类重点城市\",\"recommendation\":\"每日热点，不停播报\",\"contentType\":1,\"album\":{\"id\":242674501,\"name\":\"资讯全搜索\",\"url\":\"http://www.iqiyi.com/a_19rrhredrd.html\",\"imageUrl\":\"http://pic9.iqiyipic.com/image/20191106/95/7f/a_100307035_m_601_m7.jpg\",\"videoCount\":0,\"isSource\":1,\"exclusive\":0,\"qiyiProduced\":0,\"latestVideo\":{\"tvId\":9505602100,\"url\":\"http://www.iqiyi.com/v_19rvdu9gew.html\",\"order\":1}},\"user\":{\"id\":1503109755,\"name\":\"资讯全搜索\"}},\"kvs\":{}},{\"itemId\":-25494743712,\"type\":4,\"name\":\"我们的歌：vocal认证！肖战再唱《满足》花式获赞\",\"pageUrl\":\"https://www.iqiyi.com/v_19rvd8g2wc.html\",\"imageUrl\":\"http://pic3.iqiyipic.com/common/lego/20191117/3ffde3b6b3454748aeaa5341b421c887.jpg\",\"prompt\":\"\",\"subordinateTitle\":\"\",\"shortDisplayName\":\"\",\"kvs\":{\"defImg_webp\":\"http://pic3.iqiyipic.com/common/lego/20191117/3ffde3b6b3454748aeaa5341b421c887.webp\"}},{\"itemId\":9152810300,\"type\":1,\"name\":\"追我吧：邹市明受伤摔倒吓坏陈伟霆\",\"pageUrl\":\"http://www.iqiyi.com/v_19rv62dzcg.html\",\"imageUrl\":\"http://pic3.iqiyipic.com/common/lego/20191115/cf79e2d6f081470a8564e92c3d4a529c.jpg\",\"prompt\":\"\",\"subordinateTitle\":\"\",\"shortDisplayName\":\"\",\"mixinVideo\":{\"name\":\"职场玻璃心\",\"description\":\"\",\"tvId\":9152810300,\"url\":\"http://www.iqiyi.com/v_19rv7hksi8.html\",\"albumId\":248296501,\"duration\":730,\"imageUrl\":\"http://pic3.iqiyipic.com/image/20191118/5e/87/v_140714032_m_601_m6.jpg\",\"channelId\":12,\"subtitle\":\"职场玻璃心\",\"vip\":{\"payMarkUrl\":\"\",\"payMark\":0,\"vipType\":[0],\"purchaseType\":0},\"userId\":1784750313,\"period\":\"20191118\",\"exclusive\":0,\"qiyiProduced\":0,\"shortTitle\":\"职场玻璃心\",\"recommendation\":\"跟刘天池学表演\",\"contentType\":1,\"album\":{\"id\":248296501,\"name\":\"职场抡演技，用表演技巧化解职场难题\",\"url\":\"http://www.iqiyi.com/a_19rrhyif6h.html\",\"imageUrl\":\"http://pic8.iqiyipic.com/image/20191107/97/bf/a_100362550_m_601_m2.jpg\",\"videoCount\":15,\"isSource\":0,\"exclusive\":0,\"qiyiProduced\":0,\"latestVideo\":{\"tvId\":9345322600,\"url\":\"http://www.iqiyi.com/v_19rv68dhc4.html\",\"order\":9}},\"user\":{\"id\":1784750313,\"name\":\"劉天池表演工坊\"}},\"kvs\":{\"defImg_webp\":\"http://pic3.iqiyipic.com/common/lego/20191115/cf79e2d6f081470a8564e92c3d4a529c.webp\"}},{\"itemId\":-23939121412,\"type\":4,\"name\":\"这样唱好美·你吼啥？·戚薇李承铉“官宣”离婚\",\"pageUrl\":\"https://www.iqiyi.com/v_19rv6usp98.html\",\"imageUrl\":\"http://pic3.iqiyipic.com/common/lego/20191118/3ded3c14ac1b49c18b4db76031147387.jpg\",\"prompt\":\"\",\"subordinateTitle\":\"\",\"shortDisplayName\":\"\",\"kvs\":{\"defImg_webp\":\"http://pic3.iqiyipic.com/common/lego/20191118/3ded3c14ac1b49c18b4db76031147387.webp\"}},{\"itemId\":-25001110312,\"type\":4,\"name\":\"奇葩说6·太难了！二人转双煞笑晕邱晨\",\"pageUrl\":\"https://www.iqiyi.com/v_19rvcph4y4.html\",\"imageUrl\":\"http://pic0.iqiyipic.com/common/lego/20191118/6c0f3f9d01bc44b3bfe40a75c77148a7.jpg\",\"prompt\":\"\",\"subordinateTitle\":\"\",\"shortDisplayName\":\"\",\"kvs\":{\"defImg_webp\":\"http://pic0.iqiyipic.com/common/lego/20191118/6c0f3f9d01bc44b3bfe40a75c77148a7.webp\"}},{\"itemId\":-24850896912,\"type\":4,\"name\":\"我就是演员：心疼！李宇春谈被网络暴力经历\",\"pageUrl\":\"http://www.iqiyi.com/v_19rvcndjuc.html\",\"imageUrl\":\"http://pic0.iqiyipic.com/common/lego/20191117/168bec370d2645eb9169e6fa58dc363d.jpg\",\"prompt\":\"\",\"subordinateTitle\":\"\",\"shortDisplayName\":\"\",\"kvs\":{\"defImg_webp\":\"http://pic0.iqiyipic.com/common/lego/20191117/168bec370d2645eb9169e6fa58dc363d.webp\"}},{\"itemId\":9271024300,\"type\":1,\"name\":\"限定的记忆：王子异感谢尤长靖亲手教学\",\"pageUrl\":\"\",\"imageUrl\":\"http://pic0.iqiyipic.com/common/lego/20191116/26f1707102aa4318adc2a508202ec689.jpg\",\"prompt\":\"\",\"subordinateTitle\":\"\",\"shortDisplayName\":\"\",\"mixinVideo\":{\"name\":\"王子异对尤长靖说的话\",\"description\":\"王子异对尤长靖说的话\",\"tvId\":9271024300,\"url\":\"http://www.iqiyi.com/v_19rv5ivzy8.html\",\"albumId\":245771901,\"duration\":32,\"imageUrl\":\"http://pic0.iqiyipic.com/image/20191113/85/6f/v_140964641_m_601_m1.jpg\",\"channelId\":6,\"subtitle\":\"王子异对尤长靖说的话\",\"vip\":{\"payMarkUrl\":\"\",\"payMark\":0,\"vipType\":[0],\"purchaseType\":0},\"userId\":1677793974,\"period\":\"20191114\",\"exclusive\":1,\"qiyiProduced\":1,\"shortTitle\":\"王子异对尤长靖说的话\",\"recommendation\":\"王子异对尤长靖说的话\",\"contentType\":27,\"album\":{\"id\":245771901,\"name\":\"限定的记忆\",\"url\":\"http://www.iqiyi.com/a_19rrhzi6mp.html\",\"imageUrl\":\"http://pic8.iqiyipic.com/image/20191011/0c/d7/a_100337495_m_601_m5.jpg\",\"videoCount\":0,\"isSource\":1,\"exclusive\":1,\"qiyiProduced\":1,\"latestVideo\":{\"tvId\":9294873100,\"url\":\"http://www.iqiyi.com/v_19rv5yc40w.html\",\"order\":1}},\"user\":{\"id\":1677793974,\"name\":\"限定的记忆\"}},\"kvs\":{\"defImg_webp\":\"http://pic0.iqiyipic.com/common/lego/20191116/26f1707102aa4318adc2a508202ec689.webp\"}},{\"itemId\":9477050300,\"type\":1,\"name\":\"\",\"pageUrl\":\"\",\"imageUrl\":\"\",\"prompt\":\"\",\"subordinateTitle\":\"\",\"shortDisplayName\":\"\",\"mixinVideo\":{\"name\":\"怀疑哥哥挥霍父亲医药费？醉汉持刀劫持5岁侄子\",\"description\":\"\",\"tvId\":9477050300,\"url\":\"http://www.iqiyi.com/v_19rvd73umo.html\",\"albumId\":0,\"duration\":51,\"imageUrl\":\"http://pic2.iqiyipic.com/image/20191117/fc/9a/v_141243488_m_601.jpg\",\"channelId\":25,\"subtitle\":\"\",\"vip\":{\"payMarkUrl\":\"\",\"payMark\":0,\"vipType\":[0],\"purchaseType\":0},\"userId\":1222863613,\"period\":\"20191117\",\"exclusive\":0,\"qiyiProduced\":0,\"shortTitle\":\"\",\"recommendation\":\"\",\"contentType\":1,\"user\":{\"id\":1222863613,\"name\":\"SMG看看新闻Knews\"}},\"kvs\":{}},{\"itemId\":-25530504212,\"type\":4,\"name\":\"次元二bi治：新番不讲理，桐人坐轮椅\",\"pageUrl\":\"https://www.iqiyi.com/v_19rv6an0j4.html\",\"imageUrl\":\"http://pic1.iqiyipic.com/common/lego/20191118/293e86a612ab445db97426012f8682ac.jpg\",\"prompt\":\"\",\"subordinateTitle\":\"\",\"shortDisplayName\":\"\",\"kvs\":{\"defImg_webp\":\"http://pic1.iqiyipic.com/common/lego/20191118/293e86a612ab445db97426012f8682ac.webp\"}},{\"itemId\":-25494409812,\"type\":4,\"name\":\"上新了故宫2：乾隆一幅画竟盖172枚章\",\"pageUrl\":\"https://www.iqiyi.com/v_19rv6x8zpg.html\",\"imageUrl\":\"http://pic1.iqiyipic.com/common/lego/20191118/a2bac3d4809140b8b763e6a45898afd6.jpg\",\"prompt\":\"\",\"subordinateTitle\":\"\",\"shortDisplayName\":\"\",\"kvs\":{\"defImg_webp\":\"http://pic1.iqiyipic.com/common/lego/20191118/a2bac3d4809140b8b763e6a45898afd6.webp\"}},{\"itemId\":-24849410512,\"type\":4,\"name\":\"潮流合伙人：张国荣吴彦祖顶级神颜西装杀来袭\",\"pageUrl\":\"https://www.iqiyi.com/v_19rv66uhoo.html\",\"imageUrl\":\"http://pic3.iqiyipic.com/common/lego/20191118/2b7d01524e5041f086aa2d2b20eb31d6.jpg\",\"prompt\":\"\",\"subordinateTitle\":\"\",\"shortDisplayName\":\"\",\"kvs\":{\"defImg_webp\":\"http://pic3.iqiyipic.com/common/lego/20191118/2b7d01524e5041f086aa2d2b20eb31d6.webp\"}},{\"itemId\":9489801100,\"type\":1,\"name\":\"王鸥演《惊蛰》很过瘾 “山离”又甜又虐张若昀直接撩\",\"pageUrl\":\"\",\"imageUrl\":\"http://pic1.iqiyipic.com/common/lego/20191118/a2ff155ab76641b789d82189c9249b25.jpg\",\"prompt\":\"\",\"subordinateTitle\":\"\",\"shortDisplayName\":\"\",\"mixinVideo\":{\"name\":\"王鸥演《惊蛰》很过瘾 “山离”又甜又虐张若昀直接撩\",\"description\":\"王鸥演《惊蛰》很过瘾 “山离”又甜又虐张若昀直接撩\",\"tvId\":9489801100,\"url\":\"http://www.iqiyi.com/v_19rvczpr6o.html\",\"albumId\":0,\"duration\":498,\"imageUrl\":\"http://pic6.iqiyipic.com/image/20191118/bd/1a/v_141254934_m_601_m2.jpg\",\"channelId\":7,\"subtitle\":\"\",\"vip\":{\"payMarkUrl\":\"\",\"payMark\":0,\"vipType\":[0],\"purchaseType\":0},\"userId\":990572962,\"period\":\"20191118\",\"exclusive\":0,\"qiyiProduced\":0,\"shortTitle\":\"王鸥爆料导演让张若昀直接开撩\",\"recommendation\":\"山离甜虐张若昀直接撩\",\"contentType\":1,\"user\":{\"id\":990572962,\"name\":\"娱乐大事件\"}},\"kvs\":{\"defImg_webp\":\"http://pic1.iqiyipic.com/common/lego/20191118/a2ff155ab76641b789d82189c9249b25.webp\"}},{\"itemId\":-25353359412,\"type\":4,\"name\":\"芭莎慈善夜专访UNINE：首演新单希望炸翻舞台\",\"pageUrl\":\"https://www.iqiyi.com/v_19rvc8p5to.html\",\"imageUrl\":\"http://pic2.iqiyipic.com/common/lego/20191117/10babd797c2b48a29f012e979da2ddd1.jpg\",\"prompt\":\"\",\"subordinateTitle\":\"\",\"shortDisplayName\":\"\",\"kvs\":{\"defImg_webp\":\"http://pic2.iqiyipic.com/common/lego/20191117/10babd797c2b48a29f012e979da2ddd1.webp\"}},{\"itemId\":248570201,\"type\":0,\"name\":\"\",\"pageUrl\":\"\",\"imageUrl\":\"http://pic3.iqiyipic.com/common/lego/20191118/1c2ffacc07a2491f9e6f74e23d71f389.jpg\",\"prompt\":\"\",\"subordinateTitle\":\"\",\"shortDisplayName\":\"\",\"album\":{\"id\":248570201,\"name\":\"表演课：解释表演常识，助力艺考更清晰\",\"url\":\"http://www.iqiyi.com/a_19rrhxeo1h.html\",\"imageUrl\":\"http://pic5.iqiyipic.com/image/20191115/9d/e2/a_100365277_m_601_m3.jpg\",\"channelId\":12,\"description\":\"每一年，报考表演专业的艺术生越来越多。\\n每一年，只有少数幸运的艺考生能圆梦表演的殿堂。\\n要明白，学习表演不是一件容易的事，你需要具备演员的基本素质。演员的基本素质，有靠先天获得的，然而大部分是可以通过后天的知识、训练学到的。\\n可是！学什么？怎么学？向谁学？\\n学，就要学得正确，学得精准，学得放心。刘天池老师，中央戏剧学院戏剧戏曲学博士，在中戏表演系执教二十余年，拥有丰富的表演指导实践经验。刘天池老师将在15期课程中，从表演艺术的基本理念和演员的基本素质入手，精准解析表演专业考试的备考要点，详细解读表演的理论常识与创作方法，提供可操作的元素训练方法，并细致讲解报考与考场注意事项。\\n《表演课：解释表演常识，助力艺考更清晰》：教你正确的理论与方法，提供精准的训练和要点，让你放心备考、放心参考，为你的艺考之路助力。\\n\",\"videoCount\":15,\"vip\":{\"payMarkUrl\":\"http://pic2.iqiyipic.com/common/20171106/bc/1b/vip_100002_v_601.png\",\"payMark\":2,\"vipType\":[0],\"purchaseType\":1},\"updateStrategy\":\"\",\"isSource\":0,\"shortTitle\":\"解释表演常识，助力艺考\",\"exclusive\":0,\"mode1080p\":1,\"qiyiProduced\":0,\"recommendation\":\"表演艺考有多难？\",\"score\":0.0,\"latestTvId\":9380810200,\"period\":\"20191115\",\"firstVideo\":{\"url\":\"http://www.iqiyi.com/v_19rv73793s.html\"},\"latestVideo\":{\"order\":3,\"url\":\"http://www.iqiyi.com/v_19rv6qxepg.html\",\"name\":\"考试内容一：朗诵\",\"imageUrl\":\"http://pic1.iqiyipic.com/image/20191115/a1/7c/v_141138455_m_601.jpg\",\"shortTitle\":\"考试内容一\"},\"user\":{\"id\":1784750313,\"name\":\"劉天池表演工坊\"}},\"kvs\":{\"defImg_webp\":\"http://pic3.iqiyipic.com/common/lego/20191118/1c2ffacc07a2491f9e6f74e23d71f389.webp\"}},{\"itemId\":9491228500,\"type\":1,\"name\":\"\",\"pageUrl\":\"\",\"imageUrl\":\"http://pic3.iqiyipic.com/common/lego/20191118/b338c11b55de4dd8b23ed7dafbfed06b.jpg\",\"prompt\":\"\",\"subordinateTitle\":\"\",\"shortDisplayName\":\"\",\"mixinVideo\":{\"name\":\"白冰：女演员不该被年龄左右 很想诠释酷女孩\",\"description\":\"白冰：女演员不该被年龄左右 很想诠释酷女孩\",\"tvId\":9491228500,\"url\":\"http://www.iqiyi.com/v_19rvczbqyg.html\",\"albumId\":0,\"duration\":657,\"imageUrl\":\"http://pic1.iqiyipic.com/image/20191118/cd/cd/v_141257411_m_601.jpg\",\"channelId\":7,\"subtitle\":\"\",\"vip\":{\"payMarkUrl\":\"\",\"payMark\":0,\"vipType\":[0],\"purchaseType\":0},\"userId\":990572962,\"period\":\"20191118\",\"exclusive\":0,\"qiyiProduced\":0,\"shortTitle\":\"白冰：女演员不该被年龄左右\",\"recommendation\":\"很想诠释酷女孩\",\"contentType\":1,\"user\":{\"id\":990572962,\"name\":\"娱乐大事件\"}},\"kvs\":{\"defImg_webp\":\"http://pic3.iqiyipic.com/common/lego/20191118/b338c11b55de4dd8b23ed7dafbfed06b.webp\"}},{\"itemId\":-25461575512,\"type\":4,\"name\":\"这是一款玩了会减肥的游戏\",\"pageUrl\":\"https://www.iqiyi.com/v_19rvbzcbqk.html?list=19rr971kgq\",\"imageUrl\":\"http://pic0.iqiyipic.com/common/lego/20191116/8fd8b44afd4b42a4aa64ef79d8977df1.jpg\",\"prompt\":\"\",\"subordinateTitle\":\"\",\"shortDisplayName\":\"\",\"kvs\":{\"defImg_webp\":\"http://pic0.iqiyipic.com/common/lego/20191116/8fd8b44afd4b42a4aa64ef79d8977df1.webp\"}},{\"itemId\":9321147400,\"type\":1,\"name\":\"我们每个人都有罪！4分钟视频揭穿撒旦的套路！\",\"pageUrl\":\"\",\"imageUrl\":\"http://pic3.iqiyipic.com/common/lego/20191118/4d7b47b2fa2649379b231add20ae8770.png\",\"prompt\":\"\",\"subordinateTitle\":\"\",\"shortDisplayName\":\"\",\"mixinVideo\":{\"name\":\"我们每个人都有罪！4分钟视频揭穿，撒旦的套路！\",\"description\":\"\",\"tvId\":9321147400,\"url\":\"http://www.iqiyi.com/v_19rv5sn8mc.html\",\"albumId\":241829001,\"duration\":254,\"imageUrl\":\"http://pic2.iqiyipic.com/image/20191113/da/ee/v_141053757_m_601.jpg\",\"channelId\":22,\"subtitle\":\"4分钟揭穿撒旦的套路\",\"vip\":{\"payMarkUrl\":\"\",\"payMark\":0,\"vipType\":[0],\"purchaseType\":0},\"userId\":1451785790,\"period\":\"20191115\",\"exclusive\":0,\"qiyiProduced\":0,\"shortTitle\":\"4分钟揭穿撒旦的套路\",\"recommendation\":\"揭穿各种套路\",\"contentType\":1,\"album\":{\"id\":241829001,\"name\":\"套路侠\",\"url\":\"http://www.iqiyi.com/a_19rrhs695x.html\",\"imageUrl\":\"http://pic0.iqiyipic.com/image/20190530/e0/f3/a_100298585_m_601_m2.jpg\",\"videoCount\":0,\"isSource\":1,\"exclusive\":0,\"qiyiProduced\":0,\"latestVideo\":{\"tvId\":9321147400,\"url\":\"http://www.iqiyi.com/v_19rv5sn8mc.html\",\"order\":1}},\"user\":{\"id\":1451785790,\"name\":\"套路侠是谁\"}},\"kvs\":{\"defImg_webp\":\"http://pic3.iqiyipic.com/common/lego/20191118/4d7b47b2fa2649379b231add20ae8770.webp\"}},{\"itemId\":-25247069212,\"type\":4,\"name\":\"意外受伤怎么办？如何正确处理\",\"pageUrl\":\"https://www.iqiyi.com/v_19rv6yocys.html\",\"imageUrl\":\"http://pic3.iqiyipic.com/common/lego/20191115/0b67f2b5a35541beb7aaa762502f6a6a.jpg\",\"prompt\":\"\",\"subordinateTitle\":\"\",\"shortDisplayName\":\"\",\"kvs\":{\"defImg_webp\":\"http://pic3.iqiyipic.com/common/lego/20191115/0b67f2b5a35541beb7aaa762502f6a6a.webp\"}},{\"itemId\":-17929267312,\"type\":4,\"name\":\"忆英雄剧场：破冰行动\",\"pageUrl\":\"http://www.iqiyi.com/kszt/yingxiong.html\",\"imageUrl\":\"http://pic1.iqiyipic.com/common/lego/20190506/686672e3ecb24915bb27c2aa55a992f2.jpg\",\"prompt\":\"\",\"subordinateTitle\":\"\",\"shortDisplayName\":\"\",\"kvs\":{\"defImg_webp\":\"http://pic1.iqiyipic.com/common/lego/20190506/686672e3ecb24915bb27c2aa55a992f2.webp\"}},{\"itemId\":-17929253812,\"type\":4,\"name\":\"爱青春剧场：新版《新白》鞠婧祎于朦胧千年之缘\",\"pageUrl\":\"http://www.iqiyi.com/kszt/iqingchunjuchang.html\",\"imageUrl\":\"http://pic1.iqiyipic.com/common/lego/20190424/d27f467929904407b1d1adf1d74c0756.jpg\",\"prompt\":\"\",\"subordinateTitle\":\"\",\"shortDisplayName\":\"\",\"kvs\":{}}],\"title\":{\"name\":\"今日焦点\",\"icon\":\"focuplay\",\"link\":\"\",\"moreText\":\"\",\"subNav\":[{\"shortDisplayName\":\"\",\"itemId\":-21916810812,\"subordinateTitle\":\"\",\"itemFrom\":0,\"imageUrl\":\"\",\"name\":\"更多热点>\",\"kvs\":{\"width\":\"\",\"platform\":\"1,2,3,4,5,6\"},\"pageUrl\":\"https://www.iqiyi.com/feed/\",\"type\":4,\"prompt\":\"\",\"order\":1}]}}' \n",
      "\n",
      "        :source-data='{\"videos\":[{\"itemId\":9442186400,\"type\":1,\"name\":\"音浪合伙人\",\"pageUrl\":\"\",\"imageUrl\":\"http://pic1.iqiyipic.com/common/lego/20191117/34d825fb3ea740dcae2f160931c5f00c.jpg\",\"prompt\":\"\",\"subordinateTitle\":\"\",\"shortDisplayName\":\"刘维重返歌坛吉克隽逸泪目\",\"mixinVideo\":{\"name\":\"音浪合伙人之吉克隽逸带病演绎《孔雀》 刘维“重返歌坛”落泪\",\"description\":\"音浪合伙人之吉克隽逸带病演绎《孔雀》 刘维“重返歌坛”落泪\",\"tvId\":9442186400,\"url\":\"http://www.iqiyi.com/v_19rvcouj0s.html\",\"albumId\":246996201,\"duration\":4316,\"imageUrl\":\"http://pic7.iqiyipic.com/image/20191117/60/b4/v_141209463_m_601_m1.jpg\",\"channelId\":6,\"subtitle\":\"第9期 吉克隽逸带病演绎《孔雀》 刘维“重返歌坛”落泪\",\"vip\":{\"payMarkUrl\":\"\",\"payMark\":0,\"vipType\":[0],\"purchaseType\":0},\"userId\":0,\"period\":\"20191116\",\"exclusive\":0,\"qiyiProduced\":0,\"shortTitle\":\"第9期 吉克隽逸带病唱《孔雀》\",\"recommendation\":\"刘维感动吉克隽逸\",\"contentType\":1,\"album\":{\"id\":246996201,\"name\":\"音浪合伙人\",\"url\":\"http://www.iqiyi.com/a_19rrhyz5ad.html\",\"imageUrl\":\"http://pic2.iqiyipic.com/image/20190917/65/74/a_100349711_m_601_m5.jpg\",\"videoCount\":0,\"isSource\":1,\"exclusive\":0,\"qiyiProduced\":0,\"latestVideo\":{\"tvId\":9442186400,\"url\":\"http://www.iqiyi.com/v_19rvcouj0s.html\",\"order\":1}}},\"kvs\":{\"defImg_webp\":\"http://pic1.iqiyipic.com/common/lego/20191117/34d825fb3ea740dcae2f160931c5f00c.webp\"}},{\"itemId\":9440396200,\"type\":1,\"name\":\"主持人大赛2019\",\"pageUrl\":\"\",\"imageUrl\":\"http://pic1.iqiyipic.com/common/lego/20191117/50178f9b04924c02b85c82dbf87d4367.jpg\",\"prompt\":\"\",\"subordinateTitle\":\"\",\"shortDisplayName\":\"张健挑战《朗读者》 董卿被抢饭碗\",\"mixinVideo\":{\"name\":\"主持人大赛2019之张健90秒即兴挑战《朗读者》 董卿遭撒贝宁调侃\",\"description\":\"主持人大赛之张健90秒即兴挑战《朗读者》 董卿遭撒贝宁调侃\",\"tvId\":9440396200,\"url\":\"http://www.iqiyi.com/v_19rvcoz0ec.html\",\"albumId\":247795101,\"duration\":5705,\"imageUrl\":\"http://pic6.iqiyipic.com/image/20191117/9e/a6/v_141207736_m_601_m5.jpg\",\"channelId\":6,\"subtitle\":\"第3期 张健90秒即兴挑战《朗读者》 董卿遭撒贝宁调侃\",\"vip\":{\"payMarkUrl\":\"\",\"payMark\":0,\"vipType\":[0],\"purchaseType\":0},\"userId\":990630499,\"period\":\"20191116\",\"exclusive\":0,\"qiyiProduced\":0,\"shortTitle\":\"第3期 董卿节目变即兴挑战考题\",\"recommendation\":\"董卿现场被选手挑战？\",\"contentType\":1,\"album\":{\"id\":247795101,\"name\":\"中央广播电视总台2019主持人大赛\",\"url\":\"http://www.iqiyi.com/a_19rrhy57g1.html\",\"imageUrl\":\"http://pic2.iqiyipic.com/image/20191112/1b/f7/a_100357646_m_601_m4.jpg\",\"videoCount\":0,\"isSource\":1,\"exclusive\":0,\"qiyiProduced\":0,\"latestVideo\":{\"tvId\":9440396200,\"url\":\"http://www.iqiyi.com/v_19rvcoz0ec.html\",\"order\":1}},\"user\":{\"id\":990630499,\"name\":\"主持人大赛2019\"}},\"kvs\":{\"defImg_webp\":\"http://pic1.iqiyipic.com/common/lego/20191117/50178f9b04924c02b85c82dbf87d4367.webp\"}},{\"itemId\":9475070400,\"type\":1,\"name\":\"我们的歌\",\"pageUrl\":\"\",\"imageUrl\":\"http://pic2.iqiyipic.com/common/lego/20191117/566ba48a46b64726a6102d751c5e7e99.jpg\",\"prompt\":\"\",\"subordinateTitle\":\"\",\"shortDisplayName\":\"阿云嘎惨遭周华健弃选\",\"mixinVideo\":{\"name\":\"我们的歌之肖战《跟着感觉走》引抢人大战 那英周华健齐聚B组盲选\",\"description\":\"我们的歌之肖战《跟着感觉走》引抢人大战 那英周华健齐聚B组盲选\",\"tvId\":9475070400,\"url\":\"http://www.iqiyi.com/v_19rvd8g2wc.html\",\"albumId\":248042301,\"duration\":5345,\"imageUrl\":\"http://pic0.iqiyipic.com/image/20191117/4f/3e/v_141242285_m_601.jpg\",\"channelId\":6,\"subtitle\":\"肖战《跟着感觉走》引抢人大战 那英周华健齐聚B组盲选\",\"vip\":{\"payMarkUrl\":\"http://pic0.iqiyipic.com/common/20171106/ac/1b/vip_100000_v_601.png\",\"payMark\":1,\"vipType\":[0],\"purchaseType\":2},\"userId\":990630497,\"period\":\"20191117\",\"exclusive\":0,\"qiyiProduced\":0,\"shortTitle\":\"第3期 肖战登台引抢人大战\",\"recommendation\":\"那英华健齐聚B组盲选\",\"contentType\":1,\"album\":{\"id\":248042301,\"name\":\"中国梦之声·我们的歌\",\"url\":\"http://www.iqiyi.com/a_19rrhycms1.html\",\"imageUrl\":\"http://pic7.iqiyipic.com/image/20191028/a9/67/a_100360065_m_601_m5.jpg\",\"videoCount\":0,\"isSource\":1,\"exclusive\":0,\"qiyiProduced\":0,\"latestVideo\":{\"tvId\":9475070400,\"url\":\"http://www.iqiyi.com/v_19rvd8g2wc.html\",\"order\":1}},\"user\":{\"id\":990630497,\"name\":\"我们的歌官方\"}},\"kvs\":{\"defImg_webp\":\"http://pic2.iqiyipic.com/common/lego/20191117/566ba48a46b64726a6102d751c5e7e99.webp\"}},{\"itemId\":9442105200,\"type\":1,\"name\":\"漫游记\",\"pageUrl\":\"\",\"imageUrl\":\"http://pic1.iqiyipic.com/common/lego/20191117/2754acb8d5ae4de0a1b3dcbb13944f23.jpg\",\"prompt\":\"\",\"subordinateTitle\":\"\",\"shortDisplayName\":\"郭麒麟吐槽钟汉良普通话\",\"mixinVideo\":{\"name\":\"漫游记之李晨坐轮椅录制套路钟汉良 郭麒麟爆笑变身“郭小抠”\",\"description\":\"漫游记之李晨坐轮椅录制套路钟汉良 郭麒麟爆笑变身“郭小抠”\",\"tvId\":9442105200,\"url\":\"http://www.iqiyi.com/v_19rvcoqn8c.html\",\"albumId\":248255101,\"duration\":4671,\"imageUrl\":\"http://pic2.iqiyipic.com/image/20191118/70/59/v_141209404_m_601_m3.jpg\",\"channelId\":6,\"subtitle\":\"第1期：李晨坐轮椅录制套路钟汉良 郭麒麟爆笑变身“郭小抠”\",\"vip\":{\"payMarkUrl\":\"\",\"payMark\":0,\"vipType\":[0],\"purchaseType\":0},\"userId\":990630501,\"period\":\"20191116\",\"exclusive\":0,\"qiyiProduced\":0,\"shortTitle\":\"第1期：李晨坐轮椅套路钟汉良\",\"recommendation\":\"郭麒麟爆笑变身郭小抠\",\"contentType\":1,\"album\":{\"id\":248255101,\"name\":\"漫游记\",\"url\":\"http://www.iqiyi.com/a_19rrhyhwk1.html\",\"imageUrl\":\"http://pic0.iqiyipic.com/image/20191107/13/3c/a_100362138_m_601_m2.jpg\",\"videoCount\":0,\"isSource\":1,\"exclusive\":0,\"qiyiProduced\":0,\"latestVideo\":{\"tvId\":9442105200,\"url\":\"http://www.iqiyi.com/v_19rvcoqn8c.html\",\"order\":1}},\"user\":{\"id\":990630501,\"name\":\"漫游记官方\"}},\"kvs\":{\"defImg_webp\":\"http://pic1.iqiyipic.com/common/lego/20191117/2754acb8d5ae4de0a1b3dcbb13944f23.webp\"}},{\"itemId\":9394519300,\"type\":1,\"name\":\"上新了·故宫2\",\"pageUrl\":\"\",\"imageUrl\":\"http://pic0.iqiyipic.com/common/lego/20191116/de0cdc1db3c841e48ad5f203518c391c.jpg\",\"prompt\":\"\",\"subordinateTitle\":\"\",\"shortDisplayName\":\"美翻！宋祖儿宫廷风绝美汉服\",\"mixinVideo\":{\"name\":\"上新了·故宫2之乾隆3D打印大禹治水图惊呆邓伦 宋祖儿穿汉服美翻\",\"description\":\"上新了·故宫2之乾隆3D打印大禹治水图惊呆邓伦 宋祖儿穿汉服美翻\",\"tvId\":9394519300,\"url\":\"http://www.iqiyi.com/v_19rv6swyg8.html\",\"albumId\":247081001,\"duration\":3414,\"imageUrl\":\"http://pic5.iqiyipic.com/image/20191115/69/36/v_141158912_m_601_m1.jpg\",\"channelId\":6,\"subtitle\":\"乾隆3D打印大禹治水图惊呆邓伦 宋祖儿穿汉服美翻\",\"vip\":{\"payMarkUrl\":\"\",\"payMark\":0,\"vipType\":[0],\"purchaseType\":0},\"userId\":990630496,\"period\":\"20191115\",\"exclusive\":1,\"qiyiProduced\":0,\"shortTitle\":\"第2期 乾隆3D打印大禹治水图\",\"recommendation\":\"宋祖儿汉服造型美翻\",\"contentType\":1,\"album\":{\"id\":247081001,\"name\":\"上新了·故宫第2季\",\"url\":\"http://www.iqiyi.com/a_19rrhz1d1h.html\",\"imageUrl\":\"http://pic0.iqiyipic.com/image/20191108/4b/17/a_100350560_m_601_m5.jpg\",\"videoCount\":0,\"isSource\":1,\"exclusive\":1,\"qiyiProduced\":0,\"latestVideo\":{\"tvId\":9394519300,\"url\":\"http://www.iqiyi.com/v_19rv6swyg8.html\",\"order\":1}},\"user\":{\"id\":990630496,\"name\":\"上新了故宫官方\"}},\"kvs\":{\"defImg_webp\":\"http://pic0.iqiyipic.com/common/lego/20191116/de0cdc1db3c841e48ad5f203518c391c.webp\"}},{\"itemId\":9431739900,\"type\":1,\"name\":\"我就是演员之巅峰对决\",\"pageUrl\":\"\",\"imageUrl\":\"http://pic3.iqiyipic.com/common/lego/20191116/c5bdfcd055134de9800123ad63412df2.jpg\",\"prompt\":\"\",\"subordinateTitle\":\"\",\"shortDisplayName\":\"李宇春网暴题材作品惹争议\",\"mixinVideo\":{\"name\":\"我就是演员2之李宇春网暴题材作品惹争议 秦昊马思纯致敬《潜伏》\",\"description\":\"我就是演员2之李宇春网暴题材作品惹争议 秦昊马思纯致敬《潜伏》\",\"tvId\":9431739900,\"url\":\"http://www.iqiyi.com/v_19rvcl45n4.html\",\"albumId\":247903601,\"duration\":5704,\"imageUrl\":\"http://pic0.iqiyipic.com/image/20191117/2d/ce/v_141194528_m_601_m5.jpg\",\"channelId\":6,\"subtitle\":\"李宇春网暴题材作品惹争议 秦昊马思纯致敬《潜伏》\",\"vip\":{\"payMarkUrl\":\"\",\"payMark\":0,\"vipType\":[0],\"purchaseType\":0},\"userId\":990630495,\"period\":\"20191116\",\"exclusive\":0,\"qiyiProduced\":0,\"shortTitle\":\"第4期 李宇春网暴作品惹争议\",\"recommendation\":\"秦昊马思纯致敬潜伏\",\"contentType\":1,\"album\":{\"id\":247903601,\"name\":\"我就是演员之巅峰对决\",\"url\":\"http://www.iqiyi.com/a_19rrhy9zj1.html\",\"imageUrl\":\"http://pic2.iqiyipic.com/image/20191108/c2/3e/a_100358728_m_601_m4.jpg\",\"videoCount\":0,\"isSource\":1,\"exclusive\":0,\"qiyiProduced\":0,\"latestVideo\":{\"tvId\":9431739900,\"url\":\"http://www.iqiyi.com/v_19rvcl45n4.html\",\"order\":1}},\"user\":{\"id\":990630495,\"name\":\"我就是演员之巅峰对决\"}},\"kvs\":{\"defImg_webp\":\"http://pic3.iqiyipic.com/common/lego/20191116/c5bdfcd055134de9800123ad63412df2.webp\"}},{\"itemId\":9386581900,\"type\":1,\"name\":\"追我吧\",\"pageUrl\":\"\",\"imageUrl\":\"http://pic2.iqiyipic.com/common/lego/20191115/d88e8ef7078f45d8825e7f6056a049a7.jpg\",\"prompt\":\"\",\"subordinateTitle\":\"\",\"shortDisplayName\":\"赛制升级！陈伟霆累到跪地\",\"mixinVideo\":{\"name\":\"追我吧之追逐升级！陈伟霆累到跪地邹市明受伤 黄景瑜K.O.范丞丞\",\"description\":\"追我吧之陈伟霆累到跪地邹市明受伤 柔术紫带黄景瑜K.O.范丞丞\",\"tvId\":9386581900,\"url\":\"http://www.iqiyi.com/v_19rv6o4cm8.html\",\"albumId\":245390901,\"duration\":5050,\"imageUrl\":\"http://pic1.iqiyipic.com/image/20191116/bf/e2/v_141146289_m_601_m2.jpg\",\"channelId\":6,\"subtitle\":\"第2期 追逐升级！陈伟霆累到跪地邹市明受伤 黄景瑜K.O.范丞丞\",\"vip\":{\"payMarkUrl\":\"\",\"payMark\":0,\"vipType\":[0],\"purchaseType\":0},\"userId\":990630500,\"period\":\"20191115\",\"exclusive\":0,\"qiyiProduced\":0,\"shortTitle\":\"第2期 追逐升级！陈伟霆累跪地\",\"recommendation\":\"黄景瑜K.O.范丞丞\",\"contentType\":1,\"album\":{\"id\":245390901,\"name\":\"追我吧\",\"url\":\"http://www.iqiyi.com/a_19rrhz9o49.html\",\"imageUrl\":\"http://pic0.iqiyipic.com/image/20191105/1a/20/a_100333688_m_601_m8.jpg\",\"videoCount\":0,\"isSource\":1,\"exclusive\":0,\"qiyiProduced\":0,\"latestVideo\":{\"tvId\":9386581900,\"url\":\"http://www.iqiyi.com/v_19rv6o4cm8.html\",\"order\":1}},\"user\":{\"id\":990630500,\"name\":\"追我吧官方\"}},\"kvs\":{\"defImg_webp\":\"http://pic2.iqiyipic.com/common/lego/20191115/d88e8ef7078f45d8825e7f6056a049a7.webp\"}},{\"itemId\":9281604500,\"type\":1,\"name\":\"妻子的浪漫旅行3\",\"pageUrl\":\"\",\"imageUrl\":\"http://pic2.iqiyipic.com/common/lego/20191115/eb25c8a06349403780e15dec240afd78.jpg\",\"prompt\":\"\",\"subordinateTitle\":\"\",\"shortDisplayName\":\"“洪世贤”被认出强行购物\",\"mixinVideo\":{\"name\":\"妻子的浪漫旅行3之谢娜带头抓鸡惹爆笑 凌潇肃首谈上段婚姻\",\"description\":\"本期妻子团全新阵容在张家界集结，亲自抓鸡堪比“变形计”；丈夫团情书来袭，杜江堪比满分作文，凌潇肃化身成语大全；妻子丈夫矛盾升级，凌潇肃首谈上段婚姻，李娜老公冷暴力失联12天，更多精彩尽在本期内容！\",\"tvId\":9281604500,\"url\":\"http://www.iqiyi.com/v_19rv52po8o.html\",\"albumId\":241328601,\"duration\":6389,\"imageUrl\":\"http://pic5.iqiyipic.com/image/20191115/13/2a/v_140984705_m_601_m5.jpg\",\"channelId\":6,\"subtitle\":\"谢娜带头抓鸡惹爆笑 凌潇肃首谈上段婚姻\",\"vip\":{\"payMarkUrl\":\"\",\"payMark\":0,\"vipType\":[0],\"purchaseType\":0},\"userId\":990468386,\"period\":\"20191113\",\"exclusive\":0,\"qiyiProduced\":0,\"shortTitle\":\"第2期 谢娜带头抓鸡惹爆笑\",\"recommendation\":\"凌潇肃首谈上段婚姻\",\"contentType\":1,\"album\":{\"id\":241328601,\"name\":\"妻子的浪漫旅行第3季\",\"url\":\"http://www.iqiyi.com/a_19rrhrui7p.html\",\"imageUrl\":\"http://pic6.iqiyipic.com/image/20191111/03/f0/a_100293605_m_601_m8.jpg\",\"videoCount\":0,\"isSource\":1,\"exclusive\":0,\"qiyiProduced\":0,\"latestVideo\":{\"tvId\":9281604500,\"url\":\"http://www.iqiyi.com/v_19rv52po8o.html\",\"order\":1}},\"user\":{\"id\":990468386,\"name\":\"妻子的浪漫旅行官方\"}},\"kvs\":{\"defImg_webp\":\"http://pic2.iqiyipic.com/common/lego/20191115/eb25c8a06349403780e15dec240afd78.webp\"}},{\"itemId\":9333863000,\"type\":1,\"name\":\"声林之王2\",\"pageUrl\":\"\",\"imageUrl\":\"http://pic3.iqiyipic.com/common/lego/20191115/6cb286496e1548cd80bf7cba8f35e4a8.jpg\",\"prompt\":\"\",\"subordinateTitle\":\"\",\"shortDisplayName\":\"屁孩奢侈品神曲贵过何美男\",\"mixinVideo\":{\"name\":\"声林之王2之林宥嘉大赞吴霏“潜力股” 屁孩奢侈品神曲贵过何美男\",\"description\":\"声林之王2之林宥嘉大赞吴霏“潜力股” 屁孩奢侈品神曲贵过何美男\",\"tvId\":9333863000,\"url\":\"http://www.iqiyi.com/v_19rv6f76t0.html\",\"albumId\":245576401,\"duration\":5887,\"imageUrl\":\"http://pic5.iqiyipic.com/image/20191115/11/46/v_141071745_m_601_m1.jpg\",\"channelId\":6,\"subtitle\":\"林宥嘉大赞吴霏“潜力股” 屁孩奢侈品神曲贵过何美男\",\"vip\":{\"payMarkUrl\":\"\",\"payMark\":0,\"vipType\":[0],\"purchaseType\":0},\"userId\":2366282707,\"period\":\"20191115\",\"exclusive\":1,\"qiyiProduced\":0,\"shortTitle\":\"第13期：林宥嘉大赞吴霏潜力股\",\"recommendation\":\"屁孩神曲贵过何美男\",\"contentType\":1,\"album\":{\"id\":245576401,\"name\":\"声林之王第2季\",\"url\":\"http://www.iqiyi.com/a_19rrhzb8al.html\",\"imageUrl\":\"http://pic6.iqiyipic.com/image/20190825/e0/61/a_100335541_m_601_m2.jpg\",\"videoCount\":0,\"isSource\":1,\"exclusive\":1,\"qiyiProduced\":0,\"latestVideo\":{\"tvId\":9333863000,\"url\":\"http://www.iqiyi.com/v_19rv6f76t0.html\",\"order\":1}},\"user\":{\"id\":2366282707,\"name\":\"酸酸甜甜的karroy\"}},\"kvs\":{\"defImg_webp\":\"http://pic3.iqiyipic.com/common/lego/20191115/6cb286496e1548cd80bf7cba8f35e4a8.webp\"}},{\"itemId\":9230697600,\"type\":1,\"name\":\"出发吧！从T-HOUSE开始\",\"pageUrl\":\"\",\"imageUrl\":\"http://pic2.iqiyipic.com/common/lego/20191117/e82434018502455f9b35411b7a955a00.jpg\",\"prompt\":\"\",\"subordinateTitle\":\"\",\"shortDisplayName\":\"新女团魔鬼训练累到崩溃\",\"mixinVideo\":{\"name\":\"出发吧！从T-HOUSE开始之彭昱畅曝圈内真实现况 女团赴日艰辛学习\",\"description\":\"这是一档以娱乐公司天浩盛世新生大本营「T-HOUSE」为背景，真实记录娱乐圈新人偶像职场生存的无剧本真人秀节目。经纪人与五位明星导师带领集训归来的七位新人初闯娱乐圈“大职场”，呈现最真实的娱乐圈职场生存手册及娱乐圈行业生态。\",\"tvId\":9230697600,\"url\":\"http://www.iqiyi.com/v_19rv983qb0.html\",\"albumId\":248274701,\"duration\":2722,\"imageUrl\":\"http://pic0.iqiyipic.com/image/20191111/2c/f8/v_140881966_m_601_m6.jpg\",\"channelId\":6,\"subtitle\":\"彭昱畅曝圈内真实现况 女团赴日艰辛学习\",\"vip\":{\"payMarkUrl\":\"\",\"payMark\":0,\"vipType\":[0],\"purchaseType\":0},\"userId\":0,\"period\":\"20191111\",\"exclusive\":0,\"qiyiProduced\":0,\"shortTitle\":\"彭昱畅曝圈内真实现况\",\"recommendation\":\"女团赴日艰辛学习\",\"contentType\":1,\"album\":{\"id\":248274701,\"name\":\"出发吧！从T-HOUSE开始\",\"url\":\"http://www.iqiyi.com/a_19rrhyhkkh.html\",\"imageUrl\":\"http://pic0.iqiyipic.com/image/20191118/f0/42/a_100362332_m_601_m2.jpg\",\"videoCount\":0,\"isSource\":1,\"exclusive\":0,\"qiyiProduced\":0,\"latestVideo\":{\"tvId\":9405854300,\"url\":\"http://www.iqiyi.com/v_19rvc5mka8.html\",\"order\":1}}},\"kvs\":{\"defImg_webp\":\"http://pic2.iqiyipic.com/common/lego/20191117/e82434018502455f9b35411b7a955a00.webp\"}},{\"itemId\":9280770900,\"type\":1,\"name\":\"最美旅拍\",\"pageUrl\":\"\",\"imageUrl\":\"http://pic3.iqiyipic.com/common/lego/20191115/f4c8dc0188794ba8aba3cff782e91890.jpg\",\"prompt\":\"\",\"subordinateTitle\":\"\",\"shortDisplayName\":\"李子璇张晓谦厦门之旅\",\"mixinVideo\":{\"name\":\"最美旅拍之跟着豆子探访不一样的厦门 古老与潮流共存的城市\",\"description\":\"最美旅拍之20191113，跟着豆子探访不一样的厦门 古老与潮流共存的城市\",\"tvId\":9280770900,\"url\":\"http://www.iqiyi.com/v_19rv53d8oo.html\",\"albumId\":248357401,\"duration\":2700,\"imageUrl\":\"http://pic4.iqiyipic.com/image/20191113/77/b6/v_140982742_m_601_m2.jpg\",\"channelId\":6,\"subtitle\":\"跟着豆子探访不一样的厦门 古老与潮流共存的城市\",\"vip\":{\"payMarkUrl\":\"\",\"payMark\":0,\"vipType\":[0],\"purchaseType\":0},\"userId\":0,\"period\":\"20191113\",\"exclusive\":0,\"qiyiProduced\":0,\"shortTitle\":\"跟着豆子探访不一样的厦门\",\"recommendation\":\"古老与潮流共存的城市\",\"contentType\":1,\"album\":{\"id\":248357401,\"name\":\"最美旅拍\",\"url\":\"http://www.iqiyi.com/a_19rrhygxv9.html\",\"imageUrl\":\"http://pic9.iqiyipic.com/image/20191118/44/e9/a_100363158_m_601_m2.jpg\",\"videoCount\":0,\"isSource\":1,\"exclusive\":0,\"qiyiProduced\":0,\"latestVideo\":{\"tvId\":9280770900,\"url\":\"http://www.iqiyi.com/v_19rv53d8oo.html\",\"order\":1}}},\"kvs\":{\"defImg_webp\":\"http://pic3.iqiyipic.com/common/lego/20191115/f4c8dc0188794ba8aba3cff782e91890.webp\"}},{\"itemId\":925435900,\"type\":1,\"name\":\"三个院子\",\"pageUrl\":\"\",\"imageUrl\":\"http://pic0.iqiyipic.com/common/lego/20191113/66aee1b3492942c0b76242e23ae37419.jpg\",\"prompt\":\"\",\"subordinateTitle\":\"\",\"shortDisplayName\":\"林更新陈赫塑料情隔空互怼\",\"mixinVideo\":{\"name\":\"三个院子之林更新陈赫塑料友情隔空互怼 陈小春手写情书高甜表白\",\"description\":\"林更新与同学周放上演了激烈的抓猪大战,林更新更被封“猪王”，更与“老冤家”陈赫上演隔空互怼；陈小春写情书告白应采儿：我爱你；大张伟玩显示板“龟兔赛跑”。\",\"tvId\":925435900,\"url\":\"http://www.iqiyi.com/v_19rrfcnkpc.html\",\"albumId\":218144201,\"duration\":4205,\"imageUrl\":\"http://pic1.iqiyipic.com/image/20180204/68/2b/v_114831190_m_601_m1.jpg\",\"channelId\":6,\"subtitle\":\"第7期 林更新陈赫塑料友情隔空互怼 陈小春手写情书高甜表白\",\"vip\":{\"payMarkUrl\":\"http://pic0.iqiyipic.com/common/20171106/ac/1b/vip_100000_v_601.png\",\"payMark\":1,\"vipType\":[0],\"purchaseType\":2},\"userId\":1062087874,\"period\":\"20180204\",\"exclusive\":1,\"qiyiProduced\":0,\"shortTitle\":\"第7期 林更新陈赫塑料友情互怼\",\"recommendation\":\"陈小春情书高甜表白\",\"contentType\":1,\"album\":{\"id\":218144201,\"name\":\"三个院子\",\"url\":\"http://www.iqiyi.com/a_19rrh1l3mt.html\",\"imageUrl\":\"http://pic1.iqiyipic.com/image/20180428/30/9e/a_100107792_m_601_m5.jpg\",\"videoCount\":0,\"isSource\":1,\"exclusive\":1,\"qiyiProduced\":0,\"latestVideo\":{\"tvId\":957817800,\"url\":\"http://www.iqiyi.com/v_19rrbhcrs4.html\",\"order\":1}},\"user\":{\"id\":1062087874,\"name\":\"爱奇艺综艺\"}},\"kvs\":{\"defImg_webp\":\"http://pic0.iqiyipic.com/common/lego/20191113/66aee1b3492942c0b76242e23ae37419.webp\"}}],\"title\":{\"name\":\"综艺\",\"icon\":\"zonyshow\",\"link\":\"//www.iqiyi.com/zongyi/\",\"moreText\":\"更多\",\"subNav\":[{\"name\":\"我就是演员之巅峰对决\",\"pageUrl\":\"https://www.iqiyi.com/v_19rvezefh8.html\",\"imageUrl\":\"\",\"kvs\":{\"width\":\"\"}},{\"name\":\"妻子的浪漫旅行第3季\",\"pageUrl\":\"https://www.iqiyi.com/v_19rvk64xik.html\",\"imageUrl\":\"\",\"kvs\":{\"width\":\"\"}},{\"name\":\"我们的歌\",\"pageUrl\":\"https://www.iqiyi.com/v_19rvkoy884.html\",\"imageUrl\":\"\",\"kvs\":{\"width\":\"\"}},{\"name\":\"主持人大赛2019\",\"pageUrl\":\"https://www.iqiyi.com/v_19rvfofcgw.html\",\"imageUrl\":\"\",\"kvs\":{\"width\":\"\"}},{\"name\":\"中国达人秀\",\"pageUrl\":\"https://www.iqiyi.com/v_19rtmoosng.html\",\"imageUrl\":\"\",\"kvs\":{\"width\":\"\"}},{\"name\":\"中国好声音2019\",\"pageUrl\":\"https://www.iqiyi.com/a_19rrh2ylud.html\",\"imageUrl\":\"\",\"kvs\":{\"width\":\"\"}}]}}'\n",
      "\n",
      "     :source-data='{\"videos\":[{\"itemId\":9453638700,\"type\":1,\"name\":\"君有戏言\",\"pageUrl\":\"\",\"imageUrl\":\"http://pic2.iqiyipic.com/common/lego/20191118/7c56451ec3bf4b1badaf837ba938e586.jpg\",\"prompt\":\"魏大勋不惧“综艺咖”标签\",\"subordinateTitle\":\"\",\"shortDisplayName\":\"魏大勋不惧“综艺咖”标签\",\"mixinVideo\":{\"name\":\"君有戏言之专访魏大勋：我只想做我自己\",\"description\":\"专访魏大勋：我只想做我自己\",\"tvId\":9453638700,\"url\":\"http://www.iqiyi.com/v_19rvc7vuio.html\",\"albumId\":247296001,\"duration\":299,\"imageUrl\":\"http://pic1.iqiyipic.com/image/20191117/60/e3/v_141218416_m_601_m1.jpg\",\"channelId\":31,\"subtitle\":\"专访魏大勋：我只想做我自己\",\"vip\":{\"payMarkUrl\":\"\",\"payMark\":0,\"vipType\":[0],\"purchaseType\":0},\"userId\":0,\"period\":\"20191117\",\"exclusive\":0,\"qiyiProduced\":0,\"shortTitle\":\"魏大勋：我只想做我自己\",\"recommendation\":\"魏大勋称只想做自己\",\"contentType\":1,\"album\":{\"id\":247296001,\"name\":\"君有戏言\",\"url\":\"http://www.iqiyi.com/a_19rrhz2gkt.html\",\"imageUrl\":\"http://pic9.iqiyipic.com/image/20190923/6e/13/a_100352699_m_601.jpg\",\"videoCount\":104,\"isSource\":1,\"exclusive\":0,\"qiyiProduced\":0,\"latestVideo\":{\"tvId\":9453638700,\"url\":\"http://www.iqiyi.com/v_19rvc7vuio.html\",\"order\":1}}},\"kvs\":{\"defImg_webp\":\"http://pic2.iqiyipic.com/common/lego/20191118/7c56451ec3bf4b1badaf837ba938e586.webp\"}},{\"itemId\":134199500,\"type\":1,\"name\":\"康熙来了\",\"pageUrl\":\"\",\"imageUrl\":\"http://pic3.iqiyipic.com/common/lego/20191118/4781558055a04f70a07e9ffb8bc0d04c.jpg\",\"prompt\":\"黄渤曾透露林志玲迫切想结婚\",\"subordinateTitle\":\"\",\"shortDisplayName\":\"黄渤曾透露林志玲迫切想结婚\",\"mixinVideo\":{\"name\":\"康熙来了之帅哥美女真的比较难结婚\",\"description\":\"康熙来了20130327，林志玲小S见面就开怼，林志玲称不刻意强求爱情，小S检查高以翔人鱼线狂揩油，高以翔谈刚拍完好莱坞电影，黄渤演戏最怕导演冷漠的反应。\",\"tvId\":134199500,\"url\":\"http://www.iqiyi.com/v_19rrjulmlc.html\",\"albumId\":180781601,\"duration\":2700,\"imageUrl\":\"http://pic2.iqiyipic.com/image/20191009/c3/7f/v_50441995_m_601_m4.jpg\",\"channelId\":31,\"subtitle\":\"帅哥美女真的比较难结婚\",\"vip\":{\"payMarkUrl\":\"http://pic0.iqiyipic.com/common/20171106/ac/1b/vip_100000_v_601.png\",\"payMark\":1,\"vipType\":[0],\"purchaseType\":2},\"userId\":0,\"period\":\"20130327\",\"exclusive\":0,\"qiyiProduced\":0,\"shortTitle\":\"帅哥美女真的比较难结婚\",\"recommendation\":\"林志玲小S见面就开怼\",\"contentType\":1,\"album\":{\"id\":180781601,\"name\":\"康熙来了\",\"url\":\"http://www.iqiyi.com/a_19rrgubpsd.html\",\"imageUrl\":\"http://pic8.iqiyipic.com/image/20150529/cf/95/a_50907816_m_601_m4.jpg\",\"videoCount\":0,\"isSource\":1,\"exclusive\":0,\"qiyiProduced\":0,\"latestVideo\":{\"tvId\":441225700,\"url\":\"http://www.iqiyi.com/v_19rrl5dy14.html\",\"order\":1}}},\"kvs\":{\"defImg_webp\":\"http://pic3.iqiyipic.com/common/lego/20191118/4781558055a04f70a07e9ffb8bc0d04c.webp\"}},{\"itemId\":9442602400,\"type\":1,\"name\":\"橘子辣访\",\"pageUrl\":\"\",\"imageUrl\":\"http://pic0.iqiyipic.com/common/lego/20191118/5552c474023c4e37a79507b20cf88797.jpg\",\"prompt\":\"苏有朋再现\\\"还珠格格\\\"名台词\",\"subordinateTitle\":\"\",\"shortDisplayName\":\"苏有朋再现\\\"还珠格格\\\"名台词\",\"mixinVideo\":{\"name\":\"橘子辣访之苏有朋称王俊凯在《中餐厅》超酷？蛙哥淡定\",\"description\":\"蛙哥苏有朋来惹！现场教学表情包制作精髓，不愧是还珠界的表情包富人~辟谣头围64.5，感觉隔壁雷佳音和刘烨有被内涵到…猛夸王俊凯是酷盖，最后还撺掇老橘把还珠十级学者杨紫同学考倒？蛙哥还是先反思下宁的还珠学渣身份…\",\"tvId\":9442602400,\"url\":\"http://www.iqiyi.com/v_19rvcnuu30.html\",\"albumId\":206760201,\"duration\":455,\"imageUrl\":\"http://pic1.iqiyipic.com/image/20191117/40/87/v_141209795_m_601_m4.jpg\",\"channelId\":31,\"subtitle\":\"苏有朋跻身娱乐圈三巨头\",\"vip\":{\"payMarkUrl\":\"\",\"payMark\":0,\"vipType\":[0],\"purchaseType\":0},\"userId\":2402521423,\"period\":\"20191116\",\"exclusive\":0,\"qiyiProduced\":0,\"shortTitle\":\"苏有朋跻身娱乐圈三巨头\",\"recommendation\":\"苏有朋成娱乐圈三巨头\",\"contentType\":1,\"album\":{\"id\":206760201,\"name\":\"橘子辣访\",\"url\":\"http://www.iqiyi.com/a_19rrh8ijc5.html\",\"imageUrl\":\"http://pic2.iqiyipic.com/image/20170502/30/9d/a_100050929_m_601.jpg\",\"videoCount\":0,\"isSource\":1,\"exclusive\":0,\"qiyiProduced\":0,\"latestVideo\":{\"tvId\":9442602400,\"url\":\"http://www.iqiyi.com/v_19rvcnuu30.html\",\"order\":1}},\"user\":{\"id\":2402521423,\"name\":\"橘子娱乐\"}},\"kvs\":{\"defImg_webp\":\"http://pic0.iqiyipic.com/common/lego/20191118/5552c474023c4e37a79507b20cf88797.webp\"}},{\"itemId\":9434551900,\"type\":1,\"name\":\"课间十分钟\",\"pageUrl\":\"\",\"imageUrl\":\"http://pic1.iqiyipic.com/common/lego/20191118/97ec69c7ea2a4585852d465e3df7f334.jpg\",\"prompt\":\"追溯民国作家萧红逃婚根源\",\"subordinateTitle\":\"\",\"shortDisplayName\":\"追溯民国作家萧红逃婚根源\",\"mixinVideo\":{\"name\":\"课间十分钟之走进萧红的世界 好的作品能穿越时空\",\"description\":\"课间十分钟之20191117，走进萧红的世界 好的作品能穿越时空\",\"tvId\":9434551900,\"url\":\"http://www.iqiyi.com/v_19rvciz41c.html\",\"albumId\":247848901,\"duration\":1776,\"imageUrl\":\"http://pic1.iqiyipic.com/image/20191118/5a/5a/v_141198291_m_601_m2.jpg\",\"channelId\":31,\"subtitle\":\"走进萧红的世界 好的作品能穿越时空\",\"vip\":{\"payMarkUrl\":\"\",\"payMark\":0,\"vipType\":[0],\"purchaseType\":0},\"userId\":0,\"period\":\"20191117\",\"exclusive\":0,\"qiyiProduced\":0,\"shortTitle\":\"走进萧红的世界\",\"recommendation\":\"好的作品能穿越时空\",\"contentType\":1,\"album\":{\"id\":247848901,\"name\":\"课间十分钟第2季\",\"url\":\"http://www.iqiyi.com/a_19rrhy5msp.html\",\"imageUrl\":\"http://pic2.iqiyipic.com/image/20191021/3d/a8/a_100358182_m_601_m1.jpg\",\"videoCount\":12,\"isSource\":1,\"exclusive\":0,\"qiyiProduced\":0,\"latestVideo\":{\"tvId\":9434551900,\"url\":\"http://www.iqiyi.com/v_19rvciz41c.html\",\"order\":1}}},\"kvs\":{\"defImg_webp\":\"http://pic1.iqiyipic.com/common/lego/20191118/97ec69c7ea2a4585852d465e3df7f334.webp\"}},{\"itemId\":9387744300,\"type\":1,\"name\":\"理娱请回答\",\"pageUrl\":\"\",\"imageUrl\":\"http://pic2.iqiyipic.com/common/lego/20191118/17f6743220aa48b3846d6a79f58c35d4.jpg\",\"prompt\":\"萧敬腾赞范丞丞很直白坦率\",\"subordinateTitle\":\"\",\"shortDisplayName\":\"萧敬腾赞范丞丞很直白坦率\",\"mixinVideo\":{\"name\":\"理娱请回答之专访萧敬腾：让“雨神”放晴的独家秘籍\",\"description\":\"专访萧敬腾：让“雨神”放晴的独家秘籍\",\"tvId\":9387744300,\"url\":\"http://www.iqiyi.com/v_19rv6xkn5s.html\",\"albumId\":247517501,\"duration\":260,\"imageUrl\":\"http://pic6.iqiyipic.com/image/20191118/c2/0f/v_141147588_m_601_m2.jpg\",\"channelId\":31,\"subtitle\":\"萧敬腾的独家快乐病毒！\",\"vip\":{\"payMarkUrl\":\"\",\"payMark\":0,\"vipType\":[0],\"purchaseType\":0},\"userId\":2468345959,\"period\":\"20191115\",\"exclusive\":0,\"qiyiProduced\":0,\"shortTitle\":\"让“雨神”放晴的独家秘籍\",\"recommendation\":\"萧敬腾的独家快乐病毒\",\"contentType\":1,\"album\":{\"id\":247517501,\"name\":\"理娱请回答\",\"url\":\"http://www.iqiyi.com/a_19rrhy1emp.html\",\"imageUrl\":\"http://pic4.iqiyipic.com/image/20191004/1f/29/a_100354889_m_601.jpg\",\"videoCount\":0,\"isSource\":1,\"exclusive\":0,\"qiyiProduced\":0,\"latestVideo\":{\"tvId\":9387744300,\"url\":\"http://www.iqiyi.com/v_19rv6xkn5s.html\",\"order\":1}},\"user\":{\"id\":2468345959,\"name\":\"理娱打挺疼\"}},\"kvs\":{\"defImg_webp\":\"http://pic2.iqiyipic.com/common/lego/20191118/17f6743220aa48b3846d6a79f58c35d4.webp\"}},{\"itemId\":9310790400,\"type\":1,\"name\":\"非常静距离\",\"pageUrl\":\"\",\"imageUrl\":\"http://pic2.iqiyipic.com/common/lego/20191118/d48ef136b801416a9c3bccac7f4ca275.jpg\",\"prompt\":\"黄觉自曝和陌生人合开酒吧\",\"subordinateTitle\":\"\",\"shortDisplayName\":\"黄觉自曝和陌生人合开酒吧\",\"mixinVideo\":{\"name\":\"非常静距离之黄觉自认脸皮薄怕人骂 聊老婆孩子的甜蜜日常\",\"description\":\"非常静距离之20191114，黄觉自认脸皮薄怕人骂，聊老婆孩子的甜蜜日常。\",\"tvId\":9310790400,\"url\":\"http://www.iqiyi.com/v_19rv5yyr8s.html\",\"albumId\":207097001,\"duration\":2369,\"imageUrl\":\"http://pic8.iqiyipic.com/image/20191115/e3/0a/v_141037492_m_601_m2.jpg\",\"channelId\":31,\"subtitle\":\"黄觉自认脸皮薄怕人骂 聊老婆孩子的甜蜜日常\",\"vip\":{\"payMarkUrl\":\"\",\"payMark\":0,\"vipType\":[0],\"purchaseType\":0},\"userId\":4706547489,\"period\":\"20191114\",\"exclusive\":0,\"qiyiProduced\":0,\"shortTitle\":\"黄觉自认脸皮薄怕人骂\",\"recommendation\":\"聊老婆孩子的甜蜜日常\",\"contentType\":1,\"album\":{\"id\":207097001,\"name\":\"非常静距离\",\"url\":\"http://www.iqiyi.com/a_19rrh8qrwl.html\",\"imageUrl\":\"http://pic4.iqiyipic.com/image/20170712/bd/ec/a_100052604_m_601_m2.jpg\",\"videoCount\":0,\"isSource\":1,\"exclusive\":0,\"qiyiProduced\":0,\"latestVideo\":{\"tvId\":9310790400,\"url\":\"http://www.iqiyi.com/v_19rv5yyr8s.html\",\"order\":1}},\"user\":{\"id\":4706547489,\"name\":\"爱奇艺脱口秀\"}},\"kvs\":{\"defImg_webp\":\"http://pic2.iqiyipic.com/common/lego/20191118/d48ef136b801416a9c3bccac7f4ca275.webp\"}},{\"itemId\":9344817400,\"type\":1,\"name\":\"猫眼大明星\",\"pageUrl\":\"\",\"imageUrl\":\"http://pic1.iqiyipic.com/common/lego/20191118/d1bc71a7282644179e58f5f40aab1314.jpg\",\"prompt\":\"陈立农称谢娜是“开心果”\",\"subordinateTitle\":\"\",\"shortDisplayName\":\"陈立农称谢娜是“开心果”\",\"mixinVideo\":{\"name\":\"猫眼大明星之陈立农坦言撩到自己不容易 现场求生欲满分\",\"description\":\"陈立农坦言撩到自己不容易 现场求生欲满分\",\"tvId\":9344817400,\"url\":\"http://www.iqiyi.com/v_19rv6jbyqc.html\",\"albumId\":228872101,\"duration\":175,\"imageUrl\":\"http://pic2.iqiyipic.com/image/20191117/e3/bc/v_141088427_m_601_m1.jpg\",\"channelId\":31,\"subtitle\":\"陈立农坦言撩到自己不容易 现场求生欲满分\",\"vip\":{\"payMarkUrl\":\"\",\"payMark\":0,\"vipType\":[0],\"purchaseType\":0},\"userId\":1261863503,\"period\":\"20191114\",\"exclusive\":0,\"qiyiProduced\":0,\"shortTitle\":\"陈立农坦言撩到自己不容易\",\"recommendation\":\"陈立农称撩自己不容易\",\"contentType\":1,\"album\":{\"id\":228872101,\"name\":\"猫眼大明星\",\"url\":\"http://www.iqiyi.com/a_19rrh5geyx.html\",\"imageUrl\":\"http://pic6.iqiyipic.com/image/20180809/6c/c9/a_100173428_m_601.jpg\",\"videoCount\":0,\"isSource\":1,\"exclusive\":0,\"qiyiProduced\":0,\"latestVideo\":{\"tvId\":9393691100,\"url\":\"http://www.iqiyi.com/v_19rv6tojow.html\",\"order\":1}},\"user\":{\"id\":1261863503,\"name\":\"猫眼娱乐号\"}},\"kvs\":{\"defImg_webp\":\"http://pic1.iqiyipic.com/common/lego/20191118/d1bc71a7282644179e58f5f40aab1314.webp\"}},{\"itemId\":9341610200,\"type\":1,\"name\":\"谷园讲通鉴\",\"pageUrl\":\"\",\"imageUrl\":\"http://pic1.iqiyipic.com/common/lego/20191118/92f9c6a706f74ea3acdba2db839b86a1.jpg\",\"prompt\":\"解读史学家班昭的传奇人生\",\"subordinateTitle\":\"\",\"shortDisplayName\":\"解读史学家班昭的传奇人生\",\"mixinVideo\":{\"name\":\"谷园讲通鉴之【第181回】女人七诫\",\"description\":\"《谷园讲通鉴》是谷园先生亲自撰稿并主持的中国首档国学励志脱口秀节目。内容以《资治通鉴》1362年的史料为主，注重经史结合，把历史上最牛的人、最酷的事儿、最经典的智慧、最极致的精神，以生动简洁的语言从头到尾给讲出来。这将是一个沿着历史轴线展开的中华传统思想智慧体系，而且力求接地气，让青年人喜闻乐见。每期半小时，每周五更新，请大家多批评。\",\"tvId\":9341610200,\"url\":\"http://www.iqiyi.com/v_19rv6l2wtw.html\",\"albumId\":203346701,\"duration\":2185,\"imageUrl\":\"http://pic8.iqiyipic.com/image/20191115/62/58/v_141083075_m_601_m1.jpg\",\"channelId\":31,\"subtitle\":\"女人七诫\",\"vip\":{\"payMarkUrl\":\"\",\"payMark\":0,\"vipType\":[0],\"purchaseType\":0},\"userId\":2000541283,\"period\":\"20191115\",\"exclusive\":1,\"qiyiProduced\":0,\"shortTitle\":\"女人七诫\",\"recommendation\":\"女人七诫\",\"contentType\":1,\"album\":{\"id\":203346701,\"name\":\"谷园讲通鉴\",\"url\":\"http://www.iqiyi.com/a_19rrhbhi01.html\",\"imageUrl\":\"http://pic6.iqiyipic.com/image/20151209/4e/a2/a_100018783_m_601.jpg\",\"videoCount\":0,\"isSource\":1,\"exclusive\":1,\"qiyiProduced\":0,\"latestVideo\":{\"tvId\":9341610200,\"url\":\"http://www.iqiyi.com/v_19rv6l2wtw.html\",\"order\":1}},\"user\":{\"id\":2000541283,\"name\":\"谷园讲通鉴\"}},\"kvs\":{\"defImg_webp\":\"http://pic1.iqiyipic.com/common/lego/20191118/92f9c6a706f74ea3acdba2db839b86a1.webp\"}}],\"title\":{\"name\":\"脱口秀\",\"icon\":\"\",\"link\":\"//talkshow.iqiyi.com/\",\"moreText\":\"更多\",\"subNav\":[{\"name\":\"非常静距离\",\"pageUrl\":\"http://www.iqiyi.com/a_19rrh8qrwl.html\",\"imageUrl\":\"\",\"kvs\":{\"width\":\"\"}},{\"name\":\"康熙来了\",\"pageUrl\":\"http://www.iqiyi.com/a_19rrgubpsd.html\",\"imageUrl\":\"\",\"kvs\":{\"width\":\"\"}},{\"name\":\"谷园讲通鉴\",\"pageUrl\":\"http://www.iqiyi.com/a_19rrhbhi01.html\",\"imageUrl\":\"\",\"kvs\":{\"width\":\"\"}}]}}'\n",
      "\n",
      "    :source-data='{\"videos\":[{\"itemId\":9322345500,\"type\":1,\"name\":\"爱奇艺早班机\",\"pageUrl\":\"http://yule.iqiyi.com/zbj.html\",\"imageUrl\":\"http://pic1.iqiyipic.com/common/lego/20191118/9bc37f02b64945058c5c560b64adb2f1.jpg\",\"prompt\":\"\",\"subordinateTitle\":\"\",\"shortDisplayName\":\"爱奇艺早班机\",\"mixinVideo\":{\"name\":\"爱奇艺早班机：小偷不敢偷孟美岐衣柜？里边到底藏了啥？\",\"description\":\"爱奇艺早班机：小偷不敢偷孟美岐衣柜？里边到底藏了啥？\",\"tvId\":9322345500,\"url\":\"http://www.iqiyi.com/v_19rv5s4o6o.html\",\"albumId\":180963701,\"duration\":348,\"imageUrl\":\"http://pic1.iqiyipic.com/image/20191114/14/c0/v_141054670_m_601.jpg\",\"channelId\":7,\"subtitle\":\"小偷不敢偷孟美岐衣柜？\",\"vip\":{\"payMarkUrl\":\"\",\"payMark\":0,\"vipType\":[0],\"purchaseType\":0},\"userId\":1065007734,\"period\":\"20191114\",\"exclusive\":0,\"qiyiProduced\":1,\"shortTitle\":\"小偷不敢偷孟美岐衣柜？\",\"recommendation\":\"里边到底藏了啥？\",\"contentType\":1,\"album\":{\"id\":180963701,\"name\":\"爱奇艺早班机\",\"url\":\"http://www.iqiyi.com/a_19rrguc461.html\",\"imageUrl\":\"http://pic3.iqiyipic.com/image/20190927/b6/7d/a_50909637_m_601_m5.jpg\",\"videoCount\":0,\"isSource\":1,\"exclusive\":0,\"qiyiProduced\":1,\"latestVideo\":{\"tvId\":9485283800,\"url\":\"http://www.iqiyi.com/v_19rvct6zlg.html\",\"order\":1}},\"user\":{\"id\":1065007734,\"name\":\"爱奇艺早班机官方\"}},\"kvs\":{\"desc\":\"林志玲泪撒婚礼现场 她的结婚行头价值多少？\",\"defImg_webp\":\"http://pic1.iqiyipic.com/common/lego/20191118/9bc37f02b64945058c5c560b64adb2f1.webp\"}},{\"itemId\":9491228500,\"type\":1,\"name\":\"白冰:女演员不该被年龄左右\",\"pageUrl\":\"\",\"imageUrl\":\"http://pic0.iqiyipic.com/common/lego/20191118/a6e4a74df7f04af0a5f7c7d92c42c76b.jpg\",\"prompt\":\"\",\"subordinateTitle\":\"\",\"shortDisplayName\":\"白冰:女演员不该被年龄左右\",\"mixinVideo\":{\"name\":\"白冰：女演员不该被年龄左右 很想诠释酷女孩\",\"description\":\"白冰：女演员不该被年龄左右 很想诠释酷女孩\",\"tvId\":9491228500,\"url\":\"http://www.iqiyi.com/v_19rvczbqyg.html\",\"albumId\":0,\"duration\":657,\"imageUrl\":\"http://pic1.iqiyipic.com/image/20191118/cd/cd/v_141257411_m_601.jpg\",\"channelId\":7,\"subtitle\":\"\",\"vip\":{\"payMarkUrl\":\"\",\"payMark\":0,\"vipType\":[0],\"purchaseType\":0},\"userId\":990572962,\"period\":\"20191118\",\"exclusive\":0,\"qiyiProduced\":0,\"shortTitle\":\"白冰：女演员不该被年龄左右\",\"recommendation\":\"很想诠释酷女孩\",\"contentType\":1,\"user\":{\"id\":990572962,\"name\":\"娱乐大事件\"}},\"kvs\":{\"desc\":\"很想诠释酷酷的女孩\",\"defImg_webp\":\"http://pic0.iqiyipic.com/common/lego/20191118/a6e4a74df7f04af0a5f7c7d92c42c76b.webp\"}},{\"itemId\":-25511455212,\"type\":4,\"name\":\"林志玲夫妇甜蜜互吻 幸福溢出屏幕\",\"pageUrl\":\"http://www.iqiyi.com/v_19rvd9ads0.html?list=19rr98mdvu\",\"imageUrl\":\"http://pic1.iqiyipic.com/common/lego/20191117/b6c89dc6d0a542cdb9b4177b60c9a198.png\",\"prompt\":\"幸福溢出屏幕\",\"subordinateTitle\":\"\",\"shortDisplayName\":\"林志玲夫妇甜蜜互吻\",\"kvs\":{\"desc\":\"\",\"defImg_webp\":\"http://pic1.iqiyipic.com/common/lego/20191117/b6c89dc6d0a542cdb9b4177b60c9a198.webp\"}},{\"itemId\":9489540000,\"type\":1,\"name\":\"宋茜：正式出道10周年 想尝试反派角色\",\"pageUrl\":\"\",\"imageUrl\":\"\",\"prompt\":\"\",\"subordinateTitle\":\"\",\"shortDisplayName\":\"\",\"mixinVideo\":{\"name\":\"宋茜：正式出道10周年 想尝试反派角色\",\"description\":\"宋茜：正式出道10周年 想尝试反派角色\",\"tvId\":9489540000,\"url\":\"http://www.iqiyi.com/v_19rvd0ssss.html\",\"albumId\":248686501,\"duration\":158,\"imageUrl\":\"http://pic9.iqiyipic.com/image/20191118/d9/fa/v_141254412_m_601_m1.jpg\",\"channelId\":7,\"subtitle\":\"\",\"vip\":{\"payMarkUrl\":\"\",\"payMark\":0,\"vipType\":[0],\"purchaseType\":0},\"userId\":990572962,\"period\":\"20191118\",\"exclusive\":0,\"qiyiProduced\":0,\"shortTitle\":\"宋茜：正式出道10周年\",\"recommendation\":\"想尝试反派角色\",\"contentType\":1,\"album\":{\"id\":248686501,\"name\":\"2019芭莎明星慈善夜\",\"url\":\"http://www.iqiyi.com/a_19rrhxhsqx.html\",\"imageUrl\":\"http://pic1.iqiyipic.com/image/20191116/c4/97/a_100366441_m_601.jpg\",\"videoCount\":0,\"isSource\":1,\"exclusive\":0,\"qiyiProduced\":0,\"latestVideo\":{\"tvId\":9491438700,\"url\":\"http://www.iqiyi.com/v_19rvczd4hs.html\",\"order\":1}},\"user\":{\"id\":990572962,\"name\":\"娱乐大事件\"}},\"kvs\":{\"desc\":\"\"}},{\"itemId\":9489257700,\"type\":1,\"name\":\"\",\"pageUrl\":\"\",\"imageUrl\":\"\",\"prompt\":\"\",\"subordinateTitle\":\"\",\"shortDisplayName\":\"\",\"mixinVideo\":{\"name\":\"秦岚：年初很辛苦 2020希望遇到让人惊艳的角色\",\"description\":\"秦岚：年初很辛苦 2020希望遇到让人惊艳的角色\",\"tvId\":9489257700,\"url\":\"http://www.iqiyi.com/v_19rvd0nseg.html\",\"albumId\":248686501,\"duration\":61,\"imageUrl\":\"http://pic0.iqiyipic.com/image/20191118/d3/bb/v_141253827_m_601_m1.jpg\",\"channelId\":7,\"subtitle\":\"\",\"vip\":{\"payMarkUrl\":\"\",\"payMark\":0,\"vipType\":[0],\"purchaseType\":0},\"userId\":990572962,\"period\":\"20191118\",\"exclusive\":0,\"qiyiProduced\":0,\"shortTitle\":\"秦岚：年初很辛苦\",\"recommendation\":\"希望遇到惊艳的角色\",\"contentType\":1,\"album\":{\"id\":248686501,\"name\":\"2019芭莎明星慈善夜\",\"url\":\"http://www.iqiyi.com/a_19rrhxhsqx.html\",\"imageUrl\":\"http://pic1.iqiyipic.com/image/20191116/c4/97/a_100366441_m_601.jpg\",\"videoCount\":0,\"isSource\":1,\"exclusive\":0,\"qiyiProduced\":0,\"latestVideo\":{\"tvId\":9491438700,\"url\":\"http://www.iqiyi.com/v_19rvczd4hs.html\",\"order\":1}},\"user\":{\"id\":990572962,\"name\":\"娱乐大事件\"}},\"kvs\":{\"desc\":\"\"}},{\"itemId\":9486172500,\"type\":1,\"name\":\"\",\"pageUrl\":\"\",\"imageUrl\":\"\",\"prompt\":\"\",\"subordinateTitle\":\"\",\"shortDisplayName\":\"\",\"mixinVideo\":{\"name\":\"林更新现身周杰伦演唱会  晒照调皮喊话：又是我\",\"description\":\"林更新现身周杰伦演唱会  晒照调皮喊话：又是我\",\"tvId\":9486172500,\"url\":\"http://www.iqiyi.com/v_19rvcsi52w.html\",\"albumId\":237989001,\"duration\":61,\"imageUrl\":\"http://pic9.iqiyipic.com/image/20191118/d4/49/v_141248963_m_601_m2.jpg\",\"channelId\":7,\"subtitle\":\"林更新现身周杰伦演唱会\",\"vip\":{\"payMarkUrl\":\"\",\"payMark\":0,\"vipType\":[0],\"purchaseType\":0},\"userId\":1214411468,\"period\":\"20191118\",\"exclusive\":0,\"qiyiProduced\":0,\"shortTitle\":\"林更新现身周杰伦演唱会\",\"recommendation\":\"晒照调皮喊话：又是我\",\"contentType\":1,\"album\":{\"id\":237989001,\"name\":\"娱乐热点资讯\",\"url\":\"http://www.iqiyi.com/a_19rrhurvtx.html\",\"imageUrl\":\"http://pic6.iqiyipic.com/image/20190214/33/5c/a_100260195_m_601.jpg\",\"videoCount\":360,\"isSource\":1,\"exclusive\":0,\"qiyiProduced\":0,\"latestVideo\":{\"tvId\":9509375400,\"url\":\"http://www.iqiyi.com/v_19rvdssi4k.html\",\"order\":1}},\"user\":{\"id\":1214411468,\"name\":\"宝鉴娱乐V\"}},\"kvs\":{\"desc\":\"绯闻恋情又添新线索\"}},{\"itemId\":9486555000,\"type\":1,\"name\":\"肖战那英完美合作 冠军已经提前预定？\",\"pageUrl\":\"\",\"imageUrl\":\"http://pic0.iqiyipic.com/common/lego/20191118/9c35d55dc5184ef387570c35201c80bc.jpg\",\"prompt\":\"\",\"subordinateTitle\":\"\",\"shortDisplayName\":\"\",\"mixinVideo\":{\"name\":\"肖战那英完美合作跟着感觉走，冠军已经提前预定？\",\"description\":\"肖战那英完美合作跟着感觉走，冠军已经提前预定？\",\"tvId\":9486555000,\"url\":\"http://www.iqiyi.com/v_19rvcrgmc4.html\",\"albumId\":241243201,\"duration\":76,\"imageUrl\":\"http://pic2.iqiyipic.com/image/20191118/f8/af/v_141249435_m_601_m2.jpg\",\"channelId\":7,\"subtitle\":\"肖战那英完美合作\",\"vip\":{\"payMarkUrl\":\"\",\"payMark\":0,\"vipType\":[0],\"purchaseType\":0},\"userId\":1074851835,\"period\":\"20191118\",\"exclusive\":0,\"qiyiProduced\":0,\"shortTitle\":\"肖战那英完美合作\",\"recommendation\":\"跟着感觉走\",\"contentType\":1,\"album\":{\"id\":241243201,\"name\":\"娱乐没有圈\",\"url\":\"http://www.iqiyi.com/a_19rrhrqvxp.html\",\"imageUrl\":\"http://pic4.iqiyipic.com/image/20191118/0e/16/a_100292824_m_601_m1.jpg\",\"videoCount\":0,\"isSource\":1,\"exclusive\":0,\"qiyiProduced\":0,\"latestVideo\":{\"tvId\":9501061300,\"url\":\"http://www.iqiyi.com/v_19rvdnwteg.html\",\"order\":1}},\"user\":{\"id\":1074851835,\"name\":\"嘻嘻娱乐官方\"}},\"kvs\":{\"desc\":\"与老胡的甜蜜日常曝光\",\"defImg_webp\":\"http://pic0.iqiyipic.com/common/lego/20191118/9c35d55dc5184ef387570c35201c80bc.webp\"}},{\"itemId\":9485851700,\"type\":1,\"name\":\"\",\"pageUrl\":\"\",\"imageUrl\":\"http://pic2.iqiyipic.com/common/lego/20191118/ee557a4a81954bcaa7793a13e4d66b50.jpg\",\"prompt\":\"\",\"subordinateTitle\":\"\",\"shortDisplayName\":\"\",\"mixinVideo\":{\"name\":\"Angelababy晒照 秀美手安利超可爱美甲\",\"description\":\"Angelababy晒照 秀美手安利超可爱美甲\",\"tvId\":9485851700,\"url\":\"http://www.iqiyi.com/v_19rvcse1js.html\",\"albumId\":248694101,\"duration\":69,\"imageUrl\":\"http://pic6.iqiyipic.com/image/20191118/46/48/v_141248870_m_601_m2.jpg\",\"channelId\":7,\"subtitle\":\"angelababy晒照绿洲营业\",\"vip\":{\"payMarkUrl\":\"\",\"payMark\":0,\"vipType\":[0],\"purchaseType\":0},\"userId\":1575222008,\"period\":\"20191118\",\"exclusive\":0,\"qiyiProduced\":0,\"shortTitle\":\"Baby晒照秀美手\",\"recommendation\":\"安利超可爱美甲\",\"contentType\":1,\"album\":{\"id\":248694101,\"name\":\"明星逸闻趣事\",\"url\":\"http://www.iqiyi.com/a_19rrhxhmpl.html\",\"imageUrl\":\"http://pic1.iqiyipic.com/image/20191116/a1/d1/a_100366517_m_601.jpg\",\"videoCount\":0,\"isSource\":1,\"exclusive\":0,\"qiyiProduced\":0,\"latestVideo\":{\"tvId\":9503320200,\"url\":\"http://www.iqiyi.com/v_19rvdlfkro.html\",\"order\":1}},\"user\":{\"id\":1575222008,\"name\":\"娱闻速递新官方\"}},\"kvs\":{\"desc\":\"竟在互联网公司做起菜\",\"defImg_webp\":\"http://pic2.iqiyipic.com/common/lego/20191118/ee557a4a81954bcaa7793a13e4d66b50.webp\"}},{\"itemId\":9476583000,\"type\":1,\"name\":\"\",\"pageUrl\":\"\",\"imageUrl\":\"http://pic1.iqiyipic.com/common/lego/20191118/30b30d2fa0354e95bfd6308cde0ddd40.jpg\",\"prompt\":\"\",\"subordinateTitle\":\"\",\"shortDisplayName\":\"\",\"mixinVideo\":{\"name\":\"黄子韬开餐厅“霸总”附体 我让你咋吃就咋吃！\",\"description\":\"黄子韬开餐厅“霸总”附体 我让你咋吃就咋吃！\",\"tvId\":9476583000,\"url\":\"http://www.iqiyi.com/v_19rvd80c38.html\",\"albumId\":248724201,\"duration\":30,\"imageUrl\":\"http://pic7.iqiyipic.com/image/20191118/64/93/v_141243241_m_601_m2.jpg\",\"channelId\":7,\"subtitle\":\"\",\"vip\":{\"payMarkUrl\":\"\",\"payMark\":0,\"vipType\":[0],\"purchaseType\":0},\"userId\":0,\"period\":\"20191117\",\"exclusive\":0,\"qiyiProduced\":0,\"shortTitle\":\"黄子韬开餐厅“霸总”附体\",\"recommendation\":\"我让你咋吃就咋吃！\",\"contentType\":5,\"album\":{\"id\":248724201,\"name\":\"黄子韬11人餐厅\",\"url\":\"http://www.iqiyi.com/a_19rrhxfukl.html\",\"imageUrl\":\"http://pic0.iqiyipic.com/image/20191118/a5/b0/a_100366815_m_601.jpg\",\"videoCount\":0,\"isSource\":1,\"exclusive\":0,\"qiyiProduced\":0}},\"kvs\":{\"desc\":\"\",\"defImg_webp\":\"http://pic1.iqiyipic.com/common/lego/20191118/30b30d2fa0354e95bfd6308cde0ddd40.webp\"}},{\"itemId\":9275614200,\"type\":1,\"name\":\"独家!11.24直播UNINE何昶希生日会 小王子星光巡演开启\",\"pageUrl\":\"\",\"imageUrl\":\"\",\"prompt\":\"\",\"subordinateTitle\":\"\",\"shortDisplayName\":\"\",\"mixinVideo\":{\"name\":\"独家!11.24爱奇艺娱乐直播UNINE何昶希生日会 小王子星光巡演开启\",\"description\":\"独家!11.24爱奇艺娱乐直播UNINE何昶希生日会 小王子星光巡演开启\",\"tvId\":9275614200,\"url\":\"http://www.iqiyi.com/v_19rv5gm7pw.html\",\"albumId\":0,\"duration\":40,\"imageUrl\":\"http://pic3.iqiyipic.com/image/20191112/c0/ff/v_140972166_m_601_m1.jpg\",\"channelId\":7,\"subtitle\":\"\",\"vip\":{\"payMarkUrl\":\"\",\"payMark\":0,\"vipType\":[0],\"purchaseType\":0},\"userId\":990572962,\"period\":\"20191112\",\"exclusive\":0,\"qiyiProduced\":0,\"shortTitle\":\"UNINE何昶希生日会\",\"recommendation\":\"小王子星光巡演开启\",\"contentType\":1,\"user\":{\"id\":990572962,\"name\":\"娱乐大事件\"}},\"kvs\":{\"desc\":\"朱桢：也别忘了我\"}},{\"itemId\":9489801100,\"type\":1,\"name\":\"王鸥演《惊蛰》很过瘾 “山离”又甜又虐\",\"pageUrl\":\"\",\"imageUrl\":\"http://pic3.iqiyipic.com/common/lego/20191118/13149e73c99045a3b6437960686f142f.jpg\",\"prompt\":\"\",\"subordinateTitle\":\"\",\"shortDisplayName\":\"\",\"mixinVideo\":{\"name\":\"王鸥演《惊蛰》很过瘾 “山离”又甜又虐张若昀直接撩\",\"description\":\"王鸥演《惊蛰》很过瘾 “山离”又甜又虐张若昀直接撩\",\"tvId\":9489801100,\"url\":\"http://www.iqiyi.com/v_19rvczpr6o.html\",\"albumId\":0,\"duration\":498,\"imageUrl\":\"http://pic6.iqiyipic.com/image/20191118/bd/1a/v_141254934_m_601_m2.jpg\",\"channelId\":7,\"subtitle\":\"\",\"vip\":{\"payMarkUrl\":\"\",\"payMark\":0,\"vipType\":[0],\"purchaseType\":0},\"userId\":990572962,\"period\":\"20191118\",\"exclusive\":0,\"qiyiProduced\":0,\"shortTitle\":\"王鸥爆料导演让张若昀直接开撩\",\"recommendation\":\"山离甜虐张若昀直接撩\",\"contentType\":1,\"user\":{\"id\":990572962,\"name\":\"娱乐大事件\"}},\"kvs\":{\"desc\":\"亚太最美100张面孔出炉\",\"defImg_webp\":\"http://pic3.iqiyipic.com/common/lego/20191118/13149e73c99045a3b6437960686f142f.webp\"}},{\"itemId\":9490310700,\"type\":1,\"name\":\"赵今麦双手合十变许愿少女 穿背带裤笑弯腰\",\"pageUrl\":\"\",\"imageUrl\":\"\",\"prompt\":\"\",\"subordinateTitle\":\"\",\"shortDisplayName\":\"\",\"mixinVideo\":{\"name\":\"妹妹太甜了！赵今麦双手合十变许愿少女 穿背带裤笑弯腰\",\"description\":\"妹妹太甜了！赵今麦双手合十变许愿少女 穿背带裤笑弯腰\",\"tvId\":9490310700,\"url\":\"http://www.iqiyi.com/v_19rvd011ds.html\",\"albumId\":0,\"duration\":42,\"imageUrl\":\"http://pic5.iqiyipic.com/image/20191118/35/a5/v_141255781_m_601.jpg\",\"channelId\":7,\"subtitle\":\"\",\"vip\":{\"payMarkUrl\":\"\",\"payMark\":0,\"vipType\":[0],\"purchaseType\":0},\"userId\":990572962,\"period\":\"20191118\",\"exclusive\":0,\"qiyiProduced\":0,\"shortTitle\":\"赵今麦双手合十变许愿少女\",\"recommendation\":\"穿背带裤笑弯腰\",\"contentType\":1,\"user\":{\"id\":990572962,\"name\":\"娱乐大事件\"}},\"kvs\":{\"desc\":\"这行为好刚！\"}},{\"itemId\":9490316900,\"type\":1,\"name\":\"吴亦凡戴帽子口罩只露眼睛 一身潮装尽显潮男范\",\"pageUrl\":\"\",\"imageUrl\":\"http://pic2.iqiyipic.com/common/lego/20191118/5e782e1248f040aba1744f242909ab94.jpg\",\"prompt\":\"\",\"subordinateTitle\":\"\",\"shortDisplayName\":\"\",\"mixinVideo\":{\"name\":\"吴亦凡戴鸭舌帽口罩只露眼睛 一身潮装尽显潮男范\",\"description\":\"吴亦凡戴鸭舌帽口罩只露眼睛 一身潮装尽显潮男范\",\"tvId\":9490316900,\"url\":\"http://www.iqiyi.com/v_19rvd0162w.html\",\"albumId\":0,\"duration\":38,\"imageUrl\":\"http://pic9.iqiyipic.com/image/20191118/71/53/v_141255789_m_601_m1.jpg\",\"channelId\":7,\"subtitle\":\"\",\"vip\":{\"payMarkUrl\":\"\",\"payMark\":0,\"vipType\":[0],\"purchaseType\":0},\"userId\":990572962,\"period\":\"20191118\",\"exclusive\":0,\"qiyiProduced\":0,\"shortTitle\":\"吴亦凡戴鸭舌帽口罩只露眼睛\",\"recommendation\":\"一身潮装尽显潮男范\",\"contentType\":1,\"user\":{\"id\":990572962,\"name\":\"娱乐大事件\"}},\"kvs\":{\"desc\":\"五月天鼓励录音曝光\",\"defImg_webp\":\"http://pic2.iqiyipic.com/common/lego/20191118/5e782e1248f040aba1744f242909ab94.webp\"}},{\"itemId\":9491234200,\"type\":1,\"name\":\"专访关晓彤：今年最开心能管住自己的嘴\",\"pageUrl\":\"\",\"imageUrl\":\"\",\"prompt\":\"\",\"subordinateTitle\":\"\",\"shortDisplayName\":\"\",\"mixinVideo\":{\"name\":\"2019芭莎慈善夜 专访关晓彤：今年最开心能管住自己的嘴\",\"description\":\"2019芭莎慈善夜 专访关晓彤：今年最开心能管住自己的嘴\",\"tvId\":9491234200,\"url\":\"http://www.iqiyi.com/v_19rvczbw8k.html\",\"albumId\":248686501,\"duration\":87,\"imageUrl\":\"http://pic5.iqiyipic.com/image/20191118/25/a4/v_141257420_m_601.jpg\",\"channelId\":7,\"subtitle\":\"\",\"vip\":{\"payMarkUrl\":\"\",\"payMark\":0,\"vipType\":[0],\"purchaseType\":0},\"userId\":990572962,\"period\":\"20191118\",\"exclusive\":0,\"qiyiProduced\":0,\"shortTitle\":\"2019芭莎慈善夜 专访关晓彤\",\"recommendation\":\"最开心能管住自己的嘴\",\"contentType\":1,\"album\":{\"id\":248686501,\"name\":\"2019芭莎明星慈善夜\",\"url\":\"http://www.iqiyi.com/a_19rrhxhsqx.html\",\"imageUrl\":\"http://pic1.iqiyipic.com/image/20191116/c4/97/a_100366441_m_601.jpg\",\"videoCount\":0,\"isSource\":1,\"exclusive\":0,\"qiyiProduced\":0,\"latestVideo\":{\"tvId\":9491438700,\"url\":\"http://www.iqiyi.com/v_19rvczd4hs.html\",\"order\":1}},\"user\":{\"id\":990572962,\"name\":\"娱乐大事件\"}},\"kvs\":{\"desc\":\"网友:乐坛纠察队尽责\"}}],\"title\":{\"name\":\"娱乐\",\"icon\":\"yuleshow\",\"link\":\"//yule.iqiyi.com/\",\"moreText\":\"更多\",\"subNav\":[{\"name\":\"爱奇艺早班机\",\"pageUrl\":\"http://yule.iqiyi.com/zbj.html\",\"imageUrl\":\"\",\"kvs\":{\"width\":\"\"}},{\"name\":\"娱乐猛回头\",\"pageUrl\":\"https://www.iqiyi.com/v_19rv5439r8.html\",\"imageUrl\":\"\",\"kvs\":{\"width\":\"\"}},{\"name\":\"NINEPERCENT告别演唱会\",\"pageUrl\":\"https://live.iqiyi.com/s/19rskjmc1z.html\",\"imageUrl\":\"\",\"kvs\":{\"width\":\"\"}},{\"name\":\"金鸡百花电影节\",\"pageUrl\":\"http://www.iqiyi.com/playlist576326702.html\",\"imageUrl\":\"\",\"kvs\":{\"width\":\"\"}},{\"name\":\"《少年的你》最新热点\",\"pageUrl\":\"http://www.iqiyi.com/playlist577238902.html\",\"imageUrl\":\"\",\"kvs\":{\"width\":\"\"}}]}}'\n",
      "\n",
      "            :source-data='{\"grayIndex\":3,\"videos\":[{\"list\":{\"sourceId\":0,\"albumName\":\"优步危机\",\"albumId\":2291145000,\"focus\":\"彪悍警探玩命破案\",\"qiyiProduced\":false,\"shortTitle\":\"优步危机\",\"tvId\":2291145000,\"playUrl\":\"http://www.iqiyi.com/v_19rsfuizic.html\",\"videoCount\":1,\"duration\":\"01:32:41\",\"score\":7.9,\"effective\":true,\"albumUrl\":\"http://www.iqiyi.com/v_19rsfuizic.html\",\"latestOrder\":1,\"albumImageUrl\":\"\",\"imageUrl\":\"http://pic7.iqiyipic.com/image/20191118/e4/e7/v_128253845_m_601_m6.jpg\",\"payMark\":3,\"exclusive\":true,\"contentType\":1,\"channelId\":1,\"order\":1,\"publishTime\":1574062216000,\"period\":\"2019-07-12\",\"payMarkUrl\":\"http://pic1.iqiyipic.com/common/20171106/bd/1b/vip_100001_v_601.png\",\"solo\":true,\"name\":\"优步危机\",\"fgtwVideo\":0,\"is1080p\":1}},{\"list\":{\"sourceId\":0,\"albumName\":\"犯罪现场\",\"albumId\":6788044500,\"focus\":\"古天乐持枪扫街\",\"qiyiProduced\":false,\"shortTitle\":\"犯罪现场\",\"tvId\":6788044500,\"playUrl\":\"http://www.iqiyi.com/v_19rumnl320.html\",\"videoCount\":1,\"duration\":\"01:44:12\",\"score\":8.5,\"effective\":true,\"albumUrl\":\"http://www.iqiyi.com/v_19rumnl320.html\",\"latestOrder\":1,\"albumImageUrl\":\"\",\"imageUrl\":\"http://pic2.iqiyipic.com/image/20191114/b2/85/v_137654881_m_601_m6.jpg\",\"payMark\":1,\"exclusive\":false,\"contentType\":1,\"channelId\":1,\"order\":1,\"publishTime\":1573803013000,\"period\":\"2019-10-12\",\"payMarkUrl\":\"http://pic0.iqiyipic.com/common/20171106/ac/1b/vip_100000_v_601.png\",\"solo\":true,\"name\":\"犯罪现场\",\"fgtwVideo\":0,\"is1080p\":1}},{\"list\":{\"sourceId\":0,\"albumName\":\"精武陈真\",\"albumId\":9173395100,\"focus\":\"精武陈真决战东京\",\"qiyiProduced\":false,\"shortTitle\":\"精武陈真\",\"tvId\":9173395100,\"playUrl\":\"http://www.iqiyi.com/v_19rv88t0xc.html\",\"videoCount\":1,\"duration\":\"01:16:18\",\"score\":7.1,\"effective\":true,\"albumUrl\":\"http://www.iqiyi.com/v_19rv88t0xc.html\",\"latestOrder\":1,\"albumImageUrl\":\"\",\"imageUrl\":\"http://pic5.iqiyipic.com/image/20191118/42/04/v_140760819_m_601_m15.jpg\",\"payMark\":1,\"exclusive\":true,\"contentType\":1,\"channelId\":1,\"order\":1,\"publishTime\":1573975809000,\"period\":\"2019-11-17\",\"payMarkUrl\":\"http://pic0.iqiyipic.com/common/20171106/ac/1b/vip_100000_v_601.png\",\"solo\":true,\"name\":\"精武陈真\",\"fgtwVideo\":1,\"is1080p\":1,\"user\":{\"nickName\":\"项氏兄弟电影\",\"id\":\"2250777135\",\"avatar\":\"https://img7.iqiyipic.com/passport/20171222/52/31/passport_2250777135_151393330847996_130_130.jpg\"}}},{\"list\":{\"sourceId\":0,\"albumName\":\"宝莱坞机器人2.0：重生归来\",\"albumId\":2693139900,\"focus\":\"印度版“钢铁侠”\",\"qiyiProduced\":false,\"shortTitle\":\"宝莱坞机器人2.0\",\"tvId\":2693139900,\"playUrl\":\"http://www.iqiyi.com/v_19rs97niz4.html\",\"videoCount\":1,\"duration\":\"01:47:16\",\"score\":7.3,\"effective\":true,\"albumUrl\":\"http://www.iqiyi.com/v_19rs97niz4.html\",\"latestOrder\":1,\"albumImageUrl\":\"\",\"imageUrl\":\"http://pic1.iqiyipic.com/image/20191111/ff/f9/v_130601874_m_601_m7.jpg\",\"payMark\":1,\"exclusive\":false,\"contentType\":1,\"channelId\":1,\"order\":1,\"publishTime\":1573630209000,\"period\":\"2019-09-06\",\"payMarkUrl\":\"http://pic0.iqiyipic.com/common/20171106/ac/1b/vip_100000_v_601.png\",\"solo\":true,\"name\":\"宝莱坞机器人2.0：重生归来\",\"fgtwVideo\":0,\"is1080p\":1}},{\"list\":{\"sourceId\":0,\"albumName\":\"魔兽\",\"albumId\":543435100,\"focus\":\"怀旧服开荣耀击杀\",\"qiyiProduced\":false,\"shortTitle\":\"魔兽\",\"tvId\":543435100,\"playUrl\":\"http://www.iqiyi.com/v_19rr9g9vzk.html\",\"videoCount\":1,\"duration\":\"02:03:56\",\"score\":8.6,\"effective\":true,\"albumUrl\":\"http://www.iqiyi.com/v_19rr9g9vzk.html\",\"latestOrder\":1,\"albumImageUrl\":\"\",\"imageUrl\":\"http://pic4.iqiyipic.com/image/20191116/24/c9/v_111039734_m_601_m7.jpg\",\"payMark\":1,\"exclusive\":false,\"contentType\":1,\"channelId\":1,\"order\":1,\"publishTime\":1475937007000,\"period\":\"2016-06-08\",\"payMarkUrl\":\"http://pic0.iqiyipic.com/common/20171106/ac/1b/vip_100000_v_601.png\",\"solo\":true,\"name\":\"魔兽\",\"fgtwVideo\":0,\"is1080p\":1}},{\"list\":{\"sourceId\":0,\"albumName\":\"速度与激情：特别行动\",\"albumId\":1983386200,\"focus\":\"强森斯坦森联合抗敌\",\"qiyiProduced\":false,\"shortTitle\":\"速度与激情：特别行动\",\"tvId\":1983386200,\"playUrl\":\"http://www.iqiyi.com/v_19rqxus75g.html\",\"videoCount\":1,\"duration\":\"02:08:18\",\"score\":8,\"effective\":true,\"albumUrl\":\"http://www.iqiyi.com/v_19rqxus75g.html\",\"latestOrder\":1,\"albumImageUrl\":\"\",\"imageUrl\":\"http://pic5.iqiyipic.com/image/20191109/4c/1e/v_125374064_m_601_m6.jpg\",\"payMark\":2,\"exclusive\":false,\"contentType\":1,\"channelId\":1,\"order\":1,\"publishTime\":1573399812000,\"period\":\"2019-08-23\",\"payMarkUrl\":\"http://pic2.iqiyipic.com/common/20171106/bc/1b/vip_100002_v_601.png\",\"solo\":true,\"name\":\"速度与激情：特别行动\",\"fgtwVideo\":0,\"is1080p\":1}},{\"list\":{\"sourceId\":0,\"albumName\":\"陈情令之生魂\",\"albumId\":8767841000,\"focus\":\"温宁思追共破悬案\",\"qiyiProduced\":false,\"shortTitle\":\"陈情令之生魂\",\"tvId\":8767841000,\"playUrl\":\"http://www.iqiyi.com/v_19rveykozo.html\",\"videoCount\":1,\"duration\":\"01:23:55\",\"score\":8.3,\"effective\":true,\"albumUrl\":\"http://www.iqiyi.com/v_19rveykozo.html\",\"latestOrder\":1,\"albumImageUrl\":\"\",\"imageUrl\":\"http://pic1.iqiyipic.com/image/20191114/b7/58/v_139948543_m_601_m25.jpg\",\"payMark\":1,\"exclusive\":true,\"contentType\":1,\"channelId\":1,\"order\":1,\"publishTime\":1573111812000,\"period\":\"2019-11-07\",\"payMarkUrl\":\"http://pic0.iqiyipic.com/common/20171106/ac/1b/vip_100000_v_601.png\",\"solo\":true,\"name\":\"陈情令之生魂\",\"fgtwVideo\":1,\"is1080p\":1,\"user\":{\"nickName\":\"贵州新湃传媒有限公司\",\"id\":\"1784457872\",\"avatar\":\"http://www.iqiyipic.com/common/fix/headicons/male-130.png\"}}},{\"list\":{\"sourceId\":0,\"albumName\":\"小小的愿望\",\"albumId\":2326701800,\"focus\":\"三兄弟爆笑圆梦\",\"qiyiProduced\":false,\"shortTitle\":\"小小的愿望\",\"tvId\":2326701800,\"playUrl\":\"http://www.iqiyi.com/v_19rsgefqf8.html\",\"videoCount\":1,\"duration\":\"01:47:11\",\"score\":8.4,\"effective\":true,\"albumUrl\":\"http://www.iqiyi.com/v_19rsgefqf8.html\",\"latestOrder\":1,\"albumImageUrl\":\"\",\"imageUrl\":\"http://pic0.iqiyipic.com/image/20191106/6f/df/v_128588898_m_601_m13.jpg\",\"payMark\":1,\"exclusive\":false,\"contentType\":1,\"channelId\":1,\"order\":1,\"publishTime\":1573025410000,\"period\":\"2019-09-12\",\"payMarkUrl\":\"http://pic0.iqiyipic.com/common/20171106/ac/1b/vip_100000_v_601.png\",\"solo\":true,\"name\":\"小小的愿望\",\"fgtwVideo\":0,\"is1080p\":1}},{\"list\":{\"sourceId\":0,\"albumName\":\"《长安道》独家纪录片\",\"albumId\":9280030600,\"focus\":\"李骏导演实力造就\",\"qiyiProduced\":false,\"shortTitle\":\"《长安道》独家纪录片\",\"tvId\":9280030600,\"playUrl\":\"http://www.iqiyi.com/v_19rv530uec.html\",\"videoCount\":1,\"duration\":\"13:19\",\"effective\":true,\"albumUrl\":\"http://www.iqiyi.com/v_19rv530uec.html\",\"latestOrder\":1,\"albumImageUrl\":\"\",\"imageUrl\":\"http://pic0.iqiyipic.com/image/20191115/8c/a3/v_140981039_m_601_m1.jpg\",\"payMark\":1,\"exclusive\":true,\"contentType\":1,\"channelId\":1,\"order\":1,\"publishTime\":1573782781000,\"period\":\"2019-11-14\",\"payMarkUrl\":\"http://pic0.iqiyipic.com/common/20171106/ac/1b/vip_100000_v_601.png\",\"solo\":true,\"name\":\"《长安道》独家纪录片\",\"fgtwVideo\":0,\"is1080p\":1}},{\"list\":{\"sourceId\":0,\"albumName\":\"检察方的罪人\",\"albumId\":5011653200,\"focus\":\"木村拓哉法庭较量\",\"qiyiProduced\":false,\"shortTitle\":\"检察方的罪人\",\"tvId\":5011653200,\"playUrl\":\"http://www.iqiyi.com/v_19rt70dhdo.html\",\"videoCount\":1,\"duration\":\"02:02:44\",\"score\":6.8,\"effective\":true,\"albumUrl\":\"http://www.iqiyi.com/v_19rt70dhdo.html\",\"latestOrder\":1,\"albumImageUrl\":\"\",\"imageUrl\":\"http://pic5.iqiyipic.com/image/20191108/4d/89/v_136210535_m_601_m4.jpg\",\"payMark\":1,\"exclusive\":false,\"contentType\":1,\"channelId\":1,\"order\":1,\"publishTime\":1573198209000,\"period\":\"2019-09-06\",\"payMarkUrl\":\"http://pic0.iqiyipic.com/common/20171106/ac/1b/vip_100000_v_601.png\",\"solo\":true,\"name\":\"检察方的罪人\",\"fgtwVideo\":0,\"is1080p\":1}},{\"list\":{\"sourceId\":0,\"albumName\":\"诛仙Ⅰ\",\"albumId\":1929130500,\"focus\":\"肖战李沁决战鬼王宗\",\"qiyiProduced\":false,\"shortTitle\":\"诛仙Ⅰ\",\"tvId\":1929130500,\"playUrl\":\"http://www.iqiyi.com/v_19rqwth5yg.html\",\"videoCount\":1,\"duration\":\"01:40:53\",\"score\":7.3,\"effective\":true,\"albumUrl\":\"http://www.iqiyi.com/v_19rqwth5yg.html\",\"latestOrder\":1,\"albumImageUrl\":\"\",\"imageUrl\":\"http://pic4.iqiyipic.com/image/20191025/ba/a6/v_124870939_m_601_m7.jpg\",\"payMark\":1,\"exclusive\":false,\"contentType\":1,\"channelId\":1,\"order\":1,\"publishTime\":1571988613000,\"period\":\"2019-09-13\",\"payMarkUrl\":\"http://pic0.iqiyipic.com/common/20171106/ac/1b/vip_100000_v_601.png\",\"solo\":true,\"name\":\"诛仙Ⅰ\",\"fgtwVideo\":0,\"is1080p\":1}},{\"list\":{\"sourceId\":0,\"albumName\":\"哪吒之魔童降世\",\"albumId\":1008919900,\"focus\":\"49亿票房爆燃国漫\",\"qiyiProduced\":false,\"shortTitle\":\"哪吒之魔童降世\",\"tvId\":1008919900,\"playUrl\":\"http://www.iqiyi.com/v_19rrcuke28.html\",\"videoCount\":1,\"duration\":\"01:49:59\",\"score\":9,\"effective\":true,\"albumUrl\":\"http://www.iqiyi.com/v_19rrcuke28.html\",\"latestOrder\":1,\"albumImageUrl\":\"\",\"imageUrl\":\"http://pic1.iqiyipic.com/image/20191010/a7/c5/v_115686092_m_601_m9.jpg\",\"payMark\":7,\"exclusive\":false,\"contentType\":1,\"channelId\":1,\"order\":1,\"publishTime\":1570779010000,\"period\":\"2019-07-26\",\"payMarkUrl\":\"http://pic0.iqiyipic.com/common/20180528/ac/1b/vip_100004_v_601.png\",\"solo\":true,\"name\":\"哪吒之魔童降世\",\"fgtwVideo\":0,\"is1080p\":1}},{\"list\":{\"sourceId\":202124401,\"albumName\":\"爱奇艺爱电影\",\"albumId\":202124401,\"focus\":\"霍建华实力演绎渣男\",\"qiyiProduced\":true,\"shortTitle\":\"大约在冬季\",\"tvId\":9392064800,\"playUrl\":\"http://www.iqiyi.com/v_19rv6v5he4.html\",\"videoCount\":0,\"duration\":\"11:32\",\"score\":7.5,\"effective\":true,\"albumUrl\":\"http://www.iqiyi.com/a_19rrhc0l5p.html\",\"latestOrder\":1,\"albumImageUrl\":\"http://pic1.iqiyipic.com/image/20180128/28/52/a_100006871_m_601_m2.jpg\",\"imageUrl\":\"http://pic9.iqiyipic.com/image/20191115/76/ca/v_141153995_m_601.jpg\",\"payMark\":0,\"exclusive\":true,\"contentType\":1,\"channelId\":1,\"order\":0,\"publishTime\":1573914604000,\"period\":\"2019-11-17\",\"payMarkUrl\":\"\",\"solo\":false,\"name\":\"爱奇艺爱电影：大约在冬季\",\"fgtwVideo\":0,\"is1080p\":1}},{\"list\":{\"sourceId\":0,\"albumName\":\"悲伤逆流成河\",\"albumId\":1012509300,\"focus\":\"郭敬明揭校园暴力\",\"qiyiProduced\":false,\"shortTitle\":\"悲伤逆流成河\",\"tvId\":1012509300,\"playUrl\":\"http://www.iqiyi.com/v_19rrcswefs.html\",\"videoCount\":1,\"duration\":\"01:43:14\",\"score\":8.8,\"effective\":true,\"albumUrl\":\"http://www.iqiyi.com/v_19rrcswefs.html\",\"latestOrder\":1,\"albumImageUrl\":\"\",\"imageUrl\":\"http://pic0.iqiyipic.com/image/20190810/4c/59/v_115722595_m_601_m13.jpg\",\"payMark\":0,\"exclusive\":false,\"contentType\":1,\"channelId\":1,\"order\":1,\"publishTime\":1542007815000,\"period\":\"2018-09-21\",\"payMarkUrl\":\"\",\"solo\":true,\"name\":\"悲伤逆流成河\",\"fgtwVideo\":0,\"is1080p\":1}},{\"list\":{\"sourceId\":0,\"albumName\":\"复仇行动\",\"albumId\":819994700,\"focus\":\"精英律师硬核复仇\",\"qiyiProduced\":false,\"shortTitle\":\"复仇行动\",\"tvId\":819994700,\"playUrl\":\"http://www.iqiyi.com/v_19rre0xj4w.html\",\"videoCount\":1,\"duration\":\"01:27:20\",\"score\":7.5,\"effective\":true,\"albumUrl\":\"http://www.iqiyi.com/v_19rre0xj4w.html\",\"latestOrder\":1,\"albumImageUrl\":\"\",\"imageUrl\":\"http://pic7.iqiyipic.com/image/20190810/43/70/v_113757569_m_601_m3.jpg\",\"payMark\":0,\"exclusive\":false,\"contentType\":1,\"channelId\":1,\"order\":1,\"publishTime\":1557819005000,\"period\":\"2017-10-27\",\"payMarkUrl\":\"\",\"solo\":true,\"name\":\"复仇行动\",\"fgtwVideo\":0,\"is1080p\":1}},{\"list\":{\"sourceId\":0,\"albumName\":\"人间·喜剧\",\"albumId\":946751900,\"focus\":\"艾伦王智爆笑讨薪\",\"qiyiProduced\":false,\"shortTitle\":\"人间·喜剧\",\"tvId\":946751900,\"playUrl\":\"http://www.iqiyi.com/v_19rrbokik0.html\",\"videoCount\":1,\"duration\":\"01:30:00\",\"score\":7.3,\"effective\":true,\"albumUrl\":\"http://www.iqiyi.com/v_19rrbokik0.html\",\"latestOrder\":1,\"albumImageUrl\":\"\",\"imageUrl\":\"http://pic3.iqiyipic.com/image/20190810/6e/b9/v_115049606_m_601_m17.jpg\",\"payMark\":1,\"exclusive\":false,\"contentType\":1,\"channelId\":1,\"order\":1,\"publishTime\":1556523007000,\"period\":\"2019-03-29\",\"payMarkUrl\":\"http://pic0.iqiyipic.com/common/20171106/ac/1b/vip_100000_v_601.png\",\"solo\":true,\"name\":\"人间·喜剧\",\"fgtwVideo\":0,\"is1080p\":1}}],\"title\":{\"name\":\"电影\",\"icon\":\"movieshow\",\"link\":\"//www.iqiyi.com/dianying/\",\"moreText\":\"更多\",\"subNav\":[{\"name\":\"爱奇艺爱电影\",\"pageUrl\":\"http://www.iqiyi.com/dianying/ady.html\",\"imageUrl\":\"\",\"kvs\":{\"width\":\"\"}},{\"name\":\"爱奇艺文艺院线\",\"pageUrl\":\"https://www.iqiyi.com/v_19rrc7z66c.html?list=19rrkj523q\",\"imageUrl\":\"\",\"kvs\":{\"width\":\"\"}},{\"name\":\"爱奇艺独播专区\",\"pageUrl\":\"https://www.iqiyi.com/v_19rr7p5oh8.html?list=19rrkkc0ve\",\"imageUrl\":\"\",\"kvs\":{\"width\":\"\"}},{\"name\":\"爱奇艺网络大电影\",\"pageUrl\":\"http://www.iqiyi.com/weidianying/\",\"imageUrl\":\"\",\"kvs\":{\"width\":\"\"}},{\"name\":\"杜琪峯在线影展\",\"pageUrl\":\"https://www.iqiyi.com/v_19rrg43ha8.html?list=19rra7ynri\",\"imageUrl\":\"\",\"kvs\":{\"width\":\"\"}},{\"name\":\"终结者系列强势回归\",\"pageUrl\":\"https://www.iqiyi.com/v_19rrkq24j4.html?list=19rro5cz16\",\"imageUrl\":\"\",\"kvs\":{\"width\":\"\"}}]}}'\n",
      "\n",
      "        :source-data='{\"videos\":[{\"album_name\":\"犯罪现场\",\"album_play_url\":\"http://www.iqiyi.com/v_19rumnl320.html\",\"album_rank_trend\":0,\"album_id\":6788044500,\"episode_play_url\":\"http://www.iqiyi.com/v_19rumnl320.html\",\"latest_order\":1,\"video_count\":1,\"is_source\":false},{\"album_name\":\"精武陈真\",\"album_play_url\":\"http://www.iqiyi.com/v_19rv88t0xc.html\",\"album_rank_trend\":0,\"album_id\":9173395100,\"episode_play_url\":\"http://www.iqiyi.com/v_19rv88t0xc.html\",\"latest_order\":1,\"video_count\":1,\"is_source\":false},{\"album_name\":\"哪吒之魔童降世\",\"album_play_url\":\"http://www.iqiyi.com/v_19rrcuke28.html\",\"album_rank_trend\":0,\"album_id\":1008919900,\"episode_play_url\":\"http://www.iqiyi.com/v_19rrcuke28.html\",\"latest_order\":1,\"video_count\":1,\"is_source\":false},{\"album_name\":\"宝莱坞机器人2.0：重生归来\",\"album_play_url\":\"http://www.iqiyi.com/v_19rs97niz4.html\",\"album_rank_trend\":0,\"album_id\":2693139900,\"episode_play_url\":\"http://www.iqiyi.com/v_19rs97niz4.html\",\"latest_order\":1,\"video_count\":1,\"is_source\":false},{\"album_name\":\"陈情令之生魂\",\"album_play_url\":\"http://www.iqiyi.com/v_19rveykozo.html\",\"album_rank_trend\":0,\"album_id\":8767841000,\"episode_play_url\":\"http://www.iqiyi.com/v_19rveykozo.html\",\"latest_order\":1,\"video_count\":1,\"is_source\":false},{\"album_name\":\"速度与激情：特别行动\",\"album_play_url\":\"http://www.iqiyi.com/v_19rqxus75g.html\",\"album_rank_trend\":0,\"album_id\":1983386200,\"episode_play_url\":\"http://www.iqiyi.com/v_19rqxus75g.html\",\"latest_order\":1,\"video_count\":1,\"is_source\":false},{\"album_name\":\"小小的愿望\",\"album_play_url\":\"http://www.iqiyi.com/v_19rsgefqf8.html\",\"album_rank_trend\":0,\"album_id\":2326701800,\"episode_play_url\":\"http://www.iqiyi.com/v_19rsgefqf8.html\",\"latest_order\":1,\"video_count\":1,\"is_source\":false},{\"album_name\":\"新封神姜子牙\",\"album_play_url\":\"http://www.iqiyi.com/v_19rtshvm5w.html\",\"album_rank_trend\":0,\"album_id\":8460424600,\"episode_play_url\":\"http://www.iqiyi.com/v_19rtshvm5w.html\",\"latest_order\":1,\"video_count\":1,\"is_source\":false},{\"album_name\":\"魔兽\",\"album_play_url\":\"http://www.iqiyi.com/v_19rr9g9vzk.html\",\"album_rank_trend\":0,\"album_id\":543435100,\"episode_play_url\":\"http://www.iqiyi.com/v_19rr9g9vzk.html\",\"latest_order\":1,\"video_count\":1,\"is_source\":false},{\"album_name\":\"诛仙Ⅰ\",\"album_play_url\":\"http://www.iqiyi.com/v_19rqwth5yg.html\",\"album_rank_trend\":0,\"album_id\":1929130500,\"episode_play_url\":\"http://www.iqiyi.com/v_19rqwth5yg.html\",\"latest_order\":1,\"video_count\":1,\"is_source\":false},{\"list\":{\"sourceId\":0,\"albumName\":\"人间·喜剧\",\"albumId\":946751900,\"focus\":\"艾伦王智爆笑讨薪\",\"qiyiProduced\":false,\"shortTitle\":\"人间·喜剧\",\"tvId\":946751900,\"playUrl\":\"http://www.iqiyi.com/v_19rrbokik0.html\",\"videoCount\":1,\"duration\":\"01:30:00\",\"score\":7.3,\"effective\":true,\"albumUrl\":\"http://www.iqiyi.com/v_19rrbokik0.html\",\"latestOrder\":1,\"albumImageUrl\":\"\",\"imageUrl\":\"http://pic3.iqiyipic.com/image/20190810/6e/b9/v_115049606_m_601_m17.jpg\",\"payMark\":1,\"exclusive\":false,\"contentType\":1,\"channelId\":1,\"order\":1,\"publishTime\":1556523007000,\"period\":\"2019-03-29\",\"payMarkUrl\":\"http://pic0.iqiyipic.com/common/20171106/ac/1b/vip_100000_v_601.png\",\"solo\":true,\"name\":\"人间·喜剧\",\"fgtwVideo\":0,\"is1080p\":1}}],\"title\":{\"name\":\"电影榜\",\"link\":\"//top.iqiyi.com/dianying.html\",\"moreText\":\"更多\"}}'\n",
      "\n",
      "            :source-data='{\"videos\":[{\"itemId\":233987401,\"type\":0,\"name\":\"\",\"pageUrl\":\"\",\"imageUrl\":\"\",\"prompt\":\"\",\"subordinateTitle\":\"\",\"shortDisplayName\":\"\",\"album\":{\"id\":233987401,\"name\":\"心灵法医\",\"url\":\"http://www.iqiyi.com/a_19rrh29btx.html\",\"imageUrl\":\"http://pic9.iqiyipic.com/image/20191118/2a/87/a_100219507_m_601_m9.jpg\",\"channelId\":2,\"description\":\"明川，鹏海市警队法医，技术出众，天赋异禀。当明川站在尸检台前，他就成了鹏海市远近闻名的“听尸者”。凭着微小的线索就能找出真相，破获了一个个离奇的案件。但除了探寻真相之外，他还关心一些与法医无关的事情——死者的遗愿，生者的遗憾……对活人的疏离和对死人的温暖，让明川成为一个神秘的存在。没有人能了解他的过去，也没有人能预测他的将来。适时，鹏海市发生一起连环杀人案，凶手在短短几年的时间里接连杀了4、5个人，每次都会将被害人开膛破肚。这些案件作案手法十分独特，警方判断凶手曾受过医学专业的训练，称之为“杀人医生”。“杀人医生”案吸引了初来乍到的刑警女队长罗笔芯的注意，她将目光锁定到神秘的明川身上，并开始在工作和生活中关注明川...\",\"videoCount\":36,\"vip\":{\"payMarkUrl\":\"http://pic0.iqiyipic.com/common/20171106/ac/1b/vip_100000_v_601.png\",\"payMark\":1,\"vipType\":[0],\"purchaseType\":2},\"updateStrategy\":\"每周一至周四20:00各更新2集;VIP会员抢先看8集\",\"isSource\":0,\"shortTitle\":\"心灵法医\",\"exclusive\":1,\"mode1080p\":1,\"qiyiProduced\":1,\"recommendation\":\"聂远宋轶联手探奇案\",\"score\":7.4,\"latestTvId\":9297846400,\"period\":\"20191118\",\"firstVideo\":{\"url\":\"http://www.iqiyi.com/v_19rv926lj8.html\"},\"latestVideo\":{\"order\":10,\"url\":\"http://www.iqiyi.com/v_19rv5w95gs.html\",\"name\":\"心灵法医第10集\",\"imageUrl\":\"http://pic2.iqiyipic.com/image/20191118/a7/f0/v_141012767_m_601_m2.jpg\",\"shortTitle\":\"心灵法医第10集\"}},\"kvs\":{}},{\"itemId\":233261001,\"type\":0,\"name\":\"\",\"pageUrl\":\"\",\"imageUrl\":\"\",\"prompt\":\"\",\"subordinateTitle\":\"\",\"shortDisplayName\":\"\",\"album\":{\"id\":233261001,\"name\":\"恋恋江湖\",\"url\":\"http://www.iqiyi.com/a_19rrh2zvl1.html\",\"imageUrl\":\"http://pic1.iqiyipic.com/image/20191030/3e/4b/a_100212674_m_601_m8.jpg\",\"channelId\":2,\"description\":\"圣医派掌门的千金花痴少女于盛优一心渴望嫁个完美丈夫，不料，她“挑选”的丈夫——大公子宫远修外形虽俊美 ，却是一个“傻子 ”！而从小喜欢于盛优的竹马——重达400斤的鬼域门门主爱德御书也重新出现在了于盛优的生活里。在与两人的相处过程中，于盛优逐渐看到二人的闪光点。此时武林灭门案件频发，剧中正面人物决定找出幕后真凶，解救被抢走的孩子。在这过程中，女主于盛优一步步的成长，宫远修也阴差阳错恢复正常，爱德御书为了得到于盛优的心也减肥成功。在与宫远修和爱德御书共同挫败武林阴谋的同时，于盛优也最终明白了自己的心，在情感上她也不再犹豫 ，选择了自己的归宿。\\n\",\"videoCount\":24,\"vip\":{\"payMarkUrl\":\"http://pic0.iqiyipic.com/common/20171106/ac/1b/vip_100000_v_601.png\",\"payMark\":1,\"vipType\":[0],\"purchaseType\":2},\"updateStrategy\":\"每周三至周五20:00各更新2集;VIP会员抢先看全集\",\"isSource\":0,\"shortTitle\":\"恋恋江湖\",\"exclusive\":1,\"mode1080p\":1,\"qiyiProduced\":1,\"recommendation\":\"极品花痴女爆笑闯江湖\",\"score\":7.4,\"latestTvId\":8829702200,\"period\":\"20191030\",\"firstVideo\":{\"url\":\"http://www.iqiyi.com/v_19rvf69yvw.html\"},\"latestVideo\":{\"order\":24,\"url\":\"http://www.iqiyi.com/v_19rvfvo4es.html\",\"name\":\"恋恋江湖第24集\",\"imageUrl\":\"http://pic9.iqiyipic.com/image/20191028/43/7d/v_140083688_m_601_m1.jpg\",\"shortTitle\":\"恋恋江湖第24集\"}},\"kvs\":{}},{\"itemId\":247283601,\"type\":0,\"name\":\"\",\"pageUrl\":\"\",\"imageUrl\":\"\",\"prompt\":\"\",\"subordinateTitle\":\"\",\"shortDisplayName\":\"\",\"album\":{\"id\":247283601,\"name\":\"生活对我下手了2\",\"url\":\"http://www.iqiyi.com/a_19rrhz2tj1.html\",\"imageUrl\":\"http://pic0.iqiyipic.com/image/20191111/9e/d3/a_100352577_m_601_m16.jpg\",\"channelId\":2,\"description\":\"辣目洋子携梦幻男友阵容强势集结，本应甜蜜的恋爱，但生活依然没有放过洋子！这个秋季来一起寻找单身的理由吧！\",\"videoCount\":40,\"vip\":{\"payMarkUrl\":\"http://pic0.iqiyipic.com/common/20171106/ac/1b/vip_100000_v_601.png\",\"payMark\":1,\"vipType\":[0],\"purchaseType\":2},\"updateStrategy\":\"每周一至周五12:00各更新2集;VIP会员抢先看全集\",\"isSource\":0,\"shortTitle\":\"生活对我下手了2\",\"exclusive\":1,\"mode1080p\":1,\"qiyiProduced\":1,\"recommendation\":\"洋子梦幻男友阵容集结\",\"score\":7.3,\"latestTvId\":8738898600,\"period\":\"20191028\",\"firstVideo\":{\"url\":\"http://www.iqiyi.com/v_19rvec25sg.html\"},\"latestVideo\":{\"order\":40,\"url\":\"http://www.iqiyi.com/v_19rveb15ms.html\",\"name\":\"生活对我下手了2第40集\",\"imageUrl\":\"http://pic8.iqiyipic.com/image/20191024/14/80/v_139885041_m_601.jpg\",\"shortTitle\":\"生活对我下手了2第40集\"}},\"kvs\":{}},{\"itemId\":231511801,\"type\":0,\"name\":\"\",\"pageUrl\":\"\",\"imageUrl\":\"\",\"prompt\":\"\",\"subordinateTitle\":\"\",\"shortDisplayName\":\"\",\"album\":{\"id\":231511801,\"name\":\"热血少年\",\"url\":\"http://www.iqiyi.com/a_19rrh4jt05.html\",\"imageUrl\":\"http://pic9.iqiyipic.com/image/20191022/ab/08/a_100199788_m_601_m25.jpg\",\"channelId\":2,\"description\":\"上世纪20年代的上海滩，英美法三足鼎立，  日本虎视眈眈，  军阀割据，  各方势力相互较量，可怜的上海人民在夹缝中生存，饱受压迫。街头混混吴乾是孤儿，被养父吴法天收养。他和巡捕卫乘风一同长大，在街头市井中除了练出一副好身手，更锻炼出了机敏果敢、嫉恶如仇的性格。卫家奶奶对吴乾照顾有加，却因年迈而病重。为给卫奶奶凑钱沼病，吴乾和卫乘风决定参加万术大会，赢得高额奖金。万术大会实则洋人策划的一个以愚弄中国人民为乐的游戏，大赛环节险象丛生，吴乾和卫乘风在里面结识了来自中立派系学习小组——明镜学会的贺红衣，三个人齐心协力一路闯关，展现了中国人的骨气、勇气和气节。\\n\\n\",\"videoCount\":58,\"vip\":{\"payMarkUrl\":\"http://pic0.iqiyipic.com/common/20171106/ac/1b/vip_100000_v_601.png\",\"payMark\":1,\"vipType\":[0],\"purchaseType\":2},\"updateStrategy\":\"每周二至周五20:00各更新2集 VIP抢先看8集\",\"isSource\":0,\"shortTitle\":\"热血少年\",\"exclusive\":1,\"mode1080p\":1,\"qiyiProduced\":1,\"recommendation\":\"黄子韬张雪迎热血青春\",\"score\":7.1,\"latestTvId\":8664304100,\"period\":\"20191022\",\"firstVideo\":{\"url\":\"http://www.iqiyi.com/v_19rvgimuz4.html\"},\"latestVideo\":{\"order\":40,\"url\":\"http://www.iqiyi.com/v_19rvhihyfc.html\",\"name\":\"热血少年第40集\",\"imageUrl\":\"http://pic0.iqiyipic.com/image/20191022/c5/1e/v_139715654_m_601_m1.jpg\",\"shortTitle\":\"热血少年第40集\"}},\"kvs\":{}},{\"itemId\":247384101,\"type\":0,\"name\":\"\",\"pageUrl\":\"\",\"imageUrl\":\"\",\"prompt\":\"\",\"subordinateTitle\":\"\",\"shortDisplayName\":\"\",\"album\":{\"id\":247384101,\"name\":\"水墨人生第一季\",\"url\":\"http://www.iqiyi.com/a_19rrhz7ia1.html\",\"imageUrl\":\"http://pic7.iqiyipic.com/image/20191118/91/b0/a_100353579_m_601_m11.jpg\",\"channelId\":2,\"description\":\"民国吴县，程家大少程景墨泛湖写生时，对采莲女阮秋水一见钟情，自此开启一段笑料不断的追求之路，而与秋水青梅竹马的张子庸是他最大的情敌。嬉笑怒骂间，程景墨、阮秋水擦出爱情火花，不料变故横生，阮秋水错嫁程家，程景墨尚未从悲伤中走出，程父又因病去世。失去主心骨的程家遭刘家抢订单，程景墨临危受命，与阮秋水合力研发新茶来挽回订单。然外忧刚平，内患又起，程景墨被迫分家。而后他与阮秋水一起创办了水墨茶行，走上热血创业之路。在茶行历经磨难，终于有所起色的时候，马司令横空出世，搅得整个吴县不得安宁。阮秋水、程景墨遂决定外出走茶，将程家茶叶推向全国。二人在上海携手与共，齐心争得茶王头衔，但程家还有更大的考验在等待着\",\"videoCount\":12,\"vip\":{\"payMarkUrl\":\"http://pic0.iqiyipic.com/common/20171106/ac/1b/vip_100000_v_601.png\",\"payMark\":1,\"vipType\":[0],\"purchaseType\":2},\"updateStrategy\":\"\",\"isSource\":0,\"shortTitle\":\"水墨人生第一季\",\"exclusive\":1,\"mode1080p\":1,\"qiyiProduced\":0,\"recommendation\":\"水墨离家创业花式追爱\",\"score\":7.5,\"latestTvId\":7887548500,\"period\":\"20191025\",\"firstVideo\":{\"url\":\"http://www.iqiyi.com/v_19ru5agrog.html\"},\"latestVideo\":{\"order\":12,\"url\":\"http://www.iqiyi.com/v_19ru5agth4.html\",\"name\":\"水墨人生第一季第12集\",\"imageUrl\":\"http://pic2.iqiyipic.com/image/20191102/49/3e/v_138681341_m_601_m16.jpg\",\"shortTitle\":\"水墨人生第一季第12集\"},\"user\":{\"id\":1610853264,\"name\":\"麦田映画影业\"}},\"kvs\":{}},{\"itemId\":247111401,\"type\":0,\"name\":\"\",\"pageUrl\":\"\",\"imageUrl\":\"\",\"prompt\":\"\",\"subordinateTitle\":\"\",\"shortDisplayName\":\"\",\"album\":{\"id\":247111401,\"name\":\"蜀汉酒楼\",\"url\":\"http://www.iqiyi.com/a_19rrhz2ao5.html\",\"imageUrl\":\"http://pic8.iqiyipic.com/image/20191108/84/69/a_100350856_m_601_m8.jpg\",\"channelId\":2,\"description\":\"相传古代有一条商业街，蜀汉酒楼、曹魏酒楼、东方酒楼三家酒楼鼎立相对。蜀汉酒楼，以刘氏族人刘大耳为首，关浩楠、张新亭、赵常胜四人一起齐心协力经营，但经营不善，酒楼生意每况愈下。此时，诸葛有才因机缘巧合误入蜀汉酒楼，帮助刘大耳重整酒楼，大刀阔斧地进行改革，相继推出盒饭外卖、火锅。夜店等新潮业务，蜀汉酒楼迎来新的生机。同时，曹魏酒楼和东方酒楼也伺机而动，商业街有一场商战正在暗流涌动……\",\"videoCount\":12,\"vip\":{\"payMarkUrl\":\"http://pic0.iqiyipic.com/common/20171106/ac/1b/vip_100000_v_601.png\",\"payMark\":1,\"vipType\":[0],\"purchaseType\":2},\"updateStrategy\":\"每周五至周六12点更新1集;VIP会员抢先看全集\",\"isSource\":0,\"shortTitle\":\"蜀汉酒楼\",\"exclusive\":1,\"mode1080p\":1,\"qiyiProduced\":0,\"recommendation\":\"刘海柱变身诸葛军师\",\"score\":7.2,\"latestTvId\":7345553800,\"period\":\"20191018\",\"firstVideo\":{\"url\":\"http://www.iqiyi.com/v_19rudfclr8.html\"},\"latestVideo\":{\"order\":12,\"url\":\"http://www.iqiyi.com/v_19rudfcb8k.html\",\"name\":\"蜀汉酒楼第12集\",\"imageUrl\":\"http://pic9.iqiyipic.com/image/20191023/c7/ca/v_138098955_m_601_m8.jpg\",\"shortTitle\":\"蜀汉酒楼第12集\"},\"user\":{\"id\":1420616105,\"name\":\"环球壹线影业\"}},\"kvs\":{}},{\"itemId\":213719801,\"type\":0,\"name\":\"\",\"pageUrl\":\"\",\"imageUrl\":\"\",\"prompt\":\"\",\"subordinateTitle\":\"\",\"shortDisplayName\":\"\",\"album\":{\"id\":213719801,\"name\":\"古战场传奇 第二季\",\"url\":\"http://www.iqiyi.com/a_19rrhf3tzp.html\",\"imageUrl\":\"http://pic5.iqiyipic.com/image/20191111/09/65/a_100085700_m_601_m3.jpg\",\"channelId\":2,\"description\":\"一位20世纪中叶的已婚英格兰女士因为偶然的机缘穿越到18世纪中叶的苏格兰，尽管她深爱自己的丈夫，试图回到现代，但又因为种种机缘，她在古代和一位苏格兰战士结婚了，渐渐爱上他。看起来，这个富有传奇色彩的言情故事相当容易变得狗血，但一切并没有那么离奇夸张。\",\"videoCount\":13,\"vip\":{\"payMarkUrl\":\"http://pic0.iqiyipic.com/common/20171106/ac/1b/vip_100000_v_601.png\",\"payMark\":1,\"vipType\":[0],\"purchaseType\":2},\"updateStrategy\":\"\",\"isSource\":0,\"shortTitle\":\"古战场传奇 第二季\",\"exclusive\":0,\"mode1080p\":1,\"qiyiProduced\":0,\"recommendation\":\"詹米克莱尔巴黎止叛乱\",\"score\":7.6,\"latestTvId\":9247213000,\"period\":\"20191118\",\"firstVideo\":{\"url\":\"http://www.iqiyi.com/v_19rv8z5o30.html\"},\"latestVideo\":{\"order\":13,\"url\":\"http://www.iqiyi.com/v_19rv8z7gkk.html\",\"name\":\"古战场传奇 第二季第13集\",\"imageUrl\":\"http://pic4.iqiyipic.com/image/20191112/7e/64/v_140915863_m_601_m1.jpg\",\"shortTitle\":\"古战场传奇 第二季第13集\"}},\"kvs\":{}},{\"itemId\":235930901,\"type\":0,\"name\":\"\",\"pageUrl\":\"\",\"imageUrl\":\"\",\"prompt\":\"\",\"subordinateTitle\":\"\",\"shortDisplayName\":\"\",\"album\":{\"id\":235930901,\"name\":\"从前有座灵剑山\",\"url\":\"http://www.iqiyi.com/a_19rrhuwkmx.html\",\"imageUrl\":\"http://pic4.iqiyipic.com/image/20191114/f5/51/a_100238925_m_601_m6.jpg\",\"channelId\":2,\"description\":\"末法大劫降临、九州大陆面临危机之际，身怀绝世天分的王陆进入五大古装门派中最弱小的灵剑派，拜在外表绝美但性情不羁，常惹是生非且十分毒舌的五长老王舞门下学艺，二人在无穷无尽的爆笑互怼中经历冒险，最终成为九州强者的故事。\",\"videoCount\":37,\"vip\":{\"payMarkUrl\":\"http://pic0.iqiyipic.com/common/20171106/ac/1b/vip_100000_v_601.png\",\"payMark\":1,\"vipType\":[0],\"purchaseType\":2},\"updateStrategy\":\"每周二至周五20点更新2集，VIP会员抢先看8集\",\"isSource\":0,\"shortTitle\":\"从前有座灵剑山\",\"exclusive\":0,\"mode1080p\":1,\"qiyiProduced\":0,\"recommendation\":\"许凯张榕容搞笑修行\",\"score\":7.3,\"latestTvId\":9253418700,\"period\":\"20191112\",\"firstVideo\":{\"url\":\"http://www.iqiyi.com/v_19rv8ylx60.html\"},\"latestVideo\":{\"order\":16,\"url\":\"http://www.iqiyi.com/v_19rv95e080.html\",\"name\":\"从前有座灵剑山第16集\",\"imageUrl\":\"http://pic3.iqiyipic.com/image/20191111/5e/01/v_140928183_m_601.jpg\",\"shortTitle\":\"从前有座灵剑山第16集\"}},\"kvs\":{}},{\"itemId\":240649301,\"type\":0,\"name\":\"\",\"pageUrl\":\"\",\"imageUrl\":\"\",\"prompt\":\"\",\"subordinateTitle\":\"\",\"shortDisplayName\":\"\",\"album\":{\"id\":240649301,\"name\":\"谍战深海之惊蛰\",\"url\":\"http://www.iqiyi.com/a_19rrhspwzd.html\",\"imageUrl\":\"http://pic6.iqiyipic.com/image/20191108/5a/46/a_100286889_m_601_m6.jpg\",\"channelId\":2,\"description\":\"1941年上海，混迹江湖靠贩卖情报为生的街头小混混陈山因长相酷似军统特工肖正国，被日本梅机关特务头子荒木惟意外看中，从此卷入一场腥风血雨的地下战争。荒木惟挟持了他的妹妹陈夏，逼迫陈山成为日本间谍。为了营救妹妹，具有特工天赋的他只能接受秘密特训，冒名顶替肖正国前往重庆潜伏到军统内部，准备窃取重要情报。潜伏生涯惊心动魄，然而作为一个中国人，陈山并不想真的背叛祖国，在共产党员张离和钱时英对他的不断影响下，陈山逐渐成长，毅然站到了抗日的阵营。之后，为粉碎日寇阴谋，陈山和张离冒着生命危险再次回到上海，反潜伏进入汪伪特工总部，他们一次次携手合作，生死与共，在与敌人的斗智斗勇中，陈山最终树立了信仰，成长为了一名真正的战士，并成功粉碎了侵略者的险恶阴谋。\",\"videoCount\":45,\"vip\":{\"payMarkUrl\":\"http://pic0.iqiyipic.com/common/20171106/ac/1b/vip_100000_v_601.png\",\"payMark\":1,\"vipType\":[0],\"purchaseType\":2},\"updateStrategy\":\"VIP会员每日24点更新,非会员次日24点更新\",\"isSource\":0,\"shortTitle\":\"谍战深海之惊蛰\",\"exclusive\":0,\"mode1080p\":1,\"qiyiProduced\":0,\"recommendation\":\"张若昀王鸥深海潜伏\",\"score\":7.3,\"latestTvId\":9478598100,\"period\":\"20191022\",\"firstVideo\":{\"url\":\"http://www.iqiyi.com/v_19rvdyasco.html\"},\"latestVideo\":{\"order\":44,\"url\":\"http://www.iqiyi.com/v_19rvd6oxq0.html\",\"name\":\"谍战深海之惊蛰第44集\",\"imageUrl\":\"http://pic2.iqiyipic.com/image/20191118/1c/a2/v_141244528_m_601_m2.jpg\",\"shortTitle\":\"谍战深海之惊蛰第44集\"}},\"kvs\":{}},{\"itemId\":246537301,\"type\":0,\"name\":\"\",\"pageUrl\":\"\",\"imageUrl\":\"\",\"prompt\":\"\",\"subordinateTitle\":\"\",\"shortDisplayName\":\"\",\"album\":{\"id\":246537301,\"name\":\"奔腾年代\",\"url\":\"http://www.iqiyi.com/a_19rrhymi49.html\",\"imageUrl\":\"http://pic4.iqiyipic.com/image/20191108/d4/86/a_100345137_m_601_m7.jpg\",\"channelId\":2,\"description\":\"1960年，年轻技术员常汉卿刚留学回来，与从铁道兵部队转业分配到厂里来的女战斗英雄金灿烂相遇了。他们从互相看不顺眼到相知、相爱，克服了来自家庭和外界的干扰，最终结合在了一起。婚后他们一起克服来自生活的种种困难、研究技术，花费了毕生精力共同为我国电力机车的研发、建造作出努力。岁月变迁后，他们的孩子也最终选择了机车建造这一专业，并为我国建造出了世界一流的高铁。\",\"videoCount\":46,\"vip\":{\"payMarkUrl\":\"http://pic0.iqiyipic.com/common/20171106/ac/1b/vip_100000_v_601.png\",\"payMark\":1,\"vipType\":[0],\"purchaseType\":2},\"updateStrategy\":\"VIP会员每日24点更新，非会员次日24点更新\",\"isSource\":0,\"shortTitle\":\"奔腾年代\",\"exclusive\":0,\"mode1080p\":1,\"qiyiProduced\":0,\"recommendation\":\"聚焦电力机车奋斗史\",\"score\":7.2,\"latestTvId\":9124216200,\"period\":\"20191024\",\"firstVideo\":{\"url\":\"http://www.iqiyi.com/v_19rve534vw.html\"},\"latestVideo\":{\"order\":43,\"url\":\"http://www.iqiyi.com/v_19rvk5rc2s.html\",\"name\":\"奔腾年代第43集\",\"imageUrl\":\"http://pic2.iqiyipic.com/image/20191117/fd/42/v_140652847_m_601_m1.jpg\",\"shortTitle\":\"奔腾年代第43集\"}},\"kvs\":{}},{\"itemId\":240601501,\"type\":0,\"name\":\"\",\"pageUrl\":\"\",\"imageUrl\":\"\",\"prompt\":\"\",\"subordinateTitle\":\"\",\"shortDisplayName\":\"\",\"album\":{\"id\":240601501,\"name\":\"初恋那件小事\",\"url\":\"http://www.iqiyi.com/a_19rrhsley9.html\",\"imageUrl\":\"http://pic9.iqiyipic.com/image/20191118/d4/a6/a_100286411_m_601_m9.jpg\",\"channelId\":2,\"description\":\"夏淼淼，每个班里都会有的毫不起眼的普通女孩，皮肤黝黑、戴着酒瓶底似的近视眼镜，成绩勉勉强强，但活泼开朗的她喜欢为人排忧解难，当遇到同样喜欢为别人考虑问题的梁又年，淼淼的心湖第一次泛起了涟漪。梁又年给了她勇气遵从自己的内心，那份年少时的萌动变成一份前行的动力，一场青春的蜕变如期而至。\",\"videoCount\":36,\"vip\":{\"payMarkUrl\":\"http://pic0.iqiyipic.com/common/20171106/ac/1b/vip_100000_v_601.png\",\"payMark\":1,\"vipType\":[0],\"purchaseType\":2},\"updateStrategy\":\"每周一至周四24:00更新2集，非VIP次日转免\",\"isSource\":0,\"shortTitle\":\"初恋那件小事\",\"exclusive\":0,\"mode1080p\":1,\"qiyiProduced\":0,\"recommendation\":\"赖冠霖赵今麦半糖初恋\",\"score\":7.3,\"latestTvId\":9359389800,\"period\":\"20191023\",\"firstVideo\":{\"url\":\"http://www.iqiyi.com/v_19rvek4d3o.html\"},\"latestVideo\":{\"order\":28,\"url\":\"http://www.iqiyi.com/v_19rv6ahwxw.html\",\"name\":\"初恋那件小事第28集\",\"imageUrl\":\"http://pic8.iqiyipic.com/image/20191115/b5/b7/v_141110384_m_601_m2.jpg\",\"shortTitle\":\"初恋那件小事第28集\"}},\"kvs\":{}},{\"itemId\":247373201,\"type\":0,\"name\":\"\",\"pageUrl\":\"\",\"imageUrl\":\"\",\"prompt\":\"\",\"subordinateTitle\":\"\",\"shortDisplayName\":\"\",\"album\":{\"id\":247373201,\"name\":\"看见味道的你\",\"url\":\"http://www.iqiyi.com/a_19rrhz7x8d.html\",\"imageUrl\":\"http://pic6.iqiyipic.com/image/20191108/bf/4f/a_100353468_m_601_m6.jpg\",\"channelId\":2,\"description\":\"讲述的是傲娇天才酒评家陆微寻和元气失味少女何不醉因意外亲吻发生味觉互换，携手寻味觅爱的浪漫爱情故事。画风截然不同的二人因一场意外亲吻交换了味觉，从而开始了啼笑皆非又温馨浪漫的寻味之旅，在这个过程中他们互相了解，彼此影响，最终收获了味觉和爱情。\",\"videoCount\":25,\"vip\":{\"payMarkUrl\":\"http://pic0.iqiyipic.com/common/20171106/ac/1b/vip_100000_v_601.png\",\"payMark\":1,\"vipType\":[0],\"purchaseType\":2},\"updateStrategy\":\"每周四至周六20点更新2集，VIP抢先看6集\",\"isSource\":0,\"shortTitle\":\"看见味道的你\",\"exclusive\":0,\"mode1080p\":1,\"qiyiProduced\":0,\"recommendation\":\"龚俊宋伊人寻味觅爱\",\"score\":7.0,\"latestTvId\":8917093700,\"period\":\"20191107\",\"firstVideo\":{\"url\":\"http://www.iqiyi.com/v_19rvfmj9sc.html\"},\"latestVideo\":{\"order\":18,\"url\":\"http://www.iqiyi.com/v_19rvlcja5k.html\",\"name\":\"看见味道的你第18集\",\"imageUrl\":\"http://pic4.iqiyipic.com/image/20191029/98/bd/v_140203890_m_601.jpg\",\"shortTitle\":\"看见味道的你第18集\"}},\"kvs\":{}},{\"itemId\":248281601,\"type\":0,\"name\":\"\",\"pageUrl\":\"\",\"imageUrl\":\"\",\"prompt\":\"\",\"subordinateTitle\":\"\",\"shortDisplayName\":\"\",\"album\":{\"id\":248281601,\"name\":\"河山\",\"url\":\"http://www.iqiyi.com/a_19rrhyhf8t.html\",\"imageUrl\":\"http://pic3.iqiyipic.com/image/20191112/f9/20/a_100362399_m_601_m3.jpg\",\"channelId\":2,\"description\":\"西安事变中，杨虎城部下团长卫大河抢占潼关立了大功，却因与红军干部高晓山发生冲突被赶回老家。抗战爆发，他重返前线，救了东北军师长姜怀柱，爱上其女姜雅真，却不知她是地下党员，且直接上级是自己三弟付洋。国军接连失败被迫退守中条山，卫大河偷袭永济成功，却被调入游击纵队，与高晓山共事，司令李汉桥趁机挑拨，两人矛盾愈深，但在敌后游击战中逐渐改变观念。军统大特务邱元谷在中条山执行秘密反共任务，姜雅真打入他身边。姜怀柱被日军包围投敌，邱元谷指示他曲线救国，并派姜雅真到他身边，执行勾结日军共同反共的任务。她向卫大河提供情报时犯下致命错误，付洋牺牲自己使她继续潜伏下去。卫大河由反共、亲共，最终成为共产党员，与姜雅真成为生死恋人。中条山防线濒临崩溃，姜雅真冒死报信，卫大河率兵救援陷入重围，最终跃入滚滚黄河。\",\"videoCount\":50,\"vip\":{\"payMarkUrl\":\"\",\"payMark\":0,\"vipType\":[0],\"purchaseType\":0},\"updateStrategy\":\"每日24点更新2集\",\"isSource\":0,\"shortTitle\":\"河山\",\"exclusive\":0,\"mode1080p\":1,\"qiyiProduced\":0,\"recommendation\":\"王新军秦海璐抗战卫国\",\"score\":0.0,\"latestTvId\":9255870200,\"period\":\"20191106\",\"firstVideo\":{\"url\":\"http://www.iqiyi.com/v_19rv7p5j94.html\"},\"latestVideo\":{\"order\":23,\"url\":\"http://www.iqiyi.com/v_19rv9341w4.html\",\"name\":\"河山第23集\",\"imageUrl\":\"http://pic2.iqiyipic.com/image/20191117/ad/87/v_140933382_m_601_m1.jpg\",\"shortTitle\":\"河山第23集\"}},\"kvs\":{}},{\"itemId\":246566401,\"type\":0,\"name\":\"\",\"pageUrl\":\"\",\"imageUrl\":\"\",\"prompt\":\"\",\"subordinateTitle\":\"\",\"shortDisplayName\":\"\",\"album\":{\"id\":246566401,\"name\":\"红鲨突击\",\"url\":\"http://www.iqiyi.com/a_19rrhypx0t.html\",\"imageUrl\":\"http://pic4.iqiyipic.com/image/20191104/84/c8/a_100345427_m_601_m1.jpg\",\"channelId\":2,\"description\":\"王长林所在的侦察大队和萨文泊带领的国民党起义海军被整编在一起，成立了红鲨突击队，主要任务是配合解放军主力部队夺取华南沿海诸岛屿。战斗中，他们伪装成国民党海军，巧妙集结船只，有力支援了广东战役。并先后在金灶岛上攻占了敌用机场；在南澳岛上破坏了敌人的作战探照灯；在东古岛战斗至弹尽粮绝；在螺丝岛将一艘巨轮沉没堵塞航道，阻止了敌人舰队出港；在石坎镇与海盗斗智斗勇，与特务上演锄奸大戏；在星洲岛谍战潜伏，策反军事专家；在木鱼岛从敌人的火烧攻势下拯救了大批渔民；在海南岛遭遇了大雾、风浪以及敌人的围追堵截，成功完成为琼崖纵队护送电台的任务；在最后的万山群岛战役中，为夺取敌占油库，武工队虽付出了惨重代价，但最终取得了胜利。\",\"videoCount\":48,\"vip\":{\"payMarkUrl\":\"\",\"payMark\":0,\"vipType\":[0],\"purchaseType\":0},\"updateStrategy\":\"每晚24点更新\",\"isSource\":0,\"shortTitle\":\"红鲨突击\",\"exclusive\":0,\"mode1080p\":1,\"qiyiProduced\":0,\"recommendation\":\"年代海战戏\",\"score\":0.0,\"latestTvId\":9389051700,\"period\":\"20191104\",\"firstVideo\":{\"url\":\"http://www.iqiyi.com/v_19rvkb3mw0.html\"},\"latestVideo\":{\"order\":28,\"url\":\"http://www.iqiyi.com/v_19rv6vuqfs.html\",\"name\":\"红鲨突击第28集\",\"imageUrl\":\"http://pic9.iqiyipic.com/image/20191117/f5/e8/v_141149082_m_601_m1.jpg\",\"shortTitle\":\"红鲨突击第28集\"}},\"kvs\":{}},{\"itemId\":-16890889812,\"type\":4,\"name\":\"神剧亮了：《灵剑山》特辑\",\"pageUrl\":\"http://www.iqiyi.com/dianshiju/sjll_wjt.html\",\"imageUrl\":\"http://pic0.iqiyipic.com/common/lego/20191113/c61cc2d8081a44d49b17d2d3ed41ae32.jpg\",\"prompt\":\"\",\"subordinateTitle\":\"\",\"shortDisplayName\":\"神剧亮了：《灵剑山》特辑\",\"kvs\":{\"defImg_webp\":\"http://pic0.iqiyipic.com/common/lego/20191113/c61cc2d8081a44d49b17d2d3ed41ae32.webp\"}}],\"title\":{\"name\":\"电视剧\",\"icon\":\"tvshow\",\"link\":\"//www.iqiyi.com/dianshiju/\",\"moreText\":\"更多\",\"subNav\":[{\"shortDisplayName\":\"\",\"itemId\":-2462570412,\"subordinateTitle\":\"\",\"itemFrom\":0,\"imageUrl\":\"\",\"name\":\"内地\",\"kvs\":{\"width\":\"\",\"platform\":\"1,2,3,4,5,6\"},\"pageUrl\":\"http://list.iqiyi.com/www/2/15-------------11-1-1-iqiyi--.html\",\"type\":4,\"prompt\":\"\",\"order\":1},{\"shortDisplayName\":\"\",\"itemId\":-2462579912,\"subordinateTitle\":\"\",\"itemFrom\":0,\"imageUrl\":\"\",\"name\":\"自制剧\",\"kvs\":{\"width\":\"\",\"platform\":\"1,2,3,4,5,6\"},\"pageUrl\":\"http://www.iqiyi.com/kszt/iqiyizzj.html\",\"type\":4,\"prompt\":\"\",\"order\":2},{\"shortDisplayName\":\"\",\"itemId\":-2462588112,\"subordinateTitle\":\"\",\"itemFrom\":0,\"imageUrl\":\"\",\"name\":\"网络剧\",\"kvs\":{\"width\":\"\",\"platform\":\"1,2,3,4,5,6\"},\"pageUrl\":\"http://www.iqiyi.com/kszt/wlj.html\",\"type\":4,\"prompt\":\"\",\"order\":3},{\"shortDisplayName\":\"\",\"itemId\":-9977556812,\"subordinateTitle\":\"\",\"itemFrom\":0,\"imageUrl\":\"\",\"name\":\"大剧头条\",\"kvs\":{\"width\":\"\",\"platform\":\"1,2,3,4,5,6\"},\"pageUrl\":\"http://www.iqiyi.com/kszt/nixi.html\",\"type\":4,\"prompt\":\"\",\"order\":4},{\"shortDisplayName\":\"\",\"itemId\":-2462570612,\"subordinateTitle\":\"\",\"itemFrom\":0,\"imageUrl\":\"\",\"name\":\"爱青春剧场\",\"kvs\":{\"width\":\"\",\"platform\":\"1,2,3,4,5,6\"},\"pageUrl\":\"http://www.iqiyi.com/kszt/iqingchunjuchang.html\",\"type\":4,\"prompt\":\"\",\"order\":5}]}}'\n",
      "\n",
      "        :source-data='{\"videos\":[{\"album_name\":\"谍战深海之惊蛰\",\"album_play_url\":\"http://www.iqiyi.com/a_19rrhspwzd.html\",\"album_rank_trend\":0,\"album_id\":240649301,\"episode_play_url\":\"http://www.iqiyi.com/v_19rvdyasco.html\",\"latest_order\":44,\"video_count\":45,\"is_source\":false},{\"album_name\":\"从前有座灵剑山\",\"album_play_url\":\"http://www.iqiyi.com/a_19rrhuwkmx.html\",\"album_rank_trend\":0,\"album_id\":235930901,\"episode_play_url\":\"http://www.iqiyi.com/v_19rv8ylx60.html\",\"latest_order\":16,\"video_count\":37,\"is_source\":false},{\"album_name\":\"奔腾年代\",\"album_play_url\":\"http://www.iqiyi.com/a_19rrhymi49.html\",\"album_rank_trend\":0,\"album_id\":246537301,\"episode_play_url\":\"http://www.iqiyi.com/v_19rve534vw.html\",\"latest_order\":43,\"video_count\":46,\"is_source\":false},{\"album_name\":\"热血少年\",\"album_play_url\":\"http://www.iqiyi.com/a_19rrh4jt05.html\",\"album_rank_trend\":0,\"album_id\":231511801,\"episode_play_url\":\"http://www.iqiyi.com/v_19rvgimuz4.html\",\"latest_order\":40,\"video_count\":58,\"is_source\":false},{\"album_name\":\"初恋那件小事\",\"album_play_url\":\"http://www.iqiyi.com/a_19rrhsley9.html\",\"album_rank_trend\":0,\"album_id\":240601501,\"episode_play_url\":\"http://www.iqiyi.com/v_19rvek4d3o.html\",\"latest_order\":28,\"video_count\":36,\"is_source\":false},{\"album_name\":\"河山\",\"album_play_url\":\"http://www.iqiyi.com/a_19rrhyhf8t.html\",\"album_rank_trend\":0,\"album_id\":248281601,\"episode_play_url\":\"http://www.iqiyi.com/v_19rv7p5j94.html\",\"latest_order\":23,\"video_count\":50,\"is_source\":false},{\"album_name\":\"恋恋江湖\",\"album_play_url\":\"http://www.iqiyi.com/a_19rrh2zvl1.html\",\"album_rank_trend\":0,\"album_id\":233261001,\"episode_play_url\":\"http://www.iqiyi.com/v_19rvf69yvw.html\",\"latest_order\":24,\"video_count\":24,\"is_source\":false},{\"album_name\":\"看见味道的你\",\"album_play_url\":\"http://www.iqiyi.com/a_19rrhz7x8d.html\",\"album_rank_trend\":0,\"album_id\":247373201,\"episode_play_url\":\"http://www.iqiyi.com/v_19rvfmj9sc.html\",\"latest_order\":18,\"video_count\":25,\"is_source\":false},{\"album_name\":\"光荣时代\",\"album_play_url\":\"http://www.iqiyi.com/a_19rrht3qx1.html\",\"album_rank_trend\":0,\"album_id\":239229801,\"episode_play_url\":\"http://www.iqiyi.com/v_19rtwbda14.html\",\"latest_order\":46,\"video_count\":46,\"is_source\":false},{\"album_name\":\"在远方\",\"album_play_url\":\"http://www.iqiyi.com/a_19rrhv8uel.html\",\"album_rank_trend\":0,\"album_id\":236681601,\"episode_play_url\":\"http://www.iqiyi.com/v_19rtwpcrvo.html\",\"latest_order\":54,\"video_count\":54,\"is_source\":false},{\"itemId\":-16890889812,\"type\":4,\"name\":\"神剧亮了：《灵剑山》特辑\",\"pageUrl\":\"http://www.iqiyi.com/dianshiju/sjll_wjt.html\",\"imageUrl\":\"http://pic0.iqiyipic.com/common/lego/20191113/c61cc2d8081a44d49b17d2d3ed41ae32.jpg\",\"prompt\":\"\",\"subordinateTitle\":\"\",\"shortDisplayName\":\"神剧亮了：《灵剑山》特辑\",\"kvs\":{\"defImg_webp\":\"http://pic0.iqiyipic.com/common/lego/20191113/c61cc2d8081a44d49b17d2d3ed41ae32.webp\"}}],\"title\":{\"name\":\"电视剧榜\",\"link\":\"//top.iqiyi.com/dianshiju.html\",\"moreText\":\"更多\"}}'\n",
      "\n",
      "    :source-data='{\"videos\":[{\"itemId\":8514962200,\"type\":1,\"name\":\"\",\"pageUrl\":\"\",\"imageUrl\":\"http://pic2.iqiyipic.com/common/lego/20191019/5099053853be4d2fb08e348294da9582.jpg\",\"prompt\":\"\",\"subordinateTitle\":\"\",\"shortDisplayName\":\"\",\"mixinVideo\":{\"name\":\"罗小黑战记\",\"description\":\"在熙攘的人类世界里，很多妖精隐匿其中，他们与人类相安无事地生活着。猫妖罗小黑因为家园被破坏，开始了它的流浪之旅。这场旅途中惺惺相惜的妖精同类与和谐包容的人类伙伴相继出现，让小黑陷入了两难抉择，究竟何处才是真正的归属？ \",\"tvId\":8514962200,\"url\":\"http://www.iqiyi.com/v_19rtszgos4.html\",\"albumId\":0,\"duration\":6099,\"imageUrl\":\"http://pic4.iqiyipic.com/image/20191024/a7/55/v_139436157_m_601_m5.jpg\",\"channelId\":4,\"subtitle\":\"\",\"vip\":{\"payMarkUrl\":\"http://pic0.iqiyipic.com/common/20180528/ac/1b/vip_100004_v_601.png\",\"payMark\":7,\"vipType\":[0,5],\"purchaseType\":5},\"userId\":0,\"period\":\"20190907\",\"exclusive\":0,\"qiyiProduced\":0,\"shortTitle\":\"罗小黑战记\",\"recommendation\":\"有你的地方就是家\",\"contentType\":1},\"kvs\":{\"defImg_webp\":\"http://pic2.iqiyipic.com/common/lego/20191019/5099053853be4d2fb08e348294da9582.webp\"}},{\"itemId\":246996601,\"type\":0,\"name\":\"仙剑奇侠传幻璃镜\",\"pageUrl\":\"\",\"imageUrl\":\"http://pic2.iqiyipic.com/common/lego/20191009/867a04ebc107448a896eb99f282b9bd4.jpg\",\"prompt\":\"\",\"subordinateTitle\":\"\",\"shortDisplayName\":\"仙剑奇侠传幻璃镜\",\"album\":{\"id\":246996601,\"name\":\"幻璃镜\",\"url\":\"http://www.iqiyi.com/a_19rrhyz4t1.html\",\"imageUrl\":\"http://pic0.iqiyipic.com/image/20190929/2b/9f/a_100349715_m_601_m3.jpg\",\"channelId\":4,\"description\":\"人世间的许多妖怪，无论其法力高低、出身如何都被捉入一个锁妖的幻境之中。逃生的唯一方法便是互相所杀，只有法力最高，杀死妖怪数量最多的妖怪才能逃生。猫妖檀霜、画妖黛砚、树妖青槐都被捉入幻境，并在幻境中结识伙伴一同逃生。众妖逃生的路上，幻境却因为冰雪系怪雪梧心而产生了不可控的尸妖，放任尸妖蔓延不仅会阻碍众妖逃生，更会威胁在幻境中掌管众妖的仙家弟子元黎的性命。元黎死则幻境乱，众妖逃生更加无望。于是檀霜、黛砚、青槐决心找到雪梧心，初底消灭尸妖……\",\"videoCount\":2,\"vip\":{\"payMarkUrl\":\"http://pic0.iqiyipic.com/common/20180528/ac/1b/vip_100004_v_601.png\",\"payMark\":7,\"vipType\":[5,0],\"purchaseType\":2},\"updateStrategy\":\"10月2日10:00上线\",\"isSource\":0,\"shortTitle\":\"幻璃镜\",\"exclusive\":1,\"mode1080p\":1,\"qiyiProduced\":0,\"recommendation\":\"仙剑系列首部动画\",\"score\":7.3,\"latestTvId\":7003870900,\"period\":\"20191002\",\"firstVideo\":{\"url\":\"http://www.iqiyi.com/v_19ru7pf9is.html\"},\"latestVideo\":{\"order\":2,\"url\":\"http://www.iqiyi.com/v_19ru7pfly0.html\",\"name\":\"幻璃镜 下集\",\"imageUrl\":\"http://pic4.iqiyipic.com/image/20190918/ee/15/v_137900131_m_601_m1.jpg\",\"shortTitle\":\"幻璃镜 下集\"},\"user\":{\"id\":1329251713,\"name\":\"上海恒星引力影视传媒\"}},\"kvs\":{\"defImg_webp\":\"http://pic2.iqiyipic.com/common/lego/20191009/867a04ebc107448a896eb99f282b9bd4.webp\"}},{\"itemId\":242740301,\"type\":0,\"name\":\"\",\"pageUrl\":\"\",\"imageUrl\":\"\",\"prompt\":\"\",\"subordinateTitle\":\"\",\"shortDisplayName\":\"\",\"album\":{\"id\":242740301,\"name\":\"泰迦奥特曼\",\"url\":\"http://www.iqiyi.com/a_19rrhrcyzl.html\",\"imageUrl\":\"http://pic9.iqiyipic.com/image/20190712/95/78/a_100307695_m_601_m5.jpg\",\"channelId\":4,\"description\":\"地球上住着很多偷偷隐居在此的宇宙人。只有很少一部分的人知道这个真相，一般民众并不知情。\\n在这样的社会中主人公“工藤优幸”就职于以解决宇宙人所产生的纠纷为主的民间警备组织“伊吉斯”每天为了和平而努力工作着。\\n而他身上却隐藏着连自己都不知道的秘密，那就是附在其身上的泰迦奥特曼的光之粒子，泰迦奥特曼在优幸体内苏醒的那一刻，新的故事开始了。\",\"videoCount\":26,\"vip\":{\"payMarkUrl\":\"http://pic0.iqiyipic.com/common/20180528/ac/1b/vip_100004_v_601.png\",\"payMark\":7,\"vipType\":[5,0],\"purchaseType\":2},\"updateStrategy\":\"每周六10:00更新1集，会员抢先看1集\",\"isSource\":0,\"shortTitle\":\"泰迦奥特曼\",\"exclusive\":0,\"mode1080p\":0,\"qiyiProduced\":0,\"recommendation\":\"泰罗之子新的传奇\",\"score\":7.6,\"latestTvId\":9202973700,\"period\":\"20190706\",\"firstVideo\":{\"url\":\"http://www.iqiyi.com/v_19rsc62kuk.html\"},\"latestVideo\":{\"order\":19,\"url\":\"http://www.iqiyi.com/v_19rv8vfip4.html\",\"name\":\"泰迦奥特曼 第19集\",\"imageUrl\":\"http://pic1.iqiyipic.com/image/20191109/6c/8b/v_140828472_m_601.jpg\",\"shortTitle\":\"泰迦奥特曼 第19集\"}},\"kvs\":{}},{\"itemId\":240348701,\"type\":0,\"name\":\"\",\"pageUrl\":\"\",\"imageUrl\":\"\",\"prompt\":\"\",\"subordinateTitle\":\"\",\"shortDisplayName\":\"\",\"album\":{\"id\":240348701,\"name\":\"Ｄｒ．ＳＴＯＮＥ　石纪元\",\"url\":\"http://www.iqiyi.com/a_19rrhsfl9t.html\",\"imageUrl\":\"http://pic4.iqiyipic.com/image/20190919/5e/1f/a_100283893_m_601_m3.jpg\",\"channelId\":4,\"description\":\"全人类被神奇的现象一瞬间石化后过了几千年——\\n拥有超人般头脑、天生的科学少年·千空苏醒了。\\n在文明遭到毁灭的石头世界（STONE WORLD）里，千空决定要用科学的力量复原整个世界。而与此同时苏醒过来的有，以有着过人体力的儿时玩伴·大木大树为首的伙伴们，从零开始创造文明——\\n从石器时代到现代文明，一定要赶上这科学史的200万年差距！\\n前所未闻的创世冒险谭，就此开幕！\",\"videoCount\":24,\"vip\":{\"payMarkUrl\":\"http://pic0.iqiyipic.com/common/20180528/ac/1b/vip_100004_v_601.png\",\"payMark\":7,\"vipType\":[0,5],\"purchaseType\":2},\"updateStrategy\":\"每周五22:30更新1集，会员抢先看1集\",\"isSource\":0,\"shortTitle\":\"Ｄｒ．ＳＴＯＮＥ　石纪元\",\"exclusive\":0,\"mode1080p\":0,\"qiyiProduced\":0,\"recommendation\":\"石器时代开创未来\",\"score\":7.7,\"latestTvId\":9173853800,\"period\":\"20190705\",\"firstVideo\":{\"url\":\"http://www.iqiyi.com/v_19rscjfnjs.html\"},\"latestVideo\":{\"order\":19,\"url\":\"http://www.iqiyi.com/v_19rv8901l0.html\",\"name\":\"Ｄｒ．ＳＴＯＮＥ　石纪元 第19集\",\"imageUrl\":\"http://pic2.iqiyipic.com/image/20191108/94/54/v_140762630_m_601.jpg\",\"shortTitle\":\"石纪元 第19集\"}},\"kvs\":{}},{\"itemId\":243705401,\"type\":0,\"name\":\"\",\"pageUrl\":\"\",\"imageUrl\":\"\",\"prompt\":\"\",\"subordinateTitle\":\"\",\"shortDisplayName\":\"\",\"album\":{\"id\":243705401,\"name\":\"爱书的下克上\",\"url\":\"http://www.iqiyi.com/a_19rri0rsk5.html\",\"imageUrl\":\"http://pic9.iqiyipic.com/image/20191008/8d/1b/a_100317108_m_601_m5.jpg\",\"channelId\":4,\"description\":\"从小就是个超级书痴的女大学生丽乃，爱书爱到希望在书堆里死去。该说是“梦想成真”吗？好不容易应征上图书馆工作的她，没想到却在地震时被掉落的书给活埋……\\n当她再度醒过来，发现自己竟然转生到了陌生的异世界，变成名叫梅茵的五岁小女孩，不但生在贫穷的士兵家，而且还体弱多病，但最让她难以接受的是，这个世界完全找不到任何书店或图书馆，就算想看书，也是一般平民根本买不起的天价！\\n于是梅茵下定决心：“既然买不到书，那我就自己动手做！”凭借着对书的满腔热情，目标是成为图书管理员。为了在异世界也能过着被书环绕的美好生活，就从做书开始努力吧！\",\"videoCount\":14,\"vip\":{\"payMarkUrl\":\"http://pic0.iqiyipic.com/common/20180528/ac/1b/vip_100004_v_601.png\",\"payMark\":7,\"vipType\":[0,5],\"purchaseType\":2},\"updateStrategy\":\"每周四00:30更新1集，会员抢先看1集\",\"isSource\":0,\"shortTitle\":\"爱书的下克上\",\"exclusive\":0,\"mode1080p\":0,\"qiyiProduced\":0,\"recommendation\":\"转生异世界从头做书\",\"score\":7.1,\"latestTvId\":9301920800,\"period\":\"20191003\",\"firstVideo\":{\"url\":\"http://www.iqiyi.com/v_19rtq6p1ag.html\"},\"latestVideo\":{\"order\":7,\"url\":\"http://www.iqiyi.com/v_19rv5tsi18.html\",\"name\":\"爱书的下克上 第7集\",\"imageUrl\":\"http://pic3.iqiyipic.com/image/20191113/d1/7c/v_141020903_m_601.jpg\",\"shortTitle\":\"爱书的下克上 第7集\"}},\"kvs\":{}},{\"itemId\":247344501,\"type\":0,\"name\":\"\",\"pageUrl\":\"\",\"imageUrl\":\"\",\"prompt\":\"\",\"subordinateTitle\":\"\",\"shortDisplayName\":\"\",\"album\":{\"id\":247344501,\"name\":\"这个勇者明明超强却过分慎重\",\"url\":\"http://www.iqiyi.com/a_19rrhz6yah.html\",\"imageUrl\":\"http://pic3.iqiyipic.com/image/20191012/81/58/a_100353184_m_601_m4.jpg\",\"channelId\":4,\"description\":\"废柴女神莉丝塔要负责拯救超难模式的世界。\\n虽然成功召唤出能力值高到犯规的勇者圣哉，\\n没想到他却谨慎到超乎想像……\\n「我要三副盔甲。一副拿来穿，一副备用，还有一副是备用不见时的备用。」\\n不仅囤积异常的库存，还自主训练到满等为止，\\n谨慎到连打史莱姆都全力以赴！\\n如此谨慎的勇者和被他耍得团团转的女神，即将展开冒险旅程！\",\"videoCount\":12,\"vip\":{\"payMarkUrl\":\"http://pic0.iqiyipic.com/common/20180528/ac/1b/vip_100004_v_601.png\",\"payMark\":7,\"vipType\":[5,0],\"purchaseType\":2},\"updateStrategy\":\"每周三23:00更新1集，会员抢先看1集\",\"isSource\":0,\"shortTitle\":\"这个勇者明明超强却过分慎重\",\"exclusive\":0,\"mode1080p\":0,\"qiyiProduced\":0,\"recommendation\":\"废柴女神与谨慎勇者\",\"score\":7.6,\"latestTvId\":9310772900,\"period\":\"20191002\",\"firstVideo\":{\"url\":\"http://www.iqiyi.com/v_19rtqm76qg.html\"},\"latestVideo\":{\"order\":6,\"url\":\"http://www.iqiyi.com/v_19rv5yzefc.html\",\"name\":\"这个勇者明明超强却过分慎重 第6集\",\"imageUrl\":\"http://pic0.iqiyipic.com/image/20191113/4f/93/v_141037463_m_601.jpg\",\"shortTitle\":\"这个勇者明明超强却过分慎重06\"}},\"kvs\":{}},{\"itemId\":243707501,\"type\":0,\"name\":\"\",\"pageUrl\":\"\",\"imageUrl\":\"\",\"prompt\":\"\",\"subordinateTitle\":\"\",\"shortDisplayName\":\"\",\"album\":{\"id\":243707501,\"name\":\"超人高中生们即便在异世界也能从容生存\",\"url\":\"http://www.iqiyi.com/a_19rri0ru2p.html\",\"imageUrl\":\"http://pic3.iqiyipic.com/image/20191008/ad/52/a_100317131_m_601_m3.jpg\",\"channelId\":4,\"description\":\"我们要是真的拿出真本事，可能会不小心摧毁异世界这个世界呢。\\n七名高中生卷入了飞机事故，他们醒来之后，发现自己身处于另一个世界之中。那是一个存在着魔法、兽人，时代近似于中世纪的异世界。\\n一行人遭遇如此突发状况，完全没有陷入混乱（！？）他们为所欲为，例如在没有电力的世界中造了核子发电厂；稍微出外打拼一下，就掌握了整个大城市的经济；甚至是为了拯救饱受恶政欺压的恩人，与作恶多端的贵族来上一场战争！？\\n没错，他们不是普通的高中生，而是各自立于政治、经济、科学、医学等领域顶点的超人高中生！这群梦幻队伍拥有地球最高度的智慧与技术，他们将肆无忌惮地动用超高科技，编织出一段异世界革命传说！\",\"videoCount\":12,\"vip\":{\"payMarkUrl\":\"http://pic0.iqiyipic.com/common/20180528/ac/1b/vip_100004_v_601.png\",\"payMark\":7,\"vipType\":[5,0],\"purchaseType\":2},\"updateStrategy\":\"每周四22:00更新1集，会员抢先看1集\",\"isSource\":0,\"shortTitle\":\"超人高中生们\",\"exclusive\":0,\"mode1080p\":0,\"qiyiProduced\":0,\"recommendation\":\"高中生异世界传说\",\"score\":7.6,\"latestTvId\":9174040000,\"period\":\"20191003\",\"firstVideo\":{\"url\":\"http://www.iqiyi.com/v_19rtr6bi9g.html\"},\"latestVideo\":{\"order\":6,\"url\":\"http://www.iqiyi.com/v_19rv87ylyk.html\",\"name\":\"超人高中生们即便在异世界也能从容生存 第6集\",\"imageUrl\":\"http://pic9.iqiyipic.com/image/20191107/b1/9f/v_140763298_m_601_m1.jpg\",\"shortTitle\":\"超人高中生们 第6集\"}},\"kvs\":{}},{\"itemId\":246477701,\"type\":0,\"name\":\"\",\"pageUrl\":\"\",\"imageUrl\":\"\",\"prompt\":\"\",\"subordinateTitle\":\"\",\"shortDisplayName\":\"\",\"album\":{\"id\":246477701,\"name\":\"星兽猎人 第2季\",\"url\":\"http://www.iqiyi.com/a_19rrhynp49.html\",\"imageUrl\":\"http://pic9.iqiyipic.com/image/20191011/7c/cb/a_100344542_m_601_m4.jpg\",\"channelId\":4,\"description\":\"星成与凯炎兽打败暗亡魔龙，为星兽世界带来和平，从而成为极具人气的最强星兽猎人搭档。另一边，神秘组织现出地面，拥有驭龙之力的男孩波奇在世界各处的秘境收复恶兽。原来是地底族人为了唤醒四大凶兽，对地面猎人进行报复而开始行动。为了阻止他们的阴谋，星成与凯炎兽为着收集能够令星能枪柄升级的五星兽出发。最后，星成成功集齐五星兽，得到更新更强的战斗装备，这时地底族已成功唤醒三只凶兽，星兽世界陷入空前混乱，就连圣猎联盟也被攻陷，猎人也被操控！星成凭借要守护星兽世界的决不放弃的信念，唤醒了伙伴，合力打败了灭世凶兽。为再次将凶兽封印，凯炎兽甘愿自我牺牲，吸收一切凶暴负能量后被封印在山洞中。\",\"videoCount\":30,\"vip\":{\"payMarkUrl\":\"\",\"payMark\":0,\"vipType\":[0,5],\"purchaseType\":0},\"updateStrategy\":\"每周一09:00更新五集，会员抢先看四集\",\"isSource\":0,\"shortTitle\":\"星兽猎人 第2季\",\"exclusive\":0,\"mode1080p\":1,\"qiyiProduced\":0,\"recommendation\":\"星兽猎人的意义\",\"score\":7.6,\"latestTvId\":5666301500,\"period\":\"20190923\",\"firstVideo\":{\"url\":\"http://www.iqiyi.com/v_19rsz084ho.html\"},\"latestVideo\":{\"order\":30,\"url\":\"http://www.iqiyi.com/v_19rt3yrl1s.html\",\"name\":\"星兽猎人2 第30集 星兽世界的破晓\",\"imageUrl\":\"http://pic5.iqiyipic.com/image/20190825/12/17/v_136759289_m_601.jpg\",\"shortTitle\":\"星兽世界的破晓\"},\"user\":{\"id\":1096484758,\"name\":\"福万拓展fw\"}},\"kvs\":{}},{\"itemId\":201607301,\"type\":0,\"name\":\"\",\"pageUrl\":\"\",\"imageUrl\":\"\",\"prompt\":\"\",\"subordinateTitle\":\"\",\"shortDisplayName\":\"\",\"album\":{\"id\":201607301,\"name\":\"妖精的尾巴\",\"url\":\"http://www.iqiyi.com/a_19rrhbp78p.html\",\"imageUrl\":\"http://pic5.iqiyipic.com/image/20191004/c7/96/a_62016073_m_601_m16.jpg\",\"channelId\":4,\"description\":\"主人公夏，从小没有父母。在森林中，被一只龙收养，养大。所以他会使用龙教他的“灭龙魔法”主要性能是火，使用魔法时他就是火龙一样的怪物。能自由的操纵火。夏为了加入魔法协会来到哈鲁吉安城市，碰到了魔法师少女璐茜(绝对的搞笑人物)，只要加入魔法协会就会有无数的女人和金钱，这个就是他们想法，但是危险离他们越来越近了.....\",\"videoCount\":328,\"vip\":{\"payMarkUrl\":\"http://pic0.iqiyipic.com/common/20180528/ac/1b/vip_100004_v_601.png\",\"payMark\":7,\"vipType\":[0,5],\"purchaseType\":2},\"updateStrategy\":\"每周日07:30更新1集，会员抢先看1集\",\"isSource\":0,\"shortTitle\":\"妖精的尾巴\",\"exclusive\":1,\"mode1080p\":0,\"qiyiProduced\":0,\"recommendation\":\"魔导士公会热血传奇\",\"score\":8.6,\"latestTvId\":7964586200,\"period\":\"20090101\",\"firstVideo\":{\"url\":\"http://www.iqiyi.com/v_19rrek0xfo.html\"},\"latestVideo\":{\"order\":328,\"url\":\"http://www.iqiyi.com/v_19ru236qpg.html\",\"name\":\"妖精的尾巴 第328集\",\"imageUrl\":\"http://pic1.iqiyipic.com/image/20190929/bb/ed/v_138768762_m_601.jpg\",\"shortTitle\":\"妖精的尾巴 第328集\"}},\"kvs\":{}},{\"itemId\":243709501,\"type\":0,\"name\":\"\",\"pageUrl\":\"\",\"imageUrl\":\"\",\"prompt\":\"\",\"subordinateTitle\":\"\",\"shortDisplayName\":\"\",\"album\":{\"id\":243709501,\"name\":\"食戟之灵 第4季\",\"url\":\"http://www.iqiyi.com/a_19rri0rvpt.html\",\"imageUrl\":\"http://pic0.iqiyipic.com/image/20191012/d4/e3/a_100317150_m_601_m4.jpg\",\"channelId\":4,\"description\":\"《食戟之灵》的舞台是位于东京内的一所料理名校“远月学园”，初中毕业之后为了作继承家业“幸平餐馆”的主角幸平创真因为父亲的指示来到这里，以特别编入生就读。在毕业率不到百分之十的“远月学园”里，来自各地厨艺精锐的年轻人彼此较劲，互相争夺在料理上的顶点。在这料理便是一切的世界，所有敌人都必须用料理来征服。为了击败对手，互相赌上等价的赌注，用料理进行的单对单决斗，就是远月的传统料理对决——“食戟”。\",\"videoCount\":25,\"vip\":{\"payMarkUrl\":\"http://pic0.iqiyipic.com/common/20180528/ac/1b/vip_100004_v_601.png\",\"payMark\":7,\"vipType\":[5,0],\"purchaseType\":2},\"updateStrategy\":\"每周六00:30更新1集，会员抢先看1集\",\"isSource\":0,\"shortTitle\":\"食戟之灵 第4季\",\"exclusive\":1,\"mode1080p\":0,\"qiyiProduced\":0,\"recommendation\":\"神之皿最后的决战\",\"score\":7.1,\"latestTvId\":9179817600,\"period\":\"20191012\",\"firstVideo\":{\"url\":\"http://www.iqiyi.com/v_19rtwddn08.html\"},\"latestVideo\":{\"order\":5,\"url\":\"http://www.iqiyi.com/v_19rv7v5e5o.html\",\"name\":\"食戟之灵 第4季 第5集\",\"imageUrl\":\"http://pic8.iqiyipic.com/image/20191110/c5/9e/v_140776224_m_601_m3.jpg\",\"shortTitle\":\"食戟之灵 第4季 第5集\"}},\"kvs\":{}},{\"itemId\":240095401,\"type\":0,\"name\":\"\",\"pageUrl\":\"\",\"imageUrl\":\"\",\"prompt\":\"\",\"subordinateTitle\":\"\",\"shortDisplayName\":\"\",\"album\":{\"id\":240095401,\"name\":\"精灵梦叶罗丽 第7季\",\"url\":\"http://www.iqiyi.com/a_19rrhtk891.html\",\"imageUrl\":\"http://pic8.iqiyipic.com/image/20191008/1a/a8/a_100281402_m_601_m4.jpg\",\"channelId\":4,\"description\":\"由于人类对自然的破坏，叶罗丽仙境的冰公主已经开始消失了……冰公主来到人类世界，决心更正历史的过错。另一边，文茜要帮助她的娃娃铁希找回失去的记忆，前往了仙境。辛灵仙子能复活吗？还会有更多的生灵逝去吗？庞尊和毒娘娘会罢休吗？其他灵犀阁的圣级仙子会袖手旁观吗？荒石和金王子会加入战斗吗？王默和火领主又会发生什么？大家的命运将会如何？\",\"videoCount\":26,\"vip\":{\"payMarkUrl\":\"\",\"payMark\":0,\"vipType\":[5,0],\"purchaseType\":0},\"updateStrategy\":\"每周四16:00更新一集\",\"isSource\":0,\"shortTitle\":\"精灵梦叶罗丽 第7季\",\"exclusive\":0,\"mode1080p\":0,\"qiyiProduced\":0,\"recommendation\":\"魔幻少女心 火爆动漫\",\"score\":7.7,\"latestTvId\":9313062500,\"period\":\"20190409\",\"firstVideo\":{\"url\":\"http://www.iqiyi.com/v_19rrwdkdyk.html\"},\"latestVideo\":{\"order\":15,\"url\":\"http://www.iqiyi.com/v_19rv5nxseg.html\",\"name\":\"精灵梦叶罗丽 第7季 第15集\",\"imageUrl\":\"http://pic3.iqiyipic.com/image/20191114/48/99/v_141042552_m_601.jpg\",\"shortTitle\":\"精灵梦叶罗丽 第7季 第15集\"}},\"kvs\":{}},{\"itemId\":202861101,\"type\":0,\"name\":\"\",\"pageUrl\":\"\",\"imageUrl\":\"\",\"prompt\":\"\",\"subordinateTitle\":\"\",\"shortDisplayName\":\"\",\"album\":{\"id\":202861101,\"name\":\"航海王\",\"url\":\"http://www.iqiyi.com/a_19rrhb3xvl.html\",\"imageUrl\":\"http://pic8.iqiyipic.com/image/20190705/ed/a7/a_100013977_m_601_m17.jpg\",\"channelId\":4,\"description\":\"有个男人他拥有世界上一切财富、名望和权势，他就是「海盗王」高路德•罗杰。\\n在临死前说过这样一句话：让全世界的人都奔向大海\\n「想要我的财宝吗？想要的话全就拿去吧……！你们去找吧！我把世界上的一切都放在那里了」。\\n后来世界上的人们将这个宝藏称作“一个大秘宝”（One Piece），许多人为了争夺大秘宝One Piece，无数海盗扬起旗帜，互相斗争，后来就形成了「大海盗时代」。\\n主角蒙奇•D•路飞在遥远的路途上找寻着志同道合的伙伴，携手共进「伟大航线」，目标当上「海盗王」。\\n航海王是一个依着彼此坚毅的友情最终获得胜利，大伙一起朝着梦想扬帆努力的冒险故事。\",\"videoCount\":0,\"vip\":{\"payMarkUrl\":\"http://pic0.iqiyipic.com/common/20180528/ac/1b/vip_100004_v_601.png\",\"payMark\":7,\"vipType\":[5,0],\"purchaseType\":2},\"updateStrategy\":\"每周日中午更新1集，会员抢先看1集\",\"isSource\":0,\"shortTitle\":\"航海王\",\"exclusive\":1,\"mode1080p\":0,\"qiyiProduced\":0,\"recommendation\":\"草帽路飞伟大冒险\",\"score\":9.3,\"latestTvId\":9228623900,\"period\":\"19991020\",\"firstVideo\":{\"url\":\"http://www.iqiyi.com/v_19rrok4nt0.html\"},\"latestVideo\":{\"order\":909,\"url\":\"http://www.iqiyi.com/v_19rv99dks0.html\",\"name\":\"航海王 第909集\",\"imageUrl\":\"http://pic1.iqiyipic.com/image/20191110/24/b9/v_140878006_m_601.jpg\",\"shortTitle\":\"航海王 第909集\"}},\"kvs\":{}},{\"itemId\":214955601,\"type\":0,\"name\":\"\",\"pageUrl\":\"\",\"imageUrl\":\"\",\"prompt\":\"\",\"subordinateTitle\":\"\",\"shortDisplayName\":\"\",\"album\":{\"id\":214955601,\"name\":\"黑色四叶草\",\"url\":\"http://www.iqiyi.com/a_19rrhek9x9.html\",\"imageUrl\":\"http://pic3.iqiyipic.com/image/20190521/74/0a/a_100091879_m_601_m7.jpg\",\"channelId\":4,\"description\":\"人类险些遭到魔神的毁灭，而拯救了人类的是一位被后世称为“魔法帝”的魔道士，“魔法帝”的故事也成为了传说——\\n这是一个魔法意味着全部的世界——\\n天生就无法使用魔法的少年，为了证明自己的力量，为了实现与朋友之间的约定，以魔道士的顶点“魔法帝”为目标\",\"videoCount\":0,\"vip\":{\"payMarkUrl\":\"http://pic0.iqiyipic.com/common/20180528/ac/1b/vip_100004_v_601.png\",\"payMark\":7,\"vipType\":[0,5],\"purchaseType\":2},\"updateStrategy\":\"每周二18:25更新1集，会员抢先看1集\",\"isSource\":0,\"shortTitle\":\"黑色四叶草\",\"exclusive\":0,\"mode1080p\":0,\"qiyiProduced\":0,\"recommendation\":\"魔导少年称霸魔法世界\",\"score\":7.4,\"latestTvId\":9265941500,\"period\":\"20171003\",\"firstVideo\":{\"url\":\"http://www.iqiyi.com/v_19rrdzingg.html\"},\"latestVideo\":{\"order\":110,\"url\":\"http://www.iqiyi.com/v_19rv5c1dw0.html\",\"name\":\"黑色四叶草 第109集\",\"imageUrl\":\"http://pic8.iqiyipic.com/image/20191112/c7/77/v_140954169_m_601.jpg\",\"shortTitle\":\"黑色四叶草 第109集\"}},\"kvs\":{}},{\"itemId\":206293401,\"type\":0,\"name\":\"\",\"pageUrl\":\"\",\"imageUrl\":\"\",\"prompt\":\"\",\"subordinateTitle\":\"\",\"shortDisplayName\":\"\",\"album\":{\"id\":206293401,\"name\":\"博人传 火影忍者新时代\",\"url\":\"http://www.iqiyi.com/a_19rrh9f0tx.html\",\"imageUrl\":\"http://pic0.iqiyipic.com/image/20191014/d3/93/a_100047949_m_601_m9.jpg\",\"channelId\":4,\"description\":\"和平的同时也在飞速近代化的木叶村。高楼耸立、巨大荧屏中播放着影像、链接区域与区域之间的电车在村中驰骋。虽说是忍者之村普通人也开始增加、忍者们的生活方式也发生改变的那个时代……\\n村子的头目，七代目火影漩涡鸣人的儿子博人，进入了培育忍者的忍者学校学习。周围的同学们都带着“火影之子”的偏见来看待他、博人则用他史无前例的天赋踢飞这些偏见！\\n博人遇到了新的同伴、并且向迷之突发事件进行挑战？在大家心目中犹如疾风般长驱直入的“漩涡博人”的故事现在、开始!!\",\"videoCount\":0,\"vip\":{\"payMarkUrl\":\"http://pic0.iqiyipic.com/common/20180528/ac/1b/vip_100004_v_601.png\",\"payMark\":7,\"vipType\":[5,0],\"purchaseType\":2},\"updateStrategy\":\"11月17日停播11月24日恢复播出\",\"isSource\":0,\"shortTitle\":\"博人传 火影忍者新时代\",\"exclusive\":0,\"mode1080p\":0,\"qiyiProduced\":0,\"recommendation\":\"火之意志世代传承\",\"score\":7.1,\"latestTvId\":9176925400,\"period\":\"20170405\",\"firstVideo\":{\"url\":\"http://www.iqiyi.com/v_19rrb3xn68.html\"},\"latestVideo\":{\"order\":132,\"url\":\"http://www.iqiyi.com/v_19rv8767qs.html\",\"name\":\"博人传 火影忍者新时代 第132集\",\"imageUrl\":\"http://pic5.iqiyipic.com/image/20191110/84/f2/v_140769382_m_601_m1.jpg\",\"shortTitle\":\"博人传 火影忍者新时代 132\"}},\"kvs\":{}}],\"title\":{\"name\":\"动漫\",\"icon\":\"domanshow\",\"link\":\"//www.iqiyi.com/dongman/\",\"moreText\":\"更多\",\"subNav\":[{\"name\":\"热播动画\",\"pageUrl\":\"http://list.iqiyi.com/www/4/-------------11-1-1-iqiyi--.html\",\"imageUrl\":\"\",\"kvs\":{\"width\":\"\"}},{\"name\":\"国产动画\",\"pageUrl\":\"http://list.iqiyi.com/www/4/37-------------11-1-1-iqiyi--.html\",\"imageUrl\":\"\",\"kvs\":{\"width\":\"\"}},{\"name\":\"日本动画\",\"pageUrl\":\"http://list.iqiyi.com/www/4/38-------------11-1-1-iqiyi--.html\",\"imageUrl\":\"\",\"kvs\":{\"width\":\"\"}},{\"name\":\"动态漫画\",\"pageUrl\":\"http://list.iqiyi.com/www/4/32783-------------4-1-1-iqiyi--.html\",\"imageUrl\":\"\",\"kvs\":{\"width\":\"\"}}]}}'\n",
      "\n",
      "    :source-data='{\"videos\":[{\"itemId\":203472101,\"type\":0,\"name\":\"\",\"pageUrl\":\"\",\"imageUrl\":\"http://pic0.iqiyipic.com/common/lego/20190816/ca9cf517b94949d098abad533e6627c6.jpg\",\"prompt\":\"\",\"subordinateTitle\":\"\",\"shortDisplayName\":\"\",\"album\":{\"id\":203472101,\"name\":\"小猪佩奇全集\",\"url\":\"http://www.iqiyi.com/a_19rrhabkp5.html\",\"imageUrl\":\"http://pic7.iqiyipic.com/image/20190703/e8/7e/a_100020026_m_601_m16.jpg\",\"channelId\":15,\"description\":\"小猪佩奇是一个可爱的但是有些小专横的小猪。她已经五岁了，与她的猪妈妈，猪爸爸，和弟弟乔治生活在一起。佩奇最喜欢做的事情是玩游戏，打扮的漂漂亮亮，渡假，以及在小泥坑里快乐的跳上跳下和与苏西羊（她最好的朋友）乔治（她的弟弟）一起玩儿，拜访她的猪爷爷，猪奶奶。故事内容多数环绕日常生活，比如小孩子们参加学前游戏小组（playgroup）、探访祖父母和表亲、在游乐场游玩、踏单车等等。\",\"videoCount\":0,\"vip\":{\"payMarkUrl\":\"http://pic0.iqiyipic.com/common/20171106/ac/1b/vip_100000_v_601.png\",\"payMark\":1,\"vipType\":[3,0],\"purchaseType\":2},\"updateStrategy\":\"\",\"isSource\":0,\"shortTitle\":\"小猪佩奇全集\",\"exclusive\":0,\"mode1080p\":1,\"qiyiProduced\":0,\"recommendation\":\"小猪佩奇欢乐日常\",\"score\":8.1,\"latestTvId\":7885514900,\"period\":\"20160107\",\"firstVideo\":{\"url\":\"http://www.iqiyi.com/v_19rrl6d4as.html\"},\"latestVideo\":{\"order\":223,\"url\":\"http://www.iqiyi.com/v_19ru5bobnc.html\",\"name\":\"粉红猪小妹全集 第223集 帆船出海\",\"imageUrl\":\"http://pic5.iqiyipic.com/image/20190929/37/9f/v_138678838_m_601_m3.jpg\",\"shortTitle\":\"粉红猪小妹全集 第223集\"}},\"kvs\":{\"defImg_webp\":\"http://pic0.iqiyipic.com/common/lego/20190816/ca9cf517b94949d098abad533e6627c6.webp\"}},{\"itemId\":231586501,\"type\":0,\"name\":\"\",\"pageUrl\":\"\",\"imageUrl\":\"http://pic3.iqiyipic.com/common/lego/20190716/cea01b17666048e98e3e4fe37ff2a9a6.jpg\",\"prompt\":\"\",\"subordinateTitle\":\"\",\"shortDisplayName\":\"\",\"album\":{\"id\":231586501,\"name\":\"嘟当曼全集\",\"url\":\"http://www.iqiyi.com/a_19rrh4iai1.html\",\"imageUrl\":\"http://pic5.iqiyipic.com/image/20190710/81/51/a_100200536_m_601_m6.jpg\",\"channelId\":15,\"description\":\"在奇巴布幼儿园里，有一群可爱的玩具伙伴：芭蕾舞娃娃妮妮、修理工小库、充气章鱼王子噜噜、布熊波波、毛毛虫公仔咕叽，每当幼儿园小朋友们离开的时候，他们就“活”了过来。有一天，玩具们遇到一件非比寻常的事情，一位天外来客“嘟当曼”来到了他们身边……\",\"videoCount\":50,\"vip\":{\"payMarkUrl\":\"http://pic0.iqiyipic.com/common/20171106/ac/1b/vip_100000_v_601.png\",\"payMark\":1,\"vipType\":[0,3],\"purchaseType\":2},\"updateStrategy\":\"\",\"isSource\":0,\"shortTitle\":\"嘟当曼全集\",\"exclusive\":1,\"mode1080p\":1,\"qiyiProduced\":1,\"recommendation\":\"小玩具有大智慧\",\"score\":7.1,\"latestTvId\":3945228200,\"period\":\"20190116\",\"firstVideo\":{\"url\":\"http://www.iqiyi.com/v_19rqqlj83g.html\"},\"latestVideo\":{\"order\":50,\"url\":\"http://www.iqiyi.com/v_19rrpc5mf8.html\",\"name\":\"嘟当曼全集 第50集 诚实的友谊\",\"imageUrl\":\"http://pic0.iqiyipic.com/image/20190730/61/34/v_134866063_m_601.jpg\",\"shortTitle\":\"嘟当曼全集 第50集\"},\"user\":{\"id\":1217774366,\"name\":\"IQIYI儿童动画\"}},\"kvs\":{\"defImg_webp\":\"http://pic3.iqiyipic.com/common/lego/20190716/cea01b17666048e98e3e4fe37ff2a9a6.webp\"}},{\"itemId\":204166101,\"type\":0,\"name\":\"\",\"pageUrl\":\"\",\"imageUrl\":\"\",\"prompt\":\"\",\"subordinateTitle\":\"\",\"shortDisplayName\":\"\",\"album\":{\"id\":204166101,\"name\":\"熊出没全集\",\"url\":\"http://www.iqiyi.com/a_19rrhanaux.html\",\"imageUrl\":\"http://pic3.iqiyipic.com/image/20190703/cb/40/a_100026815_m_601_m4.jpg\",\"channelId\":15,\"description\":\"本系列动画片轻松搞笑，讲述了两头熊——熊大、熊二和光头强之间发生的保护森林和盗砍盗伐的搞笑环保大战\",\"videoCount\":208,\"vip\":{\"payMarkUrl\":\"\",\"payMark\":0,\"vipType\":[0],\"purchaseType\":0},\"updateStrategy\":\"\",\"isSource\":0,\"shortTitle\":\"熊出没全集\",\"exclusive\":0,\"mode1080p\":1,\"qiyiProduced\":0,\"recommendation\":\"轻松搞笑的系列动画\",\"score\":7.4,\"latestTvId\":499545200,\"period\":\"20160622\",\"firstVideo\":{\"url\":\"http://www.iqiyi.com/v_19rrll0l7g.html\"},\"latestVideo\":{\"order\":208,\"url\":\"http://www.iqiyi.com/v_19rrlk3nrw.html\",\"name\":\"熊出没全集 第208集\",\"imageUrl\":\"http://pic5.iqiyipic.com/image/20171030/27/10/v_110570862_m_601_m1.jpg\",\"shortTitle\":\"熊出没全集 第208集\"}},\"kvs\":{}},{\"itemId\":233368901,\"type\":0,\"name\":\"\",\"pageUrl\":\"\",\"imageUrl\":\"\",\"prompt\":\"\",\"subordinateTitle\":\"\",\"shortDisplayName\":\"\",\"album\":{\"id\":233368901,\"name\":\"乐高幻影忍者之幻影旋转术大师\",\"url\":\"http://www.iqiyi.com/a_19rrh34o4p.html\",\"imageUrl\":\"http://pic7.iqiyipic.com/image/20190704/f3/5a/a_100213330_m_601_m3.jpg\",\"channelId\":15,\"description\":\"吴大师训练了4位擅长幻影旋转术的幻影忍者，他们正在寻找4件威力无比的黄金武器，以维护世界和平。魔王加满都和他的骷髅军团紧随其后，企图夺走武器并统治世界。勇敢的幻影忍者们踏上征途，一路战斗，但最终魔王加满都利用4件黄金武器离开了幻影忍者王国。\",\"videoCount\":10,\"vip\":{\"payMarkUrl\":\"\",\"payMark\":0,\"vipType\":[0,3],\"purchaseType\":0},\"updateStrategy\":\"\",\"isSource\":0,\"shortTitle\":\"幻影旋转术大师\",\"exclusive\":0,\"mode1080p\":0,\"qiyiProduced\":0,\"recommendation\":\"谁是传奇的绿色忍者\",\"score\":7.6,\"latestTvId\":1534149500,\"period\":\"20181109\",\"firstVideo\":{\"url\":\"http://www.iqiyi.com/v_19rr31pho8.html\"},\"latestVideo\":{\"order\":10,\"url\":\"http://www.iqiyi.com/v_19rr31phxs.html\",\"name\":\"乐高幻影忍者之幻影旋转术大师 第10集 最伟大的战斗\",\"imageUrl\":\"http://pic7.iqiyipic.com/image/20181109/fd/17/v_120995378_m_601.jpg\",\"shortTitle\":\"幻影旋转术大师 第10集\"}},\"kvs\":{}},{\"itemId\":246990201,\"type\":0,\"name\":\"\",\"pageUrl\":\"\",\"imageUrl\":\"\",\"prompt\":\"\",\"subordinateTitle\":\"\",\"shortDisplayName\":\"\",\"album\":{\"id\":246990201,\"name\":\"汪汪队立大功 第5季\",\"url\":\"http://www.iqiyi.com/a_19rrhyz09h.html\",\"imageUrl\":\"http://pic4.iqiyipic.com/image/20190912/f0/21/a_100349652_m_601.jpg\",\"channelId\":15,\"description\":\"精通科技的10岁男孩Ryder在拯救了6条小狗之后，将他们训练成了一组本领高强的狗狗巡逻队。每个小狗都性格鲜明，也各有特长。不管遇到多么困难和危险的救援任务，他们还总是忘不了相互玩闹，制作轻松的气氛，而每次幽默乐观的狗狗能总能顺利完成任务。\\n\",\"videoCount\":26,\"vip\":{\"payMarkUrl\":\"http://pic0.iqiyipic.com/common/20171106/ac/1b/vip_100000_v_601.png\",\"payMark\":1,\"vipType\":[0,3],\"purchaseType\":2},\"updateStrategy\":\"\",\"isSource\":0,\"shortTitle\":\"汪汪队立大功 第5季\",\"exclusive\":0,\"mode1080p\":1,\"qiyiProduced\":0,\"recommendation\":\"解决难题突破重围\",\"score\":7.0,\"latestTvId\":7259676900,\"period\":\"20190912\",\"firstVideo\":{\"url\":\"http://www.iqiyi.com/v_19rucmltq8.html\"},\"latestVideo\":{\"order\":13,\"url\":\"http://www.iqiyi.com/v_19rucmlls8.html\",\"name\":\"汪汪队立大功 第5季 第13集 海洋巡逻队 拯救狄莉奶奶\",\"imageUrl\":\"http://pic5.iqiyipic.com/image/20190916/91/61/v_138040974_m_601.jpg\",\"shortTitle\":\"汪汪队立大功 第5季 第13集\"}},\"kvs\":{}},{\"itemId\":241993401,\"type\":0,\"name\":\"\",\"pageUrl\":\"\",\"imageUrl\":\"\",\"prompt\":\"\",\"subordinateTitle\":\"\",\"shortDisplayName\":\"\",\"album\":{\"id\":241993401,\"name\":\"小P优优 第4季\",\"url\":\"http://www.iqiyi.com/a_19rrhs9r6d.html\",\"imageUrl\":\"http://pic4.iqiyipic.com/image/20190605/51/7b/a_100300228_m_601_m1.jpg\",\"channelId\":15,\"description\":\"《POCOYO小P优优》是一部风靡全球180个国家和地区的国宝级教育类少儿动画片，由西班牙仁捷娱乐股份公司出品，由英国哈佛研究院的专家策划，著名儿童编剧Andy Yerkes创作，欧洲顶级3D动画大师制作团队倾力打造。 “欢笑幽默”和“探索学习”两个元素在片中完美结合，使该片获得巨大成功。曾荣获上百项国际性动画节大奖，适合儿童与家长一同观看欣赏。影片中轻松的剧情和可爱的形象会让孩子在欢笑中学习新知识。\",\"videoCount\":26,\"vip\":{\"payMarkUrl\":\"\",\"payMark\":0,\"vipType\":[0],\"purchaseType\":0},\"updateStrategy\":\"\",\"isSource\":0,\"shortTitle\":\"小P优优 第4季\",\"exclusive\":0,\"mode1080p\":1,\"qiyiProduced\":0,\"recommendation\":\"让孩子在欢笑中学习\",\"score\":7.1,\"latestTvId\":2682117500,\"period\":\"20190604\",\"firstVideo\":{\"url\":\"http://www.iqiyi.com/v_19rs96ltng.html\"},\"latestVideo\":{\"order\":26,\"url\":\"http://www.iqiyi.com/v_19rslm8c9c.html\",\"name\":\"小P优优 第4季 第26集 游戏大闯关\",\"imageUrl\":\"http://pic6.iqiyipic.com/image/20190604/01/35/v_130555961_m_601.jpg\",\"shortTitle\":\"小P优优 第4季 第26集\"}},\"kvs\":{}},{\"itemId\":236706201,\"type\":0,\"name\":\"\",\"pageUrl\":\"\",\"imageUrl\":\"http://pic2.iqiyipic.com/common/lego/20190408/cbd33f151b2c4e96b67c07010e7f4297.jpg\",\"prompt\":\"\",\"subordinateTitle\":\"\",\"shortDisplayName\":\"\",\"album\":{\"id\":236706201,\"name\":\"无敌小鹿之安全成长\",\"url\":\"http://www.iqiyi.com/a_19rrhv9q0l.html\",\"imageUrl\":\"http://pic5.iqiyipic.com/image/20190704/26/00/a_100246756_m_601_m2.jpg\",\"channelId\":15,\"description\":\"每集一个关于儿童安全的故事，让孩子们了解身边潜在的危险，学会保护自己。宝宝更安全，父母更安心。\",\"videoCount\":0,\"vip\":{\"payMarkUrl\":\"http://pic0.iqiyipic.com/common/20171106/ac/1b/vip_100000_v_601.png\",\"payMark\":1,\"vipType\":[0,3],\"purchaseType\":2},\"updateStrategy\":\"\",\"isSource\":0,\"shortTitle\":\"无敌小鹿之安全成长\",\"exclusive\":1,\"mode1080p\":1,\"qiyiProduced\":1,\"recommendation\":\"教小朋友避免意外伤害\",\"score\":7.4,\"latestTvId\":8956793000,\"period\":\"20190114\",\"firstVideo\":{\"url\":\"http://www.iqiyi.com/v_19rqww68rg.html\"},\"latestVideo\":{\"order\":120,\"url\":\"http://www.iqiyi.com/v_19rvlttz2c.html\",\"name\":\"无敌小鹿之安全成长 第120集 抓住鱼\",\"imageUrl\":\"http://pic9.iqiyipic.com/image/20191029/2c/2d/v_140288942_m_601.jpg\",\"shortTitle\":\"安全成长 第120集\"},\"user\":{\"id\":1217774366,\"name\":\"IQIYI儿童动画\"}},\"kvs\":{\"defImg_webp\":\"http://pic2.iqiyipic.com/common/lego/20190408/cbd33f151b2c4e96b67c07010e7f4297.webp\"}},{\"itemId\":240939401,\"type\":0,\"name\":\"\",\"pageUrl\":\"\",\"imageUrl\":\"http://pic1.iqiyipic.com/common/lego/20190726/34640a0533c24307bf4843605c9a3a0f.jpg\",\"prompt\":\"\",\"subordinateTitle\":\"\",\"shortDisplayName\":\"\",\"album\":{\"id\":240939401,\"name\":\"星空下的童话\",\"url\":\"http://www.iqiyi.com/a_19rrhsv46d.html\",\"imageUrl\":\"http://pic4.iqiyipic.com/image/20190704/df/24/a_100289785_m_601_m2.jpg\",\"channelId\":15,\"description\":\"《星空下的童话》是中国首档原创儿童音乐童话表演真人秀。在明星老师的引导下，由萌娃演绎经典童话，描绘自己心中的童话世界，开启几代人的童话记忆，用爱写下我们的童话。\",\"videoCount\":0,\"vip\":{\"payMarkUrl\":\"\",\"payMark\":0,\"vipType\":[0],\"purchaseType\":0},\"updateStrategy\":\"\",\"isSource\":1,\"shortTitle\":\"星空下的童话\",\"exclusive\":1,\"mode1080p\":1,\"qiyiProduced\":1,\"recommendation\":\"萌娃演绎几代人的童话\",\"score\":7.4,\"latestTvId\":3796205000,\"period\":\"20190505\",\"firstVideo\":{\"url\":\"http://www.iqiyi.com/v_19rsnokwpc.html\"},\"latestVideo\":{\"order\":1,\"url\":\"http://www.iqiyi.com/v_19rrrsqco4.html\",\"name\":\"星空下的童话 李晟携萌娃演绎毕业大戏\",\"imageUrl\":\"http://pic5.iqiyipic.com/image/20190726/3d/3a/v_134537001_m_601.jpg\",\"shortTitle\":\"李晟携萌娃演绎毕业大戏\"}},\"kvs\":{\"defImg_webp\":\"http://pic1.iqiyipic.com/common/lego/20190726/34640a0533c24307bf4843605c9a3a0f.webp\"}},{\"itemId\":205960201,\"type\":0,\"name\":\"\",\"pageUrl\":\"\",\"imageUrl\":\"\",\"prompt\":\"\",\"subordinateTitle\":\"\",\"shortDisplayName\":\"\",\"album\":{\"id\":205960201,\"name\":\"小公主苏菲亚 中文版\",\"url\":\"http://www.iqiyi.com/a_19rrh9b0bp.html\",\"imageUrl\":\"http://pic2.iqiyipic.com/image/20190703/f2/15/a_100044629_m_601_m4.jpg\",\"channelId\":15,\"description\":\"在一个充满神奇魔法的王国里，住了一个名叫Sofia的小女孩，Sofia在村子里和她的母亲Miranda一起工作干活，过着简单快乐的生活。然而在一个命中注定的日子里，她们被国王罗伦二世召见，罗伦国王与Miranda一见钟情，于是他们很快便结了婚。而Sofia也跟着妈妈搬到了城堡，她该如何学会当一名公主呢？\",\"videoCount\":25,\"vip\":{\"payMarkUrl\":\"http://pic0.iqiyipic.com/common/20171106/ac/1b/vip_100000_v_601.png\",\"payMark\":1,\"vipType\":[3,0],\"purchaseType\":2},\"updateStrategy\":\"\",\"isSource\":0,\"shortTitle\":\"小公主苏菲亚 中文版\",\"exclusive\":0,\"mode1080p\":1,\"qiyiProduced\":0,\"recommendation\":\"平民公主成长记\",\"score\":8.2,\"latestTvId\":620627100,\"period\":\"20170220\",\"firstVideo\":{\"url\":\"http://www.iqiyi.com/v_19rraoxkm4.html\"},\"latestVideo\":{\"order\":25,\"url\":\"http://www.iqiyi.com/v_19rraozr3k.html\",\"name\":\"小公主苏菲亚 中文版 第25集\",\"imageUrl\":\"http://pic9.iqiyipic.com/image/20170924/ee/82/v_111835801_m_601_m1.jpg\",\"shortTitle\":\"小公主苏菲亚 中文版 第25集\"}},\"kvs\":{}},{\"itemId\":238010001,\"type\":0,\"name\":\"\",\"pageUrl\":\"\",\"imageUrl\":\"\",\"prompt\":\"\",\"subordinateTitle\":\"\",\"shortDisplayName\":\"\",\"album\":{\"id\":238010001,\"name\":\"小鸡彩虹 第5季\",\"url\":\"http://www.iqiyi.com/a_19rrhut0jh.html\",\"imageUrl\":\"http://pic1.iqiyipic.com/image/20190704/61/11/a_100260404_m_601_m4.jpg\",\"channelId\":15,\"description\":\"在蔚蓝无垠的天空中，有一片大大的云岛。七只彩虹色的小鸡生活在这片云岛上，他们一起玩耍，探险，嬉闹，有时候也会遇到一些小麻烦，但是无论怎样的困难，他们总能依靠彼此，勇敢面对，充满期待地迎接新一天的太阳和彩虹。\",\"videoCount\":26,\"vip\":{\"payMarkUrl\":\"\",\"payMark\":0,\"vipType\":[0,3],\"purchaseType\":0},\"updateStrategy\":\"\",\"isSource\":0,\"shortTitle\":\"小鸡彩虹 第5季\",\"exclusive\":0,\"mode1080p\":1,\"qiyiProduced\":0,\"recommendation\":\"宝宝独立社交启蒙动画\",\"score\":7.0,\"latestTvId\":1996567000,\"period\":\"20190219\",\"firstVideo\":{\"url\":\"http://www.iqiyi.com/v_19rqxx8ls8.html\"},\"latestVideo\":{\"order\":26,\"url\":\"http://www.iqiyi.com/v_19rqxmb7w4.html\",\"name\":\"小鸡彩虹 第5季 第26集 这个东西很恐怖\",\"imageUrl\":\"http://pic8.iqiyipic.com/image/20190218/e2/3a/v_125497623_m_601_m1.jpg\",\"shortTitle\":\"小鸡彩虹 第5季\"},\"user\":{\"id\":1568055018,\"name\":\"上海五岸传播\"}},\"kvs\":{}},{\"itemId\":218014601,\"type\":0,\"name\":\"\",\"pageUrl\":\"\",\"imageUrl\":\"http://pic3.iqiyipic.com/common/lego/20180720/37f60929f0e34e0685c2a249455aab27.jpg\",\"prompt\":\"\",\"subordinateTitle\":\"\",\"shortDisplayName\":\"\",\"album\":{\"id\":218014601,\"name\":\"汪汪队立大功 第4季\",\"url\":\"http://www.iqiyi.com/a_19rrhcqjfp.html\",\"imageUrl\":\"http://pic0.iqiyipic.com/image/20190703/9b/31/a_100107144_m_601_m10.jpg\",\"channelId\":15,\"description\":\"精通科技的10岁男孩Ryder在拯救了6条小狗之后，将他们训练成了一组本领高强的狗狗巡逻队。每个小狗都性格鲜明，也各有特长。斑点狗Marshall擅长火中急救；斗牛犬Rubble精通工程机械；牧羊犬Chase是个超级特工；混血儿Rocky是个维修能手；拉布拉多犬Zuma最熟悉水中救援；而可卡颇犬Skye掌握着各种航空技术。拥有这么多解决问题的能力，在加上Ryder提供的炫酷装备支持，不管遇到多么困难和危险的救援任务，他们还总是忘不了相互玩闹，制作轻松的气氛，而每次幽默乐观的狗狗能总能顺利完成任务。\",\"videoCount\":26,\"vip\":{\"payMarkUrl\":\"http://pic0.iqiyipic.com/common/20171106/ac/1b/vip_100000_v_601.png\",\"payMark\":1,\"vipType\":[0,3],\"purchaseType\":2},\"updateStrategy\":\"\",\"isSource\":0,\"shortTitle\":\"汪汪队立大功 第4季\",\"exclusive\":0,\"mode1080p\":1,\"qiyiProduced\":0,\"recommendation\":\"本领高强的狗狗巡逻队\",\"score\":7.1,\"latestTvId\":1029682900,\"period\":\"20171023\",\"firstVideo\":{\"url\":\"http://www.iqiyi.com/v_19rre0i328.html\"},\"latestVideo\":{\"order\":26,\"url\":\"http://www.iqiyi.com/v_19rrcj59dk.html\",\"name\":\"汪汪队立大功 第4季 第26集 海底城堡救援任务\",\"imageUrl\":\"http://pic3.iqiyipic.com/image/20181127/cb/ae/v_115840111_m_601_m1.jpg\",\"shortTitle\":\"汪汪队立大功 第4季 第26集\"}},\"kvs\":{\"defImg_webp\":\"http://pic3.iqiyipic.com/common/lego/20180720/37f60929f0e34e0685c2a249455aab27.webp\"}},{\"itemId\":225111001,\"type\":0,\"name\":\"\",\"pageUrl\":\"\",\"imageUrl\":\"\",\"prompt\":\"\",\"subordinateTitle\":\"\",\"shortDisplayName\":\"\",\"album\":{\"id\":225111001,\"name\":\"班班和莉莉的小王国\",\"url\":\"http://www.iqiyi.com/a_19rrgy7p2t.html\",\"imageUrl\":\"http://pic5.iqiyipic.com/image/20190704/e4/9d/a_100142513_m_601_m4.jpg\",\"channelId\":15,\"description\":\"《班班和莉莉的小王国》由《小猪佩奇》原版人马打造, 是一部适合3-6岁学龄前儿童观看的2D系列动画片。这部动画出自《小猪佩奇》的制作者之手，即Astley Baker Davies动画工作室。它讲述了仙女公主莉莉和她最好的朋友小精灵班班在魔法小王国的冒险故事。该动画目前在超过130个国家播放。\",\"videoCount\":104,\"vip\":{\"payMarkUrl\":\"\",\"payMark\":0,\"vipType\":[3,0],\"purchaseType\":0},\"updateStrategy\":\"\",\"isSource\":0,\"shortTitle\":\"班班和莉莉的小王国\",\"exclusive\":0,\"mode1080p\":1,\"qiyiProduced\":0,\"recommendation\":\"魔法王国中的冒险故事\",\"score\":7.2,\"latestTvId\":1023358900,\"period\":\"20180425\",\"firstVideo\":{\"url\":\"http://www.iqiyi.com/v_19rrcx9b1g.html\"},\"latestVideo\":{\"order\":39,\"url\":\"http://www.iqiyi.com/v_19rrcwuztk.html\",\"name\":\"班班和莉莉的小王国 第39集 魔杖工厂\",\"imageUrl\":\"http://pic0.iqiyipic.com/image/20180428/59/5e/v_115791076_m_601.jpg\",\"shortTitle\":\"班班和莉莉的小王国 第39集\"}},\"kvs\":{}},{\"itemId\":226806901,\"type\":0,\"name\":\"\",\"pageUrl\":\"\",\"imageUrl\":\"\",\"prompt\":\"\",\"subordinateTitle\":\"\",\"shortDisplayName\":\"\",\"album\":{\"id\":226806901,\"name\":\"熊熊乐园 第2季\",\"url\":\"http://www.iqiyi.com/a_19rrh6q2vt.html\",\"imageUrl\":\"http://pic8.iqiyipic.com/image/20190704/79/5c/a_100152807_m_601_m5.jpg\",\"channelId\":15,\"description\":\"《熊熊乐园2》是华强方特动漫为3-6岁学龄前儿童打造的全新低幼动画作品，以童年时期的熊大、熊二和光头强为主要角色，延续《熊熊乐园》第一部的故事，讲述童年光头强穿过神奇树洞来到大树幼儿园，与童年熊大、熊二等小朋友们一起快乐地学习，友善地相处，享受童年的美好时光，探索神奇自然科学的奥秘，发掘生活中的乐趣。本片以贴合学龄前儿童的视角，通过一个个健康幽默、益智欢乐的萌趣成长故事，引导孩子们从生活中领悟道理、在玩乐中学会知识、在游戏中学会思考，真正做到寓教于乐。\",\"videoCount\":52,\"vip\":{\"payMarkUrl\":\"\",\"payMark\":0,\"vipType\":[0,3],\"purchaseType\":0},\"updateStrategy\":\"\",\"isSource\":0,\"shortTitle\":\"熊熊乐园 第2季\",\"exclusive\":0,\"mode1080p\":1,\"qiyiProduced\":0,\"recommendation\":\"探索童年美好的时光\",\"score\":7.4,\"latestTvId\":1100525000,\"period\":\"20180610\",\"firstVideo\":{\"url\":\"http://www.iqiyi.com/v_19rr0a8btk.html\"},\"latestVideo\":{\"order\":52,\"url\":\"http://www.iqiyi.com/v_19rr0ixrc4.html\",\"name\":\"熊熊乐园 第2季 第52集 元宵宝藏\",\"imageUrl\":\"http://pic9.iqiyipic.com/image/20180609/a8/b2/v_116596675_m_601.jpg\",\"shortTitle\":\"熊熊乐园 第2季 第52集\"}},\"kvs\":{}},{\"itemId\":223063001,\"type\":0,\"name\":\"\",\"pageUrl\":\"\",\"imageUrl\":\"\",\"prompt\":\"\",\"subordinateTitle\":\"\",\"shortDisplayName\":\"\",\"album\":{\"id\":223063001,\"name\":\"睡衣小英雄\",\"url\":\"http://www.iqiyi.com/a_19rrgzflbp.html\",\"imageUrl\":\"http://pic6.iqiyipic.com/image/20190704/35/41/a_100132269_m_601_m2.jpg\",\"channelId\":15,\"description\":\"蒙面睡衣小队由三个小队员组成Connor、Greg和Amaya。三个人白天是普通的小孩，但是每当夜幕降临，他们披上睡衣带上面具之后，就变身超级英雄。他们探险、解决谜题，并在成长中学会很多知识。\",\"videoCount\":52,\"vip\":{\"payMarkUrl\":\"\",\"payMark\":0,\"vipType\":[3,0],\"purchaseType\":0},\"updateStrategy\":\"\",\"isSource\":0,\"shortTitle\":\"睡衣小英雄\",\"exclusive\":0,\"mode1080p\":1,\"qiyiProduced\":0,\"recommendation\":\"夜间的超级小英雄\",\"score\":7.1,\"latestTvId\":1901214500,\"period\":\"20180309\",\"firstVideo\":{\"url\":\"http://www.iqiyi.com/v_19rrbexx58.html\"},\"latestVideo\":{\"order\":52,\"url\":\"http://www.iqiyi.com/v_19rqvvdiyw.html\",\"name\":\"睡衣小英雄 第52集 飞壁侠的特别石头\",\"imageUrl\":\"http://pic5.iqiyipic.com/image/20190128/88/93/v_124599174_m_601_m1.jpg\",\"shortTitle\":\"睡衣小英雄 第52集\"}},\"kvs\":{}},{\"itemId\":218251601,\"type\":0,\"name\":\"\",\"pageUrl\":\"\",\"imageUrl\":\"\",\"prompt\":\"\",\"subordinateTitle\":\"\",\"shortDisplayName\":\"\",\"album\":{\"id\":218251601,\"name\":\"巴巴爸爸全集\",\"url\":\"http://www.iqiyi.com/a_19rrh1mqt9.html\",\"imageUrl\":\"http://pic5.iqiyipic.com/image/20190703/24/ba/a_100108324_m_601_m6.jpg\",\"channelId\":15,\"description\":\"在辛迪和弗朗索瓦家的花园里，某天地下突然长出一个圆滚滚的粉红色小球，他越长越大，最后变成了一个椭圆形的小巨人，孩子们给他起名叫巴巴爸爸。大个子给他带来了不少麻烦：人们禁止它上公共汽车，电影院还有餐厅......不过他的善良帮他解决了一个又一个的难题。他还有一种超长的本领，就是可以随心所欲地变形！克里克里巴巴变 ！想变啥就变啥！不久巴巴爸爸就遇到了，通体黑色，美丽动人的巴巴妈妈，他们生下了七个可爱的宝宝：巴巴祖，巴巴拉拉，巴巴伯，巴巴布莱伯，巴巴利波，巴巴布莱特，巴巴贝尔。一家人与人类和谐相处，过着快乐而充满惊奇的生活。\\n\",\"videoCount\":150,\"vip\":{\"payMarkUrl\":\"http://pic0.iqiyipic.com/common/20171106/ac/1b/vip_100000_v_601.png\",\"payMark\":1,\"vipType\":[3,0],\"purchaseType\":2},\"updateStrategy\":\"\",\"isSource\":0,\"shortTitle\":\"巴巴爸爸全集\",\"exclusive\":1,\"mode1080p\":1,\"qiyiProduced\":0,\"recommendation\":\"一段充满惊奇的生活\",\"score\":7.0,\"latestTvId\":826641700,\"period\":\"20171101\",\"firstVideo\":{\"url\":\"http://www.iqiyi.com/v_19rrdn8i04.html\"},\"latestVideo\":{\"order\":150,\"url\":\"http://www.iqiyi.com/v_19rrdnc760.html\",\"name\":\"巴巴爸爸全集 第150集 南极洲大王乌贼\",\"imageUrl\":\"http://pic4.iqiyipic.com/image/20181115/e2/fa/v_113819873_m_601_m1.jpg\",\"shortTitle\":\"巴巴爸爸全集 第150集\"}},\"kvs\":{}},{\"itemId\":223273801,\"type\":0,\"name\":\"\",\"pageUrl\":\"\",\"imageUrl\":\"\",\"prompt\":\"\",\"subordinateTitle\":\"\",\"shortDisplayName\":\"\",\"album\":{\"id\":223273801,\"name\":\"百变马丁 第3季\",\"url\":\"http://www.iqiyi.com/a_19rrgzm7tx.html\",\"imageUrl\":\"http://pic2.iqiyipic.com/image/20190704/b4/6e/a_100133327_m_601_m3.jpg\",\"channelId\":15,\"description\":\"《百变马丁第三季》是由上海今日动画影视文化有限公司出品的《百变马丁》系列第三季。一个7岁小男孩马丁，每天早晨醒来后，都会发现自己变身不同角色。他就是百变马丁。有时，他是勇敢的超人；有时，他是聪明的发明家；有时，他是可爱的稻草人。在好朋友郭莫、罗娜的帮助下，他们克服一切困难，展开每一段跌宕起伏的有趣故事。这是一场有关正义、挑战和友情的奇幻冒险。\",\"videoCount\":26,\"vip\":{\"payMarkUrl\":\"\",\"payMark\":0,\"vipType\":[0,3],\"purchaseType\":0},\"updateStrategy\":\"\",\"isSource\":0,\"shortTitle\":\"百变马丁 第3季\",\"exclusive\":1,\"mode1080p\":1,\"qiyiProduced\":0,\"recommendation\":\"关于友情的奇幻冒险\",\"score\":7.5,\"latestTvId\":963417000,\"period\":\"20180320\",\"firstVideo\":{\"url\":\"http://www.iqiyi.com/v_19rrbeau3k.html\"},\"latestVideo\":{\"order\":26,\"url\":\"http://www.iqiyi.com/v_19rrbej744.html\",\"name\":\"百变马丁 第3季 第26集 陨石专家马丁\",\"imageUrl\":\"http://pic5.iqiyipic.com/image/20180316/ce/c3/v_115215786_m_601.jpg\",\"shortTitle\":\"百变马丁 第3季 第26集\"}},\"kvs\":{}},{\"itemId\":215460601,\"type\":0,\"name\":\"\",\"pageUrl\":\"\",\"imageUrl\":\"\",\"prompt\":\"\",\"subordinateTitle\":\"\",\"shortDisplayName\":\"\",\"album\":{\"id\":215460601,\"name\":\"新大头儿子和小头爸爸 第4季\",\"url\":\"http://www.iqiyi.com/a_19rrhdmw7p.html\",\"imageUrl\":\"http://pic6.iqiyipic.com/image/20190703/65/6e/a_100094400_m_601_m9.jpg\",\"channelId\":15,\"description\":\"大头儿子成长过程中每一天所发生的有趣小故事，故事发生的地点也从家中延伸到了大头儿子所生活和成长的每一个环境和空间。囊括了大头儿子在幼儿园和社区中的生活，跟幼儿园的同学们、跟社区的街坊们之间发生的故事，内容更加丰富多彩和生动有趣。\",\"videoCount\":100,\"vip\":{\"payMarkUrl\":\"http://pic0.iqiyipic.com/common/20171106/ac/1b/vip_100000_v_601.png\",\"payMark\":1,\"vipType\":[0,3],\"purchaseType\":2},\"updateStrategy\":\"\",\"isSource\":0,\"shortTitle\":\"新大头儿子和小头爸爸 第4季\",\"exclusive\":1,\"mode1080p\":1,\"qiyiProduced\":0,\"recommendation\":\"家庭生活的趣事\",\"score\":7.3,\"latestTvId\":825867200,\"period\":\"20170731\",\"firstVideo\":{\"url\":\"http://www.iqiyi.com/v_19rr8cxmdo.html\"},\"latestVideo\":{\"order\":100,\"url\":\"http://www.iqiyi.com/v_19rrdo47u4.html\",\"name\":\"新大头儿子和小头爸爸 第4季 第100集\",\"imageUrl\":\"http://pic9.iqiyipic.com/image/20181116/df/9c/v_113807893_m_601_m1.jpg\",\"shortTitle\":\"新大头儿子和小头爸爸 第100集\"}},\"kvs\":{}},{\"itemId\":217686601,\"type\":0,\"name\":\"\",\"pageUrl\":\"\",\"imageUrl\":\"\",\"prompt\":\"\",\"subordinateTitle\":\"\",\"shortDisplayName\":\"\",\"album\":{\"id\":217686601,\"name\":\"旋风战车队 第2季\",\"url\":\"http://www.iqiyi.com/a_19rrhcgpid.html\",\"imageUrl\":\"http://pic1.iqiyipic.com/image/20190703/22/04/a_100105514_m_601_m6.jpg\",\"channelId\":15,\"description\":\"没有比飙速更闪耀的明星了。他既是赛道上的冠军也是街头的英雄。遇上麻烦的时候，大家都会找他帮忙，因为他们知道其它卡车办不到的，飙速可以办到。他是镇上最快的旋风卡车 - 有着惊人的速度！凭借着丰富的科学知识，飙速能够赢得任何挑战。当遇到艰巨问题时，他可以变身为任何你想得出来的机器并解决问题。\",\"videoCount\":20,\"vip\":{\"payMarkUrl\":\"http://pic0.iqiyipic.com/common/20171106/ac/1b/vip_100000_v_601.png\",\"payMark\":1,\"vipType\":[0,3],\"purchaseType\":2},\"updateStrategy\":\"\",\"isSource\":0,\"shortTitle\":\"旋风战车队 第2季\",\"exclusive\":1,\"mode1080p\":1,\"qiyiProduced\":0,\"recommendation\":\"旋风卡车的冒险故事\",\"score\":7.1,\"latestTvId\":811203300,\"period\":\"20171010\",\"firstVideo\":{\"url\":\"http://www.iqiyi.com/v_19rrdwull8.html\"},\"latestVideo\":{\"order\":20,\"url\":\"http://www.iqiyi.com/v_19rrdwuiko.html\",\"name\":\"旋风战车队 第2季 第20集\",\"imageUrl\":\"http://pic6.iqiyipic.com/image/20181113/13/84/v_113660538_m_601_m1.jpg\",\"shortTitle\":\"旋风战车队 第2季 第20集\"}},\"kvs\":{}},{\"itemId\":205525201,\"type\":0,\"name\":\"\",\"pageUrl\":\"\",\"imageUrl\":\"\",\"prompt\":\"\",\"subordinateTitle\":\"\",\"shortDisplayName\":\"\",\"album\":{\"id\":205525201,\"name\":\"无敌小鹿 儿歌篇\",\"url\":\"http://www.iqiyi.com/a_19rrh922t9.html\",\"imageUrl\":\"http://pic6.iqiyipic.com/image/20190703/5c/39/a_100040287_m_601_m8.jpg\",\"channelId\":15,\"description\":\"宝宝的成长是一个由感知到模仿的过程，而儿歌是感知语言和画面的最好途径。 作为宝宝的第一个朋友，《奇宝儿歌》致力于用天马行空的创意思维为宝宝打造一个新的次元，多彩明媚的画面和更加明快的节奏将使传统儿歌迸发出新的活力，为宝宝带来一场视听盛宴。\",\"videoCount\":200,\"vip\":{\"payMarkUrl\":\"\",\"payMark\":0,\"vipType\":[3,0],\"purchaseType\":0},\"updateStrategy\":\"\",\"isSource\":0,\"shortTitle\":\"无敌小鹿 儿歌篇\",\"exclusive\":1,\"mode1080p\":1,\"qiyiProduced\":1,\"recommendation\":\"宝贝的第一个朋友\",\"score\":7.1,\"latestTvId\":987732300,\"period\":\"20170112\",\"firstVideo\":{\"url\":\"http://www.iqiyi.com/v_19rrfltkjo.html\"},\"latestVideo\":{\"order\":200,\"url\":\"http://www.iqiyi.com/v_19rrce5pgg.html\",\"name\":\"无敌小鹿 儿歌篇 第200集 月亮月光光\",\"imageUrl\":\"http://pic8.iqiyipic.com/image/20180404/0f/e1/v_115468028_m_601.jpg\",\"shortTitle\":\"无敌小鹿 儿歌篇 第200集\"},\"user\":{\"id\":1217774366,\"name\":\"IQIYI儿童动画\"}},\"kvs\":{}},{\"itemId\":200100701,\"type\":0,\"name\":\"\",\"pageUrl\":\"\",\"imageUrl\":\"\",\"prompt\":\"\",\"subordinateTitle\":\"\",\"shortDisplayName\":\"\",\"album\":{\"id\":200100701,\"name\":\"贝瓦儿歌\",\"url\":\"http://www.iqiyi.com/a_19rrgj96i9.html\",\"imageUrl\":\"http://pic0.iqiyipic.com/image/20190702/50/27/a_100001143_m_601_m11.jpg\",\"channelId\":15,\"description\":\"儿歌中蕴含着丰富的自然知识和生活常识，是帮助孩子认识事物，了解世界的媒介之一。贝瓦儿歌集合了许多朗朗上口的经典曲目，它们语言活泼,歌词丰富，并呈现出鲜明的音乐性和节奏感，是培养孩子乐感和审美的重要途径。希望通过童音原声的演唱和高品质的音效，能让宝宝在轻松，欢快，自然的状态下，聆听歌声，感受音乐魅力，健康的成长。\",\"videoCount\":0,\"vip\":{\"payMarkUrl\":\"\",\"payMark\":0,\"vipType\":[0,3],\"purchaseType\":0},\"updateStrategy\":\"\",\"isSource\":0,\"shortTitle\":\"贝瓦儿歌\",\"exclusive\":0,\"mode1080p\":1,\"qiyiProduced\":0,\"recommendation\":\"宝宝爱听的儿歌都在这\",\"score\":7.5,\"latestTvId\":9247774900,\"period\":\"20131114\",\"firstVideo\":{\"url\":\"http://www.iqiyi.com/v_19rrhg0y9s.html\"},\"latestVideo\":{\"order\":445,\"url\":\"http://www.iqiyi.com/v_19rv8yalzs.html\",\"name\":\"贝瓦儿歌 第445集 喵喵之歌\",\"imageUrl\":\"http://pic5.iqiyipic.com/image/20191111/3b/c0/v_140917156_m_601_m2.jpg\",\"shortTitle\":\"贝瓦儿歌 第445集\"},\"user\":{\"id\":192913578,\"name\":\"贝瓦儿歌官方账号\"}},\"kvs\":{}},{\"itemId\":220554401,\"type\":0,\"name\":\"\",\"pageUrl\":\"\",\"imageUrl\":\"\",\"prompt\":\"\",\"subordinateTitle\":\"\",\"shortDisplayName\":\"\",\"album\":{\"id\":220554401,\"name\":\"猪猪侠之环球日记\",\"url\":\"http://www.iqiyi.com/a_19rrh0f0el.html\",\"imageUrl\":\"http://pic5.iqiyipic.com/image/20190704/6f/01/a_100119728_m_601_m4.jpg\",\"channelId\":15,\"description\":\"猪猪侠、超人强、波比、小呆呆、菲菲五人组成拼装特工队，他们环游世界、收集各国趣味杂闻、科普各国有趣风情、解决各种疑难问题。他们爱探险、爱提问、行动力强、永远保持着昂扬的斗志。在充满东南亚风情的泰国，与大象一起享受泼水节的快乐；在法国浪漫的普罗旺斯欣赏薰衣草的美丽；在日本樱花树下，观看一场精彩的相扑比赛……但是，每次在享受各国风情的同时，拼装特工队都会遇上各种问题，却从来也难不倒五位特工。拼装特工队始终将“探险、拯救、保护”紧记于心，因为这才是他们的最终的使命。\\n\",\"videoCount\":26,\"vip\":{\"payMarkUrl\":\"http://pic0.iqiyipic.com/common/20171106/ac/1b/vip_100000_v_601.png\",\"payMark\":1,\"vipType\":[3,0],\"purchaseType\":2},\"updateStrategy\":\"\",\"isSource\":0,\"shortTitle\":\"猪猪侠之环球日记\",\"exclusive\":1,\"mode1080p\":1,\"qiyiProduced\":0,\"recommendation\":\"萌小猪逗趣闯天涯\",\"score\":7.0,\"latestTvId\":896229600,\"period\":\"20180125\",\"firstVideo\":{\"url\":\"http://www.iqiyi.com/v_19rrerfgmo.html\"},\"latestVideo\":{\"order\":26,\"url\":\"http://www.iqiyi.com/v_19rreq8t58.html\",\"name\":\"猪猪侠之环球日记 第26集 撒谎的横纲\",\"imageUrl\":\"http://pic3.iqiyipic.com/image/20181119/de/05/v_114493242_m_601_m1.jpg\",\"shortTitle\":\"猪猪侠之环球日记 第26集\"}},\"kvs\":{}},{\"itemId\":217686401,\"type\":0,\"name\":\"\",\"pageUrl\":\"\",\"imageUrl\":\"\",\"prompt\":\"\",\"subordinateTitle\":\"\",\"shortDisplayName\":\"\",\"album\":{\"id\":217686401,\"name\":\"亮亮和晶晶 第2季\",\"url\":\"http://www.iqiyi.com/a_19rrhcgpv1.html\",\"imageUrl\":\"http://pic0.iqiyipic.com/image/20190703/71/e1/a_100105513_m_601_m7.jpg\",\"channelId\":15,\"description\":\"这部学龄前儿童喜剧动画片讲述了见习精灵亮亮、晶晶（Shimmer、Shine）和她们最好的人类朋友莱亚（Leah）疯狂而奇幻的冒险故事。每当莱亚陷入困境，她便会念起 特殊的咒语、摩擦精灵瓶吊坠来召唤她的秘密精灵闪闪亮亮。\",\"videoCount\":20,\"vip\":{\"payMarkUrl\":\"http://pic0.iqiyipic.com/common/20171106/ac/1b/vip_100000_v_601.png\",\"payMark\":1,\"vipType\":[0,3],\"purchaseType\":2},\"updateStrategy\":\"\",\"isSource\":0,\"shortTitle\":\"亮亮和晶晶 第2季\",\"exclusive\":1,\"mode1080p\":1,\"qiyiProduced\":0,\"recommendation\":\"学龄前儿童喜剧动画片\",\"score\":7.2,\"latestTvId\":811218600,\"period\":\"20171010\",\"firstVideo\":{\"url\":\"http://www.iqiyi.com/v_19rrdwyjy8.html\"},\"latestVideo\":{\"order\":20,\"url\":\"http://www.iqiyi.com/v_19rrdwybb8.html\",\"name\":\"亮亮和晶晶 第2季 第20集\",\"imageUrl\":\"http://pic2.iqiyipic.com/image/20181117/6c/63/v_113659981_m_601_m1.jpg\",\"shortTitle\":\"亮亮和晶晶 第2季 第20集\"}},\"kvs\":{}},{\"itemId\":206527601,\"type\":0,\"name\":\"\",\"pageUrl\":\"\",\"imageUrl\":\"\",\"prompt\":\"\",\"subordinateTitle\":\"\",\"shortDisplayName\":\"\",\"album\":{\"id\":206527601,\"name\":\"熊熊乐园\",\"url\":\"http://www.iqiyi.com/a_19rrh9k07x.html\",\"imageUrl\":\"http://pic8.iqiyipic.com/image/20190703/d6/80/a_100049767_m_601_m8.jpg\",\"channelId\":15,\"description\":\"\",\"videoCount\":52,\"vip\":{\"payMarkUrl\":\"\",\"payMark\":0,\"vipType\":[3,0],\"purchaseType\":0},\"updateStrategy\":\"\",\"isSource\":0,\"shortTitle\":\"熊熊乐园\",\"exclusive\":0,\"mode1080p\":1,\"qiyiProduced\":0,\"recommendation\":\"熊兄弟光头强童年趣事\",\"score\":7.2,\"latestTvId\":664560200,\"period\":\"20170429\",\"firstVideo\":{\"url\":\"http://www.iqiyi.com/v_19rravyqyk.html\"},\"latestVideo\":{\"order\":52,\"url\":\"http://www.iqiyi.com/v_19rrb2mv50.html\",\"name\":\"熊熊乐园 第52集 最棒的生日礼物\",\"imageUrl\":\"http://pic3.iqiyipic.com/image/20181111/e5/fe/v_112203731_m_601_m2.jpg\",\"shortTitle\":\"熊熊乐园 第52集\"}},\"kvs\":{}},{\"itemId\":201173801,\"type\":0,\"name\":\"\",\"pageUrl\":\"\",\"imageUrl\":\"\",\"prompt\":\"\",\"subordinateTitle\":\"\",\"shortDisplayName\":\"\",\"album\":{\"id\":201173801,\"name\":\"海底小纵队\",\"url\":\"http://www.iqiyi.com/a_19rrginl1h.html\",\"imageUrl\":\"http://pic1.iqiyipic.com/image/20190703/4e/d9/a_100006174_m_601_m5.jpg\",\"channelId\":15,\"description\":\"《海底小纵队》是英国silvergate公司旗下作品。该片以海洋作为故事上演的舞台，融合了动作、探险、海洋生物科学课程以及学龄前团队协作等内容。动画讲述了八个可爱小动物组成的海底探险小队的故事。他们居住在神秘基地——章鱼堡，随时准备出发去解决海底遇险、排除海底可能发生的危险。\",\"videoCount\":123,\"vip\":{\"payMarkUrl\":\"\",\"payMark\":0,\"vipType\":[0,3],\"purchaseType\":0},\"updateStrategy\":\"\",\"isSource\":0,\"shortTitle\":\"海底小纵队\",\"exclusive\":0,\"mode1080p\":1,\"qiyiProduced\":0,\"recommendation\":\"BBC儿童海洋探险动画\",\"score\":8.2,\"latestTvId\":617949400,\"period\":\"20140721\",\"firstVideo\":{\"url\":\"http://www.iqiyi.com/v_19rrhnf7go.html\"},\"latestVideo\":{\"order\":123,\"url\":\"http://www.iqiyi.com/v_19rrapt510.html\",\"name\":\"海底小纵队 第123集\",\"imageUrl\":\"http://pic3.iqiyipic.com/image/20170924/b0/d3/v_111808485_m_601_m1.jpg\",\"shortTitle\":\"海底小纵队 第123集\"}},\"kvs\":{}},{\"itemId\":206496801,\"type\":0,\"name\":\"\",\"pageUrl\":\"\",\"imageUrl\":\"\",\"prompt\":\"\",\"subordinateTitle\":\"\",\"shortDisplayName\":\"\",\"album\":{\"id\":206496801,\"name\":\"安迪的恐龙冒险 中文版\",\"url\":\"http://www.iqiyi.com/a_19rrh9lt1p.html\",\"imageUrl\":\"http://pic6.iqiyipic.com/image/20190703/b3/83/a_100049613_m_601_m7.jpg\",\"channelId\":15,\"description\":\"你是否想过如果能和一只狒狒共享下午茶或者与企鹅们一起用肚皮滑行，那将是怎样的感觉？BBC万人迷安迪·戴将带领你们一起踏入自然世界，开始一次不可思议的旅程。\",\"videoCount\":20,\"vip\":{\"payMarkUrl\":\"http://pic0.iqiyipic.com/common/20171106/ac/1b/vip_100000_v_601.png\",\"payMark\":1,\"vipType\":[3,0],\"purchaseType\":2},\"updateStrategy\":\"\",\"isSource\":0,\"shortTitle\":\"安迪的恐龙冒险 中文版\",\"exclusive\":0,\"mode1080p\":1,\"qiyiProduced\":0,\"recommendation\":\"探索有关动物的知识\",\"score\":7.1,\"latestTvId\":659084800,\"period\":\"20170417\",\"firstVideo\":{\"url\":\"http://www.iqiyi.com/v_19rravio3o.html\"},\"latestVideo\":{\"order\":20,\"url\":\"http://www.iqiyi.com/v_19rravmyy4.html\",\"name\":\"安迪的恐龙冒险 中文版 第20集\",\"imageUrl\":\"http://pic8.iqiyipic.com/image/20181114/24/0d/v_112162497_m_601_m2.jpg\",\"shortTitle\":\"安迪的恐龙冒险 中文版 第20集\"}},\"kvs\":{}},{\"itemId\":206151401,\"type\":0,\"name\":\"\",\"pageUrl\":\"\",\"imageUrl\":\"\",\"prompt\":\"\",\"subordinateTitle\":\"\",\"shortDisplayName\":\"\",\"album\":{\"id\":206151401,\"name\":\"颜色屋 第4季\",\"url\":\"http://www.iqiyi.com/a_19rrh9cmf9.html\",\"imageUrl\":\"http://pic5.iqiyipic.com/image/20190703/51/cc/a_100046532_m_601_m4.jpg\",\"channelId\":15,\"description\":\"颜色屋是一部教宝宝辨认颜色的亲子动画片。掌握孩子的猎奇心理，运用精美的动画效果，提高宝宝学习效率，提升宝宝对颜色认知的兴趣。让宝宝轻松认知颜色。\",\"videoCount\":0,\"vip\":{\"payMarkUrl\":\"http://pic0.iqiyipic.com/common/20171106/ac/1b/vip_100000_v_601.png\",\"payMark\":1,\"vipType\":[3,0],\"purchaseType\":2},\"updateStrategy\":\"\",\"isSource\":0,\"shortTitle\":\"颜色屋 第4季\",\"exclusive\":0,\"mode1080p\":0,\"qiyiProduced\":0,\"recommendation\":\"颜色认知的趣味学习\",\"score\":7.1,\"latestTvId\":633089000,\"period\":\"20170309\",\"firstVideo\":{\"url\":\"http://www.iqiyi.com/v_19rraif1dk.html\"},\"latestVideo\":{\"order\":30,\"url\":\"http://www.iqiyi.com/v_19rrahf4as.html\",\"name\":\"颜色屋 第4季 第30集\",\"imageUrl\":\"http://pic1.iqiyipic.com/image/20181107/6c/e3/v_111958256_m_601_m2.jpg\",\"shortTitle\":\"颜色屋 第4季 第30集\"},\"user\":{\"id\":1239605140,\"name\":\"这是一个小可爱的号\"}},\"kvs\":{}},{\"itemId\":204626001,\"type\":0,\"name\":\"\",\"pageUrl\":\"\",\"imageUrl\":\"\",\"prompt\":\"\",\"subordinateTitle\":\"\",\"shortDisplayName\":\"\",\"album\":{\"id\":204626001,\"name\":\"超级飞侠全集\",\"url\":\"http://www.iqiyi.com/a_19rrh9r1vh.html\",\"imageUrl\":\"http://pic1.iqiyipic.com/image/20190703/57/bf/a_100031396_m_601_m4.jpg\",\"channelId\":15,\"description\":\"《超级飞侠》是千骐动漫历经三年重金打造的一部全新学龄前3D动画作品，讲述了飞机机器人乐迪与一群称为“超级飞侠”的小伙伴环游世界，为小朋友递送包裹，并帮助他们解决困难的故事。作品最大的特点是每一集发生的城市都不同，用精美的画面展现了世界多元文化，例如名胜、建筑、语言、节日和美食等。故事传递着善良、勇敢、欢乐和友爱，让孩子跟随乐迪在每一次新的神奇之旅中，可以开阔眼界并认识到多彩绚丽的地球家园。\",\"videoCount\":0,\"vip\":{\"payMarkUrl\":\"http://pic0.iqiyipic.com/common/20171106/ac/1b/vip_100000_v_601.png\",\"payMark\":1,\"vipType\":[3,0],\"purchaseType\":2},\"updateStrategy\":\"\",\"isSource\":0,\"shortTitle\":\"超级飞侠全集\",\"exclusive\":0,\"mode1080p\":1,\"qiyiProduced\":0,\"recommendation\":\"飞机人环游世界\",\"score\":7.6,\"latestTvId\":2515404500,\"period\":\"20160902\",\"firstVideo\":{\"url\":\"http://www.iqiyi.com/v_19rrm4p6r8.html\"},\"latestVideo\":{\"order\":144,\"url\":\"http://www.iqiyi.com/v_19rsn9n5q0.html\",\"name\":\"超级飞侠全集 第144集 去新西兰摘奇异果\",\"imageUrl\":\"http://pic6.iqiyipic.com/image/20190523/d6/c3/v_129905586_m_601.jpg\",\"shortTitle\":\"超级飞侠全集 第144集\"}},\"kvs\":{}}],\"title\":{\"name\":\"儿童\",\"icon\":\"childshow\",\"link\":\"//child.iqiyi.com/\",\"moreText\":\"更多\",\"subNav\":[{\"name\":\"无敌小鹿\",\"pageUrl\":\"https://www.iqiyi.com/v_19rqww68rg.html\",\"imageUrl\":\"http://pic2.iqiyipic.com/common/lego/20190404/a65d2e6de4c54a85825e34dd3278d42c.png\",\"kvs\":{\"width\":\"28\"}},{\"name\":\"小马宝莉\",\"pageUrl\":\"http://www.iqiyi.com/v_19rr6zubeg.html\",\"imageUrl\":\"http://pic1.iqiyipic.com/common/lego/20180321/0659060211974605ad1b18d2b2fc7801.png\",\"kvs\":{\"width\":\"28\"}},{\"name\":\"贝瓦儿歌\",\"pageUrl\":\"http://www.iqiyi.com/a_19rrgj96i9.html\",\"imageUrl\":\"http://pic3.iqiyipic.com/common/lego/20180321/8dc715c6507846c2b749f1d6a7a4f647.png\",\"kvs\":{\"width\":\"28\"}},{\"name\":\"小猪佩奇\",\"pageUrl\":\"http://www.iqiyi.com/v_19rrl6d4as.html\",\"imageUrl\":\"\",\"kvs\":{\"width\":\"\"}},{\"name\":\"汪汪队立大功\",\"pageUrl\":\"http://www.iqiyi.com/v_19rre0i328.html\",\"imageUrl\":\"\",\"kvs\":{\"width\":\"\"}}]}}'\n",
      "\n",
      "     :source-data='{\"videos\":[{\"name\":\"【210】亚服第一狙击手\",\"imageUrl\":\"http://u8.iqiyipic.com/zhibo/20191118/ca/7d/zhibo_5dd2928674d57972f6a6ca7d_480_270.jpg\",\"pageUrl\":\"\",\"shortDisplayName\":\"\",\"kvs\":{\"anchorNickName\":\"NIKO_210\",\"anchorId\":\"1299238177\",\"roomId\":\"21930\",\"roomStatus\":\"1\"}},{\"name\":\"晚舟：钢枪王中王 只有技术不含糖\",\"imageUrl\":\"http://u6.iqiyipic.com/zhibo/20191118/89/f3/zhibo_5dd2927874d57972fbe089f3_480_270.jpg\",\"pageUrl\":\"\",\"shortDisplayName\":\"\",\"kvs\":{\"anchorNickName\":\"晚舟锅锅\",\"anchorId\":\"1741811713\",\"roomId\":\"86456\",\"roomStatus\":\"1\"}},{\"name\":\"免费上车免费房管\",\"imageUrl\":\"http://u9.iqiyipic.com/zhibo/20191118/ca/46/zhibo_5dd2927c74d57972f6a6ca46_480_270.jpg\",\"pageUrl\":\"\",\"shortDisplayName\":\"\",\"kvs\":{\"anchorNickName\":\"老公Ani\",\"anchorId\":\"2277289090\",\"roomId\":\"25300\",\"roomStatus\":\"1\"}},{\"name\":\"【逍遥】新的一周开始啦，签到继续送房管！\",\"imageUrl\":\"http://u0.iqiyipic.com/zhibo/20191118/ce/0a/zhibo_5dd2927ed2999d474df7ce0a_480_270.jpg\",\"pageUrl\":\"\",\"shortDisplayName\":\"\",\"kvs\":{\"anchorNickName\":\"得梦逍遥er\",\"anchorId\":\"1501106825\",\"roomId\":\"28450\",\"roomStatus\":\"1\"}},{\"itemId\":9400927400,\"type\":1,\"name\":\"\",\"pageUrl\":\"\",\"imageUrl\":\"\",\"prompt\":\"\",\"subordinateTitle\":\"\",\"shortDisplayName\":\"\",\"mixinVideo\":{\"name\":\"《爱奇艺游报》每逢玩完瘦三斤，谁说玩游戏没女朋友？\",\"description\":\"上个月刚被我老婆（新垣结衣）带着买了《健身环大冒险》，这儿还没开始动呢，那边《舞力全开2020》又开始了新一波攻势\",\"tvId\":9400927400,\"url\":\"http://www.iqiyi.com/v_19rvbz196s.html\",\"albumId\":224451001,\"duration\":275,\"imageUrl\":\"http://pic1.iqiyipic.com/image/20191115/83/45/v_141165549_m_601_m1.jpg\",\"channelId\":8,\"subtitle\":\"这款游戏玩了能减肥\",\"vip\":{\"payMarkUrl\":\"\",\"payMark\":0,\"vipType\":[0],\"purchaseType\":0},\"userId\":4688985164,\"period\":\"20191116\",\"exclusive\":1,\"qiyiProduced\":0,\"shortTitle\":\"这款游戏玩了能减肥\",\"recommendation\":\"跳就完事儿了\",\"contentType\":1,\"album\":{\"id\":224451001,\"name\":\"爱奇艺游报第二季\",\"url\":\"http://www.iqiyi.com/a_19rrgxtxat.html\",\"imageUrl\":\"http://pic0.iqiyipic.com/image/20180518/0b/cd/a_100139206_m_601_m2.jpg\",\"videoCount\":0,\"isSource\":1,\"exclusive\":1,\"qiyiProduced\":0,\"latestVideo\":{\"tvId\":9400927400,\"url\":\"http://www.iqiyi.com/v_19rvbz196s.html\",\"order\":1}},\"user\":{\"id\":4688985164,\"name\":\"爱奇艺游报官方\"}},\"kvs\":{}},{\"itemId\":9474252900,\"type\":1,\"name\":\"\",\"pageUrl\":\"\",\"imageUrl\":\"\",\"prompt\":\"\",\"subordinateTitle\":\"\",\"shortDisplayName\":\"\",\"mixinVideo\":{\"name\":\"竞燃时刻CFPL 05：AG快刀轻取EDG，拿下关键一胜锁定季后赛！\",\"description\":\"\",\"tvId\":9474252900,\"url\":\"http://www.iqiyi.com/v_19rvd94cug.html\",\"albumId\":0,\"duration\":87,\"imageUrl\":\"http://pic7.iqiyipic.com/image/20191117/41/f4/v_141241652_m_601.jpg\",\"channelId\":8,\"subtitle\":\"竞燃时刻CFPL 05\",\"vip\":{\"payMarkUrl\":\"\",\"payMark\":0,\"vipType\":[0],\"purchaseType\":0},\"userId\":1284260026,\"period\":\"20191117\",\"exclusive\":0,\"qiyiProduced\":0,\"shortTitle\":\"竞燃时刻CFPL 05\",\"recommendation\":\"\",\"contentType\":1,\"user\":{\"id\":1284260026,\"name\":\"是大腿行动局\"}},\"kvs\":{}},{\"itemId\":9434605300,\"type\":1,\"name\":\"\",\"pageUrl\":\"\",\"imageUrl\":\"\",\"prompt\":\"\",\"subordinateTitle\":\"\",\"shortDisplayName\":\"\",\"mixinVideo\":{\"name\":\"神超不做人19：操作下饭怎么了，能上分就行！\",\"description\":\"\",\"tvId\":9434605300,\"url\":\"http://www.iqiyi.com/v_19rvcj3ezc.html\",\"albumId\":239825201,\"duration\":601,\"imageUrl\":\"http://pic8.iqiyipic.com/image/20191118/3c/e1/v_141198360_m_601_m1.jpg\",\"channelId\":8,\"subtitle\":\"神超不做人19\",\"vip\":{\"payMarkUrl\":\"\",\"payMark\":0,\"vipType\":[0],\"purchaseType\":0},\"userId\":1683324219,\"period\":\"20191116\",\"exclusive\":0,\"qiyiProduced\":0,\"shortTitle\":\"神超不做人19\",\"recommendation\":\"神超不做人\",\"contentType\":1,\"album\":{\"id\":239825201,\"name\":\"神超不做人\",\"url\":\"http://www.iqiyi.com/a_19rrhtddgd.html\",\"imageUrl\":\"http://pic8.iqiyipic.com/image/20190331/a9/2d/a_100278701_m_601.jpg\",\"videoCount\":0,\"isSource\":1,\"exclusive\":0,\"qiyiProduced\":0,\"latestVideo\":{\"tvId\":9434605300,\"url\":\"http://www.iqiyi.com/v_19rvcj3ezc.html\",\"order\":1}},\"user\":{\"id\":1683324219,\"name\":\"GoDlike_神超\"}},\"kvs\":{}},{\"itemId\":9392948000,\"type\":1,\"name\":\"\",\"pageUrl\":\"\",\"imageUrl\":\"\",\"prompt\":\"\",\"subordinateTitle\":\"\",\"shortDisplayName\":\"\",\"mixinVideo\":{\"name\":\"《六啊不求人》第一期：不求人打入敌人内部反被劫持？\",\"description\":\"\",\"tvId\":9392948000,\"url\":\"http://www.iqiyi.com/v_19rv6uffws.html\",\"albumId\":0,\"duration\":608,\"imageUrl\":\"http://pic9.iqiyipic.com/image/20191115/57/6b/v_141155759_m_601.jpg\",\"channelId\":8,\"subtitle\":\"《六啊不求人》第一期\",\"vip\":{\"payMarkUrl\":\"\",\"payMark\":0,\"vipType\":[0],\"purchaseType\":0},\"userId\":1653606726,\"period\":\"20191115\",\"exclusive\":0,\"qiyiProduced\":0,\"shortTitle\":\"《六啊不求人》第一期\",\"recommendation\":\"\",\"contentType\":1,\"user\":{\"id\":1653606726,\"name\":\"吃鸡丶不求人\"}},\"kvs\":{}}],\"title\":{\"name\":\"游戏视频\",\"icon\":\"gamesplay\",\"link\":\"//games.iqiyi.com/\",\"moreText\":\"更多\",\"subNav\":[{\"name\":\"游戏直播\",\"pageUrl\":\"https://live.iqiyi.com/cate/game\",\"imageUrl\":\"\",\"kvs\":{\"width\":\"\"}},{\"name\":\"我的世界\",\"pageUrl\":\"http://games.iqiyi.com/mc\",\"imageUrl\":\"\",\"kvs\":{\"width\":\"\"}},{\"name\":\"王者荣耀\",\"pageUrl\":\"http://games.iqiyi.com/wzry\",\"imageUrl\":\"\",\"kvs\":{\"width\":\"\"}},{\"name\":\"英雄联盟\",\"pageUrl\":\"http://games.iqiyi.com/lol\",\"imageUrl\":\"\",\"kvs\":{\"width\":\"\"}},{\"name\":\"单机游戏\",\"pageUrl\":\"http://games.iqiyi.com/djyx\",\"imageUrl\":\"\",\"kvs\":{\"width\":\"\"}},{\"name\":\"CJ剑网3：江湖英雄令\",\"pageUrl\":\"http://www.iqiyi.com/games/chinajoy2018.html\",\"imageUrl\":\"\",\"kvs\":{\"width\":\"\"}}]}}'\n",
      "\n",
      "     :source-data='{\"videos\":[{\"itemId\":9497293400,\"type\":1,\"name\":\"\",\"pageUrl\":\"\",\"imageUrl\":\"\",\"prompt\":\"\",\"subordinateTitle\":\"\",\"shortDisplayName\":\"\",\"mixinVideo\":{\"name\":\"七人上双詹姆斯33+12 湖人胜老鹰升至联盟第一\",\"description\":\"NBA常规赛，湖人主场122比101大胜老鹰，取得四连胜，重回联盟第一。\",\"tvId\":9497293400,\"url\":\"http://www.iqiyi.com/v_19rvdpc2lw.html\",\"albumId\":245914401,\"duration\":44,\"imageUrl\":\"http://pic2.iqiyipic.com/image/20191118/11/c9/v_141268069_m_601_m2.jpg\",\"channelId\":17,\"subtitle\":\"七人上双詹姆斯33+12 湖人胜老鹰升至联盟第一\",\"vip\":{\"payMarkUrl\":\"\",\"payMark\":0,\"vipType\":[6,0],\"purchaseType\":0},\"userId\":1426914874,\"period\":\"20191118\",\"exclusive\":0,\"qiyiProduced\":0,\"shortTitle\":\"湖人胜老鹰升至联盟第一\",\"recommendation\":\"\",\"contentType\":1,\"album\":{\"id\":245914401,\"name\":\"篮球最前线\",\"url\":\"http://www.iqiyi.com/a_19rrhzkx8t.html\",\"imageUrl\":\"http://pic0.iqiyipic.com/image/20190807/44/73/a_100338917_m_601.jpg\",\"videoCount\":0,\"isSource\":1,\"exclusive\":0,\"qiyiProduced\":0,\"latestVideo\":{\"tvId\":9497293400,\"url\":\"http://www.iqiyi.com/v_19rvdpc2lw.html\",\"order\":1}},\"user\":{\"id\":1426914874,\"name\":\"爱奇艺体育\"}},\"kvs\":{}},{\"itemId\":9507963100,\"type\":1,\"name\":\"\",\"pageUrl\":\"\",\"imageUrl\":\"\",\"prompt\":\"\",\"subordinateTitle\":\"\",\"shortDisplayName\":\"\",\"mixinVideo\":{\"name\":\"最长情的告白！西甲百岁老球迷重返瓦伦主场\",\"description\":\"最长情的告白！西甲百岁老球迷重返瓦伦主场\",\"tvId\":9507963100,\"url\":\"http://www.iqiyi.com/v_19rvdta1m8.html\",\"albumId\":246140101,\"duration\":205,\"imageUrl\":\"http://pic5.iqiyipic.com/image/20191118/02/80/v_141287940_m_601_m1.jpg\",\"channelId\":17,\"subtitle\":\"西甲百岁老球迷重返瓦伦主场\",\"vip\":{\"payMarkUrl\":\"\",\"payMark\":0,\"vipType\":[0,6],\"purchaseType\":0},\"userId\":990468339,\"period\":\"20191118\",\"exclusive\":0,\"qiyiProduced\":0,\"shortTitle\":\"西甲百岁老球迷重返瓦伦主场\",\"recommendation\":\"\",\"contentType\":1,\"album\":{\"id\":246140101,\"name\":\"西甲诸强\",\"url\":\"http://www.iqiyi.com/a_19rrhzmxt5.html\",\"imageUrl\":\"http://pic5.iqiyipic.com/image/20190813/8e/56/a_100341167_m_601.jpg\",\"videoCount\":0,\"isSource\":1,\"exclusive\":0,\"qiyiProduced\":0,\"latestVideo\":{\"tvId\":9507963100,\"url\":\"http://www.iqiyi.com/v_19rvdta1m8.html\",\"order\":1}},\"user\":{\"id\":990468339,\"name\":\"爱奇艺体育西甲\"}},\"kvs\":{}},{\"itemId\":9500295800,\"type\":1,\"name\":\"\",\"pageUrl\":\"\",\"imageUrl\":\"\",\"prompt\":\"\",\"subordinateTitle\":\"\",\"shortDisplayName\":\"\",\"mixinVideo\":{\"name\":\"湖人名宿科比重回斯台普斯！与老詹魔兽场边握手\",\"description\":\"湖人名宿科比重回斯台普斯\",\"tvId\":9500295800,\"url\":\"http://www.iqiyi.com/v_19rvdndxck.html\",\"albumId\":242655101,\"duration\":74,\"imageUrl\":\"http://pic0.iqiyipic.com/image/20191118/09/30/v_141273720_m_601_m1.jpg\",\"channelId\":17,\"subtitle\":\"湖人名宿科比重回斯台普斯\",\"vip\":{\"payMarkUrl\":\"\",\"payMark\":0,\"vipType\":[6,0],\"purchaseType\":0},\"userId\":1426914874,\"period\":\"20191118\",\"exclusive\":0,\"qiyiProduced\":0,\"shortTitle\":\"湖人名宿科比重回斯台普斯\",\"recommendation\":\"\",\"contentType\":1,\"album\":{\"id\":242655101,\"name\":\"篮球场外事\",\"url\":\"http://www.iqiyi.com/a_19rrhrez2p.html\",\"imageUrl\":\"http://pic8.iqiyipic.com/image/20190620/1b/09/a_100306842_m_601.jpg\",\"videoCount\":0,\"isSource\":1,\"exclusive\":0,\"qiyiProduced\":0,\"latestVideo\":{\"tvId\":9510844800,\"url\":\"http://www.iqiyi.com/v_19rvdr53ak.html\",\"order\":1}},\"user\":{\"id\":1426914874,\"name\":\"爱奇艺体育\"}},\"kvs\":{}},{\"itemId\":9500722600,\"type\":1,\"name\":\"\",\"pageUrl\":\"\",\"imageUrl\":\"\",\"prompt\":\"\",\"subordinateTitle\":\"\",\"shortDisplayName\":\"\",\"mixinVideo\":{\"name\":\"为归化做准备?伊沃首次用中文写出自己名\",\"description\":\"为归化做准备?伊沃首次用中文写出自己名\",\"tvId\":9500722600,\"url\":\"http://www.iqiyi.com/v_19rvdnn1l0.html\",\"albumId\":235896801,\"duration\":83,\"imageUrl\":\"http://pic3.iqiyipic.com/image/20191118/a6/9b/v_141274591_m_601_m1.jpg\",\"channelId\":17,\"subtitle\":\"伊沃用中文写出自己名\",\"vip\":{\"payMarkUrl\":\"\",\"payMark\":0,\"vipType\":[6,0],\"purchaseType\":0},\"userId\":1589386450,\"period\":\"20191118\",\"exclusive\":0,\"qiyiProduced\":0,\"shortTitle\":\"伊沃用中文写出自己名\",\"recommendation\":\"\",\"contentType\":1,\"album\":{\"id\":235896801,\"name\":\"亚洲足球\",\"url\":\"http://www.iqiyi.com/a_19rrhw0wi5.html\",\"imageUrl\":\"http://pic4.iqiyipic.com/image/20181229/7f/72/a_100238581_m_601.jpg\",\"videoCount\":0,\"isSource\":1,\"exclusive\":0,\"qiyiProduced\":0,\"latestVideo\":{\"tvId\":9510533900,\"url\":\"http://www.iqiyi.com/v_19rvds821s.html\",\"order\":1}},\"user\":{\"id\":1589386450,\"name\":\"爱奇艺体育足球\"}},\"kvs\":{}},{\"itemId\":9510848500,\"type\":1,\"name\":\"\",\"pageUrl\":\"\",\"imageUrl\":\"\",\"prompt\":\"\",\"subordinateTitle\":\"\",\"shortDisplayName\":\"\",\"mixinVideo\":{\"name\":\"笑料不断！原来ATP年终的迟到大王就是他\",\"description\":\"笑料不断！原来ATP年终的迟到大王就是他\",\"tvId\":9510848500,\"url\":\"http://www.iqiyi.com/v_19rvdr8yoo.html\",\"albumId\":246000901,\"duration\":120,\"imageUrl\":\"http://pic7.iqiyipic.com/image/20191118/18/3c/v_141292784_m_601_m1.jpg\",\"channelId\":17,\"subtitle\":\"ATP总决赛趣味采访\",\"vip\":{\"payMarkUrl\":\"\",\"payMark\":0,\"vipType\":[6],\"purchaseType\":0},\"userId\":0,\"period\":\"20191118\",\"exclusive\":0,\"qiyiProduced\":0,\"shortTitle\":\"ATP总决赛趣味采访\",\"recommendation\":\"\",\"contentType\":1,\"album\":{\"id\":246000901,\"name\":\"ATP精彩合集\",\"url\":\"http://www.iqiyi.com/a_19rrhzkaqx.html\",\"imageUrl\":\"http://pic6.iqiyipic.com/image/20190809/36/c3/a_100339785_m_601.jpg\",\"videoCount\":0,\"isSource\":1,\"exclusive\":0,\"qiyiProduced\":0,\"latestVideo\":{\"tvId\":9510848500,\"url\":\"http://www.iqiyi.com/v_19rvdr8yoo.html\",\"order\":1}}},\"kvs\":{}},{\"itemId\":9511847400,\"type\":1,\"name\":\"\",\"pageUrl\":\"\",\"imageUrl\":\"\",\"prompt\":\"\",\"subordinateTitle\":\"\",\"shortDisplayName\":\"\",\"mixinVideo\":{\"name\":\"一场比赛4个一杆进洞！玛雅科巴赛HIO满天飞\",\"description\":\"一场比赛4个一杆进洞！玛雅科巴赛HIO满天飞\",\"tvId\":9511847400,\"url\":\"http://www.iqiyi.com/v_19rvdqhxms.html\",\"albumId\":0,\"duration\":134,\"imageUrl\":\"http://pic5.iqiyipic.com/image/20191118/58/2e/v_141294175_m_601_m1.jpg\",\"channelId\":17,\"subtitle\":\"\",\"vip\":{\"payMarkUrl\":\"\",\"payMark\":0,\"vipType\":[6],\"purchaseType\":0},\"userId\":1623531056,\"period\":\"20191118\",\"exclusive\":0,\"qiyiProduced\":0,\"shortTitle\":\"玛雅科巴赛HIO满天飞\",\"recommendation\":\"\",\"contentType\":1,\"user\":{\"id\":1623531056,\"name\":\"爱奇艺体育高尔夫\"}},\"kvs\":{}},{\"itemId\":9512540400,\"type\":1,\"name\":\"\",\"pageUrl\":\"\",\"imageUrl\":\"\",\"prompt\":\"\",\"subordinateTitle\":\"\",\"shortDisplayName\":\"\",\"mixinVideo\":{\"name\":\"莱利银行挑战赛五佳球 维斯特伍德教科书式荷包蛋救球\",\"description\":\"莱利银行挑战赛五佳球 维斯特伍德教科书式荷包蛋救球\",\"tvId\":9512540400,\"url\":\"http://www.iqiyi.com/v_19rvdqwucc.html\",\"albumId\":246351801,\"duration\":89,\"imageUrl\":\"http://pic1.iqiyipic.com/image/20191118/f6/44/v_141294836_m_601_m2.jpg\",\"channelId\":17,\"subtitle\":\"莱利银行挑战赛五佳球\",\"vip\":{\"payMarkUrl\":\"\",\"payMark\":0,\"vipType\":[6],\"purchaseType\":0},\"userId\":0,\"period\":\"20191118\",\"exclusive\":0,\"qiyiProduced\":0,\"shortTitle\":\"莱利银行挑战赛五佳球\",\"recommendation\":\"\",\"contentType\":1,\"album\":{\"id\":246351801,\"name\":\"欧巡赛\",\"url\":\"http://www.iqiyi.com/a_19rrhzs5at.html\",\"imageUrl\":\"http://pic2.iqiyipic.com/image/20190820/6b/99/a_100343281_m_601.jpg\",\"videoCount\":0,\"isSource\":1,\"exclusive\":0,\"qiyiProduced\":0,\"latestVideo\":{\"tvId\":9512540400,\"url\":\"http://www.iqiyi.com/v_19rvdqwucc.html\",\"order\":1}}},\"kvs\":{}},{\"itemId\":9486695400,\"type\":1,\"name\":\"\",\"pageUrl\":\"\",\"imageUrl\":\"\",\"prompt\":\"\",\"subordinateTitle\":\"\",\"shortDisplayName\":\"\",\"mixinVideo\":{\"name\":\"传奇仍在继续！梅西10年10个经典进球\",\"description\":\"传奇仍在继续！梅西10年10个经典进球\",\"tvId\":9486695400,\"url\":\"http://www.iqiyi.com/v_19rvcrjblw.html\",\"albumId\":235816801,\"duration\":550,\"imageUrl\":\"http://pic0.iqiyipic.com/image/20191118/be/68/v_141249644_m_601_m2.jpg\",\"channelId\":17,\"subtitle\":\"梅西10年10个经典进球\",\"vip\":{\"payMarkUrl\":\"\",\"payMark\":0,\"vipType\":[6,0],\"purchaseType\":0},\"userId\":990468339,\"period\":\"20191118\",\"exclusive\":0,\"qiyiProduced\":0,\"shortTitle\":\"梅西10年10个经典进球\",\"recommendation\":\"\",\"contentType\":1,\"album\":{\"id\":235816801,\"name\":\"巴塞罗那\",\"url\":\"http://www.iqiyi.com/a_19rrhw2cjx.html\",\"imageUrl\":\"http://pic7.iqiyipic.com/image/20181227/99/cb/a_100237781_m_601.jpg\",\"videoCount\":0,\"isSource\":1,\"exclusive\":0,\"qiyiProduced\":0,\"latestVideo\":{\"tvId\":9508106000,\"url\":\"http://www.iqiyi.com/v_19rvdtcol8.html\",\"order\":1}},\"user\":{\"id\":990468339,\"name\":\"爱奇艺体育西甲\"}},\"kvs\":{}}],\"title\":{\"name\":\"体育\",\"icon\":\"sportsplay\",\"link\":\"//sports.iqiyi.com/\",\"moreText\":\"更多\",\"subNav\":[{\"name\":\"西甲\",\"pageUrl\":\"http://sports.iqiyi.com/sport/channel.html?categoryId=2174129&topicId=1676\",\"imageUrl\":\"\",\"kvs\":{\"width\":\"\"}},{\"name\":\"网球\",\"pageUrl\":\"http://sports.iqiyi.com/sport/channel.html?categoryId=2195772&topicId=1700\",\"imageUrl\":\"\",\"kvs\":{\"width\":\"\"}},{\"name\":\"高尔夫\",\"pageUrl\":\"http://sports.iqiyi.com/sport/channel.html?categoryId=2195776&topicId=1707\",\"imageUrl\":\"\",\"kvs\":{\"width\":\"\"}},{\"name\":\"搏击\",\"pageUrl\":\"http://sports.iqiyi.com/sport/channel.html?categoryId=2228991&topicId=31224\",\"imageUrl\":\"\",\"kvs\":{\"width\":\"\"}}]}}'\n",
      "\n",
      "     :source-data='{\"videos\":[{\"itemId\":9395245000,\"type\":1,\"name\":\"\",\"pageUrl\":\"\",\"imageUrl\":\"\",\"prompt\":\"\",\"subordinateTitle\":\"\",\"shortDisplayName\":\"\",\"mixinVideo\":{\"name\":\"央视名嘴PK最火考研老师，靠嘴吃饭，他们的第一次真的很“丢人”\",\"description\":\"\",\"tvId\":9395245000,\"url\":\"http://www.iqiyi.com/v_19rvc1wvj8.html\",\"albumId\":247478901,\"duration\":691,\"imageUrl\":\"http://pic7.iqiyipic.com/image/20191118/8e/25/v_141160104_m_601_m1.jpg\",\"channelId\":27,\"subtitle\":\"能进央视？张雪峰心动了\",\"vip\":{\"payMarkUrl\":\"\",\"payMark\":0,\"vipType\":[0],\"purchaseType\":0},\"userId\":1378713796,\"period\":\"20191115\",\"exclusive\":0,\"qiyiProduced\":0,\"shortTitle\":\"能进央视？张雪峰心动了\",\"recommendation\":\"张雪峰心动了\",\"contentType\":1,\"album\":{\"id\":247478901,\"name\":\"大开眼界\",\"url\":\"http://www.iqiyi.com/a_19rrhy0x09.html\",\"imageUrl\":\"http://pic9.iqiyipic.com/image/20190930/b1/fd/a_100354501_m_601.jpg\",\"videoCount\":0,\"isSource\":1,\"exclusive\":0,\"qiyiProduced\":0,\"latestVideo\":{\"tvId\":9395245000,\"url\":\"http://www.iqiyi.com/v_19rvc1wvj8.html\",\"order\":1}},\"user\":{\"id\":1378713796,\"name\":\"张雪峰老师\"}}},{\"itemId\":9482202500,\"type\":1,\"name\":\"\",\"pageUrl\":\"\",\"imageUrl\":\"\",\"prompt\":\"\",\"subordinateTitle\":\"\",\"shortDisplayName\":\"\",\"mixinVideo\":{\"name\":\"Z世代什么样？这个95后打破西方垄断，再次为祖国捧回世界冠军\",\"description\":\"\",\"tvId\":9482202500,\"url\":\"http://www.iqiyi.com/v_19rvcv6k88.html\",\"albumId\":0,\"duration\":313,\"imageUrl\":\"http://pic5.iqiyipic.com/image/20191118/8e/d3/v_141246572_m_601_m2.jpg\",\"channelId\":27,\"subtitle\":\"\",\"vip\":{\"payMarkUrl\":\"\",\"payMark\":0,\"vipType\":[0],\"purchaseType\":0},\"userId\":1493560500,\"period\":\"20191117\",\"exclusive\":0,\"qiyiProduced\":0,\"shortTitle\":\"水下机器人打破西方垄断\",\"recommendation\":\"95后为祖国捧回冠军\",\"contentType\":1,\"user\":{\"id\":1493560500,\"name\":\"新青年\"}}},{\"itemId\":9374611500,\"type\":1,\"name\":\"\",\"pageUrl\":\"\",\"imageUrl\":\"\",\"prompt\":\"\",\"subordinateTitle\":\"\",\"shortDisplayName\":\"\",\"mixinVideo\":{\"name\":\"张歆艺产后生活曝光：和谁在一起，真的不一样\",\"description\":\"闻名不如“见面”，今天和大家见面的是张歆艺，如果你也有想对她说的话，欢迎在评论区留言。\",\"tvId\":9374611500,\"url\":\"http://www.iqiyi.com/v_19rv74q8u8.html\",\"albumId\":246452401,\"duration\":418,\"imageUrl\":\"http://pic8.iqiyipic.com/image/20191116/e9/ce/v_141131848_m_601_m1.jpg\",\"channelId\":27,\"subtitle\":\"张歆艺谈产后生活\",\"vip\":{\"payMarkUrl\":\"\",\"payMark\":0,\"vipType\":[0],\"purchaseType\":0},\"userId\":1399889497,\"period\":\"20191115\",\"exclusive\":0,\"qiyiProduced\":0,\"shortTitle\":\"张歆艺谈产后生活\",\"recommendation\":\"闻名不如见面\",\"contentType\":1,\"album\":{\"id\":246452401,\"name\":\"见面\",\"url\":\"http://www.iqiyi.com/a_19rrhyo8nx.html\",\"imageUrl\":\"http://pic9.iqiyipic.com/image/20190823/c6/f2/a_100344287_m_601.jpg\",\"videoCount\":0,\"isSource\":1,\"exclusive\":0,\"qiyiProduced\":0,\"latestVideo\":{\"tvId\":9374611500,\"url\":\"http://www.iqiyi.com/v_19rv74q8u8.html\",\"order\":1}},\"user\":{\"id\":1399889497,\"name\":\"卡娃微卡官方视频\"}}},{\"itemId\":9335222300,\"type\":1,\"name\":\"\",\"pageUrl\":\"\",\"imageUrl\":\"\",\"prompt\":\"\",\"subordinateTitle\":\"\",\"shortDisplayName\":\"\",\"mixinVideo\":{\"name\":\"吴青峰回应网络暴力：攻击我可以，别攻击我家人朋友\",\"description\":\"谈心社，以戳心话题为传播核心的明星纪实访谈。有深度、有温度、有热度，带你走进明星的另一面人生。\",\"tvId\":9335222300,\"url\":\"http://www.iqiyi.com/v_19rv6euws0.html\",\"albumId\":245952001,\"duration\":686,\"imageUrl\":\"http://pic6.iqiyipic.com/image/20191115/71/b1/v_141074251_m_601_m1.jpg\",\"channelId\":27,\"subtitle\":\"吴青峰回忆过去的黑暗期\",\"vip\":{\"payMarkUrl\":\"\",\"payMark\":0,\"vipType\":[0],\"purchaseType\":0},\"userId\":1775849012,\"period\":\"20191114\",\"exclusive\":0,\"qiyiProduced\":0,\"shortTitle\":\"吴青峰回忆过去的黑暗期\",\"recommendation\":\"分享明星的多面人生\",\"contentType\":1,\"album\":{\"id\":245952001,\"name\":\"谈心社\",\"url\":\"http://www.iqiyi.com/a_19rrhzlch9.html\",\"imageUrl\":\"http://pic2.iqiyipic.com/image/20190809/b9/64/a_100339293_m_601_m1.jpg\",\"videoCount\":25,\"isSource\":1,\"exclusive\":0,\"qiyiProduced\":0,\"latestVideo\":{\"tvId\":9351424800,\"url\":\"http://www.iqiyi.com/v_19rv64fgb0.html\",\"order\":1}},\"user\":{\"id\":1775849012,\"name\":\"网易谈心社\"}}},{\"itemId\":9394096200,\"type\":1,\"name\":\"\",\"pageUrl\":\"\",\"imageUrl\":\"\",\"prompt\":\"\",\"subordinateTitle\":\"\",\"shortDisplayName\":\"\",\"mixinVideo\":{\"name\":\"这个星座越狂就越离不开你，一旦开始祝福你，那就是真的要分手了\",\"description\":\"白白说星座·直播节选\\n\\n《十二星座打算放弃一个人的预兆》系列\\n\\n大家再也不用担心来不及追白白的直播啦！以后都会把重点内容节选出来，方便大家观看，喜欢的话，就收藏了吧！\\n关注我们哟~\",\"tvId\":9394096200,\"url\":\"http://www.iqiyi.com/v_19rv6txxyc.html\",\"albumId\":248296901,\"duration\":233,\"imageUrl\":\"http://pic1.iqiyipic.com/image/20191116/49/1f/v_141158121_m_601_m1.jpg\",\"channelId\":27,\"subtitle\":\"狮子座打算分手的预兆！\",\"vip\":{\"payMarkUrl\":\"\",\"payMark\":0,\"vipType\":[0],\"purchaseType\":0},\"userId\":1652452776,\"period\":\"20191115\",\"exclusive\":0,\"qiyiProduced\":0,\"shortTitle\":\"狮子座打算分手的预兆！\",\"recommendation\":\"十二星座要分手的预兆\",\"contentType\":1,\"album\":{\"id\":248296901,\"name\":\"陶白白直播节选【系列2】十二星座打算放弃的预兆\",\"url\":\"http://www.iqiyi.com/a_19rrhyif1l.html\",\"imageUrl\":\"http://pic0.iqiyipic.com/image/20191106/63/b0/a_100362554_m_601.jpg\",\"videoCount\":12,\"isSource\":1,\"exclusive\":0,\"qiyiProduced\":0,\"latestVideo\":{\"tvId\":9471592200,\"url\":\"http://www.iqiyi.com/v_19rvdbagdg.html\",\"order\":1}},\"user\":{\"id\":1652452776,\"name\":\"陶白白Sensei\"}}},{\"itemId\":9346349200,\"type\":1,\"name\":\"\",\"pageUrl\":\"\",\"imageUrl\":\"\",\"prompt\":\"\",\"subordinateTitle\":\"\",\"shortDisplayName\":\"\",\"mixinVideo\":{\"name\":\"唐唐说电影：最脑残的女主角 爆笑吐槽悬疑片《怨灵2》\",\"description\":\"搞笑悬疑片三部曲《怨灵2》新鲜出炉，看看神编剧们又有哪些骚操作！\",\"tvId\":9346349200,\"url\":\"http://www.iqiyi.com/v_19rv67ng1o.html\",\"albumId\":206826801,\"duration\":546,\"imageUrl\":\"http://pic3.iqiyipic.com/image/20191115/c6/15/v_141090760_m_601_m1.jpg\",\"channelId\":27,\"subtitle\":\"唐唐说电影：最脑残女主\",\"vip\":{\"payMarkUrl\":\"\",\"payMark\":0,\"vipType\":[0],\"purchaseType\":0},\"userId\":1049903726,\"period\":\"20191114\",\"exclusive\":0,\"qiyiProduced\":0,\"shortTitle\":\"唐唐说电影：最脑残女主\",\"recommendation\":\"爆笑吐槽调侃热门电影\",\"contentType\":1,\"album\":{\"id\":206826801,\"name\":\"唐唐说电影\",\"url\":\"http://www.iqiyi.com/a_19rrh8h3z1.html\",\"imageUrl\":\"http://pic1.iqiyipic.com/image/20180812/e4/f5/a_100051264_m_601_m2.jpg\",\"videoCount\":0,\"isSource\":1,\"exclusive\":0,\"qiyiProduced\":0,\"latestVideo\":{\"tvId\":9346349200,\"url\":\"http://www.iqiyi.com/v_19rv67ng1o.html\",\"order\":1}},\"user\":{\"id\":1049903726,\"name\":\"Big笑工坊\"}}},{\"itemId\":9314765900,\"type\":1,\"name\":\"\",\"pageUrl\":\"\",\"imageUrl\":\"\",\"prompt\":\"\",\"subordinateTitle\":\"\",\"shortDisplayName\":\"\",\"mixinVideo\":{\"name\":\"诶？捡到一个小姜丝 采访篇\",\"description\":\"小姜丝接受采访啦，一起来看看具体情况吧~\\n\\n形象：小姜丝\\n作者：虽虽酱\\n出品：十二栋文化\\n漫画：《诶？捡到一个小姜丝》\\n漫画书：《哇呜！你可以带走我吗》\",\"tvId\":9314765900,\"url\":\"http://www.iqiyi.com/v_19rv5mgf8g.html\",\"albumId\":229074501,\"duration\":72,\"imageUrl\":\"http://pic9.iqiyipic.com/image/20191114/b6/40/v_141046635_m_601_m1.jpg\",\"channelId\":27,\"subtitle\":\"捡到一个小姜丝采访篇\",\"vip\":{\"payMarkUrl\":\"\",\"payMark\":0,\"vipType\":[0],\"purchaseType\":0},\"userId\":1610253043,\"period\":\"20191113\",\"exclusive\":0,\"qiyiProduced\":0,\"shortTitle\":\"捡到一个小姜丝采访篇\",\"recommendation\":\"姜丝可乐的生活日常\",\"contentType\":1,\"album\":{\"id\":229074501,\"name\":\"诶？捡到一个小僵尸\",\"url\":\"http://www.iqiyi.com/a_19rrh5hlpl.html\",\"imageUrl\":\"http://pic4.iqiyipic.com/image/20180815/9a/74/a_100175433_m_601.jpg\",\"videoCount\":0,\"isSource\":1,\"exclusive\":0,\"qiyiProduced\":0,\"latestVideo\":{\"tvId\":9314765900,\"url\":\"http://www.iqiyi.com/v_19rv5mgf8g.html\",\"order\":1}},\"user\":{\"id\":1610253043,\"name\":\"虽虽酱官方号\"}}},{\"itemId\":9364983400,\"type\":1,\"name\":\"\",\"pageUrl\":\"\",\"imageUrl\":\"\",\"prompt\":\"\",\"subordinateTitle\":\"\",\"shortDisplayName\":\"\",\"mixinVideo\":{\"name\":\"降低“最低刑责年龄”对减少未成年人犯罪真的有用吗？\",\"description\":\"13岁男孩杀害10岁女孩抛尸无罪，女孩眼睛被男生塞进几十张纸片“没有恶意”……这些话题引起巨大舆论哗然。为啥有时他们“下手”比成年人还可（bian）怕（tai），怎样的处罚才能真正起到震慑作用？各国法律是怎么规定的？针对部分家长和孩子钻未成年人犯罪处罚轻或不入刑的空子，我国两部未成年人法律大修该如何修改，说说你的建议！\",\"tvId\":9364983400,\"url\":\"http://www.iqiyi.com/v_19rv70b7yc.html\",\"albumId\":235098201,\"duration\":219,\"imageUrl\":\"http://pic0.iqiyipic.com/image/20191116/29/d4/v_141116591_m_601_m1.jpg\",\"channelId\":27,\"subtitle\":\"谈一谈“最低刑责年龄”\",\"vip\":{\"payMarkUrl\":\"\",\"payMark\":0,\"vipType\":[0],\"purchaseType\":0},\"userId\":1452237062,\"period\":\"20191115\",\"exclusive\":0,\"qiyiProduced\":0,\"shortTitle\":\"谈一谈“最低刑责年龄”\",\"recommendation\":\"有趣、易懂的短视频。\",\"contentType\":1,\"album\":{\"id\":235098201,\"name\":\"比划\",\"url\":\"http://www.iqiyi.com/a_19rrhvk7qt.html\",\"imageUrl\":\"http://pic2.iqiyipic.com/image/20181213/e6/e2/a_100230600_m_601.jpg\",\"videoCount\":0,\"isSource\":1,\"exclusive\":0,\"qiyiProduced\":0,\"latestVideo\":{\"tvId\":9364983400,\"url\":\"http://www.iqiyi.com/v_19rv70b7yc.html\",\"order\":1}},\"user\":{\"id\":1452237062,\"name\":\"小央视频\"}}},{\"itemId\":9240367100,\"type\":1,\"name\":\"\",\"pageUrl\":\"\",\"imageUrl\":\"\",\"prompt\":\"\",\"subordinateTitle\":\"\",\"shortDisplayName\":\"\",\"mixinVideo\":{\"name\":\"2019励志短片：愿你生而倔强，永不言弃！\",\"description\":\"做有态度的视频，这个世界我想和你谈谈。\",\"tvId\":9240367100,\"url\":\"http://www.iqiyi.com/v_19rv9cosy8.html\",\"albumId\":235862401,\"duration\":203,\"imageUrl\":\"http://pic2.iqiyipic.com/image/20191113/b4/7e/v_140899589_m_601_m1.jpg\",\"channelId\":27,\"subtitle\":\"愿你生而倔强，永不言弃\",\"vip\":{\"payMarkUrl\":\"\",\"payMark\":0,\"vipType\":[0],\"purchaseType\":0},\"userId\":1224944155,\"period\":\"20191110\",\"exclusive\":0,\"qiyiProduced\":0,\"shortTitle\":\"愿你生而倔强，永不言弃\",\"recommendation\":\"这个世界我想和你谈谈\",\"contentType\":1,\"album\":{\"id\":235862401,\"name\":\"这个世界我想和你谈谈\",\"url\":\"http://www.iqiyi.com/a_19rrhw31m5.html\",\"imageUrl\":\"http://pic2.iqiyipic.com/image/20181228/32/45/a_100238237_m_601.jpg\",\"videoCount\":0,\"isSource\":1,\"exclusive\":0,\"qiyiProduced\":0,\"latestVideo\":{\"tvId\":9240367100,\"url\":\"http://www.iqiyi.com/v_19rv9cosy8.html\",\"order\":1}},\"user\":{\"id\":1224944155,\"name\":\"人类实验室\"}}}],\"title\":{\"name\":\"原创\",\"icon\":\"originshow\",\"link\":\"//dv.iqiyi.com/\",\"moreText\":\"更多\",\"subNav\":[{\"name\":\"爱奇艺号认证与合作申请\",\"pageUrl\":\"http://www.iqiyi.com/common/rz.html\",\"imageUrl\":\"\",\"kvs\":{\"width\":\"\"}},{\"name\":\"Caster七舞士集体亮相\",\"pageUrl\":\"http://www.iqiyi.com/v_19rrbegscs.html\",\"imageUrl\":\"\",\"kvs\":{\"width\":\"\"}}]}}'\n",
      "\n",
      "    :source-data='{\"videos\":[{\"itemId\":247816901,\"type\":0,\"name\":\"丹程·朱丹异境之旅\",\"pageUrl\":\"\",\"imageUrl\":\"http://pic0.iqiyipic.com/common/lego/20191112/eaa250db72b745acbc559a072d89a6ba.jpg\",\"prompt\":\"生理期挑战残酷泰拳被虐哭\",\"subordinateTitle\":\"\",\"shortDisplayName\":\"丹程·朱丹异境之旅\",\"album\":{\"id\":247816901,\"name\":\"丹程\",\"url\":\"http://www.iqiyi.com/a_19rrhy4nft.html\",\"imageUrl\":\"http://pic6.iqiyipic.com/image/20191112/c2/32/a_100357864_m_601_m8.jpg\",\"channelId\":3,\"description\":\"以女性视角切入的纪实旅行微纪录片，以朱丹的旅程为线索，通过对当地多位人物的深度访谈和生活体验，呈现差异文化下平凡卓越的人生故事，与观众一起从全新的角度探讨生命的意义。\",\"videoCount\":0,\"vip\":{\"payMarkUrl\":\"http://pic0.iqiyipic.com/common/20171106/ac/1b/vip_100000_v_601.png\",\"payMark\":1,\"vipType\":[0],\"purchaseType\":2},\"updateStrategy\":\"每周二12:00更新1集 会员抢先看24小时\",\"isSource\":1,\"shortTitle\":\"丹程\",\"exclusive\":1,\"mode1080p\":1,\"qiyiProduced\":0,\"recommendation\":\"朱丹探秘异域文化\",\"score\":0.0,\"latestTvId\":8922966200,\"period\":\"20191112\",\"firstVideo\":{\"url\":\"http://www.iqiyi.com/v_19rvl9pas4.html\"},\"latestVideo\":{\"order\":1,\"url\":\"http://www.iqiyi.com/v_19rvl9pas4.html\",\"name\":\"丹程之朱丹挑战泰拳崩溃落泪 走进泰国女拳手的真实生活\",\"imageUrl\":\"http://pic2.iqiyipic.com/image/20191112/37/62/v_140216931_m_601_m11.jpg\",\"shortTitle\":\"朱丹挑战泰拳崩溃落泪\"}},\"kvs\":{\"defImg_webp\":\"http://pic0.iqiyipic.com/common/lego/20191112/eaa250db72b745acbc559a072d89a6ba.webp\"}},{\"itemId\":248278301,\"type\":0,\"name\":\"原声中国·边境部落\",\"pageUrl\":\"\",\"imageUrl\":\"\",\"prompt\":\"迁徙数次把摇篮安在马背上\",\"subordinateTitle\":\"\",\"shortDisplayName\":\"原声中国·边境部落\",\"album\":{\"id\":248278301,\"name\":\"原声中国\",\"url\":\"http://www.iqiyi.com/a_19rrhyhbht.html\",\"imageUrl\":\"http://pic8.iqiyipic.com/image/20191113/2b/34/a_100362367_m_601_m3.jpg\",\"channelId\":3,\"description\":\"这将是一次中国全境内的民歌采摘。\\n我们纪录的是民歌里的“淳浆原酿”，拨开层层包装把鲜活的生命唱给你听。在天地间，在山川旁，在土炕上，用歌喉袒露心扉；用歌者的故事讲述命运；用旋律见证历史的变迁；用最纯真的乡音拉着你放下脚步，回转生活的起点。\\n整个纪录片分：根源、繁衍、求偶、婚姻、劳作、出生、死亡整个生死轮回的过程，一共12集，来承载和谕示生命的循环。也同时暗含了从浑沌化一、一生二、二生三、三生万物的中华民族关于人类起源、繁衍的古老哲学思考。我们的民歌可以从开天辟地唱到婚丧嫁娶，至生老病死。就这样生生不息，带着“你、我、他”基因的拷贝歌唱下去。\",\"videoCount\":12,\"vip\":{\"payMarkUrl\":\"http://pic0.iqiyipic.com/common/20171106/ac/1b/vip_100000_v_601.png\",\"payMark\":1,\"vipType\":[0],\"purchaseType\":2},\"updateStrategy\":\"每周一、四12:00 更新一集\",\"isSource\":0,\"shortTitle\":\"原声中国\",\"exclusive\":1,\"mode1080p\":1,\"qiyiProduced\":1,\"recommendation\":\"中国民族歌声讲述命运\",\"score\":0.0,\"latestTvId\":9373448800,\"period\":\"20191111\",\"firstVideo\":{\"url\":\"http://www.iqiyi.com/v_19rv7xjb9k.html\"},\"latestVideo\":{\"order\":3,\"url\":\"http://www.iqiyi.com/v_19rv759jpo.html\",\"name\":\"原声中国 第3集 生生不息的歌谣\",\"imageUrl\":\"http://pic1.iqiyipic.com/image/20191118/74/5f/v_141130121_m_601.jpg\",\"shortTitle\":\"第3集 生生不息的歌谣\"}},\"kvs\":{}},{\"itemId\":247590001,\"type\":0,\"name\":\"中国宴·中西婚宴比拼\",\"pageUrl\":\"\",\"imageUrl\":\"http://pic3.iqiyipic.com/common/lego/20191112/6591e858f20d401da091992d39d17a28.jpg\",\"prompt\":\"北漂小夫妻上演“裸婚”时代\",\"subordinateTitle\":\"\",\"shortDisplayName\":\"中国宴·中西婚宴比拼\",\"album\":{\"id\":247590001,\"name\":\"中国宴\",\"url\":\"http://www.iqiyi.com/a_19rrhxzrj1.html\",\"imageUrl\":\"http://pic4.iqiyipic.com/image/20191014/d8/0b/a_100355596_m_601_m3.jpg\",\"channelId\":3,\"description\":\"“五千年，饮宴文化一览无余；十万里，世故人情尽在其中”，中华宴席文化源远流长，宴席的分类就有千百余种，不同地域，不同民族，在不同的活动仪式和规定日子里举行聚餐，以庆祝自然的更新和人的更新。作为首部以宴席文化为主题的纪录片，聚焦全国各色宴席，记录中国人情故事，挖掘宴席背后的礼仪、社交、风俗、情感等多维度的文化传承。一宴一聚，余味一生！\",\"videoCount\":8,\"vip\":{\"payMarkUrl\":\"http://pic0.iqiyipic.com/common/20171106/ac/1b/vip_100000_v_601.png\",\"payMark\":1,\"vipType\":[0],\"purchaseType\":2},\"updateStrategy\":\"每周三10:00更新 会员抢先1天看\",\"isSource\":0,\"shortTitle\":\"中国宴\",\"exclusive\":0,\"mode1080p\":1,\"qiyiProduced\":1,\"recommendation\":\"一宴一聚 余味一生\",\"score\":7.5,\"latestTvId\":9255059000,\"period\":\"20191015\",\"firstVideo\":{\"url\":\"http://www.iqiyi.com/v_19rtt4wax8.html\"},\"latestVideo\":{\"order\":5,\"url\":\"http://www.iqiyi.com/v_19rv93y2qc.html\",\"name\":\"中国宴 第5集 囍：中西婚宴大比拼\",\"imageUrl\":\"http://pic5.iqiyipic.com/image/20191111/1c/63/v_140931635_m_601.jpg\",\"shortTitle\":\"第5集 囍：中西婚宴大比拼\"},\"user\":{\"id\":1062088111,\"name\":\"爱奇艺纪录片\"}},\"kvs\":{\"defImg_webp\":\"http://pic3.iqiyipic.com/common/lego/20191112/6591e858f20d401da091992d39d17a28.webp\"}},{\"itemId\":247440601,\"type\":0,\"name\":\"我和我的祖国·完结\",\"pageUrl\":\"\",\"imageUrl\":\"http://pic1.iqiyipic.com/common/lego/20191113/cb4c52091aa34a6b85489b24cab65424.jpg\",\"prompt\":\"宋佳首演帅气女飞行员\",\"subordinateTitle\":\"\",\"shortDisplayName\":\"我和我的祖国·完结\",\"album\":{\"id\":247440601,\"name\":\"我和我的祖国 电影幕后纪实\",\"url\":\"http://www.iqiyi.com/a_19rrhz67qt.html\",\"imageUrl\":\"http://pic9.iqiyipic.com/image/20190929/11/12/a_100354143_m_601.jpg\",\"channelId\":3,\"description\":\"《我和我的祖国》电影幕后纪实节目，全面纪录电影《我和我的祖国》幕后拍摄故事，真实呈现为了给新中国成立70周年献上光影厚礼，7位优秀的中国电影导演与拍摄团队，及数位优秀的演员们，背后的巨大努力与付出。这不仅仅只是一次电影行业前所未有的深度揭秘，更是一次中国电影人与观众跨屏幕的情感共振。\",\"videoCount\":7,\"vip\":{\"payMarkUrl\":\"\",\"payMark\":0,\"vipType\":[0],\"purchaseType\":0},\"updateStrategy\":\"10月2日起 每周三12：00更新一集\",\"isSource\":0,\"shortTitle\":\"我和我的祖国 电影幕后纪实\",\"exclusive\":0,\"mode1080p\":1,\"qiyiProduced\":0,\"recommendation\":\"中国电影梦之队献礼\",\"score\":7.3,\"latestTvId\":9250174600,\"period\":\"20190929\",\"firstVideo\":{\"url\":\"http://www.iqiyi.com/v_19rtqkoei4.html\"},\"latestVideo\":{\"order\":7,\"url\":\"http://www.iqiyi.com/v_19rv8xajfo.html\",\"name\":\"我和我的祖国 第7集 护航：宋佳首演帅气女飞行员\",\"imageUrl\":\"http://pic8.iqiyipic.com/image/20191113/dc/24/v_140921680_m_601_m1.jpg\",\"shortTitle\":\"第7集 护航：宋佳首演帅气女飞\"}},\"kvs\":{\"defImg_webp\":\"http://pic1.iqiyipic.com/common/lego/20191113/cb4c52091aa34a6b85489b24cab65424.webp\"}},{\"itemId\":248509901,\"type\":0,\"name\":\"世界上最大的生日庆典\",\"pageUrl\":\"\",\"imageUrl\":\"\",\"prompt\":\"回顾国家建设发展历程\",\"subordinateTitle\":\"\",\"shortDisplayName\":\"世界上最大的生日庆典\",\"album\":{\"id\":248509901,\"name\":\"世界上最大的生日庆典\",\"url\":\"http://www.iqiyi.com/a_19rrhyjgyp.html\",\"imageUrl\":\"http://pic8.iqiyipic.com/image/20191113/0f/32/a_100364675_m_601.jpg\",\"channelId\":3,\"description\":\"为庆祝新中国成立70周年，展现新时代大国形象，在中宣部对外推广局的指导支持下，五洲传播中心携手长期合作伙伴——美国国家地理频道和英国子午线影视公司联合制作了纪录片《世界上最大的生日庆典》（World’s Biggest Birthday Party）。\\n70年的砥砺前行谱写成新中国一首首华彩乐章，在这个激动人心的时刻、在这片令人自豪的土地上，每一个中国人、每一个中华儿女都在用各自的方式庆祝这场世界上最大的生日庆典，正如涓涓溪流汇入江海，繁星闪耀璀璨穹宇。\\n 新中国成立70周年的庆祝活动，人数之多、规模之大、范围之广，都是世界之最。从工人、农民、军人、知识分子到艺术家，从牙牙学语的“十一宝宝”到共和国同龄人，大江南北、全国各地，我们用影像汇成一首赞美诗，一部同心共筑中国梦的故事。通过鲜活的人物故事，深度挖掘背后内涵，回顾国家建设发展历程，将个人幸福融入国家命运，谨以此片礼赞新中国成立70周年！\",\"videoCount\":1,\"vip\":{\"payMarkUrl\":\"\",\"payMark\":0,\"vipType\":[0],\"purchaseType\":0},\"updateStrategy\":\"\",\"isSource\":0,\"shortTitle\":\"世界上最大的生日庆典\",\"exclusive\":0,\"mode1080p\":1,\"qiyiProduced\":0,\"recommendation\":\"回顾国家建设发展历程\",\"score\":0.0,\"latestTvId\":9277076200,\"period\":\"20191113\",\"firstVideo\":{\"url\":\"http://www.iqiyi.com/v_19rv5eyykk.html\"},\"latestVideo\":{\"order\":1,\"url\":\"http://www.iqiyi.com/v_19rv5eyykk.html\",\"name\":\"世界上最大的生日庆典\",\"imageUrl\":\"http://pic8.iqiyipic.com/image/20191113/29/0f/v_140974950_m_601.jpg\",\"shortTitle\":\"世界上最大的生日庆典\"}},\"kvs\":{}},{\"itemId\":245859601,\"type\":0,\"name\":\"\",\"pageUrl\":\"\",\"imageUrl\":\"\",\"prompt\":\"4K呈现奇妙植物世界\",\"subordinateTitle\":\"\",\"shortDisplayName\":\"\",\"album\":{\"id\":245859601,\"name\":\"影响世界的中国植物\",\"url\":\"http://www.iqiyi.com/a_19rrhzhmd9.html\",\"imageUrl\":\"http://pic2.iqiyipic.com/image/20190913/3a/f2/a_100338371_m_601_m3.jpg\",\"channelId\":3,\"description\":\"中国已知的植物有三万五千种，占世界植物的十分之一，这里是植物的天堂、文明的摇篮。衣食住行、美的历程，传播万里、绵延不绝。从雅鲁藏布江峡谷的原始森林到中国茶树最古老的源头，再到非洲中部高原地区的青蒿素，该纪录片用震撼而温暖的镜头语言，呈现了21科28种植物的生命旅程，并讲述它们如何影响世界的故事。\",\"videoCount\":10,\"vip\":{\"payMarkUrl\":\"http://pic0.iqiyipic.com/common/20171106/ac/1b/vip_100000_v_601.png\",\"payMark\":1,\"vipType\":[0],\"purchaseType\":2},\"updateStrategy\":\"9月13日晚20:00上线 每集限免24小时\",\"isSource\":0,\"shortTitle\":\"影响世界的中国植物\",\"exclusive\":0,\"mode1080p\":1,\"qiyiProduced\":0,\"recommendation\":\"4K呈现奇妙植物世界\",\"score\":7.7,\"latestTvId\":7032501000,\"period\":\"20190913\",\"firstVideo\":{\"url\":\"http://www.iqiyi.com/v_19ru7z8gvg.html\"},\"latestVideo\":{\"order\":10,\"url\":\"http://www.iqiyi.com/v_19ru8cm63o.html\",\"name\":\"影响世界的中国植物 第10集 花卉\",\"imageUrl\":\"http://pic4.iqiyipic.com/image/20191021/55/70/v_137911418_m_601_m4.jpg\",\"shortTitle\":\"就是要你眼“花”缭乱\"},\"user\":{\"id\":1626529230,\"name\":\"影响世界的中国植物\"}},\"kvs\":{}},{\"itemId\":9355629700,\"type\":1,\"name\":\"李思恒仍想过回去工作\",\"pageUrl\":\"\",\"imageUrl\":\"http://pic3.iqiyipic.com/common/lego/20191115/954e801a09004937aabeb5c41e764357.jpg\",\"prompt\":\"李思恒谈支教让他变成学霸\",\"subordinateTitle\":\"\",\"shortDisplayName\":\"李思恒仍想过回去工作\",\"mixinVideo\":{\"name\":\"李思恒：奇葩说并没有让我找到人生目标\",\"description\":\"爱奇艺纪录片频道联合莫比斯工作室出品，直面对真实的自己，倾听内心的声音，TA说\",\"tvId\":9355629700,\"url\":\"http://www.iqiyi.com/v_19rv6byf3c.html\",\"albumId\":200118301,\"duration\":304,\"imageUrl\":\"http://pic9.iqiyipic.com/image/20191115/6c/5d/v_141107903_m_601_m1.jpg\",\"channelId\":3,\"subtitle\":\"李思恒仍想过回去找工作\",\"vip\":{\"payMarkUrl\":\"\",\"payMark\":0,\"vipType\":[0],\"purchaseType\":0},\"userId\":1234926325,\"period\":\"20191115\",\"exclusive\":1,\"qiyiProduced\":1,\"shortTitle\":\"李思恒仍想过回去找工作\",\"recommendation\":\"名人微纪录片节目\",\"contentType\":1,\"album\":{\"id\":200118301,\"name\":\"TA说\",\"url\":\"http://www.iqiyi.com/a_19rrgjaanl.html\",\"imageUrl\":\"http://pic6.iqiyipic.com/image/20190614/f1/a6/a_100001307_m_601_m7.jpg\",\"videoCount\":0,\"isSource\":1,\"exclusive\":1,\"qiyiProduced\":1,\"latestVideo\":{\"tvId\":9355629700,\"url\":\"http://www.iqiyi.com/v_19rv6byf3c.html\",\"order\":1}},\"user\":{\"id\":1234926325,\"name\":\"爱奇艺TA说\"}},\"kvs\":{\"defImg_webp\":\"http://pic3.iqiyipic.com/common/lego/20191115/954e801a09004937aabeb5c41e764357.webp\"}},{\"itemId\":248183001,\"type\":0,\"name\":\"重走坦赞铁路\",\"pageUrl\":\"\",\"imageUrl\":\"\",\"prompt\":\"中非第一铁路前世今生\",\"subordinateTitle\":\"\",\"shortDisplayName\":\"重走坦赞铁路\",\"album\":{\"id\":248183001,\"name\":\"重走坦赞铁路\",\"url\":\"http://www.iqiyi.com/a_19rrhyfbud.html\",\"imageUrl\":\"http://pic9.iqiyipic.com/image/20191101/b9/95/a_100361466_m_601.jpg\",\"channelId\":3,\"description\":\"坦赞铁路，坦赞铁路，1970年代由中国、坦桑尼亚和赞比亚三国合作修建，它由东往西，贯穿坦、赞两国，全长1860.5公里，是一条非洲自由之路。时过40余年，坦赞铁路现状如何？我们和对铁路有浓厚兴趣的丹麦学者尼尔斯一起出发，穿越坦赞铁路，研究沿线的经济社会变迁，发掘不为人知的历史和现实\",\"videoCount\":3,\"vip\":{\"payMarkUrl\":\"http://pic0.iqiyipic.com/common/20171106/ac/1b/vip_100000_v_601.png\",\"payMark\":1,\"vipType\":[0],\"purchaseType\":2},\"updateStrategy\":\"\",\"isSource\":0,\"shortTitle\":\"重走坦赞铁路\",\"exclusive\":1,\"mode1080p\":0,\"qiyiProduced\":0,\"recommendation\":\"中非第一铁路前世今生\",\"score\":0.0,\"latestTvId\":9251180300,\"period\":\"20191115\",\"firstVideo\":{\"url\":\"http://www.iqiyi.com/v_19rv8wkodc.html\"},\"latestVideo\":{\"order\":1,\"url\":\"http://www.iqiyi.com/v_19rv8wkodc.html\",\"name\":\"重走坦赞铁路 第1集 友谊之路\",\"imageUrl\":\"http://pic8.iqiyipic.com/image/20191115/6b/32/v_140923624_m_601_m2.jpg\",\"shortTitle\":\" 5万中国人远赴非洲修路\"},\"user\":{\"id\":2439457699,\"name\":\"小寰01\"}},\"kvs\":{}}],\"title\":{\"name\":\"纪录片\",\"icon\":\"recordshow\",\"link\":\"//www.iqiyi.com/jilupian\",\"moreText\":\"更多\",\"subNav\":[{\"name\":\"舌尖上的中国第3季\",\"pageUrl\":\"http://www.iqiyi.com/v_19rrbpg6rs.html\",\"imageUrl\":\"\",\"kvs\":{\"width\":\"\"}},{\"name\":\"生门·纪实剧\",\"pageUrl\":\"http://www.iqiyi.com/v_19rrf0og8s.html\",\"imageUrl\":\"\",\"kvs\":{\"width\":\"\"}},{\"name\":\"人间世\",\"pageUrl\":\"http://www.iqiyi.com/v_19rrm476o8.html\",\"imageUrl\":\"\",\"kvs\":{\"width\":\"\"}}]}}'\n",
      "\n",
      "    :source-data='{\"videos\":[{\"itemId\":247404501,\"type\":0,\"name\":\"\",\"pageUrl\":\"\",\"imageUrl\":\"\",\"prompt\":\"\",\"subordinateTitle\":\"\",\"shortDisplayName\":\"\",\"album\":{\"id\":247404501,\"name\":\"《明朝那些事儿》爆笑历史剧\",\"url\":\"http://www.iqiyi.com/a_19rrhz5rcp.html\",\"imageUrl\":\"http://pic1.iqiyipic.com/image/20191112/38/27/a_100353782_m_601_m3.jpg\",\"channelId\":12,\"description\":\"课程亮点：\\n\\n最火辣的王朝，最凶残的宫斗，最个性化的皇帝，尽在大明王朝！\\n最逗逼的播讲，最生动的演绎，卖萌耍宝贱兮兮，带你梦回明朝！\\n跟着朱元璋学创业：14世纪穷小子朱八八的创业之路\\n建文帝的失败启示录：替娃攒家产易，教娃守江山难\\n嘉靖帝的权力纵横术：看空降领导收拾前任旧势力\\n文艺青年明武宗：一生放荡不羁爱自由\\n当领导也是一项憋屈活：明朝皇帝不是被文人气，就是被太监欺 \\n……\\n\\n作品推荐：\\n\\n全网最受欢迎讲书团队路上读书，携手复旦大学历史系博士、哈佛大学访问学者关丁，以第一历史畅销书《明朝那些事儿》为基础，历时一年，精心策划、反复打磨。\\n1.讲述了明朝历代帝王将相、名流权贵和其他许许多多人物的故事。\\n2.着力于官场政治、战争和帝王心术的演绎。\\n3.对当时的政治经济制度、人伦道德进行了一番番刺探。\\n4.为我们展示了大明王朝的历史全貌。\\n\\n出品团队\\n\\n路上读书：最具人气的专业音频书内容制作商，精读全球最新好书。\\n策划人：复旦大学历史系博士、哈佛大学访问学者关丁\\n播讲：百变声优良辰周\\n\",\"videoCount\":31,\"vip\":{\"payMarkUrl\":\"http://pic2.iqiyipic.com/common/20171106/bc/1b/vip_100002_v_601.png\",\"payMark\":2,\"vipType\":[0],\"purchaseType\":6},\"updateStrategy\":\"\",\"isSource\":0,\"shortTitle\":\"《明朝那些事儿》历史剧\",\"exclusive\":0,\"mode1080p\":0,\"qiyiProduced\":0,\"recommendation\":\"最好听的有趣明朝史\",\"score\":7.4,\"latestTvId\":8326449300,\"period\":\"20190927\",\"firstVideo\":{\"url\":\"http://www.iqiyi.com/v_19ru56asl8.html\"},\"latestVideo\":{\"order\":31,\"url\":\"http://www.iqiyi.com/v_19rtupybjs.html\",\"name\":\"崇祯帝吊死煤山，大明王朝终于落幕\",\"imageUrl\":\"http://pic6.iqiyipic.com/image/20191028/f4/d5/v_139128542_m_601_m2.jpg\",\"shortTitle\":\"崇祯煤山死，王朝甲申灭\"},\"user\":{\"id\":1646881548,\"name\":\"路上读书APP\"}},\"kvs\":{}},{\"itemId\":247360001,\"type\":0,\"name\":\"\",\"pageUrl\":\"\",\"imageUrl\":\"\",\"prompt\":\"大量史料还原真实史实\",\"subordinateTitle\":\"\",\"shortDisplayName\":\"\",\"album\":{\"id\":247360001,\"name\":\"《攀登者》鲜为人知的国家使命\",\"url\":\"http://www.iqiyi.com/a_19rrhz6mb1.html\",\"imageUrl\":\"http://pic4.iqiyipic.com/image/20191112/a5/bf/a_100353336_m_601_m5.jpg\",\"channelId\":12,\"description\":\"1、真实还原历史事件，大量真实史料剪辑\\n2、《攀登者》电影幕后鲜为人知的背景故事娓娓道来\",\"videoCount\":7,\"vip\":{\"payMarkUrl\":\"http://pic2.iqiyipic.com/common/20171106/bc/1b/vip_100002_v_601.png\",\"payMark\":2,\"vipType\":[0],\"purchaseType\":1},\"updateStrategy\":\"\",\"isSource\":0,\"shortTitle\":\"《攀登者》背后的国家使命\",\"exclusive\":0,\"mode1080p\":1,\"qiyiProduced\":0,\"recommendation\":\"《攀登者》真实背景\",\"score\":7.0,\"latestTvId\":8041032800,\"period\":\"20190926\",\"firstVideo\":{\"url\":\"http://www.iqiyi.com/v_19ru4syv8o.html\"},\"latestVideo\":{\"order\":7,\"url\":\"http://www.iqiyi.com/v_19ru2rjvv0.html\",\"name\":\"7、凌晨登顶——创造奇迹，成功登顶\",\"imageUrl\":\"http://pic3.iqiyipic.com/image/20190930/ad/61/v_138861812_m_601.jpg\",\"shortTitle\":\"凌晨登顶\"},\"user\":{\"id\":1062768496,\"name\":\"三更识舍\"}},\"kvs\":{}},{\"itemId\":247574401,\"type\":0,\"name\":\"九种风水秘术全面提升你的财富运势\",\"pageUrl\":\"\",\"imageUrl\":\"\",\"prompt\":\"\",\"subordinateTitle\":\"\",\"shortDisplayName\":\"九种风水秘术全面提升你的财富运势\",\"album\":{\"id\":247574401,\"name\":\"九种风水秘术全面提升你的财富运势\",\"url\":\"http://www.iqiyi.com/a_19rrhy03ql.html\",\"imageUrl\":\"http://pic4.iqiyipic.com/image/20191009/38/8e/a_100355440_m_601_m1.jpg\",\"channelId\":12,\"description\":\"想发财？先学会不破财！！！\\n个人、家庭、公司，三大实用场景，九种风水秘术，全面提升你的财运，轻轻松松价值百万。\",\"videoCount\":13,\"vip\":{\"payMarkUrl\":\"http://pic2.iqiyipic.com/common/20171106/bc/1b/vip_100002_v_601.png\",\"payMark\":2,\"vipType\":[0],\"purchaseType\":1},\"updateStrategy\":\"\",\"isSource\":0,\"shortTitle\":\"精选九种秘术提升你的财运\",\"exclusive\":0,\"mode1080p\":1,\"qiyiProduced\":0,\"recommendation\":\"精选风水秘术提升财运\",\"score\":7.3,\"latestTvId\":8334129200,\"period\":\"20191008\",\"firstVideo\":{\"url\":\"http://www.iqiyi.com/v_19rtuvett0.html\"},\"latestVideo\":{\"order\":13,\"url\":\"http://www.iqiyi.com/v_19rtuulduk.html\",\"name\":\"【福利】大师教你找到2019的财位和2020年的财位！\",\"imageUrl\":\"http://pic6.iqiyipic.com/image/20191009/66/0c/v_139137140_m_601.jpg\",\"shortTitle\":\"教你找到今明两年财位\"},\"user\":{\"id\":1452701910,\"name\":\"北锣25号院\"}},\"kvs\":{}},{\"itemId\":247299501,\"type\":0,\"name\":\"滕爱民艺考舞蹈：爵士舞、音乐剧舞\",\"pageUrl\":\"\",\"imageUrl\":\"\",\"prompt\":\"\",\"subordinateTitle\":\"\",\"shortDisplayName\":\"滕爱民艺考舞蹈\",\"album\":{\"id\":247299501,\"name\":\"滕爱民艺考舞蹈：爵士舞、音乐剧舞、形体考试科目\",\"url\":\"http://www.iqiyi.com/a_19rrhz2h8h.html\",\"imageUrl\":\"http://pic2.iqiyipic.com/image/20190928/2c/cd/a_100352737_m_601_m12.jpg\",\"channelId\":12,\"description\":\"艺考年年有，考生年年愁，今年艺考不用愁，《滕爱民艺考舞蹈剧目课堂》线上课专为考生编创艺考舞蹈，6支为专业舞蹈生以及影视表演、播音主持、编导、音乐剧、戏剧教育、声乐表演等专业原创的90—150秒艺考舞蹈，为艺考生提供优质的剧目学习。\",\"videoCount\":7,\"vip\":{\"payMarkUrl\":\"http://pic2.iqiyipic.com/common/20171106/bc/1b/vip_100002_v_601.png\",\"payMark\":2,\"vipType\":[0],\"purchaseType\":6},\"updateStrategy\":\"\",\"isSource\":0,\"shortTitle\":\"形体考试 爵士舞音乐剧舞\",\"exclusive\":0,\"mode1080p\":1,\"qiyiProduced\":0,\"recommendation\":\"艺考形体剧目量身打造\",\"score\":7.3,\"latestTvId\":7733583800,\"period\":\"20190924\",\"firstVideo\":{\"url\":\"http://www.iqiyi.com/v_19rty4thm4.html\"},\"latestVideo\":{\"order\":7,\"url\":\"http://www.iqiyi.com/v_19rty4oqms.html\",\"name\":\"第六集：技巧与体能训练 主讲老师：滕爱民\",\"imageUrl\":\"http://pic2.iqiyipic.com/image/20190927/6a/67/v_138491265_m_601_m1.jpg\",\"shortTitle\":\"滕老师教你舞蹈技巧\"},\"user\":{\"id\":1788838691,\"name\":\"钛蒙贝壳与雪道盏文化\"}},\"kvs\":{}},{\"itemId\":239606901,\"type\":0,\"name\":\"\",\"pageUrl\":\"\",\"imageUrl\":\"\",\"prompt\":\"\",\"subordinateTitle\":\"\",\"shortDisplayName\":\"\",\"album\":{\"id\":239606901,\"name\":\"南京大屠杀\",\"url\":\"http://www.iqiyi.com/a_19rrhtcis9.html\",\"imageUrl\":\"http://pic2.iqiyipic.com/image/20190813/15/48/a_100276521_m_601_m7.jpg\",\"channelId\":12,\"description\":\"1937年12月，日军攻入中国古都南京。几周之内，30多万中国平民和士兵遭到有计划地强暴、折磨和屠杀——死亡人数超过广岛和长崎原子弹爆炸遇难人数的总和。 \\n张纯如不仅在《《南京大屠杀：第二次世界大战中被遗忘的大浩劫》》中详述了日军疯狂暴行的细节，而且分析了在军国主义文化背景下成长起来的日本士兵对人类生命的漠视。张纯如对南京大屠杀的幸存者进行了大量采访，并首次发掘了许多重要文献。 \\n《南京大屠杀》先是从日本士兵、军官为什么完全脱离了人类基本的行为规范，日本学校和教科书从心理层面向学生灌输对中国人民的仇恨和蔑视，以及高度军事化的教育体制等多个方面阐述了南京大屠杀发生的根源性原因。 \\n在这本《《南京大屠杀：第二次世界大战中被遗忘的大浩劫》》的核心篇章里，作者通过采访当事人、查阅档案资料以及实地考察与研究，极其详实地记录了日本军队残暴、灭绝人性的屠杀行动，深刻揭示了日本侵略军的凶残本性。同时，作者还生动记述了南京安全区里以德国商人约翰·拉贝、美国外科医生罗伯特·威尔逊、“南京活菩萨”明妮·魏特琳拯救。\",\"videoCount\":1,\"vip\":{\"payMarkUrl\":\"http://pic2.iqiyipic.com/common/20171106/bc/1b/vip_100002_v_601.png\",\"payMark\":2,\"vipType\":[0],\"purchaseType\":6},\"updateStrategy\":\"\",\"isSource\":0,\"shortTitle\":\"南京大屠杀\",\"exclusive\":0,\"mode1080p\":0,\"qiyiProduced\":0,\"recommendation\":\"恐怖历史的权威之作\",\"score\":7.1,\"latestTvId\":2197700000,\"period\":\"20190326\",\"firstVideo\":{\"url\":\"http://www.iqiyi.com/v_19rsij7jrg.html\"},\"latestVideo\":{\"order\":1,\"url\":\"http://www.iqiyi.com/v_19rsij7jrg.html\",\"name\":\"南京大屠杀\",\"imageUrl\":\"http://pic5.iqiyipic.com/image/20190326/4f/61/v_127384902_m_601.jpg\",\"shortTitle\":\"南京大屠杀\"},\"user\":{\"id\":1242136815,\"name\":\"中信云科技\"}},\"kvs\":{}},{\"itemId\":247057501,\"type\":0,\"name\":\"脑洞芳香史\",\"pageUrl\":\"\",\"imageUrl\":\"\",\"prompt\":\"\",\"subordinateTitle\":\"\",\"shortDisplayName\":\"脑洞芳香史\",\"album\":{\"id\":247057501,\"name\":\"脑洞芳香史\",\"url\":\"http://www.iqiyi.com/a_19rrhyxnht.html\",\"imageUrl\":\"http://pic2.iqiyipic.com/image/20190929/05/29/a_100350326_m_601_m4.jpg\",\"channelId\":12,\"description\":\"有趣又有料的《脑洞芳香史》带你走进一个全新的芳香世界，冷门的历史故事，科学的芳香化学，覆盖性全的芳香知识，独创的学习和记忆方法，带着香气遨游历史世界。\",\"videoCount\":99,\"vip\":{\"payMarkUrl\":\"http://pic2.iqiyipic.com/common/20171106/bc/1b/vip_100002_v_601.png\",\"payMark\":2,\"vipType\":[0],\"purchaseType\":1},\"updateStrategy\":\"\",\"isSource\":0,\"shortTitle\":\"脑洞大开的芳香历史\",\"exclusive\":0,\"mode1080p\":1,\"qiyiProduced\":0,\"recommendation\":\"给你一部带香气的历史\",\"score\":7.5,\"latestTvId\":9235225100,\"period\":\"20190915\",\"firstVideo\":{\"url\":\"http://www.iqiyi.com/v_19ru71cf2c.html\"},\"latestVideo\":{\"order\":74,\"url\":\"http://www.iqiyi.com/v_19rv95vsyo.html\",\"name\":\"芳香有机化学：酚类\",\"imageUrl\":\"http://pic9.iqiyipic.com/image/20191110/91/7d/v_140889271_m_601.jpg\",\"shortTitle\":\"芳香有机化学：酚类\"},\"user\":{\"id\":1764491741,\"name\":\"素女部落\"}},\"kvs\":{}},{\"itemId\":246866301,\"type\":0,\"name\":\"中国通史有声剧：上古到战国\",\"pageUrl\":\"\",\"imageUrl\":\"\",\"prompt\":\"\",\"subordinateTitle\":\"\",\"shortDisplayName\":\"中国通史有声剧：上古到战国\",\"album\":{\"id\":246866301,\"name\":\"中国通史有声剧：上古到战国\",\"url\":\"http://www.iqiyi.com/a_19rrhyw1ld.html\",\"imageUrl\":\"http://pic2.iqiyipic.com/image/20190926/c0/45/a_100348426_m_601_m1.jpg\",\"channelId\":12,\"description\":\"1.用讲故事方式、以声音来演绎，让你轻松听中国通史。\\n2.有你耳熟能详的人物和故事，也带你认识更多陌生的历史人物。\\n3.不同历史阶段衔接紧密，让你更加细致了解朝代更迭的细节。\",\"videoCount\":220,\"vip\":{\"payMarkUrl\":\"http://pic2.iqiyipic.com/common/20171106/bc/1b/vip_100002_v_601.png\",\"payMark\":2,\"vipType\":[0],\"purchaseType\":1},\"updateStrategy\":\"\",\"isSource\":0,\"shortTitle\":\"为你讲述上古到战国的故事\",\"exclusive\":0,\"mode1080p\":0,\"qiyiProduced\":0,\"recommendation\":\"一部可以听的中国通史\",\"score\":7.1,\"latestTvId\":8766016300,\"period\":\"20190908\",\"firstVideo\":{\"url\":\"http://www.iqiyi.com/v_19rugcrx3w.html\"},\"latestVideo\":{\"order\":60,\"url\":\"http://www.iqiyi.com/v_19rvepzj28.html\",\"name\":\"西周礼治：周幽王戏耍诸侯，荒废朝政，毁西周基业\",\"imageUrl\":\"http://pic9.iqiyipic.com/image/20191023/c0/a2/v_139944266_m_601.jpg\",\"shortTitle\":\"幽王戏诸侯，犬戎灭周\"},\"user\":{\"id\":2035306790,\"name\":\"冒牌东方朔\"}},\"kvs\":{}},{\"itemId\":246185501,\"type\":0,\"name\":\"老梁的为人处世法则\",\"pageUrl\":\"\",\"imageUrl\":\"\",\"prompt\":\"\",\"subordinateTitle\":\"\",\"shortDisplayName\":\"老梁的为人处世法则\",\"album\":{\"id\":246185501,\"name\":\"社会艰险套路多，老梁帮你来击破\",\"url\":\"http://www.iqiyi.com/a_19rrhzqcmp.html\",\"imageUrl\":\"http://pic4.iqiyipic.com/image/20191017/4c/67/a_100341621_m_601_m4.jpg\",\"channelId\":12,\"description\":\"有什么道理后悔没有早知道？其中关于当今中国人情社会背后的许多道理，早已出现在了「民间 UGC 金句宝典」《增广贤文》里。在本门课程中，知名时评人老梁将以视频授课的形式，在这座看得见的国学讲堂里，点评人生百态，带你领略「闪展腾挪，进退有度」的人生智慧。\",\"videoCount\":31,\"vip\":{\"payMarkUrl\":\"http://pic2.iqiyipic.com/common/20171106/bc/1b/vip_100002_v_601.png\",\"payMark\":2,\"vipType\":[0],\"purchaseType\":1},\"updateStrategy\":\"\",\"isSource\":0,\"shortTitle\":\"老梁的为人处世法则\",\"exclusive\":0,\"mode1080p\":0,\"qiyiProduced\":0,\"recommendation\":\"老梁带你领略人生智慧\",\"score\":7.0,\"latestTvId\":5229081400,\"period\":\"20190814\",\"firstVideo\":{\"url\":\"http://www.iqiyi.com/v_19rt9kzcxg.html\"},\"latestVideo\":{\"order\":31,\"url\":\"http://www.iqiyi.com/v_19rteiwml0.html\",\"name\":\"不忘初心才能成功\",\"imageUrl\":\"http://pic6.iqiyipic.com/image/20190819/31/ff/v_136399529_m_601.jpg\",\"shortTitle\":\"不忘初心才能成功\"},\"user\":{\"id\":1613164941,\"name\":\"知乎\"}},\"kvs\":{}},{\"itemId\":246769401,\"type\":0,\"name\":\"\",\"pageUrl\":\"\",\"imageUrl\":\"\",\"prompt\":\"\",\"subordinateTitle\":\"\",\"shortDisplayName\":\"\",\"album\":{\"id\":246769401,\"name\":\"可复制的沟通力\",\"url\":\"http://www.iqiyi.com/a_19rrhyr3px.html\",\"imageUrl\":\"http://pic2.iqiyipic.com/image/20190910/8b/c3/a_100347458_m_601_m3.jpg\",\"channelId\":12,\"description\":\"【课程背景】\\n\\n沟通力是继《可复制的领导力》之后又一门“可复制”系列课程；内容提炼出沟通原理，梳理出沟通脉络，提供了沟通工具和使用方法。\\n\\n\\n【课程亮点】\\n\\n内容场景化：覆盖90%沟通中常见的问题\\n\\n知识结构化：多学科支撑层层剥开沟通谜团\\n\\n体验式学习：8份活动体验手册\",\"videoCount\":20,\"vip\":{\"payMarkUrl\":\"http://pic2.iqiyipic.com/common/20171106/bc/1b/vip_100002_v_601.png\",\"payMark\":2,\"vipType\":[0],\"purchaseType\":1},\"updateStrategy\":\"\",\"isSource\":0,\"shortTitle\":\"可复制的沟通力\",\"exclusive\":0,\"mode1080p\":1,\"qiyiProduced\":0,\"recommendation\":\"会说话不代表会沟通\",\"score\":7.3,\"latestTvId\":9047528000,\"period\":\"20190904\",\"firstVideo\":{\"url\":\"http://www.iqiyi.com/v_19rugnquoo.html\"},\"latestVideo\":{\"order\":20,\"url\":\"http://www.iqiyi.com/v_19rvixcyzw.html\",\"name\":\"20 沟通力训练达成\",\"imageUrl\":\"http://pic6.iqiyipic.com/image/20191102/ca/67/v_140480998_m_601.jpg\",\"shortTitle\":\"会说话不代表会沟通\"},\"user\":{\"id\":2515870666,\"name\":\"樊登读书官方\"}},\"kvs\":{}},{\"itemId\":246428201,\"type\":0,\"name\":\"\",\"pageUrl\":\"\",\"imageUrl\":\"\",\"prompt\":\"\",\"subordinateTitle\":\"\",\"shortDisplayName\":\"\",\"album\":{\"id\":246428201,\"name\":\"朱国勇的《互联网思维整合营销课》\",\"url\":\"http://www.iqiyi.com/a_19rrhyncjp.html\",\"imageUrl\":\"http://pic7.iqiyipic.com/image/20190905/0b/30/a_100344045_m_601_m7.jpg\",\"channelId\":12,\"description\":\"北京大学市场营销特聘讲师\\n清华大学整合营销（IMC）专业顾问\\n香港大学校友会主席\\n101远程教育网联合创始人（2005年 美国纳斯达克上市公司）\\n\\n课程预览\\n1、\\t全面梳理了朱国勇先生经历的商场实战和营销经验；\\n2、\\t重案例重实战，并提供清晰可行的对策；\\n3、\\t突破赚钱一定要高智商，高学历，多启动资金，要有广泛人脉的误区；\\n4、\\t通过自己的赚钱，销售经验更多的讲授实操，可落地，可量化\",\"videoCount\":29,\"vip\":{\"payMarkUrl\":\"http://pic2.iqiyipic.com/common/20171106/bc/1b/vip_100002_v_601.png\",\"payMark\":2,\"vipType\":[0],\"purchaseType\":1},\"updateStrategy\":\"\",\"isSource\":0,\"shortTitle\":\"《互联网整合营销》实战课\",\"exclusive\":0,\"mode1080p\":0,\"qiyiProduced\":0,\"recommendation\":\"开脑洞觅商机的方法论\",\"score\":7.3,\"latestTvId\":5801297700,\"period\":\"20190822\",\"firstVideo\":{\"url\":\"http://www.iqiyi.com/v_19rt1pziks.html\"},\"latestVideo\":{\"order\":28,\"url\":\"http://www.iqiyi.com/v_19rt1q2wqw.html\",\"name\":\"长江商学院全球教学营销案例：文学和金融的跨界拥抱\",\"imageUrl\":\"http://pic3.iqiyipic.com/image/20190827/04/fa/v_136873084_m_601.jpg\",\"shortTitle\":\"北大清华特邀营销讲师\"},\"user\":{\"id\":1780577976,\"name\":\"国学新读\"}},\"kvs\":{}},{\"itemId\":246686801,\"type\":0,\"name\":\"\",\"pageUrl\":\"\",\"imageUrl\":\"\",\"prompt\":\"\",\"subordinateTitle\":\"\",\"shortDisplayName\":\"\",\"album\":{\"id\":246686801,\"name\":\"中国式养老指南\",\"url\":\"http://www.iqiyi.com/a_19rrhysv99.html\",\"imageUrl\":\"http://pic3.iqiyipic.com/image/20190903/db/2d/a_100346630_m_601_m2.jpg\",\"channelId\":12,\"description\":\"直面中国式养老问题，直击老年家庭的矛盾，用生活的案例，给出有效的解决方式。\",\"videoCount\":11,\"vip\":{\"payMarkUrl\":\"http://pic2.iqiyipic.com/common/20171106/bc/1b/vip_100002_v_601.png\",\"payMark\":2,\"vipType\":[0],\"purchaseType\":1},\"updateStrategy\":\"\",\"isSource\":0,\"shortTitle\":\"破解中国式养老难题\",\"exclusive\":0,\"mode1080p\":1,\"qiyiProduced\":0,\"recommendation\":\"突破中国式养老困境\",\"score\":7.1,\"latestTvId\":6324440600,\"period\":\"20190902\",\"firstVideo\":{\"url\":\"http://www.iqiyi.com/v_19rsvunyf0.html\"},\"latestVideo\":{\"order\":11,\"url\":\"http://www.iqiyi.com/v_19rst2f7g4.html\",\"name\":\"第十课 和老人的最佳相处之道\",\"imageUrl\":\"http://pic5.iqiyipic.com/image/20190903/c2/e9/v_137299038_m_601.jpg\",\"shortTitle\":\"和老人的最佳相处之道\"},\"user\":{\"id\":1743982556,\"name\":\"意如趣知识\"}},\"kvs\":{}},{\"itemId\":240926901,\"type\":0,\"name\":\"写好行楷很简单\",\"pageUrl\":\"\",\"imageUrl\":\"\",\"prompt\":\"\",\"subordinateTitle\":\"\",\"shortDisplayName\":\"写好行楷很简单\",\"album\":{\"id\":240926901,\"name\":\"写好行楷很简单\",\"url\":\"http://www.iqiyi.com/a_19rrhsv7ix.html\",\"imageUrl\":\"http://pic0.iqiyipic.com/image/20190808/8e/02/a_100289662_m_601_m2.jpg\",\"channelId\":12,\"description\":\"本课程主要讲解如何写好行楷，课程通过笔画、偏旁部首、结构、章法等的讲解，让你了解学好行楷的要领，轻松学会硬笔行楷。课程除了有系统的在线视频教程，还配备跟视频课程同步的电子版字帖，直接打印即可练习。\\n\",\"videoCount\":0,\"vip\":{\"payMarkUrl\":\"http://pic2.iqiyipic.com/common/20171106/bc/1b/vip_100002_v_601.png\",\"payMark\":2,\"vipType\":[0],\"purchaseType\":1},\"updateStrategy\":\"\",\"isSource\":0,\"shortTitle\":\"实用硬笔行书\",\"exclusive\":0,\"mode1080p\":1,\"qiyiProduced\":0,\"recommendation\":\"实用硬笔行书\",\"score\":7.5,\"latestTvId\":2377434100,\"period\":\"20190505\",\"firstVideo\":{\"url\":\"http://www.iqiyi.com/v_19rsgpid8c.html\"},\"latestVideo\":{\"order\":62,\"url\":\"http://www.iqiyi.com/v_19rsgnenbs.html\",\"name\":\"硬笔行楷如何写出粗细变化？\",\"imageUrl\":\"http://pic8.iqiyipic.com/image/20190505/63/44/v_129062186_m_601.jpg\",\"shortTitle\":\"如何写出粗细变化？\"},\"user\":{\"id\":1359881359,\"name\":\"优贝壳\"}},\"kvs\":{}},{\"itemId\":240142701,\"type\":0,\"name\":\"\",\"pageUrl\":\"\",\"imageUrl\":\"\",\"prompt\":\"\",\"subordinateTitle\":\"\",\"shortDisplayName\":\"\",\"album\":{\"id\":240142701,\"name\":\"张其成《易经》课\",\"url\":\"http://www.iqiyi.com/a_19rrhsedxd.html\",\"imageUrl\":\"http://pic8.iqiyipic.com/image/20190417/3a/13/a_100281877_m_601_m7.jpg\",\"channelId\":12,\"description\":\"《易经》被誉为群经之首、大道之源，孔子明解《易经》开创儒家，老子暗解《易经》开创道家，其内容涉及哲学、政治、生活、文学、艺术、科学等诸多领域，是中华文化的活水源头。它不仅是一本用于占卜之书，更是一部具有独特思维方式的哲学著作，其中潜藏着万物变化、未来事态发展的规律，同时你的一餐一饭、一呼一吸、一言一行都与这部经典有着千丝万缕的联系。张其成教授作为易学研究的权威专家，将在节目中详细透彻地解读每一卦的内容，在一卦一爻中帮助你懂得知变应变的法则，掌握趋吉避凶的方法，获得做人、做事的启示。走入《易经》，在“不易”的天道中，你会学会“变易”的方法，最终回归“简易”的自在人生。\",\"videoCount\":19,\"vip\":{\"payMarkUrl\":\"http://pic2.iqiyipic.com/common/20171106/bc/1b/vip_100002_v_601.png\",\"payMark\":2,\"vipType\":[0],\"purchaseType\":1},\"updateStrategy\":\"\",\"isSource\":0,\"shortTitle\":\"解密易经玄机领悟人生智慧\",\"exclusive\":0,\"mode1080p\":1,\"qiyiProduced\":0,\"recommendation\":\"解密易经玄机领悟人生\",\"score\":7.1,\"latestTvId\":2289504500,\"period\":\"20190410\",\"firstVideo\":{\"url\":\"http://www.iqiyi.com/v_19rsjb495o.html\"},\"latestVideo\":{\"order\":19,\"url\":\"http://www.iqiyi.com/v_19rsflzbtk.html\",\"name\":\"重复视频\",\"imageUrl\":\"http://pic3.iqiyipic.com/image/20190417/46/ae/v_128237913_m_601_m25.jpg\",\"shortTitle\":\"重复视频\"},\"user\":{\"id\":1050259096,\"name\":\"太和新知\"}},\"kvs\":{}},{\"itemId\":246304501,\"type\":0,\"name\":\"唐诗宋词之前的中国文学\",\"pageUrl\":\"\",\"imageUrl\":\"\",\"prompt\":\"\",\"subordinateTitle\":\"\",\"shortDisplayName\":\"唐诗宋词之前的中国文学\",\"album\":{\"id\":246304501,\"name\":\"唐诗宋词之前的中国文学\",\"url\":\"http://www.iqiyi.com/a_19rrhzt8yh.html\",\"imageUrl\":\"http://pic1.iqiyipic.com/image/20190821/73/f5/a_100342809_m_601_m1.jpg\",\"channelId\":12,\"description\":\"有料：30余年潜心钻研，2小时精华提炼，为你再现两汉魏晋南北朝风云传奇；\\n有趣：15节精品小课，多个经典故事串联，为你解析中国文学史上最有趣的800年；\\n有态度：上千份史料检索，引用多份权威文献，为你提供最有态度的文学漫谈。\",\"videoCount\":16,\"vip\":{\"payMarkUrl\":\"http://pic2.iqiyipic.com/common/20171106/bc/1b/vip_100002_v_601.png\",\"payMark\":2,\"vipType\":[0],\"purchaseType\":1},\"updateStrategy\":\"\",\"isSource\":0,\"shortTitle\":\"中国文学史最有趣的八百年\",\"exclusive\":0,\"mode1080p\":1,\"qiyiProduced\":0,\"recommendation\":\"最有态度的文学漫谈\",\"score\":7.4,\"latestTvId\":5194146200,\"period\":\"20190819\",\"firstVideo\":{\"url\":\"http://www.iqiyi.com/v_19rtdu14sk.html\"},\"latestVideo\":{\"order\":16,\"url\":\"http://www.iqiyi.com/v_19rtdzfmk4.html\",\"name\":\"15.唐诗呼之欲出\",\"imageUrl\":\"http://pic5.iqiyipic.com/image/20190819/d7/15/v_136363606_m_601.jpg\",\"shortTitle\":\"唐诗呼之欲出\"},\"user\":{\"id\":1193806382,\"name\":\"新知榜2020\"}},\"kvs\":{}},{\"itemId\":244591801,\"type\":0,\"name\":\"\",\"pageUrl\":\"\",\"imageUrl\":\"\",\"prompt\":\"\",\"subordinateTitle\":\"\",\"shortDisplayName\":\"\",\"album\":{\"id\":244591801,\"name\":\"简·尼尔森讲正面管教\",\"url\":\"http://www.iqiyi.com/a_19rri01v4l.html\",\"imageUrl\":\"http://pic7.iqiyipic.com/image/20191112/bb/91/a_100325738_m_601_m22.jpg\",\"channelId\":12,\"description\":\"课程介绍：\\n1.正面管教创始人简·尼尔森首次开讲\\n2.全球1.5亿父母亲测有效的黄金法则教育方法\\n3.每天10分钟，搞定日常教育难题\\n  \\n课程收获：\\n1.培养孩子们的自律、责任感、合作能力以及解决问题的能力.\\n2.获取一种不惩罚、不骄纵管教孩子的方式.\\n3.更好的促进与孩子的沟通\\n\\n适用人群:\\n父母、家长\\n\\n\",\"videoCount\":140,\"vip\":{\"payMarkUrl\":\"http://pic2.iqiyipic.com/common/20171106/bc/1b/vip_100002_v_601.png\",\"payMark\":2,\"vipType\":[0],\"purchaseType\":1},\"updateStrategy\":\"\",\"isSource\":0,\"shortTitle\":\"简·尼尔森讲正面管教\",\"exclusive\":0,\"mode1080p\":1,\"qiyiProduced\":0,\"recommendation\":\"教你搞定日常教育难题\",\"score\":7.5,\"latestTvId\":5963753500,\"period\":\"20190717\",\"firstVideo\":{\"url\":\"http://www.iqiyi.com/v_19rs2mr29w.html\"},\"latestVideo\":{\"order\":140,\"url\":\"http://www.iqiyi.com/v_19rsqzj5v4.html\",\"name\":\"Empower Your Kids 第2节 \",\"imageUrl\":\"http://pic3.iqiyipic.com/image/20190829/f8/00/v_137019717_m_601.jpg\",\"shortTitle\":\"Empower \"},\"user\":{\"id\":1522636978,\"name\":\"小学生同步课堂\"}},\"kvs\":{}},{\"itemId\":246600201,\"type\":0,\"name\":\"\",\"pageUrl\":\"\",\"imageUrl\":\"\",\"prompt\":\"\",\"subordinateTitle\":\"\",\"shortDisplayName\":\"\",\"album\":{\"id\":246600201,\"name\":\"食物的诞生：走进食材的世界\",\"url\":\"http://www.iqiyi.com/a_19rrhyqoo5.html\",\"imageUrl\":\"http://pic4.iqiyipic.com/image/20191111/2d/a2/a_100345766_m_601_m8.jpg\",\"channelId\":12,\"description\":\"这是一次关于食物的探索之旅！孩子们不仅可以认识各种各样的美食，还可以参与到食材的种植与加工中来，亲眼看看常见的食物是怎样制作而成的。在这个过程中，大家可以聆听食物背后的故事，培养对食物的兴趣，还能体会饮食文化的博大精深，拓宽眼界，提高对大千世界的好奇心和探索力！\\n\",\"videoCount\":9,\"vip\":{\"payMarkUrl\":\"http://pic2.iqiyipic.com/common/20171106/bc/1b/vip_100002_v_601.png\",\"payMark\":2,\"vipType\":[0],\"purchaseType\":6},\"updateStrategy\":\"\",\"isSource\":0,\"shortTitle\":\"食物的诞生：走进食材世界\",\"exclusive\":0,\"mode1080p\":1,\"qiyiProduced\":0,\"recommendation\":\"走进食材世界\",\"score\":7.4,\"latestTvId\":5979628300,\"period\":\"20190829\",\"firstVideo\":{\"url\":\"http://www.iqiyi.com/v_19rsrillwc.html\"},\"latestVideo\":{\"order\":9,\"url\":\"http://www.iqiyi.com/v_19rsru6teo.html\",\"name\":\"四季维生素：时令水果\",\"imageUrl\":\"http://pic3.iqiyipic.com/image/20190830/ba/72/v_137037566_m_601.jpg\",\"shortTitle\":\"四季维生素：时令水果\"},\"user\":{\"id\":1676091136,\"name\":\"DrPanda熊猫博士\"}},\"kvs\":{}},{\"itemId\":228428801,\"type\":0,\"name\":\"\",\"pageUrl\":\"\",\"imageUrl\":\"\",\"prompt\":\"\",\"subordinateTitle\":\"\",\"shortDisplayName\":\"\",\"album\":{\"id\":228428801,\"name\":\"雅思考官来了：雅思口语考试中的那些“小尴尬”\",\"url\":\"http://www.iqiyi.com/a_19rrh6dsh9.html\",\"imageUrl\":\"http://pic6.iqiyipic.com/image/20190816/61/06/a_100168992_m_601_m1.jpg\",\"channelId\":12,\"description\":\"雅思口语考试长啥样？被扣掉的分数都去哪儿了？有哪些“坑”需要提前了解，以免尴尬发生？看《雅思考官来了》，从考官的角度，了解口语考试常见失分原因。口语考试提前“备”，考试心不累！\",\"videoCount\":20,\"vip\":{\"payMarkUrl\":\"http://pic2.iqiyipic.com/common/20171106/bc/1b/vip_100002_v_601.png\",\"payMark\":2,\"vipType\":[0],\"purchaseType\":6},\"updateStrategy\":\"\",\"isSource\":0,\"shortTitle\":\"雅思考官来了\",\"exclusive\":0,\"mode1080p\":1,\"qiyiProduced\":0,\"recommendation\":\"提前“备”考试心不累\",\"score\":7.1,\"latestTvId\":1695037600,\"period\":\"20180727\",\"firstVideo\":{\"url\":\"http://www.iqiyi.com/v_19rqyemnm4.html\"},\"latestVideo\":{\"order\":20,\"url\":\"http://www.iqiyi.com/v_19rqsmv7ws.html\",\"name\":\"如何描述一个室外学习场所\",\"imageUrl\":\"http://pic7.iqiyipic.com/image/20181214/c1/13/v_122588491_m_601.jpg\",\"shortTitle\":\"如何描述室外学习场所\"},\"user\":{\"id\":1185575438,\"name\":\"新航道官方号\"}},\"kvs\":{}}],\"title\":{\"name\":\"教育\",\"icon\":\"teachplay\",\"link\":\"//www.iqiyi.com/edu/\",\"moreText\":\"更多\",\"subNav\":[{\"name\":\"南京大屠杀\",\"pageUrl\":\"https://www.iqiyi.com/v_19rsij7jrg.html\",\"imageUrl\":\"\",\"kvs\":{\"width\":\"\"}},{\"name\":\"国际音标·精华\",\"pageUrl\":\"https://www.iqiyi.com/v_19rr5mafzk.html\",\"imageUrl\":\"\",\"kvs\":{\"width\":\"\"}},{\"name\":\"朕和朕的故宫\",\"pageUrl\":\"https://www.iqiyi.com/v_19rs8mfnqk.html\",\"imageUrl\":\"\",\"kvs\":{\"width\":\"\"}},{\"name\":\"鬼谷子：抓住人性弱点\",\"pageUrl\":\"https://www.iqiyi.com/v_19rs7ka9sc.html\",\"imageUrl\":\"\",\"kvs\":{\"width\":\"\"}}]}}'\n",
      "\n",
      "    :source-data='{\"videos\":[{\"itemId\":5187801300,\"type\":1,\"name\":\"\",\"pageUrl\":\"\",\"imageUrl\":\"http://pic0.iqiyipic.com/common/lego/20190822/236d3e81f230414c8e96aa2bea26cfb2.jpg\",\"prompt\":\"\",\"subordinateTitle\":\"\",\"shortDisplayName\":\"\",\"mixinVideo\":{\"name\":\"剑指荣耀巅峰！追风萌娃热血燃烧合力“断金”\",\"description\":\"本期节目中，追风骑士团剑指巅峰、斩获荣誉的终极之战来临，来到齐齐哈尔最终赛道的追风骑士团遇到史上最强劲敌——迎来训练有素、全明星阵容的黄金骑士团。历经一个月的摸爬滚打与魔鬼式训练，硬核萌娃们已经拥有熊熊燃烧团魂，面临挑战时只有战欲、绝无退后的怯意，他们能否奋起全部的力量携手“断金”呢？请看《小骑手！冲啊》的收官完结篇~\",\"tvId\":5187801300,\"url\":\"http://www.iqiyi.com/v_19rtdt3zjs.html\",\"albumId\":241775501,\"duration\":1806,\"imageUrl\":\"http://pic8.iqiyipic.com/image/20190819/10/76/v_136356300_m_601.jpg\",\"channelId\":29,\"subtitle\":\"剑指荣耀巅峰！追风萌娃热血燃烧合力“断金”\",\"vip\":{\"payMarkUrl\":\"\",\"payMark\":0,\"vipType\":[0],\"purchaseType\":0},\"userId\":0,\"period\":\"20190822\",\"exclusive\":0,\"qiyiProduced\":0,\"shortTitle\":\"第12期 追风萌娃合力“断金”\",\"recommendation\":\"小骑手！冲啊\",\"contentType\":1,\"album\":{\"id\":241775501,\"name\":\"小骑手！冲啊\",\"url\":\"http://www.iqiyi.com/a_19rrhs1yht.html\",\"imageUrl\":\"http://pic8.iqiyipic.com/image/20190529/0b/9c/a_100298053_m_601_m2.jpg\",\"videoCount\":0,\"isSource\":1,\"exclusive\":0,\"qiyiProduced\":0,\"latestVideo\":{\"tvId\":5187801300,\"url\":\"http://www.iqiyi.com/v_19rtdt3zjs.html\",\"order\":1}}},\"kvs\":{\"defImg_webp\":\"http://pic0.iqiyipic.com/common/lego/20190822/236d3e81f230414c8e96aa2bea26cfb2.webp\"}},{\"itemId\":6463995600,\"type\":1,\"name\":\"\",\"pageUrl\":\"\",\"imageUrl\":\"\",\"prompt\":\"\",\"subordinateTitle\":\"\",\"shortDisplayName\":\"\",\"mixinVideo\":{\"name\":\"器材展VLOG设备挑选攻略！找到一款妈妈拍VLOG的设备好难喔！\",\"description\":\"\",\"tvId\":6463995600,\"url\":\"http://www.iqiyi.com/v_19rugn0pto.html\",\"albumId\":239448701,\"duration\":287,\"imageUrl\":\"http://pic1.iqiyipic.com/image/20190905/79/33/v_137398443_m_601.jpg\",\"channelId\":29,\"subtitle\":\"器材展挑选妈妈拍摄装备\",\"vip\":{\"payMarkUrl\":\"\",\"payMark\":0,\"vipType\":[0],\"purchaseType\":0},\"userId\":1278903967,\"period\":\"20190905\",\"exclusive\":0,\"qiyiProduced\":0,\"shortTitle\":\"器材展挑选妈妈拍摄装备\",\"recommendation\":\"超级妈妈分享带娃秘籍\",\"contentType\":1,\"album\":{\"id\":239448701,\"name\":\"开心好奇妈\",\"url\":\"http://www.iqiyi.com/a_19rrht5zpt.html\",\"imageUrl\":\"http://pic3.iqiyipic.com/image/20190820/28/b5/a_100274939_m_601_m6.jpg\",\"videoCount\":0,\"isSource\":1,\"exclusive\":0,\"qiyiProduced\":0,\"latestVideo\":{\"tvId\":9253488800,\"url\":\"http://www.iqiyi.com/v_19rv95gmoc.html\",\"order\":1}},\"user\":{\"id\":1278903967,\"name\":\"开心好奇妈\"}},\"kvs\":{}},{\"itemId\":292180370,\"type\":15,\"name\":\"第30届京正•广州孕婴童展\",\"pageUrl\":\"http://www.iqiyi.com/kszt/30JZGZYYTZ.html\",\"imageUrl\":\"http://pic1.iqiyipic.com/common/lego/20191114/3ab48fa7aa3d4d928a5e81b6c19c0dc8.png\",\"prompt\":\"\",\"subordinateTitle\":\"\",\"shortDisplayName\":\"第30届京正•广州孕婴童展\",\"kvs\":{\"defImg_webp\":\"http://pic1.iqiyipic.com/common/lego/20191114/3ab48fa7aa3d4d928a5e81b6c19c0dc8.webp\"}},{\"itemId\":5844133900,\"type\":1,\"name\":\"\",\"pageUrl\":\"\",\"imageUrl\":\"http://pic3.iqiyipic.com/common/lego/20190828/d510c62e6d3b420b893c5dd7cf6e95e8.png\",\"prompt\":\"\",\"subordinateTitle\":\"\",\"shortDisplayName\":\"\",\"mixinVideo\":{\"name\":\"解锁初秋酷盖新造型 变身开学季最靓的崽\",\"description\":\"\",\"tvId\":5844133900,\"url\":\"http://www.iqiyi.com/v_19rt2yb04g.html\",\"albumId\":232522401,\"duration\":169,\"imageUrl\":\"http://pic1.iqiyipic.com/image/20190828/91/7e/v_136899664_m_601.jpg\",\"channelId\":29,\"subtitle\":\"解锁初秋酷盖新造型 变身开学季最靓的崽\",\"vip\":{\"payMarkUrl\":\"\",\"payMark\":0,\"vipType\":[0],\"purchaseType\":0},\"userId\":0,\"period\":\"20190828\",\"exclusive\":0,\"qiyiProduced\":1,\"shortTitle\":\"解锁初秋酷盖新造型\",\"recommendation\":\"\",\"contentType\":1,\"album\":{\"id\":232522401,\"name\":\"萌宝穿搭计\",\"url\":\"http://www.iqiyi.com/a_19rrh3wkb1.html\",\"imageUrl\":\"http://pic4.iqiyipic.com/image/20181205/06/6e/a_100209008_m_601_m1.jpg\",\"videoCount\":0,\"isSource\":1,\"exclusive\":0,\"qiyiProduced\":1,\"latestVideo\":{\"tvId\":9346897300,\"url\":\"http://www.iqiyi.com/v_19rv682arc.html\",\"order\":1}}},\"kvs\":{}},{\"itemId\":7468065800,\"type\":1,\"name\":\"\",\"pageUrl\":\"\",\"imageUrl\":\"\",\"prompt\":\"\",\"subordinateTitle\":\"\",\"shortDisplayName\":\"\",\"mixinVideo\":{\"name\":\"娃最爱吃的鸡蛋被熊爸爸玩坏了！3招教你让娃变身救援队长！\",\"description\":\"和孩子一起玩的导演爸爸\",\"tvId\":7468065800,\"url\":\"http://www.iqiyi.com/v_19rub450tg.html\",\"albumId\":241661701,\"duration\":358,\"imageUrl\":\"http://pic7.iqiyipic.com/image/20190918/19/45/v_138207337_m_601.jpg\",\"channelId\":29,\"subtitle\":\"娃最爱的鸡蛋被爸玩坏了\",\"vip\":{\"payMarkUrl\":\"\",\"payMark\":0,\"vipType\":[0],\"purchaseType\":0},\"userId\":1143327754,\"period\":\"20190919\",\"exclusive\":0,\"qiyiProduced\":0,\"shortTitle\":\"娃最爱的鸡蛋被爸玩坏了\",\"recommendation\":\"和孩子一起玩\",\"contentType\":1,\"album\":{\"id\":241661701,\"name\":\"哈喽王叔第二季\",\"url\":\"http://www.iqiyi.com/a_19rrhryru1.html\",\"imageUrl\":\"http://pic0.iqiyipic.com/image/20190531/fa/70/a_100296918_m_601_m1.jpg\",\"videoCount\":0,\"isSource\":1,\"exclusive\":0,\"qiyiProduced\":0,\"latestVideo\":{\"tvId\":9323789100,\"url\":\"http://www.iqiyi.com/v_19rv5rqo8w.html\",\"order\":1}},\"user\":{\"id\":1143327754,\"name\":\"哈喽王叔\"}},\"kvs\":{}}],\"title\":{\"name\":\"母婴\",\"icon\":\"mobabyplay\",\"link\":\"//baby.iqiyi.com/\",\"moreText\":\"更多\",\"subNav\":[{\"name\":\"孕期\",\"pageUrl\":\"http://list.iqiyi.com/www/29/24084-------------4-1-1-iqiyi--.html\",\"imageUrl\":\"\",\"kvs\":{\"width\":\"\"}},{\"name\":\"宝贝食谱\",\"pageUrl\":\"http://list.iqiyi.com/www/29/24087-------------4-1-2-iqiyi-1-.html\",\"imageUrl\":\"\",\"kvs\":{\"width\":\"\"}},{\"name\":\"宝宝养育\",\"pageUrl\":\"http://list.iqiyi.com/www/29/29619-------------4-1-2-iqiyi-1-.html\",\"imageUrl\":\"\",\"kvs\":{\"width\":\"\"}},{\"name\":\"趣味玩具\",\"pageUrl\":\"http://list.iqiyi.com/www/29/29746-------------4-1-1-iqiyi--.html\",\"imageUrl\":\"\",\"kvs\":{\"width\":\"\"}}]}}'\n",
      "\n",
      "    :source-data='{\"videos\":[{\"itemId\":9377413900,\"type\":1,\"name\":\"魔鬼相机测评No.21之赫莲娜粉底液\",\"pageUrl\":\"http://www.iqiyi.com/kszt/IBeaty.html\",\"imageUrl\":\"http://pic0.iqiyipic.com/common/lego/20191118/62a46229ff7a41e0aefb9a759230a5a8.jpg\",\"prompt\":\"贵妇粉底液究竟表现如何？\",\"subordinateTitle\":\"\",\"shortDisplayName\":\"魔鬼相机测评No.21之赫莲娜粉底液\",\"mixinVideo\":{\"name\":\"王晨艺的VLOG 5  韩国游记之开箱（续）\",\"description\":\"\",\"tvId\":9377413900,\"url\":\"http://www.iqiyi.com/v_19rv73vof4.html\",\"albumId\":246833801,\"duration\":635,\"imageUrl\":\"http://pic8.iqiyipic.com/image/20191118/f7/82/v_141134889_m_601_m3.jpg\",\"channelId\":13,\"subtitle\":\"韩国游记之开箱\",\"vip\":{\"payMarkUrl\":\"\",\"payMark\":0,\"vipType\":[0],\"purchaseType\":0},\"userId\":1792044193,\"period\":\"20191115\",\"exclusive\":0,\"qiyiProduced\":0,\"shortTitle\":\"韩国游记之开箱（续）\",\"recommendation\":\"王晨艺生活的点滴\",\"contentType\":1,\"album\":{\"id\":246833801,\"name\":\"王晨艺的Vlog\",\"url\":\"http://www.iqiyi.com/a_19rrhyvc9x.html\",\"imageUrl\":\"http://pic3.iqiyipic.com/image/20190906/a6/60/a_100348098_m_601_m2.jpg\",\"videoCount\":0,\"isSource\":1,\"exclusive\":0,\"qiyiProduced\":0,\"latestVideo\":{\"tvId\":9377413900,\"url\":\"http://www.iqiyi.com/v_19rv73vof4.html\",\"order\":1}},\"user\":{\"id\":1792044193,\"name\":\"晨艺Team\"}},\"kvs\":{\"defImg_webp\":\"http://pic0.iqiyipic.com/common/lego/20191118/62a46229ff7a41e0aefb9a759230a5a8.webp\"}},{\"itemId\":9200005800,\"type\":1,\"name\":\"王晨艺的Vlog : E07 -海外游记04-开箱\",\"pageUrl\":\"http://www.iqiyi.com/kszt/idolvlog.html\",\"imageUrl\":\"http://pic3.iqiyipic.com/common/lego/20191118/817c3a6c432b46c992cafcc82b27a304.jpg\",\"prompt\":\"专辑古着大开箱\",\"subordinateTitle\":\"\",\"shortDisplayName\":\"王晨艺的Vlog : 海外游记-韩国之行\",\"mixinVideo\":{\"name\":\"Jolie薄纱遮面演绎朦胧美 新霹雳娇娃三姐妹合体登封\",\"description\":\"本周美好肉体排行榜，好莱坞女星团华丽登场。\\nTop 3 Kylie Jenner。金小妹Kylie Jenner登上《V》杂志特别版封面，身穿粉色丝缎抹胸裙，配上一头金色短发，致敬玛丽莲梦露在电影《绅士爱美人》中的经典造型，复古又性感，夸张的钻石首饰十分闪耀，大片中陪衬在左右的绅士们仿佛也为之倾倒。\\nTop 2 Angelina Jolie。性感女王Angelina Jolie坐镇美国版《Harper&#39;s BAZAAR》跨年刊封面，轻柔的薄纱充满艺术感，优美的肢体语言表现力满分，红色的泳装造型和金黄色的假发带来强烈的视觉冲击，同时搞怪的表情又展现出了她可爱的一面。\\nTop 1 Kristen Stewart、Naomi Scott & Ella Balinska。《V》杂志冬季刊邀请新版《霹雳娇娃》电影中的主演三姐妹合体登封，3人延续电影中英姿飒爽的帅气风格，带来颇具夏日风情的大片，超高颜值与大长腿的组合吸睛满分，浓郁的黑色眼妆更添魅力。\",\"tvId\":9200005800,\"url\":\"http://www.iqiyi.com/v_19rv8neh8k.html\",\"albumId\":200475701,\"duration\":52,\"imageUrl\":\"http://pic2.iqiyipic.com/image/20191108/2e/4b/v_140822547_m_601.jpg\",\"channelId\":13,\"subtitle\":\"\",\"vip\":{\"payMarkUrl\":\"\",\"payMark\":0,\"vipType\":[0],\"purchaseType\":0},\"userId\":4531823535,\"period\":\"20191108\",\"exclusive\":1,\"qiyiProduced\":1,\"shortTitle\":\"Jolie薄纱遮面演绎朦胧美\",\"recommendation\":\"新霹雳娇娃合体登封\",\"contentType\":5,\"album\":{\"id\":200475701,\"name\":\"时尚巅峰\",\"url\":\"http://www.iqiyi.com/shishang/fashionbuzz.html\",\"imageUrl\":\"http://pic6.iqiyipic.com/image/20170515/51/46/a_100003718_m_601_m5.jpg\",\"videoCount\":0,\"isSource\":1,\"exclusive\":1,\"qiyiProduced\":1,\"latestVideo\":{\"tvId\":9199309000,\"url\":\"http://www.iqiyi.com/v_19rv8mzwys.html\",\"order\":1}},\"user\":{\"id\":4531823535,\"name\":\"时尚巅峰\"}},\"kvs\":{\"defImg_webp\":\"http://pic3.iqiyipic.com/common/lego/20191118/817c3a6c432b46c992cafcc82b27a304.webp\"}},{\"itemId\":9244522500,\"type\":1,\"name\":\"\",\"pageUrl\":\"\",\"imageUrl\":\"\",\"prompt\":\"\",\"subordinateTitle\":\"\",\"shortDisplayName\":\"\",\"mixinVideo\":{\"name\":\"冻龄女神的肌肤秘密 全智贤 x HERA 彩妆大片\",\"description\":\"冻龄女神的肌肤秘密 全智贤 x HERA 彩妆大片\",\"tvId\":9244522500,\"url\":\"http://www.iqiyi.com/v_19rv906wrs.html\",\"albumId\":0,\"duration\":48,\"imageUrl\":\"http://pic5.iqiyipic.com/image/20191111/f4/7f/v_140909065_m_601.jpg\",\"channelId\":13,\"subtitle\":\"\",\"vip\":{\"payMarkUrl\":\"\",\"payMark\":0,\"vipType\":[0],\"purchaseType\":0},\"userId\":1225872330,\"period\":\"20191111\",\"exclusive\":0,\"qiyiProduced\":0,\"shortTitle\":\"全智贤 x HERA 彩妆大片\",\"recommendation\":\"冻龄女神的肌肤秘密\",\"contentType\":1,\"user\":{\"id\":1225872330,\"name\":\"EQIER\"}},\"kvs\":{}},{\"itemId\":9244645800,\"type\":1,\"name\":\"\",\"pageUrl\":\"\",\"imageUrl\":\"\",\"prompt\":\"\",\"subordinateTitle\":\"\",\"shortDisplayName\":\"\",\"mixinVideo\":{\"name\":\"每日30分钟高强瘦身操 速拥纤长美腿\",\"description\":\"每日30分钟高强瘦身操 速拥纤长美腿\",\"tvId\":9244645800,\"url\":\"http://www.iqiyi.com/v_19rv909w3o.html\",\"albumId\":0,\"duration\":1851,\"imageUrl\":\"http://pic2.iqiyipic.com/image/20191115/49/33/v_140909400_m_601_m1.jpg\",\"channelId\":13,\"subtitle\":\"\",\"vip\":{\"payMarkUrl\":\"\",\"payMark\":0,\"vipType\":[0],\"purchaseType\":0},\"userId\":1225872330,\"period\":\"20191116\",\"exclusive\":0,\"qiyiProduced\":0,\"shortTitle\":\"每日30分钟高强瘦身操\",\"recommendation\":\"速拥纤长美腿\",\"contentType\":1,\"user\":{\"id\":1225872330,\"name\":\"EQIER\"}},\"kvs\":{}}],\"title\":{\"name\":\"时尚\",\"icon\":\"fashionplay\",\"link\":\"//f.iqiyi.com/\",\"moreText\":\"更多\",\"subNav\":[{\"name\":\"2018维多利亚的秘密\",\"pageUrl\":\"http://www.iqiyi.com/shishang/victoriassecret.html\",\"imageUrl\":\"\",\"kvs\":{\"width\":\"\"}},{\"name\":\"独家报道\",\"pageUrl\":\"http://list.iqiyi.com/www/13/-------1230------4-1-2--1-.html\",\"imageUrl\":\"\",\"kvs\":{\"width\":\"\"}},{\"name\":\"SHOW场\",\"pageUrl\":\"http://list.iqiyi.com/www/13/-------1235------4-1-2--1-.html\",\"imageUrl\":\"\",\"kvs\":{\"width\":\"\"}},{\"name\":\"潮妆\",\"pageUrl\":\"http://list.iqiyi.com/www/13/----1209---------4-1-2-iqiyi-1-.html\",\"imageUrl\":\"\",\"kvs\":{\"width\":\"\"}},{\"name\":\"名利场\",\"pageUrl\":\"http://list.iqiyi.com/www/13/----1209---1232------4-1-2-iqiyi-1-.html\",\"imageUrl\":\"\",\"kvs\":{\"width\":\"\"}},{\"name\":\"热门综艺\",\"pageUrl\":\"http://list.iqiyi.com/www/13/----1209---1231------4-1-2-iqiyi-1-.html\",\"imageUrl\":\"\",\"kvs\":{\"width\":\"\"}},{\"name\":\"广告大片\",\"pageUrl\":\"http://list.iqiyi.com/www/13/----1209---1236------4-1-2-iqiyi-1-.html\",\"imageUrl\":\"\",\"kvs\":{\"width\":\"\"}},{\"name\":\"特别策划\",\"pageUrl\":\"http://www.iqiyi.com/zhuanti/sszt.html\",\"imageUrl\":\"\",\"kvs\":{\"width\":\"\"}}]}}'\n",
      "\n",
      "    :source-data='{\"videos\":[{\"itemId\":8977266900,\"type\":1,\"name\":\"\",\"pageUrl\":\"\",\"imageUrl\":\"\",\"prompt\":\"\",\"subordinateTitle\":\"\",\"shortDisplayName\":\"亚洲龙带你探访古今学堂\",\"mixinVideo\":{\"name\":\"穿梭百年文化之旅 全新亚洲龙带你探访古今学堂\",\"description\":\"\",\"tvId\":8977266900,\"url\":\"http://www.iqiyi.com/v_19rvmb3r94.html\",\"albumId\":247948101,\"duration\":435,\"imageUrl\":\"http://pic5.iqiyipic.com/image/20191101/ca/f5/v_140326349_m_601_m1.jpg\",\"channelId\":26,\"subtitle\":\"穿梭百年文化之旅 全新亚洲龙带你探访古今学堂\",\"vip\":{\"payMarkUrl\":\"\",\"payMark\":0,\"vipType\":[0],\"purchaseType\":0},\"userId\":1485949142,\"period\":\"20191030\",\"exclusive\":0,\"qiyiProduced\":0,\"shortTitle\":\"全新亚洲龙带你探访古今学堂\",\"recommendation\":\"穿梭百年文化之旅\",\"contentType\":1,\"album\":{\"id\":247948101,\"name\":\"爱奇艺车体验\",\"url\":\"http://www.iqiyi.com/a_19rrhy7ga1.html\",\"imageUrl\":\"http://pic4.iqiyipic.com/image/20191023/b2/ef/a_100359174_m_601.jpg\",\"videoCount\":0,\"isSource\":1,\"exclusive\":0,\"qiyiProduced\":0,\"latestVideo\":{\"tvId\":8977266900,\"url\":\"http://www.iqiyi.com/v_19rvmb3r94.html\",\"order\":1}},\"user\":{\"id\":1485949142,\"name\":\"车体验\"}},\"kvs\":{}},{\"itemId\":9180089100,\"type\":1,\"name\":\"\",\"pageUrl\":\"\",\"imageUrl\":\"\",\"prompt\":\"\",\"subordinateTitle\":\"\",\"shortDisplayName\":\"\",\"mixinVideo\":{\"name\":\"VLOG 04：一辆小车三个名？珠海试驾全新起亚KX3傲跑\",\"description\":\"\",\"tvId\":9180089100,\"url\":\"http://www.iqiyi.com/v_19rv7v9hls.html\",\"albumId\":248087801,\"duration\":441,\"imageUrl\":\"http://pic1.iqiyipic.com/image/20191108/d6/a0/v_140776816_m_601_m1.jpg\",\"channelId\":26,\"subtitle\":\"VLOG 04：一辆小车三个名？珠海试驾全新起亚KX3傲跑\",\"vip\":{\"payMarkUrl\":\"\",\"payMark\":0,\"vipType\":[0],\"purchaseType\":0},\"userId\":0,\"period\":\"20191108\",\"exclusive\":0,\"qiyiProduced\":0,\"shortTitle\":\"珠海试驾全新起亚KX3傲跑\",\"recommendation\":\"一辆小车三个名？\",\"contentType\":1,\"album\":{\"id\":248087801,\"name\":\"趣看车\",\"url\":\"http://www.iqiyi.com/a_19rrhybhjp.html\",\"imageUrl\":\"http://pic0.iqiyipic.com/image/20191029/a3/7b/a_100360518_m_601.jpg\",\"videoCount\":0,\"isSource\":1,\"exclusive\":0,\"qiyiProduced\":0,\"latestVideo\":{\"tvId\":9180089100,\"url\":\"http://www.iqiyi.com/v_19rv7v9hls.html\",\"order\":1}}},\"kvs\":{}},{\"itemId\":9008604400,\"type\":1,\"name\":\"\",\"pageUrl\":\"\",\"imageUrl\":\"\",\"prompt\":\"\",\"subordinateTitle\":\"\",\"shortDisplayName\":\"\",\"mixinVideo\":{\"name\":\"中欧合作实力皮卡!长安凯程F70越野体验\",\"description\":\"\",\"tvId\":9008604400,\"url\":\"http://www.iqiyi.com/v_19rviqeo4c.html\",\"albumId\":200000301,\"duration\":165,\"imageUrl\":\"http://pic2.iqiyipic.com/image/20191031/32/86/v_140389974_m_601_m1.jpg\",\"channelId\":26,\"subtitle\":\"中欧合作实力皮卡!长安凯程F70越野体验\",\"vip\":{\"payMarkUrl\":\"\",\"payMark\":0,\"vipType\":[0],\"purchaseType\":0},\"userId\":1400466715,\"period\":\"20191031\",\"exclusive\":0,\"qiyiProduced\":0,\"shortTitle\":\"长安凯程F70越野体验！\",\"recommendation\":\"中欧合作实力皮卡\",\"contentType\":1,\"album\":{\"id\":200000301,\"name\":\"爱试车\",\"url\":\"http://www.iqiyi.com/a_19rrgj7135.html\",\"imageUrl\":\"http://pic9.iqiyipic.com/image/20160308/1c/1e/a_100000169_m_601_m1.jpg\",\"videoCount\":0,\"isSource\":1,\"exclusive\":0,\"qiyiProduced\":0,\"latestVideo\":{\"tvId\":9008604400,\"url\":\"http://www.iqiyi.com/v_19rviqeo4c.html\",\"order\":1}},\"user\":{\"id\":1400466715,\"name\":\"爱试车\"}},\"kvs\":{}},{\"itemId\":9027424100,\"type\":1,\"name\":\"\",\"pageUrl\":\"\",\"imageUrl\":\"\",\"prompt\":\"\",\"subordinateTitle\":\"\",\"shortDisplayName\":\"\",\"mixinVideo\":{\"name\":\"邻家女孩体验奢华豪车 玥玥试驾宾利慕尚\",\"description\":\"\",\"tvId\":9027424100,\"url\":\"http://www.iqiyi.com/v_19rvj91y4o.html\",\"albumId\":200490801,\"duration\":438,\"imageUrl\":\"http://pic4.iqiyipic.com/image/20191101/25/f4/v_140433390_m_601_m2.jpg\",\"channelId\":26,\"subtitle\":\"邻家女孩体验奢华豪车 玥玥试驾宾利慕尚\",\"vip\":{\"payMarkUrl\":\"\",\"payMark\":0,\"vipType\":[0],\"purchaseType\":0},\"userId\":1485949142,\"period\":\"20191101\",\"exclusive\":1,\"qiyiProduced\":1,\"shortTitle\":\"无尽奢华玥玥试驾宾利慕尚\",\"recommendation\":\"邻家女孩体验奢华豪车\",\"contentType\":1,\"album\":{\"id\":200490801,\"name\":\"爱奇艺车体验\",\"url\":\"http://www.iqiyi.com/a_19rrgi8wgt.html\",\"imageUrl\":\"http://pic6.iqiyipic.com/image/20140408/d7/26/ff/a_100003787_m_601.jpg\",\"videoCount\":0,\"isSource\":1,\"exclusive\":1,\"qiyiProduced\":1,\"latestVideo\":{\"tvId\":9027424100,\"url\":\"http://www.iqiyi.com/v_19rvj91y4o.html\",\"order\":1}},\"user\":{\"id\":1485949142,\"name\":\"车体验\"}},\"kvs\":{}}],\"title\":{\"name\":\"汽车\",\"icon\":\"carplay\",\"link\":\"//auto.iqiyi.com/\",\"moreText\":\"更多\",\"subNav\":[{\"name\":\"金口玉阎\",\"pageUrl\":\"http://www.iqiyi.com/a_19rrhszdz1.html\",\"imageUrl\":\"\",\"kvs\":{\"width\":\"\"}},{\"name\":\"车体验\",\"pageUrl\":\"http://www.iqiyi.com/kszt/aqycty.html\",\"imageUrl\":\"\",\"kvs\":{\"width\":\"\"}},{\"name\":\"女司机\",\"pageUrl\":\"http://www.iqiyi.com/kszt/nsj.html\",\"imageUrl\":\"\",\"kvs\":{\"width\":\"\"}},{\"name\":\"爱试车\",\"pageUrl\":\"http://www.iqiyi.com/a_19rrgj7135.html\",\"imageUrl\":\"\",\"kvs\":{\"width\":\"\"}}]}}'\n",
      "\n",
      "    :source-data='{\"videos\":[{\"itemId\":9404684300,\"type\":1,\"name\":\"\",\"pageUrl\":\"\",\"imageUrl\":\"\",\"prompt\":\"\",\"subordinateTitle\":\"\",\"shortDisplayName\":\"\",\"mixinVideo\":{\"name\":\"摩托罗拉Razr折叠屏手机上手体验\",\"description\":\"\",\"tvId\":9404684300,\"url\":\"http://www.iqiyi.com/v_19rvc6abmo.html\",\"albumId\":0,\"duration\":134,\"imageUrl\":\"http://pic5.iqiyipic.com/image/20191116/46/9e/v_141167866_m_601.jpg\",\"channelId\":30,\"subtitle\":\"\",\"vip\":{\"payMarkUrl\":\"\",\"payMark\":0,\"vipType\":[0],\"purchaseType\":0},\"userId\":1065007952,\"period\":\"20191116\",\"exclusive\":0,\"qiyiProduced\":0,\"shortTitle\":\"折叠屏Moto Razr上手体验\",\"recommendation\":\"\",\"contentType\":1,\"user\":{\"id\":1065007952,\"name\":\"爱奇艺科技\"}},\"kvs\":{}},{\"itemId\":9332652400,\"type\":1,\"name\":\"\",\"pageUrl\":\"\",\"imageUrl\":\"\",\"prompt\":\"性能史上最强\",\"subordinateTitle\":\"\",\"shortDisplayName\":\"\",\"mixinVideo\":{\"name\":\"18999 元！新 MacBook Pro 体验：超大屏，性能史上最强\",\"description\":\"\",\"tvId\":9332652400,\"url\":\"http://www.iqiyi.com/v_19rv6ft0d8.html\",\"albumId\":248521301,\"duration\":599,\"imageUrl\":\"http://pic1.iqiyipic.com/image/20191114/1c/f7/v_141069948_m_601_m1.jpg\",\"channelId\":30,\"subtitle\":\"新 MacBook Pro 体验\",\"vip\":{\"payMarkUrl\":\"\",\"payMark\":0,\"vipType\":[0],\"purchaseType\":0},\"userId\":1105508921,\"period\":\"20191114\",\"exclusive\":0,\"qiyiProduced\":0,\"shortTitle\":\"新 MacBook Pro 体验\",\"recommendation\":\"爱范儿在现场\",\"contentType\":1,\"album\":{\"id\":248521301,\"name\":\"爱范儿在现场\",\"url\":\"http://www.iqiyi.com/a_19rrhxeb7d.html\",\"imageUrl\":\"http://pic8.iqiyipic.com/image/20191114/7f/4f/a_100364789_m_601.jpg\",\"videoCount\":0,\"isSource\":1,\"exclusive\":0,\"qiyiProduced\":0,\"latestVideo\":{\"tvId\":9332652400,\"url\":\"http://www.iqiyi.com/v_19rv6ft0d8.html\",\"order\":1}},\"user\":{\"id\":1105508921,\"name\":\"爱范儿视频\"}},\"kvs\":{}},{\"itemId\":9200851800,\"type\":1,\"name\":\"\",\"pageUrl\":\"\",\"imageUrl\":\"\",\"prompt\":\"\",\"subordinateTitle\":\"\",\"shortDisplayName\":\"\",\"mixinVideo\":{\"name\":\"电视果5s体验评测\",\"description\":\"\",\"tvId\":9200851800,\"url\":\"http://www.iqiyi.com/v_19rv8ml6wk.html\",\"albumId\":205445001,\"duration\":226,\"imageUrl\":\"http://pic0.iqiyipic.com/image/20191111/df/cb/v_140823636_m_601_m3.jpg\",\"channelId\":30,\"subtitle\":\"\",\"vip\":{\"payMarkUrl\":\"\",\"payMark\":0,\"vipType\":[0],\"purchaseType\":0},\"userId\":1065007952,\"period\":\"20191109\",\"exclusive\":1,\"qiyiProduced\":1,\"shortTitle\":\"电视果5s体验评测\",\"recommendation\":\"宅家追剧新神器\",\"contentType\":1,\"album\":{\"id\":205445001,\"name\":\"玩物志\",\"url\":\"http://www.iqiyi.com/a_19rrha8j51.html\",\"imageUrl\":\"http://pic0.iqiyipic.com/image/20170320/22/f0/a_100039489_m_601_m2.jpg\",\"videoCount\":0,\"isSource\":1,\"exclusive\":1,\"qiyiProduced\":1,\"latestVideo\":{\"tvId\":9200851800,\"url\":\"http://www.iqiyi.com/v_19rv8ml6wk.html\",\"order\":1}},\"user\":{\"id\":1065007952,\"name\":\"爱奇艺科技\"}},\"kvs\":{}},{\"itemId\":8986443400,\"type\":1,\"name\":\"\",\"pageUrl\":\"\",\"imageUrl\":\"http://pic3.iqiyipic.com/common/lego/20191031/e8d5386d52b049eabc0a3392fece56e7.jpg\",\"prompt\":\"\",\"subordinateTitle\":\"\",\"shortDisplayName\":\"\",\"mixinVideo\":{\"name\":\"《雄辩》特别版之“追更神器”上新了！\",\"description\":\"为科技而生，为科技发声。大家好，我是互联网信徒王冠雄。想必各位僵尸粉们已经发现了，雄辩科技show第二季画风完全不一样了。不仅第一次以直播的方式跟大家见面，而且还请来了养眼的小仙女和男神助阵。不知道大家发现没有，电视正在成为一个大家很熟悉、也充满困惑的存在。说熟悉是因为我们每个人无论男女老少都跟电视有过亲密接触，困惑在于想要玩转电视越来越不容易了。而对于电视产业链来讲，一方面观众正在重回客厅，在电视上消费的时间正在逐步增加，对观看体验以及对更大屏的需求也越来越高，而另一方面如何发力“客厅经济”，卖卖电视、搞搞硬件与软件的互联网+是不是就行了呢？\\n\\n\",\"tvId\":8986443400,\"url\":\"http://www.iqiyi.com/v_19rvmfbffo.html\",\"albumId\":242158601,\"duration\":1706,\"imageUrl\":\"http://pic0.iqiyipic.com/image/20191101/e5/ab/v_140344849_m_601_m2.jpg\",\"channelId\":30,\"subtitle\":\"\",\"vip\":{\"payMarkUrl\":\"\",\"payMark\":0,\"vipType\":[0],\"purchaseType\":0},\"userId\":1366962507,\"period\":\"20191030\",\"exclusive\":1,\"qiyiProduced\":1,\"shortTitle\":\"雄辩特别版之\\\"追更神器\\\"上新了\",\"recommendation\":\"\",\"contentType\":1,\"album\":{\"id\":242158601,\"name\":\"雄辩科技SHOW\",\"url\":\"http://www.iqiyi.com/a_19rrhsaicl.html\",\"imageUrl\":\"http://pic3.iqiyipic.com/image/20190615/b7/7d/a_100301879_m_601_m3.jpg\",\"videoCount\":0,\"isSource\":1,\"exclusive\":1,\"qiyiProduced\":1,\"latestVideo\":{\"tvId\":8986443400,\"url\":\"http://www.iqiyi.com/v_19rvmfbffo.html\",\"order\":1}},\"user\":{\"id\":1366962507,\"name\":\"雄辩科技SHOW\"}},\"kvs\":{\"defImg_webp\":\"http://pic3.iqiyipic.com/common/lego/20191031/e8d5386d52b049eabc0a3392fece56e7.webp\"}},{\"itemId\":9183960300,\"type\":1,\"name\":\"\",\"pageUrl\":\"\",\"imageUrl\":\"\",\"prompt\":\"\",\"subordinateTitle\":\"\",\"shortDisplayName\":\"\",\"mixinVideo\":{\"name\":\"大疆FPV数字图传｜啥？我六千块只买到入门穿越机配件？\",\"description\":\"青春如此美妙，一起放开了造！\",\"tvId\":9183960300,\"url\":\"http://www.iqiyi.com/v_19rv7sngjk.html\",\"albumId\":219605001,\"duration\":320,\"imageUrl\":\"http://pic3.iqiyipic.com/image/20191108/b2/0a/v_140785168_m_601.jpg\",\"channelId\":30,\"subtitle\":\"六千只买入门无人机配件\",\"vip\":{\"payMarkUrl\":\"\",\"payMark\":0,\"vipType\":[0],\"purchaseType\":0},\"userId\":2329839365,\"period\":\"20191108\",\"exclusive\":0,\"qiyiProduced\":0,\"shortTitle\":\"六千只买入门无人机配件\",\"recommendation\":\"改变世界的是脑洞\",\"contentType\":1,\"album\":{\"id\":219605001,\"name\":\"MakerBeta超能技术宅\",\"url\":\"http://www.iqiyi.com/a_19rrh16grp.html\",\"imageUrl\":\"http://pic6.iqiyipic.com/image/20171205/13/29/a_100114995_m_601.jpg\",\"videoCount\":49,\"isSource\":1,\"exclusive\":0,\"qiyiProduced\":0,\"latestVideo\":{\"tvId\":9253312800,\"url\":\"http://www.iqiyi.com/v_19rv95eybw.html\",\"order\":1}},\"user\":{\"id\":2329839365,\"name\":\"超能实验室MakerBeta\"}},\"kvs\":{}},{\"itemId\":9080989300,\"type\":1,\"name\":\"\",\"pageUrl\":\"\",\"imageUrl\":\"\",\"prompt\":\"\",\"subordinateTitle\":\"\",\"shortDisplayName\":\"\",\"mixinVideo\":{\"name\":\"Vlog营业厅探访5G正式商用情况：4G尚在 5G已来\",\"description\":\"\",\"tvId\":9080989300,\"url\":\"http://www.iqiyi.com/v_19rvjh9rmg.html\",\"albumId\":0,\"duration\":158,\"imageUrl\":\"http://pic8.iqiyipic.com/image/20191103/f1/64/v_140549684_m_601_m1.jpg\",\"channelId\":30,\"subtitle\":\"\",\"vip\":{\"payMarkUrl\":\"\",\"payMark\":0,\"vipType\":[0],\"purchaseType\":0},\"userId\":1065007952,\"period\":\"20191103\",\"exclusive\":0,\"qiyiProduced\":0,\"shortTitle\":\"Vlog营业厅探访5G商用情况\",\"recommendation\":\"\",\"contentType\":1,\"user\":{\"id\":1065007952,\"name\":\"爱奇艺科技\"}},\"kvs\":{}},{\"itemId\":9062860400,\"type\":1,\"name\":\"华为5G开售一分钟破亿\",\"pageUrl\":\"\",\"imageUrl\":\"\",\"prompt\":\"\",\"subordinateTitle\":\"\",\"shortDisplayName\":\"\",\"mixinVideo\":{\"name\":\"华为传来好消息：开售一分钟破亿，Mate30 5G版引爆5G手机狂潮！\",\"description\":\"最新科技资讯爆料上手，第一时间让你了解科技最新资讯，真机上手测评！\",\"tvId\":9062860400,\"url\":\"http://www.iqiyi.com/v_19rvjrpov0.html\",\"albumId\":247172501,\"duration\":76,\"imageUrl\":\"http://pic7.iqiyipic.com/image/20191102/ad/cf/v_140512630_m_601.jpg\",\"channelId\":30,\"subtitle\":\"开门红！华为Mate30 5G首销破十万，网友：看哭iPhone11！\",\"vip\":{\"payMarkUrl\":\"\",\"payMark\":0,\"vipType\":[0],\"purchaseType\":0},\"userId\":1547538883,\"period\":\"20191102\",\"exclusive\":0,\"qiyiProduced\":0,\"shortTitle\":\"华为5G开售一分钟破亿\",\"recommendation\":\"最新科技资讯爆料上手\",\"contentType\":1,\"album\":{\"id\":247172501,\"name\":\"小研科技数码测评中心\",\"url\":\"http://www.iqiyi.com/a_19rrhz0t89.html\",\"imageUrl\":\"http://pic7.iqiyipic.com/image/20190919/71/01/a_100351467_m_601.jpg\",\"videoCount\":300,\"isSource\":1,\"exclusive\":0,\"qiyiProduced\":0,\"latestVideo\":{\"tvId\":9396371700,\"url\":\"http://www.iqiyi.com/v_19rvc18n14.html\",\"order\":1}},\"user\":{\"id\":1547538883,\"name\":\"小研哥测评\"}},\"kvs\":{}},{\"itemId\":9044018100,\"type\":1,\"name\":\"讯飞翻译机国外好用吗？\",\"pageUrl\":\"\",\"imageUrl\":\"\",\"prompt\":\"\",\"subordinateTitle\":\"\",\"shortDisplayName\":\"\",\"mixinVideo\":{\"name\":\"讯飞翻译机国外好用吗？【BB Time第231期】\",\"description\":\"TESTV逗逼们的日常\",\"tvId\":9044018100,\"url\":\"http://www.iqiyi.com/v_19rviz0kwo.html\",\"albumId\":203889501,\"duration\":737,\"imageUrl\":\"http://pic7.iqiyipic.com/image/20191101/79/b8/v_140475377_m_601.jpg\",\"channelId\":30,\"subtitle\":\"讯飞翻译机国外好用吗？\",\"vip\":{\"payMarkUrl\":\"\",\"payMark\":0,\"vipType\":[0],\"purchaseType\":0},\"userId\":2329480038,\"period\":\"20191102\",\"exclusive\":0,\"qiyiProduced\":0,\"shortTitle\":\"讯飞翻译机国外好用吗？\",\"recommendation\":\"TESTV逗逼们的日常\",\"contentType\":1,\"album\":{\"id\":203889501,\"name\":\"TESTV|BB Time\",\"url\":\"http://www.iqiyi.com/a_19rrhai2pd.html\",\"imageUrl\":\"http://pic7.iqiyipic.com/image/20160413/5c/16/a_100024068_m_601.jpg\",\"videoCount\":0,\"isSource\":1,\"exclusive\":0,\"qiyiProduced\":0,\"latestVideo\":{\"tvId\":9286854200,\"url\":\"http://www.iqiyi.com/v_19rv59knkk.html\",\"order\":1}},\"user\":{\"id\":2329480038,\"name\":\"TESTV值不值得买\"}},\"kvs\":{}},{\"itemId\":8642459600,\"type\":1,\"name\":\"\",\"pageUrl\":\"\",\"imageUrl\":\"\",\"prompt\":\"\",\"subordinateTitle\":\"\",\"shortDisplayName\":\"\",\"mixinVideo\":{\"name\":\"iPhone11镜头下的中关村\",\"description\":\"\",\"tvId\":8642459600,\"url\":\"http://www.iqiyi.com/v_19rvgqf4xo.html\",\"albumId\":205445001,\"duration\":288,\"imageUrl\":\"http://pic2.iqiyipic.com/image/20191018/d6/d6/v_139669599_m_601.jpg\",\"channelId\":30,\"subtitle\":\"\",\"vip\":{\"payMarkUrl\":\"\",\"payMark\":0,\"vipType\":[0],\"purchaseType\":0},\"userId\":1065007952,\"period\":\"20191018\",\"exclusive\":1,\"qiyiProduced\":1,\"shortTitle\":\"iPhone11镜头下的中关村\",\"recommendation\":\"\",\"contentType\":1,\"album\":{\"id\":205445001,\"name\":\"玩物志\",\"url\":\"http://www.iqiyi.com/a_19rrha8j51.html\",\"imageUrl\":\"http://pic0.iqiyipic.com/image/20170320/22/f0/a_100039489_m_601_m2.jpg\",\"videoCount\":0,\"isSource\":1,\"exclusive\":1,\"qiyiProduced\":1,\"latestVideo\":{\"tvId\":9200851800,\"url\":\"http://www.iqiyi.com/v_19rv8ml6wk.html\",\"order\":1}},\"user\":{\"id\":1065007952,\"name\":\"爱奇艺科技\"}},\"kvs\":{}},{\"itemId\":9224005000,\"type\":1,\"name\":\"\",\"pageUrl\":\"\",\"imageUrl\":\"\",\"prompt\":\"\",\"subordinateTitle\":\"\",\"shortDisplayName\":\"\",\"mixinVideo\":{\"name\":\"坚果 Pro 3开箱体验【BB Time第234期】\",\"description\":\"TESTV逗逼们的日常\",\"tvId\":9224005000,\"url\":\"http://www.iqiyi.com/v_19rv8iwhk4.html\",\"albumId\":203889501,\"duration\":956,\"imageUrl\":\"http://pic8.iqiyipic.com/image/20191110/29/28/v_140870072_m_601.jpg\",\"channelId\":30,\"subtitle\":\"坚果 Pro 3开箱体验\",\"vip\":{\"payMarkUrl\":\"\",\"payMark\":0,\"vipType\":[0],\"purchaseType\":0},\"userId\":2329480038,\"period\":\"20191110\",\"exclusive\":0,\"qiyiProduced\":0,\"shortTitle\":\"坚果 Pro 3开箱体验\",\"recommendation\":\"TESTV逗逼们的日常\",\"contentType\":1,\"album\":{\"id\":203889501,\"name\":\"TESTV|BB Time\",\"url\":\"http://www.iqiyi.com/a_19rrhai2pd.html\",\"imageUrl\":\"http://pic7.iqiyipic.com/image/20160413/5c/16/a_100024068_m_601.jpg\",\"videoCount\":0,\"isSource\":1,\"exclusive\":0,\"qiyiProduced\":0,\"latestVideo\":{\"tvId\":9286854200,\"url\":\"http://www.iqiyi.com/v_19rv59knkk.html\",\"order\":1}},\"user\":{\"id\":2329480038,\"name\":\"TESTV值不值得买\"}},\"kvs\":{}}],\"title\":{\"name\":\"科技\",\"icon\":\"kejiplay\",\"link\":\"//tech.iqiyi.com/\",\"moreText\":\"更多\",\"subNav\":[{\"name\":\"雄辩科技SHOW\",\"pageUrl\":\"http://www.iqiyi.com/a_19rrhsaicl.html\",\"imageUrl\":\"\",\"kvs\":{\"width\":\"\"}},{\"name\":\"CESAisa\",\"pageUrl\":\"http://www.cesasia.cn/zh/home/\",\"imageUrl\":\"\",\"kvs\":{\"width\":\"\"}},{\"name\":\"玩物志\",\"pageUrl\":\"http://www.iqiyi.com/a_19rrha8j51.html\",\"imageUrl\":\"\",\"kvs\":{\"width\":\"\"}},{\"name\":\"极客说\",\"pageUrl\":\"http://www.iqiyi.com/u/1260635510\",\"imageUrl\":\"\",\"kvs\":{\"width\":\"\"}},{\"name\":\"科科情报局\",\"pageUrl\":\"http://www.iqiyi.com/kszt/kekeqingbaoju.html\",\"imageUrl\":\"\",\"kvs\":{\"width\":\"\"}},{\"name\":\"无聊的开箱\",\"pageUrl\":\"http://www.iqiyi.com/u/1522124461\",\"imageUrl\":\"\",\"kvs\":{\"width\":\"\"}}]}}'\n",
      "\n",
      "    :source-data='{\"videos\":[{\"itemId\":9300107100,\"type\":1,\"name\":\"\",\"pageUrl\":\"\",\"imageUrl\":\"http://pic1.iqiyipic.com/common/lego/20191114/280b47c3d5b84b79a87f47145494a266.gif\",\"prompt\":\"\",\"subordinateTitle\":\"\",\"shortDisplayName\":\"\",\"mixinVideo\":{\"name\":\"野人大吃房子,摄制组拍到惊人一幕!奥地利3\",\"description\":\"《XFun吃货俱乐部》，是由旅行美食达人刘雨鑫JASON和孙夏主持的一部充满正能量的美食、旅游大片。我们带你用不同的视角玩转每一个国家，寻找当地最美味的美味！如果你还没勇气自由行，你还头疼在国外找美味，那就让达人刘雨鑫和孙夏带你一起出发吧！除此之外你还可以通过节目看到超级吃货的各种Stlye，出入最有特色的酒店、狂吃街边美味、自己下厨烹饪等等。不同国家就是有不同玩法，我们是旅行享乐专家！以美食的力量打开你的心扉，在观看节目后你可以了解世界更多。让你从此爱上旅行，爱上吃！享受生活、享受Fun！\",\"tvId\":9300107100,\"url\":\"http://www.iqiyi.com/v_19rv5v6sds.html\",\"albumId\":180918601,\"duration\":1970,\"imageUrl\":\"http://pic6.iqiyipic.com/image/20191114/34/8d/v_141017498_m_601_m1.jpg\",\"channelId\":9,\"subtitle\":\"野人大吃房子,摄制组拍到惊人一幕!奥地利3\",\"vip\":{\"payMarkUrl\":\"\",\"payMark\":0,\"vipType\":[0],\"purchaseType\":0},\"userId\":1104216846,\"period\":\"20191114\",\"exclusive\":1,\"qiyiProduced\":0,\"shortTitle\":\"野人竟把房子都吃了!\",\"recommendation\":\"带你吃遍全球玩世界！\",\"contentType\":1,\"album\":{\"id\":180918601,\"name\":\"XFun吃货俱乐部\",\"url\":\"http://www.iqiyi.com/a_19rrguentx.html\",\"imageUrl\":\"http://pic8.iqiyipic.com/image/20180115/9a/b7/a_50909186_m_601_m10.jpg\",\"videoCount\":0,\"isSource\":1,\"exclusive\":1,\"qiyiProduced\":0,\"latestVideo\":{\"tvId\":9300107100,\"url\":\"http://www.iqiyi.com/v_19rv5v6sds.html\",\"order\":1}},\"user\":{\"id\":1104216846,\"name\":\"XFun吃货俱乐部官号\"}},\"kvs\":{\"defImg_webp\":\"http://pic1.iqiyipic.com/common/lego/20191114/280b47c3d5b84b79a87f47145494a266.webp\"}},{\"itemId\":9184887200,\"type\":1,\"name\":\"\",\"pageUrl\":\"\",\"imageUrl\":\"http://pic0.iqiyipic.com/common/lego/20191109/94977da92f194e5795762c55a72094f1.jpg\",\"prompt\":\"\",\"subordinateTitle\":\"\",\"shortDisplayName\":\"生吃螃蟹竟需要排队\",\"mixinVideo\":{\"name\":\"胆大作死！这年头生吃螃蟹得排队？提前两个月你都订不到！宁波1\",\"description\":\"吃货江湖，血雨腥风，没人领路怎能行？如何从门徒成长为吃货掌门人？如何从吃货小白变身吃货大人？跟着我们，吃遍神州，任他翻江倒海，我们踏浪而行！\",\"tvId\":9184887200,\"url\":\"http://www.iqiyi.com/v_19rv7rxpl8.html\",\"albumId\":217880201,\"duration\":2175,\"imageUrl\":\"http://pic6.iqiyipic.com/image/20191108/0e/0e/v_140787235_m_601_m1.jpg\",\"channelId\":9,\"subtitle\":\"胆大作死！这年头生吃螃蟹得排队？提前两个月你都订不到！宁波1\",\"vip\":{\"payMarkUrl\":\"\",\"payMark\":0,\"vipType\":[0],\"purchaseType\":0},\"userId\":1425218430,\"period\":\"20191109\",\"exclusive\":1,\"qiyiProduced\":0,\"shortTitle\":\"生吃螃蟹竟需要排队！\",\"recommendation\":\"中华美食带你吃起来！\",\"contentType\":1,\"album\":{\"id\":217880201,\"name\":\"路见不平来碗Fun（XFun吃货俱乐部国内版）\",\"url\":\"http://www.iqiyi.com/a_19rrhcnz6t.html\",\"imageUrl\":\"http://pic0.iqiyipic.com/image/20180115/01/04/a_100106479_m_601_m3.jpg\",\"videoCount\":0,\"isSource\":1,\"exclusive\":1,\"qiyiProduced\":0,\"latestVideo\":{\"tvId\":9184887200,\"url\":\"http://www.iqiyi.com/v_19rv7rxpl8.html\",\"order\":1}},\"user\":{\"id\":1425218430,\"name\":\"路见不平来碗Fun\"}},\"kvs\":{\"defImg_webp\":\"http://pic0.iqiyipic.com/common/lego/20191109/94977da92f194e5795762c55a72094f1.webp\"}},{\"itemId\":-25282256812,\"type\":4,\"name\":\"启程寻枫！\",\"pageUrl\":\"https://www.iqiyi.com/kszt/ontario2019.html\",\"imageUrl\":\"http://pic3.iqiyipic.com/common/lego/20191111/73149053623345449902858e8f3e16c8.jpg\",\"prompt\":\"遇见安大略绝美秋色\",\"subordinateTitle\":\"\",\"shortDisplayName\":\"安大略秋季赏枫之旅\",\"kvs\":{\"defImg_webp\":\"http://pic3.iqiyipic.com/common/lego/20191111/73149053623345449902858e8f3e16c8.webp\"}},{\"itemId\":9134600200,\"type\":1,\"name\":\"土豪小镇用矿泉水养鱼\",\"pageUrl\":\"\",\"imageUrl\":\"http://pic2.iqiyipic.com/common/lego/20191107/68ae8329cbfb4696916fdde131bdb854.jpg\",\"prompt\":\"\",\"subordinateTitle\":\"\",\"shortDisplayName\":\"土豪小镇用矿泉水养鱼\",\"mixinVideo\":{\"name\":\"国内卖30元一瓶的矿泉水，这个小镇竟然用来养鱼！奥地利2\",\"description\":\"《XFun吃货俱乐部》，是由旅行美食达人刘雨鑫JASON和孙夏主持的一部充满正能量的美食、旅游大片。我们带你用不同的视角玩转每一个国家，寻找当地最美味的美味！如果你还没勇气自由行，你还头疼在国外找美味，那就让达人刘雨鑫和孙夏带你一起出发吧！除此之外你还可以通过节目看到超级吃货的各种Stlye，出入最有特色的酒店、狂吃街边美味、自己下厨烹饪等等。不同国家就是有不同玩法，我们是旅行享乐专家！以美食的力量打开你的心扉，在观看节目后你可以了解世界更多。让你从此爱上旅行，爱上吃！享受生活、享受Fun！\",\"tvId\":9134600200,\"url\":\"http://www.iqiyi.com/v_19rv7hyqg4.html\",\"albumId\":180918601,\"duration\":1837,\"imageUrl\":\"http://pic5.iqiyipic.com/image/20191106/5d/99/v_140679544_m_601_m1.jpg\",\"channelId\":9,\"subtitle\":\"国内卖30元一瓶的矿泉水，这个小镇竟然用来养鱼！奥地利2\",\"vip\":{\"payMarkUrl\":\"\",\"payMark\":0,\"vipType\":[0],\"purchaseType\":0},\"userId\":1104216846,\"period\":\"20191107\",\"exclusive\":1,\"qiyiProduced\":0,\"shortTitle\":\"土豪小镇用矿泉水养鱼！\",\"recommendation\":\"带你吃遍全球玩世界！\",\"contentType\":1,\"album\":{\"id\":180918601,\"name\":\"XFun吃货俱乐部\",\"url\":\"http://www.iqiyi.com/a_19rrguentx.html\",\"imageUrl\":\"http://pic8.iqiyipic.com/image/20180115/9a/b7/a_50909186_m_601_m10.jpg\",\"videoCount\":0,\"isSource\":1,\"exclusive\":1,\"qiyiProduced\":0,\"latestVideo\":{\"tvId\":9300107100,\"url\":\"http://www.iqiyi.com/v_19rv5v6sds.html\",\"order\":1}},\"user\":{\"id\":1104216846,\"name\":\"XFun吃货俱乐部官号\"}},\"kvs\":{\"defImg_webp\":\"http://pic2.iqiyipic.com/common/lego/20191107/68ae8329cbfb4696916fdde131bdb854.webp\"}}],\"title\":{\"name\":\"旅游\",\"icon\":\"lvyouplay\",\"link\":\"//www.iqiyi.com/lvyou/\",\"moreText\":\"更多\",\"subNav\":[{\"name\":\"吃货俱乐部\",\"pageUrl\":\"http://www.iqiyi.com/u/1104216846\",\"imageUrl\":\"\",\"kvs\":{\"width\":\"\"}},{\"name\":\"来碗FUN\",\"pageUrl\":\"http://www.iqiyi.com/u/1425218430\",\"imageUrl\":\"\",\"kvs\":{\"width\":\"\"}},{\"name\":\"微观旅行\",\"pageUrl\":\"http://www.iqiyi.com/lvyou/mt.html\",\"imageUrl\":\"\",\"kvs\":{\"width\":\"\"}},{\"name\":\"执牛耳说\",\"pageUrl\":\"http://www.iqiyi.com/kszt/bellwether.html\",\"imageUrl\":\"\",\"kvs\":{\"width\":\"\"}}]}}'\n",
      "\n",
      "    :source-data='{\"videos\":[{\"itemId\":9368512200,\"type\":1,\"name\":\"扭伤？骨折？如何正确急救\",\"pageUrl\":\"\",\"imageUrl\":\"\",\"prompt\":\"\",\"subordinateTitle\":\"\",\"shortDisplayName\":\"扭伤？骨折？如何正确急救\",\"mixinVideo\":{\"name\":\"来吧大医生之工伤了怎么办？\",\"description\":\"《来吧大医生》邀请医生大咖以脱口秀的形式讲述社会热点医疗话题，科普医疗知识，是一档爱奇艺健康自制的健康服务类节目。医生一改往日冰冷形象，展现有态度有温度的医疗科普。捕捉养生热点，传递健康理念，纠正健康误区，让您在轻松的气氛中，快速汲取健康知识。\",\"tvId\":9368512200,\"url\":\"http://www.iqiyi.com/v_19rv6yocys.html\",\"albumId\":234685101,\"duration\":616,\"imageUrl\":\"http://pic2.iqiyipic.com/image/20191115/d0/63/v_141121962_m_601_m1.jpg\",\"channelId\":32,\"subtitle\":\"意外受伤怎么办？\",\"vip\":{\"payMarkUrl\":\"\",\"payMark\":0,\"vipType\":[0],\"purchaseType\":0},\"userId\":1673984119,\"period\":\"20191115\",\"exclusive\":1,\"qiyiProduced\":1,\"shortTitle\":\"意外受伤怎么办？\",\"recommendation\":\"权威大医生为医疗发声\",\"contentType\":1,\"album\":{\"id\":234685101,\"name\":\"来吧大医生\",\"url\":\"http://www.iqiyi.com/a_19rrh2m7k1.html\",\"imageUrl\":\"http://pic8.iqiyipic.com/image/20181204/4c/6e/a_100226474_m_601.jpg\",\"videoCount\":0,\"isSource\":1,\"exclusive\":1,\"qiyiProduced\":1,\"latestVideo\":{\"tvId\":9368512200,\"url\":\"http://www.iqiyi.com/v_19rv6yocys.html\",\"order\":1}},\"user\":{\"id\":1673984119,\"name\":\"来吧大医生\"}},\"kvs\":{}},{\"itemId\":9332087400,\"type\":1,\"name\":\"让年轻人学会赶走疲惫\",\"pageUrl\":\"\",\"imageUrl\":\"\",\"prompt\":\"\",\"subordinateTitle\":\"\",\"shortDisplayName\":\"让年轻人学会赶走疲惫\",\"mixinVideo\":{\"name\":\"瑜言者之瑜伽小队长方沧沧 让年轻人学会赶走疲惫\",\"description\":\"爱奇艺健康频道出品的一档瑜伽人文访谈节目，邀请影视明星、瑜伽导师以及健康科普嘉宾深度对话，探讨瑜伽动作里修身与修心的力量。\",\"tvId\":9332087400,\"url\":\"http://www.iqiyi.com/v_19rv6gq6tg.html\",\"albumId\":247544101,\"duration\":577,\"imageUrl\":\"http://pic8.iqiyipic.com/image/20191114/81/6a/v_141068878_m_601_m2.jpg\",\"channelId\":32,\"subtitle\":\"瑜言者之瑜伽小队长方沧沧 让年轻人学会赶走疲惫\",\"vip\":{\"payMarkUrl\":\"\",\"payMark\":0,\"vipType\":[0],\"purchaseType\":0},\"userId\":1506948811,\"period\":\"20191114\",\"exclusive\":1,\"qiyiProduced\":1,\"shortTitle\":\"让年轻人学会赶走疲惫\",\"recommendation\":\"当瑜伽成为一种习惯\",\"contentType\":1,\"album\":{\"id\":247544101,\"name\":\"瑜言者\",\"url\":\"http://www.iqiyi.com/a_19rrhxzio9.html\",\"imageUrl\":\"http://pic6.iqiyipic.com/image/20191008/b4/42/a_100355154_m_601_m2.jpg\",\"videoCount\":0,\"isSource\":1,\"exclusive\":1,\"qiyiProduced\":1,\"latestVideo\":{\"tvId\":9332087400,\"url\":\"http://www.iqiyi.com/v_19rv6gq6tg.html\",\"order\":1}},\"user\":{\"id\":1506948811,\"name\":\"瑜言者\"}},\"kvs\":{}},{\"itemId\":9346292600,\"type\":1,\"name\":\"有家鲜厨房！番茄豆腐汤\",\"pageUrl\":\"\",\"imageUrl\":\"\",\"prompt\":\"\",\"subordinateTitle\":\"\",\"shortDisplayName\":\"有家鲜厨房！番茄豆腐汤\",\"mixinVideo\":{\"name\":\"有家鲜厨房：低卡番茄豆腐汤\",\"description\":\"\",\"tvId\":9346292600,\"url\":\"http://www.iqiyi.com/v_19rv67n8yc.html\",\"albumId\":226982401,\"duration\":67,\"imageUrl\":\"http://pic2.iqiyipic.com/image/20191115/1d/e6/v_141090626_m_601_m1.jpg\",\"channelId\":32,\"subtitle\":\"低卡番茄豆腐汤\",\"vip\":{\"payMarkUrl\":\"\",\"payMark\":0,\"vipType\":[0],\"purchaseType\":0},\"userId\":1395715878,\"period\":\"20191121\",\"exclusive\":0,\"qiyiProduced\":0,\"shortTitle\":\"低卡番茄豆腐汤\",\"recommendation\":\"鲜享优生活\",\"contentType\":1,\"album\":{\"id\":226982401,\"name\":\"有家鲜生活\",\"url\":\"http://www.iqiyi.com/a_19rrh6qpgt.html\",\"imageUrl\":\"http://pic2.iqiyipic.com/image/20180617/eb/9c/a_100154555_m_601_m1.jpg\",\"videoCount\":0,\"isSource\":1,\"exclusive\":0,\"qiyiProduced\":0,\"latestVideo\":{\"tvId\":9346292600,\"url\":\"http://www.iqiyi.com/v_19rv67n8yc.html\",\"order\":1}},\"user\":{\"id\":1395715878,\"name\":\"有家鲜生活\"}},\"kvs\":{}},{\"itemId\":9354110700,\"type\":1,\"name\":\"偏方和生发仪器谁更防秃？\",\"pageUrl\":\"\",\"imageUrl\":\"http://pic3.iqiyipic.com/common/lego/20191115/0a1252b3dd21436dadf3b0b015c1bb80.jpg\",\"prompt\":\"\",\"subordinateTitle\":\"\",\"shortDisplayName\":\"偏方和生发仪器谁更防秃？\",\"mixinVideo\":{\"name\":\"弦子表妹小哪吒空降现场 生发偏方和生发仪器谁更防秃？\",\"description\":\"由全国顶级中青年专家坐镇，为观众献上最前沿的观点碰撞，传递正向整形观念，带你走出正确医美第一步。\",\"tvId\":9354110700,\"url\":\"http://www.iqiyi.com/v_19rv6dlhmo.html\",\"albumId\":247801601,\"duration\":2163,\"imageUrl\":\"http://pic6.iqiyipic.com/image/20191115/2c/44/v_141106172_m_601_m3.jpg\",\"channelId\":32,\"subtitle\":\"突如其来的假发\",\"vip\":{\"payMarkUrl\":\"\",\"payMark\":0,\"vipType\":[0],\"purchaseType\":0},\"userId\":1433074399,\"period\":\"20191115\",\"exclusive\":0,\"qiyiProduced\":0,\"shortTitle\":\"突如其来的假发\",\"recommendation\":\"时尚医美 颜值有度\",\"contentType\":1,\"album\":{\"id\":247801601,\"name\":\"《女魔头驾到》第三季\",\"url\":\"http://www.iqiyi.com/a_19rrhy4z1p.html\",\"imageUrl\":\"http://pic0.iqiyipic.com/image/20191017/dc/b3/a_100357709_m_601.jpg\",\"videoCount\":12,\"isSource\":1,\"exclusive\":0,\"qiyiProduced\":0,\"latestVideo\":{\"tvId\":9354110700,\"url\":\"http://www.iqiyi.com/v_19rv6dlhmo.html\",\"order\":1}},\"user\":{\"id\":1433074399,\"name\":\"女魔头驾到频道\"}},\"kvs\":{\"defImg_webp\":\"http://pic3.iqiyipic.com/common/lego/20191115/0a1252b3dd21436dadf3b0b015c1bb80.webp\"}}],\"title\":{\"name\":\"健康\",\"icon\":\"healplay\",\"link\":\"//www.iqiyi.com/health/\",\"moreText\":\"更多\",\"subNav\":[{\"name\":\"来吧大医生\",\"pageUrl\":\"http://www.iqiyi.com/a_19rrh2m7k1.html\",\"imageUrl\":\"\",\"kvs\":{\"width\":\"\"}},{\"name\":\"瑜言者\",\"pageUrl\":\"http://www.iqiyi.com/a_19rrhxzio9.html\",\"imageUrl\":\"\",\"kvs\":{\"width\":\"\"}},{\"name\":\"深读视频\",\"pageUrl\":\"http://www.iqiyi.com/a_19rrh9qzg9.html\",\"imageUrl\":\"\",\"kvs\":{\"width\":\"\"}},{\"name\":\"2019中国肿瘤学大会\",\"pageUrl\":\"http://www.iqiyi.com/kszt/2019zlxdh.html\",\"imageUrl\":\"\",\"kvs\":{\"width\":\"\"}}]}}'\n",
      "\n",
      "    :source-data='{\"videos\":[{\"itemId\":9464122800,\"type\":1,\"name\":\"\",\"pageUrl\":\"\",\"imageUrl\":\"\",\"prompt\":\"\",\"subordinateTitle\":\"\",\"shortDisplayName\":\"\",\"mixinVideo\":{\"name\":\"台妹大调查：为什么双十一让台湾人又爱又恨\",\"description\":\"别闹了台妹是海峡卫视旗下汤圆视频原创的大学生街采节目，针对两岸大学生的热门话题进行讨论。\",\"tvId\":9464122800,\"url\":\"http://www.iqiyi.com/v_19rvd5lfj0.html\",\"albumId\":242171001,\"duration\":209,\"imageUrl\":\"http://pic0.iqiyipic.com/image/20191118/b0/b3/v_141228430_m_601_m1.jpg\",\"channelId\":22,\"subtitle\":\"台湾人怎么过双十一？\",\"vip\":{\"payMarkUrl\":\"\",\"payMark\":0,\"vipType\":[0],\"purchaseType\":0},\"userId\":1581244384,\"period\":\"20191117\",\"exclusive\":0,\"qiyiProduced\":0,\"shortTitle\":\"台湾人怎么过双十一？\",\"recommendation\":\"大学生街采节目\",\"contentType\":1,\"album\":{\"id\":242171001,\"name\":\"别闹了台妹\",\"url\":\"http://www.iqiyi.com/a_19rrhsaf4l.html\",\"imageUrl\":\"http://pic2.iqiyipic.com/image/20190610/8d/de/a_100302004_m_601.jpg\",\"videoCount\":0,\"isSource\":1,\"exclusive\":0,\"qiyiProduced\":0,\"latestVideo\":{\"tvId\":9464122800,\"url\":\"http://www.iqiyi.com/v_19rvd5lfj0.html\",\"order\":1}},\"user\":{\"id\":1581244384,\"name\":\"别闹了台妹\"}}},{\"itemId\":9505077100,\"type\":1,\"name\":\"\",\"pageUrl\":\"\",\"imageUrl\":\"\",\"prompt\":\"\",\"subordinateTitle\":\"\",\"shortDisplayName\":\"\",\"mixinVideo\":{\"name\":\"如何让女生怦然心动？她们大都为这样的男生着迷\",\"description\":\"每周一三五，树根教套路，各种把妹套路，各种撩妹神技，只要持续关注我们，脱单分分钟喔！\",\"tvId\":9505077100,\"url\":\"http://www.iqiyi.com/v_19rvdv73eo.html\",\"albumId\":206459201,\"duration\":284,\"imageUrl\":\"http://pic3.iqiyipic.com/image/20191118/36/71/v_141282457_m_601_m1.jpg\",\"channelId\":22,\"subtitle\":\"女生心动瞬间全纪录\",\"vip\":{\"payMarkUrl\":\"\",\"payMark\":0,\"vipType\":[0],\"purchaseType\":0},\"userId\":1406429776,\"period\":\"20191118\",\"exclusive\":0,\"qiyiProduced\":0,\"shortTitle\":\"女生心动瞬间全纪录\",\"recommendation\":\"\",\"contentType\":1,\"album\":{\"id\":206459201,\"name\":\"《This is 套路》\",\"url\":\"http://www.iqiyi.com/a_19rrh9ldt9.html\",\"imageUrl\":\"http://pic5.iqiyipic.com/image/20170418/11/71/a_100049425_m_601_m1.jpg\",\"videoCount\":0,\"isSource\":1,\"exclusive\":0,\"qiyiProduced\":0,\"latestVideo\":{\"tvId\":9505077100,\"url\":\"http://www.iqiyi.com/v_19rvdv73eo.html\",\"order\":1}},\"user\":{\"id\":1406429776,\"name\":\"最绅士Yuppie\"}}},{\"itemId\":9507724600,\"type\":1,\"name\":\"\",\"pageUrl\":\"\",\"imageUrl\":\"\",\"prompt\":\"\",\"subordinateTitle\":\"\",\"shortDisplayName\":\"\",\"mixinVideo\":{\"name\":\"酒桌上的商业战场，被秘书一句话就解决了，这秘书不简单呀\",\"description\":\"有这样的秘书，这公司不成功都难，智慧与美貌并存，商业战场就这样的让她结束了\",\"tvId\":9507724600,\"url\":\"http://www.iqiyi.com/v_19rvdt46dw.html\",\"albumId\":200088701,\"duration\":69,\"imageUrl\":\"http://pic4.iqiyipic.com/image/20191118/c1/8a/v_141287402_m_601_m1.jpg\",\"channelId\":22,\"subtitle\":\"这么漂亮聪明的秘书，不去说相声有点可惜了\",\"vip\":{\"payMarkUrl\":\"\",\"payMark\":0,\"vipType\":[0],\"purchaseType\":0},\"userId\":264104784,\"period\":\"20191119\",\"exclusive\":0,\"qiyiProduced\":0,\"shortTitle\":\"这秘书不简单呀\",\"recommendation\":\"搞笑我们是认真的\",\"contentType\":1,\"album\":{\"id\":200088701,\"name\":\"郑云工作室\",\"url\":\"http://www.iqiyi.com/a_19rrgj9m35.html\",\"imageUrl\":\"http://pic4.iqiyipic.com/image/20151120/47/9e/a_100001031_m_601_m6.jpg\",\"videoCount\":0,\"isSource\":1,\"exclusive\":0,\"qiyiProduced\":0,\"latestVideo\":{\"tvId\":9507724600,\"url\":\"http://www.iqiyi.com/v_19rvdt46dw.html\",\"order\":1}},\"user\":{\"id\":264104784,\"name\":\"郑云工作室\"}}},{\"itemId\":9505729800,\"type\":1,\"name\":\"\",\"pageUrl\":\"\",\"imageUrl\":\"\",\"prompt\":\"\",\"subordinateTitle\":\"\",\"shortDisplayName\":\"\",\"mixinVideo\":{\"name\":\"为什么谈恋爱后男生的皮肤会变好？小姐姐解释的很到位\",\"description\":\"我们是一档街头采访原创栏目。这里有你想看的各种奇葩问题。\",\"tvId\":9505729800,\"url\":\"http://www.iqiyi.com/v_19rvduc5t0.html\",\"albumId\":246270701,\"duration\":76,\"imageUrl\":\"http://pic9.iqiyipic.com/image/20191118/12/ec/v_141283894_m_601.jpg\",\"channelId\":22,\"subtitle\":\"谈恋爱后男生皮肤会变好\",\"vip\":{\"payMarkUrl\":\"\",\"payMark\":0,\"vipType\":[0],\"purchaseType\":0},\"userId\":1746923759,\"period\":\"20191118\",\"exclusive\":0,\"qiyiProduced\":0,\"shortTitle\":\"谈恋爱后男生皮肤会变好\",\"recommendation\":\"有你想看的奇葩问题\",\"contentType\":1,\"album\":{\"id\":246270701,\"name\":\"街头小马哥\",\"url\":\"http://www.iqiyi.com/a_19rrhzprb5.html\",\"imageUrl\":\"http://pic3.iqiyipic.com/image/20190817/c6/c2/a_100342472_m_601.jpg\",\"videoCount\":0,\"isSource\":1,\"exclusive\":0,\"qiyiProduced\":0,\"latestVideo\":{\"tvId\":9505729800,\"url\":\"http://www.iqiyi.com/v_19rvduc5t0.html\",\"order\":1}},\"user\":{\"id\":1746923759,\"name\":\"街头小马哥\"}}}],\"title\":{\"name\":\"搞笑\",\"icon\":\"funnyshow\",\"link\":\"//fun.iqiyi.com/\",\"moreText\":\"更多\",\"subNav\":[{\"name\":\"欢乐精选\",\"pageUrl\":\"http://list.iqiyi.com/www/22/22169------------3-1-1-1---.html\",\"imageUrl\":\"\",\"kvs\":{\"width\":\"\"}},{\"name\":\"雷人囧事\",\"pageUrl\":\"http://list.iqiyi.com/www/22/22172------------3-1-1-1---.html\",\"imageUrl\":\"\",\"kvs\":{\"width\":\"\"}}]}}'\n",
      "\n",
      "    :source-data='{\"videos\":[{\"itemId\":9384342800,\"type\":1,\"name\":\"\",\"pageUrl\":\"\",\"imageUrl\":\"\",\"prompt\":\"\",\"subordinateTitle\":\"\",\"shortDisplayName\":\"人气韩料小店林允儿最爱\",\"mixinVideo\":{\"name\":\"无锡超人气韩料小店，除了粉红色的米酒！居然还有林允儿最爱？\",\"description\":\"\",\"tvId\":9384342800,\"url\":\"http://www.iqiyi.com/v_19rv6pampo.html\",\"albumId\":226480001,\"duration\":318,\"imageUrl\":\"http://pic5.iqiyipic.com/image/20191115/8f/ae/v_141143314_m_601_m1.jpg\",\"channelId\":21,\"subtitle\":\"无锡超人气韩料小店\",\"vip\":{\"payMarkUrl\":\"\",\"payMark\":0,\"vipType\":[0],\"purchaseType\":0},\"userId\":1472901912,\"period\":\"20191115\",\"exclusive\":0,\"qiyiProduced\":0,\"shortTitle\":\"无锡超人气韩料小店林允儿最爱\",\"recommendation\":\"\",\"contentType\":1,\"album\":{\"id\":226480001,\"name\":\"一碗的全国探店\",\"url\":\"http://www.iqiyi.com/a_19rrgxpl9p.html\",\"imageUrl\":\"http://pic1.iqiyipic.com/image/20180716/a4/c2/a_100149543_m_601_m2.jpg\",\"videoCount\":0,\"isSource\":1,\"exclusive\":0,\"qiyiProduced\":0,\"latestVideo\":{\"tvId\":9505138900,\"url\":\"http://www.iqiyi.com/v_19rvdvbb20.html\",\"order\":1}},\"user\":{\"id\":1472901912,\"name\":\"一碗编辑部\"}},\"kvs\":{}},{\"itemId\":9433280900,\"type\":1,\"name\":\"给猫咪烤鱼吃，猫急着上桌抢鱼，主人：不怕烫？\",\"pageUrl\":\"\",\"imageUrl\":\"\",\"prompt\":\"\",\"subordinateTitle\":\"\",\"shortDisplayName\":\"猫急着上桌抢烤鱼不怕烫\",\"mixinVideo\":{\"name\":\"给猫咪烤鱼吃，猫急着上桌抢鱼，主人：不怕烫？\",\"description\":\"听说秋刀鱼的滋味，猫和你都想了解，今天我就来给我家两只小猫咪烤一下秋刀鱼，让它们了解一下....\",\"tvId\":9433280900,\"url\":\"http://www.iqiyi.com/v_19rvcjjc2w.html\",\"albumId\":237924801,\"duration\":271,\"imageUrl\":\"http://pic7.iqiyipic.com/image/20191118/e9/87/v_141196644_m_601_m2.jpg\",\"channelId\":21,\"subtitle\":\"给猫咪一整条秋刀鱼，猫会是什么反应？猫：无从下口！\",\"vip\":{\"payMarkUrl\":\"\",\"payMark\":0,\"vipType\":[0],\"purchaseType\":0},\"userId\":1261008864,\"period\":\"20191116\",\"exclusive\":0,\"qiyiProduced\":0,\"shortTitle\":\"给猫咪烤鱼吃猫急着抢\",\"recommendation\":\"给猫烤鱼吃，猫急着抢\",\"contentType\":1,\"album\":{\"id\":237924801,\"name\":\"家里有两只公猫，一橘猫一蓝猫，偶尔打架斗殴，偶尔温馨日常\",\"url\":\"http://www.iqiyi.com/a_19rrhutcj1.html\",\"imageUrl\":\"http://pic8.iqiyipic.com/image/20190303/b4/21/a_100259546_m_601_m2.jpg\",\"videoCount\":0,\"isSource\":1,\"exclusive\":0,\"qiyiProduced\":0,\"latestVideo\":{\"tvId\":9433280900,\"url\":\"http://www.iqiyi.com/v_19rvcjjc2w.html\",\"order\":1}},\"user\":{\"id\":1261008864,\"name\":\"萌猫宝哥哥\"}},\"kvs\":{}},{\"itemId\":9351897700,\"type\":1,\"name\":\"\",\"pageUrl\":\"\",\"imageUrl\":\"\",\"prompt\":\"\",\"subordinateTitle\":\"\",\"shortDisplayName\":\"北京99一位的日式烧肉\",\"mixinVideo\":{\"name\":\"北京￥99一位的日式烧肉放题！无限任吃的每一顿都爱得明明白白！\",\"description\":\"\",\"tvId\":9351897700,\"url\":\"http://www.iqiyi.com/v_19rv64t3wo.html\",\"albumId\":0,\"duration\":1362,\"imageUrl\":\"http://pic2.iqiyipic.com/image/20191115/4d/26/v_141102846_m_601_m1.jpg\",\"channelId\":21,\"subtitle\":\"\",\"vip\":{\"payMarkUrl\":\"\",\"payMark\":0,\"vipType\":[0],\"purchaseType\":0},\"userId\":1455668854,\"period\":\"20191114\",\"exclusive\":0,\"qiyiProduced\":0,\"shortTitle\":\"北京99一位的日式烧肉\",\"recommendation\":\"\",\"contentType\":1,\"user\":{\"id\":1455668854,\"name\":\"大胃王鱼子酱\"}},\"kvs\":{}},{\"itemId\":9353479700,\"type\":1,\"name\":\"\",\"pageUrl\":\"\",\"imageUrl\":\"\",\"prompt\":\"\",\"subordinateTitle\":\"\",\"shortDisplayName\":\"真皮沙发该怎么辨别？\",\"mixinVideo\":{\"name\":\"真皮沙发也有假！3点辨别真皮沙发质量，4招选到好沙发！\",\"description\":\"带你解密家装工艺，破解家装难题。让你从一无所知的装修小白，变成火眼金睛的装修大圣！栏目包含各个装修过程的重要环节，让你对工程好坏不再一无所知；\\n包含各种家居建材挑选技巧，让你不再面对琳琅满目的商品无从甄别；\\n包含各种室内设计风水知识，让你的家居设计更加舒适时尚；\\n还在等什么？快来换个姿势舒舒服服学装修吧~~\",\"tvId\":9353479700,\"url\":\"http://www.iqiyi.com/v_19rv6d8bjs.html\",\"albumId\":203566201,\"duration\":188,\"imageUrl\":\"http://pic0.iqiyipic.com/image/20191115/01/c7/v_141105449_m_601_m1.jpg\",\"channelId\":21,\"subtitle\":\"真皮沙发该怎么辨别？\",\"vip\":{\"payMarkUrl\":\"\",\"payMark\":0,\"vipType\":[0],\"purchaseType\":0},\"userId\":1240063856,\"period\":\"20191114\",\"exclusive\":0,\"qiyiProduced\":0,\"shortTitle\":\"真皮沙发该怎么辨别？\",\"recommendation\":\"换个姿势学装修！\",\"contentType\":1,\"album\":{\"id\":203566201,\"name\":\"土巴兔装修的秘密\",\"url\":\"http://www.iqiyi.com/a_19rrhadlat.html\",\"imageUrl\":\"http://pic4.iqiyipic.com/image/20180510/0e/65/a_100020953_m_601_m4.jpg\",\"videoCount\":0,\"isSource\":1,\"exclusive\":0,\"qiyiProduced\":0,\"latestVideo\":{\"tvId\":9353479700,\"url\":\"http://www.iqiyi.com/v_19rv6d8bjs.html\",\"order\":1}},\"user\":{\"id\":1240063856,\"name\":\"土巴兔装修家居\"}},\"kvs\":{}}],\"title\":{\"name\":\"生活\",\"icon\":\"lifeplay\",\"link\":\"//life.iqiyi.com/\",\"moreText\":\"更多\",\"subNav\":[{\"name\":\"美食\",\"pageUrl\":\"https://list.iqiyi.com/www/21/2218-------------24-1-2-iqiyi-1-.html\",\"imageUrl\":\"\",\"kvs\":{\"width\":\"\"}},{\"name\":\"家居\",\"pageUrl\":\"http://list.iqiyi.com/www/21/1879-------------10-1-2--1-.html\",\"imageUrl\":\"\",\"kvs\":{\"width\":\"\"}},{\"name\":\"宠物\",\"pageUrl\":\"http://list.iqiyi.com/www/21/2228-------------10-1-2--1-.html\",\"imageUrl\":\"\",\"kvs\":{\"width\":\"\"}},{\"name\":\"窍门\",\"pageUrl\":\"http://list.iqiyi.com/www/21/31322-------------10-1-2--1-.html\",\"imageUrl\":\"\",\"kvs\":{\"width\":\"\"}},{\"name\":\"夏日美食大作战\",\"pageUrl\":\"http://www.iqiyi.com/kszt/xrqldzz.html\",\"imageUrl\":\"\",\"kvs\":{\"width\":\"\"}},{\"name\":\"向往的美食\",\"pageUrl\":\"http://www.iqiyi.com/kszt/xwdms.html\",\"imageUrl\":\"\",\"kvs\":{\"width\":\"\"}}]}}'\n",
      "\n",
      "    :source-data='{\"videos\":[{\"itemId\":9473726400,\"type\":1,\"name\":\"\",\"pageUrl\":\"\",\"imageUrl\":\"\",\"prompt\":\"\",\"subordinateTitle\":\"\",\"shortDisplayName\":\"\",\"mixinVideo\":{\"name\":\"面对土耳其威胁，俄军防空导弹部署叙北部前线，可压制土军战机\",\"description\":\"纵观天下之兵，洞察环球志略\",\"tvId\":9473726400,\"url\":\"http://www.iqiyi.com/v_19rvda2ap8.html\",\"albumId\":229743001,\"duration\":144,\"imageUrl\":\"http://pic4.iqiyipic.com/image/20191117/5f/92/v_141241109_m_601.jpg\",\"channelId\":28,\"subtitle\":\"俄军防空导弹部署前线\",\"vip\":{\"payMarkUrl\":\"\",\"payMark\":0,\"vipType\":[0],\"purchaseType\":0},\"userId\":2197653432,\"period\":\"20191117\",\"exclusive\":0,\"qiyiProduced\":0,\"shortTitle\":\"俄军防空导弹部署前线\",\"recommendation\":\"洞察环球志略\",\"contentType\":1,\"album\":{\"id\":229743001,\"name\":\"纵观天下之兵，洞察环球志略\",\"url\":\"http://www.iqiyi.com/a_19rrh4o3cl.html\",\"imageUrl\":\"http://pic4.iqiyipic.com/image/20180901/46/89/a_100182116_m_601.jpg\",\"videoCount\":99999,\"isSource\":1,\"exclusive\":0,\"qiyiProduced\":0,\"latestVideo\":{\"tvId\":9473746500,\"url\":\"http://www.iqiyi.com/v_19rvda1oo8.html\",\"order\":1}},\"user\":{\"id\":2197653432,\"name\":\"兵鉴堂\"}},\"kvs\":{}},{\"itemId\":9471298100,\"type\":1,\"name\":\"\",\"pageUrl\":\"\",\"imageUrl\":\"\",\"prompt\":\"\",\"subordinateTitle\":\"\",\"shortDisplayName\":\"\",\"mixinVideo\":{\"name\":\"越南自研枪械夜视镜，与国际主流比起码落后30年，烧火棍似的废物\",\"description\":\"近日，越南媒体，专门对其国内研制的一款夜视瞄准镜做了一番宣传报道。但这款夜视瞄准镜的功能究竟是如何的呢？（浔阳江上风）\",\"tvId\":9471298100,\"url\":\"http://www.iqiyi.com/v_19rvdb70ig.html\",\"albumId\":231684301,\"duration\":159,\"imageUrl\":\"http://pic4.iqiyipic.com/image/20191117/27/61/v_141237412_m_601.jpg\",\"channelId\":28,\"subtitle\":\"越南自研枪械夜视镜，号称夜间600米精准瞄准，落后国际主流30年\",\"vip\":{\"payMarkUrl\":\"\",\"payMark\":0,\"vipType\":[0],\"purchaseType\":0},\"userId\":1653668042,\"period\":\"20191117\",\"exclusive\":0,\"qiyiProduced\":0,\"shortTitle\":\"越南展示新型枪械夜视镜\",\"recommendation\":\"独特视角解读军事咨讯\",\"contentType\":1,\"album\":{\"id\":231684301,\"name\":\"强国新武器\",\"url\":\"http://www.iqiyi.com/a_19rrh4keqp.html\",\"imageUrl\":\"http://pic6.iqiyipic.com/image/20181017/b7/a0/a_100201514_m_601.jpg\",\"videoCount\":0,\"isSource\":1,\"exclusive\":0,\"qiyiProduced\":0,\"latestVideo\":{\"tvId\":9471298100,\"url\":\"http://www.iqiyi.com/v_19rvdb70ig.html\",\"order\":1}},\"user\":{\"id\":1653668042,\"name\":\"强国武器\"}},\"kvs\":{}},{\"itemId\":9456744300,\"type\":1,\"name\":\"\",\"pageUrl\":\"\",\"imageUrl\":\"\",\"prompt\":\"\",\"subordinateTitle\":\"\",\"shortDisplayName\":\"\",\"mixinVideo\":{\"name\":\"36720公斤起飞重量 3000公里时速 这款镇国神器让美国惊叹\",\"description\":\"至今仍在俄罗斯空天军服役的米格25战斗机，毫无疑问是一款俄罗斯的镇国神器，这架36吨重时速高达3倍音速的战斗机简直让人难以置信。\",\"tvId\":9456744300,\"url\":\"http://www.iqiyi.com/v_19rvcg0vls.html\",\"albumId\":220475201,\"duration\":155,\"imageUrl\":\"http://pic1.iqiyipic.com/image/20191117/87/fc/v_141221524_m_601.jpg\",\"channelId\":28,\"subtitle\":\"36吨加3000公里时速 这款镇国神器能把美军吓疯！\",\"vip\":{\"payMarkUrl\":\"\",\"payMark\":0,\"vipType\":[0],\"purchaseType\":0},\"userId\":1485852302,\"period\":\"20191117\",\"exclusive\":0,\"qiyiProduced\":0,\"shortTitle\":\"3倍音速的镇国神器\",\"recommendation\":\"3倍音速的镇国神器\",\"contentType\":1,\"album\":{\"id\":220475201,\"name\":\"军机处\",\"url\":\"http://www.iqiyi.com/a_19rrh0gsh9.html\",\"imageUrl\":\"http://pic0.iqiyipic.com/image/20180101/df/f9/a_100119332_m_601_m1.jpg\",\"videoCount\":0,\"isSource\":1,\"exclusive\":0,\"qiyiProduced\":0,\"latestVideo\":{\"tvId\":9457249200,\"url\":\"http://www.iqiyi.com/v_19rvcf3hzw.html\",\"order\":1}},\"user\":{\"id\":1485852302,\"name\":\"非迷君\"}},\"kvs\":{}},{\"itemId\":9455635500,\"type\":1,\"name\":\"\",\"pageUrl\":\"\",\"imageUrl\":\"\",\"prompt\":\"\",\"subordinateTitle\":\"\",\"shortDisplayName\":\"\",\"mixinVideo\":{\"name\":\"印度警察骑“竹马”演习，幻想着胯下高头大马，飞奔着冲向人群\",\"description\":\"最前沿的军事动态，最新鲜的军事走向，最先进的军事装备\",\"tvId\":9455635500,\"url\":\"http://www.iqiyi.com/v_19rvcgkcao.html\",\"albumId\":219861001,\"duration\":122,\"imageUrl\":\"http://pic5.iqiyipic.com/image/20191117/ff/aa/v_141220479_m_601.jpg\",\"channelId\":28,\"subtitle\":\"印度警察骑“竹马”演习\",\"vip\":{\"payMarkUrl\":\"\",\"payMark\":0,\"vipType\":[0],\"purchaseType\":0},\"userId\":1477523415,\"period\":\"20191117\",\"exclusive\":0,\"qiyiProduced\":0,\"shortTitle\":\"印度警察骑“竹马”演习\",\"recommendation\":\"世界最前沿的军事情报\",\"contentType\":1,\"album\":{\"id\":219861001,\"name\":\"狂飙军情\",\"url\":\"http://www.iqiyi.com/a_19rrh1caxx.html\",\"imageUrl\":\"http://pic0.iqiyipic.com/image/20171213/ca/c9/a_100116261_m_601.jpg\",\"videoCount\":0,\"isSource\":1,\"exclusive\":0,\"qiyiProduced\":0,\"latestVideo\":{\"tvId\":9455635500,\"url\":\"http://www.iqiyi.com/v_19rvcgkcao.html\",\"order\":1}},\"user\":{\"id\":1477523415,\"name\":\"王炸小宇宙\"}},\"kvs\":{}}],\"title\":{\"name\":\"军事\",\"icon\":\"armyplay\",\"link\":\"//mil.iqiyi.com/\",\"moreText\":\"更多\",\"subNav\":[{\"name\":\"军武次位面\",\"pageUrl\":\"http://www.iqiyi.com/u/1228616051\",\"imageUrl\":\"\",\"kvs\":{\"width\":\"\"}},{\"name\":\"中国军视网\",\"pageUrl\":\"http://www.iqiyi.com/u/1392336577\",\"imageUrl\":\"\",\"kvs\":{\"width\":\"\"}},{\"name\":\"军事奇兵\",\"pageUrl\":\"http://www.iqiyi.com/a_19rrhb9yhx.html\",\"imageUrl\":\"\",\"kvs\":{\"width\":\"\"}}]}}'\n",
      "\n",
      "    :source-data='{\"videos\":[{\"itemId\":9392953900,\"type\":1,\"name\":\"\",\"pageUrl\":\"\",\"imageUrl\":\"\",\"prompt\":\"\",\"subordinateTitle\":\"\",\"shortDisplayName\":\"\",\"mixinVideo\":{\"name\":\"王健林不管了？王思聪债务可没那么简单\",\"description\":\"近日，王思聪被列为执行人引发舆论关注，网友一致认为这只是小意思，毕竟其父王健林随随便便就给他5个亿练手。然而事情并没有这么简单，有消息传出，大连万达集团高层在香港召开的会议上表示，公司对董事长王健林之子王思聪任何债务均未提供担保，与其控制的企业也没有任何资金往来。此次是万达第一次公开回应王思聪的债务问题。对于是否可以定义为，王健林真的撒手不管了？外界也纷纷传来猜测。根据多方面资料证明，王思聪的债务，远不如1.5个小目标这么简单。\",\"tvId\":9392953900,\"url\":\"http://www.iqiyi.com/v_19rv6ufku8.html\",\"albumId\":205105001,\"duration\":212,\"imageUrl\":\"http://pic4.iqiyipic.com/image/20191115/f8/55/v_141155763_m_601.jpg\",\"channelId\":24,\"subtitle\":\"王健林不管了？王思聪债务可没那么简单\",\"vip\":{\"payMarkUrl\":\"\",\"payMark\":0,\"vipType\":[0],\"purchaseType\":0},\"userId\":1210439960,\"period\":\"20191115\",\"exclusive\":0,\"qiyiProduced\":0,\"shortTitle\":\"王健林不管王思聪债务？\",\"recommendation\":\"王健林不管王思聪债务\",\"contentType\":1,\"album\":{\"id\":205105001,\"name\":\"股市解盘【学股网】\",\"url\":\"http://www.iqiyi.com/a_19rrh9ys5h.html\",\"imageUrl\":\"http://pic2.iqiyipic.com/image/20190505/f3/d9/a_100036167_m_601_m4.jpg\",\"videoCount\":0,\"isSource\":1,\"exclusive\":0,\"qiyiProduced\":0,\"latestVideo\":{\"tvId\":9392953900,\"url\":\"http://www.iqiyi.com/v_19rv6ufku8.html\",\"order\":1}},\"user\":{\"id\":1210439960,\"name\":\"学股网出品\"}},\"kvs\":{}},{\"itemId\":9007119200,\"type\":1,\"name\":\"\",\"pageUrl\":\"\",\"imageUrl\":\"\",\"prompt\":\"\",\"subordinateTitle\":\"\",\"shortDisplayName\":\"\",\"mixinVideo\":{\"name\":\"融科技之力 传艺术之美——系列节目之雅昌\",\"description\":\"文化是民族的血脉，是人民的精神家园。传承中国文化就是对中国历史的延续，是纪录中国几千年来发展所取得的伟大成就，是对人们进行美育教育不可或缺的部分。雅昌“以艺术数据为核心，IT技术为手段，互联网为平台，为艺术行业提供综合服务，传承优秀艺术文化，提升艺术价值；满足大众艺术生活的需要，传播艺术价值，让艺术之美融入生活，让艺术品在历史的长河中留下真实的印记，让艺术品的价值得以延续和传承，向世界展现中国文化艺术无尽的力量\\n雅昌是如何从一个小的制版厂，成长到综合性的文化产业集团？这来自于客户的要求。雅昌为艺术家的艺术创作，作品的传播推广、艺术交易、艺术收藏、普及教育等方面提供全方位服务，从而传承、提升、传播艺术价值，这也成为了雅昌的经营理念\\n二十多年的时间，雅昌从籍籍无名，到屡获“全球印刷界奥斯卡”的美国印制大奖，并创造了中国世界印刷企业的夺冠记录，让印刷术的故乡重获世界的尊重。纵观雅昌发展，其核心竞争力还是对艺术的理解、热爱和坚守，是雅昌“通过‘为人民艺术服务’达成‘艺术为人民服务’”理念的不懈践行。\",\"tvId\":9007119200,\"url\":\"http://www.iqiyi.com/v_19rviryn0s.html\",\"albumId\":247002701,\"duration\":720,\"imageUrl\":\"http://pic7.iqiyipic.com/image/20191031/3b/bf/v_140386477_m_601_m1.jpg\",\"channelId\":24,\"subtitle\":\"融科技之力 传艺术之美\",\"vip\":{\"payMarkUrl\":\"\",\"payMark\":0,\"vipType\":[0],\"purchaseType\":0},\"userId\":1789726467,\"period\":\"20191031\",\"exclusive\":0,\"qiyiProduced\":0,\"shortTitle\":\"融科技之力 传艺术之美\",\"recommendation\":\"和你一起改变中国\",\"contentType\":1,\"album\":{\"id\":247002701,\"name\":\"他们正在改变中国\",\"url\":\"http://www.iqiyi.com/a_19rrhyywwx.html\",\"imageUrl\":\"http://pic5.iqiyipic.com/image/20190921/3e/0d/a_100349778_m_601_m1.jpg\",\"videoCount\":0,\"isSource\":1,\"exclusive\":0,\"qiyiProduced\":0,\"latestVideo\":{\"tvId\":9007119200,\"url\":\"http://www.iqiyi.com/v_19rviryn0s.html\",\"order\":1}},\"user\":{\"id\":1789726467,\"name\":\"中经解码\"}},\"kvs\":{}},{\"itemId\":8987376300,\"type\":1,\"name\":\"\",\"pageUrl\":\"\",\"imageUrl\":\"http://pic0.iqiyipic.com/common/lego/20191030/69f0080781ea4ed1bd1fd801b6da7179.jpg\",\"prompt\":\"\",\"subordinateTitle\":\"\",\"shortDisplayName\":\"\",\"mixinVideo\":{\"name\":\"清洁能源和长江大保护两翼齐飞——系列节目之三峡\",\"description\":\"2017年，中国长江三峡集团有限公司改制为国有独资公司。三峡集团战略定位为：主动服务长江经济带发展、“一带一路”建设等国家重大战略，在深度融入长江经济带、共抓长江大保护中发挥骨干主力作用，在促进区域可持续发展中承担基础保障功能，在推动清洁能源产业升级和创新发展中承担引领责任，推进企业深化改革，加快建成具有较强创新能力和全球竞争力的世界一流跨国清洁能源集团。\\n三峡集团全面负责三峡工程的建设与运营。历时20多年艰苦奋斗，三峡工程初步设计建设任务于2009年如期完成。目前，三峡工程已经连续8年实现175米试验性蓄水目标，防洪、航运、发电、补水等巨大综合效益显著发挥，在长江经济带发展中的重要地位和作用日益凸显，对保障流域防洪安全、航运安全、供水安全、生态安全以及我国能源安全发挥着越来越重要的作用。\\n三峡集团紧跟国家“一带一路”建设，加快“走出去”步伐，努力打造中国水电全产业链“走出去”升级版。\",\"tvId\":8987376300,\"url\":\"http://www.iqiyi.com/v_19rvmeltc0.html\",\"albumId\":247002701,\"duration\":1017,\"imageUrl\":\"http://pic1.iqiyipic.com/image/20191030/bf/84/v_140347869_m_601_m1.jpg\",\"channelId\":24,\"subtitle\":\"清洁能源和长江大保护\",\"vip\":{\"payMarkUrl\":\"\",\"payMark\":0,\"vipType\":[0],\"purchaseType\":0},\"userId\":1789726467,\"period\":\"20191030\",\"exclusive\":0,\"qiyiProduced\":0,\"shortTitle\":\"清洁能源和长江大保护\",\"recommendation\":\"和你一起改变中国\",\"contentType\":1,\"album\":{\"id\":247002701,\"name\":\"他们正在改变中国\",\"url\":\"http://www.iqiyi.com/a_19rrhyywwx.html\",\"imageUrl\":\"http://pic5.iqiyipic.com/image/20190921/3e/0d/a_100349778_m_601_m1.jpg\",\"videoCount\":0,\"isSource\":1,\"exclusive\":0,\"qiyiProduced\":0,\"latestVideo\":{\"tvId\":9007119200,\"url\":\"http://www.iqiyi.com/v_19rviryn0s.html\",\"order\":1}},\"user\":{\"id\":1789726467,\"name\":\"中经解码\"}},\"kvs\":{\"defImg_webp\":\"http://pic0.iqiyipic.com/common/lego/20191030/69f0080781ea4ed1bd1fd801b6da7179.webp\"}},{\"itemId\":9491575200,\"type\":1,\"name\":\"\",\"pageUrl\":\"\",\"imageUrl\":\"\",\"prompt\":\"\",\"subordinateTitle\":\"\",\"shortDisplayName\":\"\",\"mixinVideo\":{\"name\":\"屡陷“卫生门”,7天连锁酒店两年关店超200家\",\"description\":\"\",\"tvId\":9491575200,\"url\":\"http://www.iqiyi.com/v_19rvczfqh8.html\",\"albumId\":246520601,\"duration\":36,\"imageUrl\":\"http://pic3.iqiyipic.com/image/20191118/2d/c0/v_141258090_m_601_m2.jpg\",\"channelId\":24,\"subtitle\":\"屡陷“卫生门”,7天连锁酒店两年关店超200家\",\"vip\":{\"payMarkUrl\":\"\",\"payMark\":0,\"vipType\":[0],\"purchaseType\":0},\"userId\":0,\"period\":\"20191118\",\"exclusive\":0,\"qiyiProduced\":0,\"shortTitle\":\"7天连锁酒店两年关店超200家\",\"recommendation\":\"\",\"contentType\":1,\"album\":{\"id\":246520601,\"name\":\"爱奇艺财经日报\",\"url\":\"http://www.iqiyi.com/a_19rrhymv05.html\",\"imageUrl\":\"http://pic5.iqiyipic.com/image/20190827/12/38/a_100344968_m_601.jpg\",\"videoCount\":0,\"isSource\":1,\"exclusive\":0,\"qiyiProduced\":0,\"latestVideo\":{\"tvId\":9492010800,\"url\":\"http://www.iqiyi.com/v_19rvcyjx3w.html\",\"order\":1}}},\"kvs\":{}}],\"title\":{\"name\":\"财经\",\"icon\":\"finance\",\"link\":\"//business.iqiyi.com/\",\"moreText\":\"更多\",\"subNav\":[{\"name\":\"大头频道\",\"pageUrl\":\"http://datou.iqiyi.com/\",\"imageUrl\":\"\",\"kvs\":{\"width\":\"\"}}]}}'\n",
      "\n",
      "    if (/(android)|(like mac os x)/i.test(navigator.userAgent)) {;\n",
      "\n",
      "                                                                                                                                                    <li class=\"list-item\"><a rseat=\"711219_footer_aboutus_1\" href=\"//ir.iqiyi.com/phoenix.zhtml?c=254698&p=irol-irhome\" target=\"_blank\" class=\"link\" title=\"Investor Relations\">Investor Relations</a></li>\n",
      "\n",
      "        <script  src=\"//stc.iqiyipic.com/??gaze/uniqy/main/js/manifest-legacy.0d4cd492.js,gaze/uniqy/main/js/vendor-legacy.072f18c4.js\"></script>\n",
      "\n",
      "    var aDom=event.target.closest('a');if(!aDom){return;}\n",
      "\n",
      "        function addLoadEvent(func){if(needCdnBoce()){var oldonload=window.onload;if(typeof window.onload!==\"function\"){window.onload=func;}else{window.onload=function(){oldonload();func();};}}Ipv6Test();}\n",
      "\n",
      "function Ipv6Test(){var imgIpv6=new Image();var ipv6BiAddress='//msgv6.qy.net/qos?';var u=getCookieByName('QC005')||\"\";var pu=getCookieByName('P00003')||\"\";var rn=(new Date(1381563513000).getTime());var purl=location.href;imgIpv6.src=ipv6BiAddress+'u='+u+'&pu='+pu+'&rn='+rn+'&p1=1_10_101&ct=ipv6&t=11&mod=cn_s&purl='+purl;}\n",
      "\n",
      "var areaList=\"TW, US, HK, CA, JP, MY, KR, AU, SG, GB, MO, TH, PH, ID, IN, FR\";var jsRandom=Math.round(Math.random()*10);if(nationArea.indexOf('OVERSEA')!==-1&&areaList.indexOf(areaName)!==-1){var boceImg='https://acc-v2.if.iqiyi.com/common/lego/20190706/4dd1ee9e826c47dc9a6adfb7c43b5829.jpg';var boceT=1;var img=new Image();img.onload=function(){var res=getEntriesByName(boceImg);var jsUid=getCookieByName('QC005')||\"\";var nextHopProtocol=getPerformanceEntries(boceImg)||\"\";var params='p=pcw&l='+areaName+'&a='+res.dnsTime+'&b='+res.connTime+'&c='+res.requestTime+'&d='+res.responseTime+'&session='+jsUid+'&e='+res.totalTime+'&f='+res.sslTime+'&g='+nextHopProtocol+'&t='+boceT+'&i='+operatorName+'&h='+res.duration;var image2=new Image();image2.src='//accpb.qy.net/b.gif?'+params;};img.src=boceImg;}}catch(e){}}).catch(function(err){console&&console.log('接口请求失败了',err);})})\n",
      "\n",
      "function getEntriesByName(name){var performanceSupport=window.performance&&window.performance.timing&&window.performance.getEntriesByName;if(performanceSupport){var entries=window.performance.getEntriesByName(name);if(entries&&entries.length){var timing=entries[0];var dnsTime=timing.domainLookupEnd-timing.domainLookupStart;var connTime=timing.connectEnd-timing.connectStart;var requestTime=timing.responseStart-timing.requestStart;var responseTime=timing.responseEnd-timing.responseStart;var sslTime=(timing.secureConnectionStart&&timing.connectEnd)?(timing.connectEnd-timing.secureConnectionStart):0;var totalTime=dnsTime+connTime+requestTime+responseTime;var duration=timing.duration||\"\";return{totalTime:totalTime,duration:duration,dnsTime:dnsTime,connTime:connTime,requestTime:requestTime,responseTime:responseTime,sslTime:sslTime}}}\n",
      "\n"
     ]
    }
   ],
   "source": [
    "for line in urlopen('https://www.iqiyi.com'):\n",
    "    line = line.decode('utf-8')  # Decoding the binary data to text.\n",
    "    if 'est' in line or 'EDT' in line:  # look for Eastern Time\n",
    "        print(line)"
   ]
  },
  {
   "cell_type": "code",
   "execution_count": 31,
   "metadata": {},
   "outputs": [],
   "source": [
    "# for line in urlopen('https://www.douban.com'):\n",
    "#     line = line.decode('utf-8')  # Decoding the binary data to text.\n",
    "#     if 'est' in line or 'EDT' in line:  # look for Eastern Time\n",
    "#         print(line)"
   ]
  },
  {
   "cell_type": "markdown",
   "metadata": {},
   "source": [
    "# 日期和时间"
   ]
  },
  {
   "cell_type": "code",
   "execution_count": 32,
   "metadata": {
    "collapsed": true
   },
   "outputs": [],
   "source": [
    "# dates are easily constructed and formatted\n",
    "from datetime import date"
   ]
  },
  {
   "cell_type": "code",
   "execution_count": 33,
   "metadata": {
    "collapsed": true
   },
   "outputs": [],
   "source": [
    "now = date.today()"
   ]
  },
  {
   "cell_type": "code",
   "execution_count": 34,
   "metadata": {},
   "outputs": [
    {
     "data": {
      "text/plain": [
       "datetime.date(2019, 11, 18)"
      ]
     },
     "execution_count": 34,
     "metadata": {},
     "output_type": "execute_result"
    }
   ],
   "source": [
    "now"
   ]
  },
  {
   "cell_type": "code",
   "execution_count": 35,
   "metadata": {},
   "outputs": [
    {
     "data": {
      "text/plain": [
       "'11-18-19. 18 Nov 2019 is a Monday on the 18 day of November.'"
      ]
     },
     "execution_count": 35,
     "metadata": {},
     "output_type": "execute_result"
    }
   ],
   "source": [
    "now.strftime(\"%m-%d-%y. %d %b %Y is a %A on the %d day of %B.\")"
   ]
  },
  {
   "cell_type": "code",
   "execution_count": 36,
   "metadata": {
    "collapsed": true
   },
   "outputs": [],
   "source": [
    "# dates support calendar arithmetic\n",
    "vocation = date(2020, 1, 12)"
   ]
  },
  {
   "cell_type": "code",
   "execution_count": 37,
   "metadata": {
    "collapsed": true
   },
   "outputs": [],
   "source": [
    "date = now - vocation"
   ]
  },
  {
   "cell_type": "code",
   "execution_count": 38,
   "metadata": {},
   "outputs": [
    {
     "data": {
      "text/plain": [
       "-55"
      ]
     },
     "execution_count": 38,
     "metadata": {},
     "output_type": "execute_result"
    }
   ],
   "source": [
    "date.days"
   ]
  },
  {
   "cell_type": "markdown",
   "metadata": {},
   "source": [
    "# 数据压缩"
   ]
  },
  {
   "cell_type": "code",
   "execution_count": 39,
   "metadata": {
    "collapsed": true
   },
   "outputs": [],
   "source": [
    "import zlib"
   ]
  },
  {
   "cell_type": "code",
   "execution_count": 40,
   "metadata": {
    "collapsed": true
   },
   "outputs": [],
   "source": [
    "s = b'witch which has which witches wrist watch'"
   ]
  },
  {
   "cell_type": "code",
   "execution_count": 41,
   "metadata": {},
   "outputs": [
    {
     "data": {
      "text/plain": [
       "41"
      ]
     },
     "execution_count": 41,
     "metadata": {},
     "output_type": "execute_result"
    }
   ],
   "source": [
    "len(s)"
   ]
  },
  {
   "cell_type": "code",
   "execution_count": 42,
   "metadata": {
    "collapsed": true
   },
   "outputs": [],
   "source": [
    "t = zlib.compress(s)"
   ]
  },
  {
   "cell_type": "code",
   "execution_count": 43,
   "metadata": {},
   "outputs": [
    {
     "data": {
      "text/plain": [
       "37"
      ]
     },
     "execution_count": 43,
     "metadata": {},
     "output_type": "execute_result"
    }
   ],
   "source": [
    "len(t)"
   ]
  },
  {
   "cell_type": "code",
   "execution_count": 44,
   "metadata": {},
   "outputs": [
    {
     "data": {
      "text/plain": [
       "b'witch which has which witches wrist watch'"
      ]
     },
     "execution_count": 44,
     "metadata": {},
     "output_type": "execute_result"
    }
   ],
   "source": [
    "zlib.decompress(t)"
   ]
  },
  {
   "cell_type": "code",
   "execution_count": 45,
   "metadata": {},
   "outputs": [
    {
     "data": {
      "text/plain": [
       "b'x\\x9c+\\xcf,I\\xceP(\\xcf\\xc8\\x04\\x92\\x19\\x89\\xc5PV9H4\\x15\\xc8+\\xca,.Q(O\\x04\\xf2\\x00D?\\x0f\\x89'"
      ]
     },
     "execution_count": 45,
     "metadata": {},
     "output_type": "execute_result"
    }
   ],
   "source": [
    "t"
   ]
  },
  {
   "cell_type": "code",
   "execution_count": 46,
   "metadata": {},
   "outputs": [
    {
     "data": {
      "text/plain": [
       "226805979"
      ]
     },
     "execution_count": 46,
     "metadata": {},
     "output_type": "execute_result"
    }
   ],
   "source": [
    "zlib.crc32(s)"
   ]
  },
  {
   "cell_type": "markdown",
   "metadata": {},
   "source": [
    "# 性能度量"
   ]
  },
  {
   "cell_type": "code",
   "execution_count": 47,
   "metadata": {
    "collapsed": true
   },
   "outputs": [],
   "source": [
    "from timeit import Timer"
   ]
  },
  {
   "cell_type": "code",
   "execution_count": 48,
   "metadata": {},
   "outputs": [
    {
     "data": {
      "text/plain": [
       "0.041008499999999996"
      ]
     },
     "execution_count": 48,
     "metadata": {},
     "output_type": "execute_result"
    }
   ],
   "source": [
    "Timer('t=a; a=b; b=t', 'a=1; b=2').timeit()"
   ]
  },
  {
   "cell_type": "code",
   "execution_count": 49,
   "metadata": {},
   "outputs": [
    {
     "data": {
      "text/plain": [
       "0.020633900000000004"
      ]
     },
     "execution_count": 49,
     "metadata": {},
     "output_type": "execute_result"
    }
   ],
   "source": [
    "Timer('a,b = b,a', 'a=1; b=2').timeit()"
   ]
  },
  {
   "cell_type": "markdown",
   "metadata": {},
   "source": [
    "# 测试模块"
   ]
  },
  {
   "cell_type": "code",
   "execution_count": 50,
   "metadata": {},
   "outputs": [
    {
     "data": {
      "text/plain": [
       "TestResults(failed=0, attempted=1)"
      ]
     },
     "execution_count": 50,
     "metadata": {},
     "output_type": "execute_result"
    }
   ],
   "source": [
    "def average(values):\n",
    "    \"\"\"Computes the arithmetic mean of a list of numbers.\n",
    "\n",
    "    >>> print(average([20, 30, 70]))\n",
    "    40.0\n",
    "    \"\"\"\n",
    "    return sum(values) / len(values)\n",
    "\n",
    "import doctest\n",
    "doctest.testmod()   # 自动验证嵌入测试"
   ]
  },
  {
   "cell_type": "code",
   "execution_count": 51,
   "metadata": {},
   "outputs": [
    {
     "name": "stderr",
     "output_type": "stream",
     "text": [
      "E\n",
      "======================================================================\n",
      "ERROR: C:\\Users\\Administrator\\AppData\\Roaming\\jupyter\\runtime\\kernel-19427bec-4391-4cc6-89b4-21b3ef73b9c5 (unittest.loader._FailedTest)\n",
      "----------------------------------------------------------------------\n",
      "AttributeError: module '__main__' has no attribute 'C:\\Users\\Administrator\\AppData\\Roaming\\jupyter\\runtime\\kernel-19427bec-4391-4cc6-89b4-21b3ef73b9c5'\n",
      "\n",
      "----------------------------------------------------------------------\n",
      "Ran 1 test in 0.002s\n",
      "\n",
      "FAILED (errors=1)\n"
     ]
    },
    {
     "ename": "SystemExit",
     "evalue": "True",
     "output_type": "error",
     "traceback": [
      "An exception has occurred, use %tb to see the full traceback.\n",
      "\u001b[1;31mSystemExit\u001b[0m\u001b[1;31m:\u001b[0m True\n"
     ]
    },
    {
     "name": "stderr",
     "output_type": "stream",
     "text": [
      "D:\\Anaconda\\lib\\site-packages\\IPython\\core\\interactiveshell.py:2870: UserWarning: To exit: use 'exit', 'quit', or Ctrl-D.\n",
      "  warn(\"To exit: use 'exit', 'quit', or Ctrl-D.\", stacklevel=1)\n"
     ]
    }
   ],
   "source": [
    "import unittest\n",
    "\n",
    "class TestStatisticalFunctions(unittest.TestCase):\n",
    "\n",
    "    def test_average(self):\n",
    "        self.assertEqual(average([20, 30, 70]), 40.0)\n",
    "        self.assertEqual(round(average([1, 5, 7]), 1), 4.3)\n",
    "        self.assertRaises(ZeroDivisionError, average, [])\n",
    "        self.assertRaises(TypeError, average, 20, 30, 70)\n",
    "\n",
    "unittest.main() # Calling from the command line invokes all tests"
   ]
  },
  {
   "cell_type": "code",
   "execution_count": null,
   "metadata": {
    "collapsed": true
   },
   "outputs": [],
   "source": []
  }
 ],
 "metadata": {
  "kernelspec": {
   "display_name": "Python 3",
   "language": "python",
   "name": "python3"
  },
  "language_info": {
   "codemirror_mode": {
    "name": "ipython",
    "version": 3
   },
   "file_extension": ".py",
   "mimetype": "text/x-python",
   "name": "python",
   "nbconvert_exporter": "python",
   "pygments_lexer": "ipython3",
   "version": "3.6.3"
  }
 },
 "nbformat": 4,
 "nbformat_minor": 2
}
