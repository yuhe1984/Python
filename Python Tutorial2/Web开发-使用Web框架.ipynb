{
 "cells": [
  {
   "cell_type": "code",
   "execution_count": 1,
   "metadata": {
    "collapsed": true
   },
   "outputs": [],
   "source": [
    "from flask import Flask\n",
    "from flask import request"
   ]
  },
  {
   "cell_type": "code",
   "execution_count": 2,
   "metadata": {
    "collapsed": true
   },
   "outputs": [],
   "source": [
    "app = Flask(__name__)\n",
    "\n",
    "@app.route('/', methods=['GET', 'POST'])\n",
    "def home():\n",
    "    return '<h1>Home</h1>'"
   ]
  },
  {
   "cell_type": "code",
   "execution_count": 3,
   "metadata": {
    "collapsed": true
   },
   "outputs": [],
   "source": [
    "@app.route('/signin', methods=['GET'])\n",
    "def signin_from():\n",
    "    return '''<from action=\"/signin\" method=\"post>\n",
    "    <p><input name=\"username\"></p>\n",
    "    <p><input name=\"password\" type=\"submit\">Sign In</button></p>\n",
    "    </from>'''"
   ]
  },
  {
   "cell_type": "code",
   "execution_count": 5,
   "metadata": {},
   "outputs": [],
   "source": [
    "@app.route('/signin', methods=['POST'])\n",
    "def signin():\n",
    "    # 需要从request对象读取表单内容:\n",
    "    if request.form['username']=='admin' and request.form['password']=='password':\n",
    "        return '<h3>Hello, admin!</h3>'\n",
    "    return '<h3>Bad username or password.</h3>'"
   ]
  },
  {
   "cell_type": "code",
   "execution_count": 6,
   "metadata": {},
   "outputs": [
    {
     "name": "stderr",
     "output_type": "stream",
     "text": [
      " * Running on http://127.0.0.1:5000/ (Press CTRL+C to quit)\n",
      "127.0.0.1 - - [21/Oct/2019 15:07:53] \"\u001b[37mGET / HTTP/1.1\u001b[0m\" 200 -\n",
      "127.0.0.1 - - [21/Oct/2019 15:07:54] \"\u001b[33mGET /favicon.ico HTTP/1.1\u001b[0m\" 404 -\n",
      "127.0.0.1 - - [21/Oct/2019 15:08:13] \"\u001b[33mGET /favicon.ico HTTP/1.1\u001b[0m\" 404 -\n",
      "127.0.0.1 - - [21/Oct/2019 15:08:16] \"\u001b[37mGET /signin HTTP/1.1\u001b[0m\" 200 -\n",
      "127.0.0.1 - - [21/Oct/2019 15:08:42] \"\u001b[37mGET /signin HTTP/1.1\u001b[0m\" 200 -\n",
      "127.0.0.1 - - [21/Oct/2019 15:09:03] \"\u001b[37mGET /signin HTTP/1.1\u001b[0m\" 200 -\n",
      "127.0.0.1 - - [21/Oct/2019 15:09:03] \"\u001b[37mGET / HTTP/1.1\u001b[0m\" 200 -\n",
      "127.0.0.1 - - [21/Oct/2019 15:09:31] \"\u001b[37mGET /signin HTTP/1.1\u001b[0m\" 200 -\n",
      "127.0.0.1 - - [21/Oct/2019 15:09:31] \"\u001b[33mGET /favicon.ico HTTP/1.1\u001b[0m\" 404 -\n"
     ]
    }
   ],
   "source": [
    "if __name__ == '__main__':\n",
    "    app.run()"
   ]
  },
  {
   "cell_type": "code",
   "execution_count": null,
   "metadata": {},
   "outputs": [
    {
     "name": "stderr",
     "output_type": "stream",
     "text": [
      " * Running on http://127.0.0.1:5000/ (Press CTRL+C to quit)\n",
      "127.0.0.1 - - [21/Oct/2019 15:12:05] \"\u001b[37mGET / HTTP/1.1\u001b[0m\" 200 -\n",
      "127.0.0.1 - - [21/Oct/2019 15:12:05] \"\u001b[37mGET / HTTP/1.1\u001b[0m\" 200 -\n",
      "127.0.0.1 - - [21/Oct/2019 15:12:05] \"\u001b[37mGET / HTTP/1.1\u001b[0m\" 200 -\n",
      "127.0.0.1 - - [21/Oct/2019 15:12:15] \"\u001b[33mGET /favicon.ico HTTP/1.1\u001b[0m\" 404 -\n",
      "127.0.0.1 - - [21/Oct/2019 15:12:15] \"\u001b[37mGET / HTTP/1.1\u001b[0m\" 200 -\n",
      "127.0.0.1 - - [21/Oct/2019 16:04:22] \"\u001b[37mGET /signin HTTP/1.1\u001b[0m\" 200 -\n",
      "127.0.0.1 - - [21/Oct/2019 16:26:11] \"\u001b[37mGET / HTTP/1.1\u001b[0m\" 200 -\n",
      "127.0.0.1 - - [21/Oct/2019 16:27:02] \"\u001b[33mGET /favicon.ico HTTP/1.1\u001b[0m\" 404 -\n",
      "127.0.0.1 - - [21/Oct/2019 16:27:05] \"\u001b[37mGET /signin HTTP/1.1\u001b[0m\" 200 -\n",
      "127.0.0.1 - - [21/Oct/2019 16:27:29] \"\u001b[37mPOST /signin HTTP/1.1\u001b[0m\" 200 -\n",
      "127.0.0.1 - - [21/Oct/2019 16:27:33] \"\u001b[37mGET /signin HTTP/1.1\u001b[0m\" 200 -\n",
      "127.0.0.1 - - [21/Oct/2019 16:27:45] \"\u001b[37mPOST /signin HTTP/1.1\u001b[0m\" 200 -\n",
      "127.0.0.1 - - [21/Oct/2019 16:46:34] \"\u001b[37mGET / HTTP/1.1\u001b[0m\" 200 -\n",
      "127.0.0.1 - - [21/Oct/2019 16:46:39] \"\u001b[33mGET /favicon.ico HTTP/1.1\u001b[0m\" 404 -\n",
      "127.0.0.1 - - [21/Oct/2019 16:46:44] \"\u001b[37mGET /signin HTTP/1.1\u001b[0m\" 200 -\n",
      "127.0.0.1 - - [21/Oct/2019 16:47:02] \"\u001b[37mPOST /signin HTTP/1.1\u001b[0m\" 200 -\n",
      "127.0.0.1 - - [21/Oct/2019 16:47:36] \"\u001b[37mGET / HTTP/1.1\u001b[0m\" 200 -\n",
      "127.0.0.1 - - [21/Oct/2019 16:47:44] \"\u001b[37mGET /signin HTTP/1.1\u001b[0m\" 200 -\n",
      "127.0.0.1 - - [21/Oct/2019 16:52:51] \"\u001b[37mGET / HTTP/1.1\u001b[0m\" 200 -\n",
      "127.0.0.1 - - [21/Oct/2019 16:52:57] \"\u001b[37mGET /signin HTTP/1.1\u001b[0m\" 200 -\n",
      "127.0.0.1 - - [21/Oct/2019 16:52:59] \"\u001b[37mGET /signin HTTP/1.1\u001b[0m\" 200 -\n",
      "127.0.0.1 - - [21/Oct/2019 16:53:06] \"\u001b[37mGET / HTTP/1.1\u001b[0m\" 200 -\n"
     ]
    }
   ],
   "source": [
    "from flask import Flask\n",
    "from flask import request\n",
    "\n",
    "app = Flask(__name__)\n",
    "\n",
    "@app.route('/', methods=['GET', 'POST'])\n",
    "def home():\n",
    "    return '<h1>Home</h1>'\n",
    "\n",
    "@app.route('/signin', methods=['GET'])\n",
    "def signin_form():\n",
    "    return '''<form action=\"/signin\" method=\"post\">\n",
    "              <p><input name=\"username\"></p>\n",
    "              <p><input name=\"password\" type=\"password\"></p>\n",
    "              <p><button type=\"submit\">Sign In</button></p>\n",
    "              </form>'''\n",
    "\n",
    "@app.route('/signin', methods=['POST'])\n",
    "def signin():\n",
    "    # 需要从request对象读取表单内容：\n",
    "    if request.form['username']=='admin' and request.form['password']=='password':\n",
    "        return '<h3>Hello, admin!</h3>'\n",
    "    return '<h3>Bad username or password.</h3>'\n",
    "\n",
    "if __name__ == '__main__':\n",
    "    app.run()"
   ]
  },
  {
   "cell_type": "code",
   "execution_count": null,
   "metadata": {
    "collapsed": true
   },
   "outputs": [],
   "source": []
  }
 ],
 "metadata": {
  "kernelspec": {
   "display_name": "Python 3",
   "language": "python",
   "name": "python3"
  },
  "language_info": {
   "codemirror_mode": {
    "name": "ipython",
    "version": 3
   },
   "file_extension": ".py",
   "mimetype": "text/x-python",
   "name": "python",
   "nbconvert_exporter": "python",
   "pygments_lexer": "ipython3",
   "version": "3.6.3"
  }
 },
 "nbformat": 4,
 "nbformat_minor": 2
}
