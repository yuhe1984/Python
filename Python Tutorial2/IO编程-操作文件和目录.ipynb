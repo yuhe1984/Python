{
 "cells": [
  {
   "cell_type": "code",
   "execution_count": 1,
   "metadata": {
    "collapsed": true
   },
   "outputs": [],
   "source": [
    "import os"
   ]
  },
  {
   "cell_type": "code",
   "execution_count": 2,
   "metadata": {},
   "outputs": [
    {
     "data": {
      "text/plain": [
       "'nt'"
      ]
     },
     "execution_count": 2,
     "metadata": {},
     "output_type": "execute_result"
    }
   ],
   "source": [
    "os.name"
   ]
  },
  {
   "cell_type": "markdown",
   "metadata": {},
   "source": [
    "# 环境变量"
   ]
  },
  {
   "cell_type": "code",
   "execution_count": 5,
   "metadata": {},
   "outputs": [
    {
     "data": {
      "text/plain": [
       "environ({'ALLUSERSPROFILE': 'C:\\\\ProgramData', 'APPDATA': 'C:\\\\Users\\\\Administrator\\\\AppData\\\\Roaming', 'COMMONPROGRAMFILES': 'C:\\\\Program Files\\\\Common Files', 'COMMONPROGRAMFILES(X86)': 'C:\\\\Program Files (x86)\\\\Common Files', 'COMMONPROGRAMW6432': 'C:\\\\Program Files\\\\Common Files', 'COMPUTERNAME': 'LZD-20190322GKK', 'COMSPEC': 'C:\\\\Windows\\\\system32\\\\cmd.exe', 'DRIVERDATA': 'C:\\\\Windows\\\\System32\\\\Drivers\\\\DriverData', 'FPS_BROWSER_APP_PROFILE_STRING': 'Internet Explorer', 'FPS_BROWSER_USER_PROFILE_STRING': 'Default', 'GAMEFIRST': 'C:\\\\Program Files (x86)\\\\ASUS\\\\GameFirst\\\\', 'GOPATH': 'C:\\\\Users\\\\Administrator\\\\go', 'HOMEDRIVE': 'C:', 'HOMEPATH': '\\\\Users\\\\Administrator', 'LOCALAPPDATA': 'C:\\\\Users\\\\Administrator\\\\AppData\\\\Local', 'LOGONSERVER': '\\\\\\\\LZD-20190322GKK', 'MOZ_PLUGIN_PATH': 'C:\\\\Program Files (x86)\\\\Foxit Software\\\\Foxit Reader\\\\plugins\\\\', 'NUMBER_OF_PROCESSORS': '16', 'OS': 'Windows_NT', 'PATH': 'D:\\\\Anaconda;D:\\\\Anaconda\\\\Library\\\\mingw-w64\\\\bin;D:\\\\Anaconda\\\\Library\\\\usr\\\\bin;D:\\\\Anaconda\\\\Library\\\\bin;D:\\\\Anaconda\\\\Scripts;C:\\\\Windows\\\\system32;C:\\\\Windows;C:\\\\Windows\\\\System32\\\\Wbem;C:\\\\Windows\\\\System32\\\\WindowsPowerShell\\\\v1.0\\\\;C:\\\\Windows\\\\System32\\\\OpenSSH\\\\;C:\\\\Program Files\\\\MATLAB\\\\R2018a\\\\runtime\\\\win64;C:\\\\Program Files\\\\MATLAB\\\\R2018a\\\\bin;C:\\\\Users\\\\Administrator\\\\AppData\\\\Roaming\\\\Python\\\\Python36\\\\Scripts;C:\\\\Program Files (x86)\\\\Graphviz2.38\\\\bin;C:\\\\texlive\\\\2019\\\\bin\\\\win32;D:\\\\下载;\\x7fC:\\\\Program Files (x86)\\\\Google\\\\Chrome\\\\Application;C:\\\\Go\\\\bin;D:\\\\Anaconda;D:\\\\Anaconda\\\\Library\\\\mingw-w64\\\\bin;D:\\\\Anaconda\\\\Library\\\\usr\\\\bin;D:\\\\Anaconda\\\\Library\\\\bin;D:\\\\Anaconda\\\\Scripts;C:\\\\Users\\\\Administrator\\\\AppData\\\\Local\\\\Microsoft\\\\WindowsApps;C:\\\\Users\\\\Administrator\\\\AppData\\\\Roaming\\\\Python\\\\Python36\\\\Scripts;C:\\\\Users\\\\Administrator\\\\AppData\\\\Local\\\\Programs\\\\Microsoft VS Code\\\\bin;D:\\\\下载;C:\\\\Users\\\\Administrator\\\\go\\\\bin;C:\\\\Go\\\\bin;C:\\\\MinGW\\\\bin;', 'PATHEXT': '.COM;.EXE;.BAT;.CMD;.VBS;.VBE;.JS;.JSE;.WSF;.WSH;.MSC', 'PROCESSOR_ARCHITECTURE': 'AMD64', 'PROCESSOR_IDENTIFIER': 'AMD64 Family 23 Model 8 Stepping 2, AuthenticAMD', 'PROCESSOR_LEVEL': '23', 'PROCESSOR_REVISION': '0802', 'PROGRAMDATA': 'C:\\\\ProgramData', 'PROGRAMFILES': 'C:\\\\Program Files', 'PROGRAMFILES(X86)': 'C:\\\\Program Files (x86)', 'PROGRAMW6432': 'C:\\\\Program Files', 'PSMODULEPATH': 'C:\\\\Program Files\\\\WindowsPowerShell\\\\Modules;C:\\\\Windows\\\\system32\\\\WindowsPowerShell\\\\v1.0\\\\Modules;C:\\\\Program Files\\\\Intel\\\\Wired Networking\\\\', 'PUBLIC': 'C:\\\\Users\\\\Public', 'SESSIONNAME': 'Console', 'SYSTEMDRIVE': 'C:', 'SYSTEMROOT': 'C:\\\\Windows', 'TEMP': 'C:\\\\Users\\\\ADMINI~1\\\\AppData\\\\Local\\\\Temp', 'TMP': 'C:\\\\Users\\\\ADMINI~1\\\\AppData\\\\Local\\\\Temp', 'USERDOMAIN': 'LZD-20190322GKK', 'USERDOMAIN_ROAMINGPROFILE': 'LZD-20190322GKK', 'USERNAME': 'Administrator', 'USERPROFILE': 'C:\\\\Users\\\\Administrator', 'WINDIR': 'C:\\\\Windows', 'CONDA_PREFIX': 'D:\\\\Anaconda', 'JPY_INTERRUPT_EVENT': '1572', 'IPY_INTERRUPT_EVENT': '1572', 'JPY_PARENT_PID': '1232', 'TERM': 'xterm-color', 'CLICOLOR': '1', 'PAGER': 'cat', 'GIT_PAGER': 'cat', 'MPLBACKEND': 'module://ipykernel.pylab.backend_inline'})"
      ]
     },
     "execution_count": 5,
     "metadata": {},
     "output_type": "execute_result"
    }
   ],
   "source": [
    "os.environ"
   ]
  },
  {
   "cell_type": "code",
   "execution_count": 6,
   "metadata": {},
   "outputs": [
    {
     "data": {
      "text/plain": [
       "'D:\\\\Anaconda;D:\\\\Anaconda\\\\Library\\\\mingw-w64\\\\bin;D:\\\\Anaconda\\\\Library\\\\usr\\\\bin;D:\\\\Anaconda\\\\Library\\\\bin;D:\\\\Anaconda\\\\Scripts;C:\\\\Windows\\\\system32;C:\\\\Windows;C:\\\\Windows\\\\System32\\\\Wbem;C:\\\\Windows\\\\System32\\\\WindowsPowerShell\\\\v1.0\\\\;C:\\\\Windows\\\\System32\\\\OpenSSH\\\\;C:\\\\Program Files\\\\MATLAB\\\\R2018a\\\\runtime\\\\win64;C:\\\\Program Files\\\\MATLAB\\\\R2018a\\\\bin;C:\\\\Users\\\\Administrator\\\\AppData\\\\Roaming\\\\Python\\\\Python36\\\\Scripts;C:\\\\Program Files (x86)\\\\Graphviz2.38\\\\bin;C:\\\\texlive\\\\2019\\\\bin\\\\win32;D:\\\\下载;\\x7fC:\\\\Program Files (x86)\\\\Google\\\\Chrome\\\\Application;C:\\\\Go\\\\bin;D:\\\\Anaconda;D:\\\\Anaconda\\\\Library\\\\mingw-w64\\\\bin;D:\\\\Anaconda\\\\Library\\\\usr\\\\bin;D:\\\\Anaconda\\\\Library\\\\bin;D:\\\\Anaconda\\\\Scripts;C:\\\\Users\\\\Administrator\\\\AppData\\\\Local\\\\Microsoft\\\\WindowsApps;C:\\\\Users\\\\Administrator\\\\AppData\\\\Roaming\\\\Python\\\\Python36\\\\Scripts;C:\\\\Users\\\\Administrator\\\\AppData\\\\Local\\\\Programs\\\\Microsoft VS Code\\\\bin;D:\\\\下载;C:\\\\Users\\\\Administrator\\\\go\\\\bin;C:\\\\Go\\\\bin;C:\\\\MinGW\\\\bin;'"
      ]
     },
     "execution_count": 6,
     "metadata": {},
     "output_type": "execute_result"
    }
   ],
   "source": [
    "os.environ.get('PATH')"
   ]
  },
  {
   "cell_type": "code",
   "execution_count": 22,
   "metadata": {},
   "outputs": [
    {
     "data": {
      "text/plain": [
       "'default'"
      ]
     },
     "execution_count": 22,
     "metadata": {},
     "output_type": "execute_result"
    }
   ],
   "source": [
    "os.environ.get('x', 'default')"
   ]
  },
  {
   "cell_type": "markdown",
   "metadata": {},
   "source": [
    "# 操作文件和目录"
   ]
  },
  {
   "cell_type": "code",
   "execution_count": 8,
   "metadata": {},
   "outputs": [
    {
     "data": {
      "text/plain": [
       "'D:\\\\Jupyter\\\\Python\\\\Python Tutorial2'"
      ]
     },
     "execution_count": 8,
     "metadata": {},
     "output_type": "execute_result"
    }
   ],
   "source": [
    "os.path.abspath('.')"
   ]
  },
  {
   "cell_type": "code",
   "execution_count": 18,
   "metadata": {},
   "outputs": [
    {
     "data": {
      "text/plain": [
       "'/D:/Jupyter/Python/Python Tutorial2\\\\testdir'"
      ]
     },
     "execution_count": 18,
     "metadata": {},
     "output_type": "execute_result"
    }
   ],
   "source": [
    "os.path.join('/D:/Jupyter/Python/Python Tutorial2', 'testdir')"
   ]
  },
  {
   "cell_type": "code",
   "execution_count": 26,
   "metadata": {},
   "outputs": [],
   "source": [
    "os.mkdir('D:\\\\Jupyter\\\\Python\\\\Python Tutorial2\\\\testdir')"
   ]
  },
  {
   "cell_type": "code",
   "execution_count": 27,
   "metadata": {
    "collapsed": true
   },
   "outputs": [],
   "source": [
    "os.rmdir('D:\\\\Jupyter\\\\Python\\\\Python Tutorial2\\\\testdir')"
   ]
  },
  {
   "cell_type": "code",
   "execution_count": 28,
   "metadata": {},
   "outputs": [
    {
     "data": {
      "text/plain": [
       "('D:\\\\Jupyter\\\\Python\\\\Python Tutorial2', 'test.txt')"
      ]
     },
     "execution_count": 28,
     "metadata": {},
     "output_type": "execute_result"
    }
   ],
   "source": [
    "os.path.split('D:\\\\Jupyter\\\\Python\\\\Python Tutorial2\\\\test.txt')"
   ]
  },
  {
   "cell_type": "code",
   "execution_count": 29,
   "metadata": {},
   "outputs": [
    {
     "data": {
      "text/plain": [
       "('/path/to/test', '.txt')"
      ]
     },
     "execution_count": 29,
     "metadata": {},
     "output_type": "execute_result"
    }
   ],
   "source": [
    "os.path.splitext('/path/to/test.txt')"
   ]
  },
  {
   "cell_type": "code",
   "execution_count": 30,
   "metadata": {
    "collapsed": true
   },
   "outputs": [],
   "source": [
    "os.rename('test.txt', 'test.py')"
   ]
  },
  {
   "cell_type": "code",
   "execution_count": 31,
   "metadata": {
    "collapsed": true
   },
   "outputs": [],
   "source": [
    "os.remove('test.py')"
   ]
  },
  {
   "cell_type": "code",
   "execution_count": 32,
   "metadata": {},
   "outputs": [
    {
     "data": {
      "text/plain": [
       "['.ipynb_checkpoints', '__pycache__']"
      ]
     },
     "execution_count": 32,
     "metadata": {},
     "output_type": "execute_result"
    }
   ],
   "source": [
    "[x for x in os.listdir('.') if os.path.isdir(x)]"
   ]
  },
  {
   "cell_type": "code",
   "execution_count": 33,
   "metadata": {},
   "outputs": [
    {
     "data": {
      "text/plain": [
       "[]"
      ]
     },
     "execution_count": 33,
     "metadata": {},
     "output_type": "execute_result"
    }
   ],
   "source": [
    "[x for x in os.listdir('.') if os.path.isdir(x) and os.path.splitext(x)[1]=='.py']"
   ]
  },
  {
   "cell_type": "markdown",
   "metadata": {},
   "source": [
    "# practice"
   ]
  },
  {
   "cell_type": "code",
   "execution_count": 34,
   "metadata": {
    "collapsed": true
   },
   "outputs": [],
   "source": [
    "# 利用os模块编写一个能实现dir -l输出的程序。"
   ]
  },
  {
   "cell_type": "code",
   "execution_count": 38,
   "metadata": {},
   "outputs": [
    {
     "name": "stdout",
     "output_type": "stream",
     "text": [
      "     12288 2019-10-11 15:02 .ipynb_checkpoints/\n",
      "       114 2019-10-09 11:09 err.py\n",
      "       123 2019-10-09 16:01 err1.py\n",
      "        36 2019-10-09 16:03 err2.py\n",
      "        10 2019-10-10 20:34 gbk.txt\n",
      "      3920 2019-10-10 21:19 IO编程-StringIO和BytesIO.ipynb\n",
      "     10536 2019-10-11 16:36 IO编程-操作文件和目录.ipynb\n",
      "    231905 2019-10-10 21:19 IO编程-文件读写.ipynb\n",
      "       362 2019-10-09 16:58 mydict.py\n",
      "       895 2019-10-09 19:02 mydict_test.py\n",
      "     64107 2019-09-29 14:47 overfitting.png\n",
      "         0 2019-10-09 16:58 __pycache__/\n",
      "      5525 2019-09-28 20:34 函数式编程-偏函数.ipynb\n",
      "      3221 2019-09-28 20:34 函数式编程-匿名函数.ipynb\n",
      "      7373 2019-09-30 15:29 函数式编程-装饰器.ipynb\n",
      "      6503 2019-09-28 20:34 函数式编程-返回函数.ipynb\n",
      "      4802 2019-09-28 17:11 函数式编程-高阶函数-filter.ipynb\n",
      "      7658 2019-09-28 17:11 函数式编程-高阶函数-map reduce.ipynb\n",
      "      3366 2019-09-28 17:11 函数式编程-高阶函数-sorted.ipynb\n",
      "      1026 2019-09-28 17:11 函数式编程-高阶函数.ipynb\n",
      "      2593 2019-09-30 17:15 模块-使用模块.ipynb\n",
      "       581 2019-09-30 17:16 模块-安装第三方模块.ipynb\n",
      "     10997 2019-10-09 20:41 错误、调试和测试-单元测试.ipynb\n",
      "      4020 2019-10-09 20:41 错误、调试和测试-文档测试.ipynb\n",
      "      6442 2019-10-09 20:41 错误、调试和测试-调试.ipynb\n",
      "     18400 2019-10-09 20:41 错误、调试和测试-错误处理.ipynb\n",
      "      8609 2019-10-08 21:00 面向对象的编程-使用@property.ipynb\n",
      "      4049 2019-10-06 12:10 面向对象的编程-实例属性和类属性.ipynb\n",
      "      4718 2019-10-05 21:02 面向对象的编程-访问限制.ipynb\n",
      "      1969 2019-10-05 21:02 面向对象的编程.ipynb\n",
      "      6010 2019-10-05 21:02 面向对象编程-类和实例.ipynb\n",
      "      5595 2019-10-05 21:02 面向对象编程-继承和多态.ipynb\n",
      "     13713 2019-10-06 12:10 面向对象编程-获取对象信息.ipynb\n",
      "      6799 2019-10-08 21:00 面向对象高级编程-使用__slots__.ipynb\n",
      "      3106 2019-10-08 21:00 面向对象高级编程-使用元类.ipynb\n",
      "     10906 2019-10-08 21:00 面向对象高级编程-使用枚举类.ipynb\n",
      "      3108 2019-10-08 21:00 面向对象高级编程-多重继承.ipynb\n",
      "     15916 2019-10-08 21:00 面向对象高级编程-定制类.ipynb\n",
      "      5012 2019-09-27 15:51 高级特性-列表生成器.ipynb\n",
      "      9352 2019-09-27 15:51 高级特性-生成器.ipynb\n",
      "      2933 2019-09-27 15:51 高级特性-迭代.ipynb\n",
      "      5155 2019-09-27 15:52 高级特性-迭代器.ipynb\n"
     ]
    }
   ],
   "source": [
    "from datetime import datetime\n",
    "import os\n",
    "\n",
    "pwd = os.path.abspath('.')\n",
    "\n",
    "for f in os.listdir(pwd):\n",
    "    fsize = os.path.getsize(f)\n",
    "    mtime = datetime.fromtimestamp(os.path.getmtime(f)).strftime('%Y-%m-%d %H:%M')\n",
    "    flag = '/' if os.path.isdir(f) else ''\n",
    "    print('%10d %s %s%s' % (fsize, mtime, f, flag))"
   ]
  },
  {
   "cell_type": "code",
   "execution_count": null,
   "metadata": {
    "collapsed": true
   },
   "outputs": [],
   "source": []
  }
 ],
 "metadata": {
  "kernelspec": {
   "display_name": "Python 3",
   "language": "python",
   "name": "python3"
  },
  "language_info": {
   "codemirror_mode": {
    "name": "ipython",
    "version": 3
   },
   "file_extension": ".py",
   "mimetype": "text/x-python",
   "name": "python",
   "nbconvert_exporter": "python",
   "pygments_lexer": "ipython3",
   "version": "3.6.3"
  }
 },
 "nbformat": 4,
 "nbformat_minor": 2
}
