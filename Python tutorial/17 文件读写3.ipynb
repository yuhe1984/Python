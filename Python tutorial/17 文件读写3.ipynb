{
 "cells": [
  {
   "cell_type": "code",
   "execution_count": 2,
   "metadata": {},
   "outputs": [
    {
     "name": "stdout",
     "output_type": "stream",
     "text": [
      "This is my first test.\n",
      "This is next line.\n",
      "This is last line.\n",
      "This is appendend file\n"
     ]
    }
   ],
   "source": [
    "file = open('my file.txt','r')\n",
    "content = file.read()\n",
    "print(content)"
   ]
  },
  {
   "cell_type": "code",
   "execution_count": 4,
   "metadata": {},
   "outputs": [
    {
     "name": "stdout",
     "output_type": "stream",
     "text": [
      "This is my first test.\n",
      "\n"
     ]
    }
   ],
   "source": [
    "file = open('my file.txt','r')\n",
    "content = file.readline()\n",
    "print(content)"
   ]
  },
  {
   "cell_type": "code",
   "execution_count": 5,
   "metadata": {},
   "outputs": [
    {
     "name": "stdout",
     "output_type": "stream",
     "text": [
      "['This is my first test.\\n', 'This is next line.\\n', 'This is last line.\\n', 'This is appendend file']\n"
     ]
    }
   ],
   "source": [
    "file = open('my file.txt','r')\n",
    "content = file.readlines()\n",
    "print(content)"
   ]
  },
  {
   "cell_type": "code",
   "execution_count": 7,
   "metadata": {},
   "outputs": [
    {
     "name": "stdout",
     "output_type": "stream",
     "text": [
      "This is my first test.\n",
      " This is next line.\n",
      "\n"
     ]
    }
   ],
   "source": [
    "file = open('my file.txt','r')\n",
    "content = file.readline()\n",
    "second_read_time = file.readline()\n",
    "print(content,second_read_time)"
   ]
  },
  {
   "cell_type": "code",
   "execution_count": null,
   "metadata": {
    "collapsed": true
   },
   "outputs": [],
   "source": []
  }
 ],
 "metadata": {
  "kernelspec": {
   "display_name": "Python 3",
   "language": "python",
   "name": "python3"
  },
  "language_info": {
   "codemirror_mode": {
    "name": "ipython",
    "version": 3
   },
   "file_extension": ".py",
   "mimetype": "text/x-python",
   "name": "python",
   "nbconvert_exporter": "python",
   "pygments_lexer": "ipython3",
   "version": "3.6.3"
  }
 },
 "nbformat": 4,
 "nbformat_minor": 2
}
