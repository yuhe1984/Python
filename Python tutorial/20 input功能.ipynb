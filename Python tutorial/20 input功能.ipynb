{
 "cells": [
  {
   "cell_type": "code",
   "execution_count": 2,
   "metadata": {},
   "outputs": [
    {
     "name": "stdout",
     "output_type": "stream",
     "text": [
      "Please give a number:1\n",
      "This input number is : 1\n"
     ]
    }
   ],
   "source": [
    "a_input = input('Please give a number:')\n",
    "print('This input number is :',a_input)"
   ]
  },
  {
   "cell_type": "code",
   "execution_count": 4,
   "metadata": {},
   "outputs": [
    {
     "name": "stdout",
     "output_type": "stream",
     "text": [
      "Please give a number:1\n",
      "This is a good one\n"
     ]
    }
   ],
   "source": [
    "a_input = input('Please give a number:')    # return a string\n",
    "if a_input == '1':\n",
    "    print('This is a good one')\n",
    "elif a_input == '2':\n",
    "    print('See you next time')\n",
    "else:\n",
    "    print('Good luck')"
   ]
  },
  {
   "cell_type": "code",
   "execution_count": 5,
   "metadata": {},
   "outputs": [
    {
     "name": "stdout",
     "output_type": "stream",
     "text": [
      "Please give a number:1\n",
      "This is a good one\n"
     ]
    }
   ],
   "source": [
    "a_input = int(input('Please give a number:'))\n",
    "if a_input == 1:\n",
    "    print('This is a good one')\n",
    "elif a_input == 2:\n",
    "    print('See you next time')\n",
    "else:\n",
    "    print('Good luck')"
   ]
  },
  {
   "cell_type": "code",
   "execution_count": 6,
   "metadata": {},
   "outputs": [
    {
     "name": "stdout",
     "output_type": "stream",
     "text": [
      "Please give a number:3\n",
      "Good luck\n"
     ]
    }
   ],
   "source": [
    "a_input = input('Please give a number:')\n",
    "if a_input == '1':\n",
    "    print('This is a good one')\n",
    "elif a_input == str(2):\n",
    "    print('See you next time')\n",
    "else:\n",
    "    print('Good luck')"
   ]
  },
  {
   "cell_type": "code",
   "execution_count": null,
   "metadata": {
    "collapsed": true
   },
   "outputs": [],
   "source": []
  }
 ],
 "metadata": {
  "kernelspec": {
   "display_name": "Python 3",
   "language": "python",
   "name": "python3"
  },
  "language_info": {
   "codemirror_mode": {
    "name": "ipython",
    "version": 3
   },
   "file_extension": ".py",
   "mimetype": "text/x-python",
   "name": "python",
   "nbconvert_exporter": "python",
   "pygments_lexer": "ipython3",
   "version": "3.6.3"
  }
 },
 "nbformat": 4,
 "nbformat_minor": 2
}
