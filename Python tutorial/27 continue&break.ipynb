{
 "cells": [
  {
   "cell_type": "code",
   "execution_count": 1,
   "metadata": {},
   "outputs": [
    {
     "name": "stdout",
     "output_type": "stream",
     "text": [
      "type something1\n",
      "finish run\n"
     ]
    }
   ],
   "source": [
    "a = True\n",
    "while a:\n",
    "    b = input('type something')\n",
    "    if b == '1':\n",
    "        a = False\n",
    "    else:\n",
    "        pass\n",
    "    \n",
    "print('finish run')"
   ]
  },
  {
   "cell_type": "code",
   "execution_count": 2,
   "metadata": {},
   "outputs": [
    {
     "name": "stdout",
     "output_type": "stream",
     "text": [
      "type something2\n",
      "still in while\n",
      "type something1\n",
      "finish run\n"
     ]
    }
   ],
   "source": [
    "# break continue\n",
    "a = True\n",
    "while a:\n",
    "    b = input('type something')\n",
    "    if b == '1':\n",
    "        break\n",
    "    else:\n",
    "        pass\n",
    "    print('still in while')\n",
    "    \n",
    "print('finish run')"
   ]
  },
  {
   "cell_type": "code",
   "execution_count": 5,
   "metadata": {},
   "outputs": [
    {
     "name": "stdout",
     "output_type": "stream",
     "text": [
      "type something5\n",
      "still in while\n",
      "type something2\n",
      "finish run\n"
     ]
    }
   ],
   "source": [
    "a = True\n",
    "while a:\n",
    "    b = input('type something')\n",
    "    if b == '1':\n",
    "        continue\n",
    "    elif b == '2':\n",
    "        break\n",
    "    else:\n",
    "        pass\n",
    "    print('still in while')\n",
    "    \n",
    "print('finish run')"
   ]
  },
  {
   "cell_type": "code",
   "execution_count": 6,
   "metadata": {},
   "outputs": [
    {
     "name": "stdout",
     "output_type": "stream",
     "text": [
      "type something5\n",
      "still in while\n",
      "type something2\n",
      "still in while\n",
      "type something0\n",
      "still in while\n",
      "type something1\n",
      "still in while\n",
      "finish run\n"
     ]
    }
   ],
   "source": [
    "a = True\n",
    "while a:\n",
    "    b = input('type something')\n",
    "    if b == '1':\n",
    "        a = False\n",
    "    else:\n",
    "        pass\n",
    "    print('still in while')\n",
    "    \n",
    "print('finish run')"
   ]
  },
  {
   "cell_type": "code",
   "execution_count": null,
   "metadata": {
    "collapsed": true
   },
   "outputs": [],
   "source": []
  }
 ],
 "metadata": {
  "kernelspec": {
   "display_name": "Python 3",
   "language": "python",
   "name": "python3"
  },
  "language_info": {
   "codemirror_mode": {
    "name": "ipython",
    "version": 3
   },
   "file_extension": ".py",
   "mimetype": "text/x-python",
   "name": "python",
   "nbconvert_exporter": "python",
   "pygments_lexer": "ipython3",
   "version": "3.6.3"
  }
 },
 "nbformat": 4,
 "nbformat_minor": 2
}
