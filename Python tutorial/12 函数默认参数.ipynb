{
 "cells": [
  {
   "cell_type": "code",
   "execution_count": 2,
   "metadata": {
    "collapsed": true
   },
   "outputs": [],
   "source": [
    "def sale_car(price,colour,brand,is_second_hand):\n",
    "    print('price:',price,\n",
    "         'colour:',colour,\n",
    "         'brand:',brand,\n",
    "         'is_second_hand:',is_second_hand)"
   ]
  },
  {
   "cell_type": "code",
   "execution_count": 3,
   "metadata": {},
   "outputs": [
    {
     "name": "stdout",
     "output_type": "stream",
     "text": [
      "price: 1000 colour: red brand: carmy is_second_hand: True\n"
     ]
    }
   ],
   "source": [
    "sale_car(1000,'red','carmy',True)"
   ]
  },
  {
   "cell_type": "code",
   "execution_count": 4,
   "metadata": {
    "collapsed": true
   },
   "outputs": [],
   "source": [
    "def sale_car(price,colour='red',brand='carmy',is_second_hand=True):\n",
    "    print('price:',price,\n",
    "         'colour:',colour,\n",
    "         'brand:',brand,\n",
    "         'is_second_hand:',is_second_hand)"
   ]
  },
  {
   "cell_type": "code",
   "execution_count": 5,
   "metadata": {},
   "outputs": [
    {
     "name": "stdout",
     "output_type": "stream",
     "text": [
      "price: 1000 colour: red brand: carmy is_second_hand: True\n"
     ]
    }
   ],
   "source": [
    "sale_car(1000)"
   ]
  },
  {
   "cell_type": "code",
   "execution_count": 6,
   "metadata": {},
   "outputs": [
    {
     "name": "stdout",
     "output_type": "stream",
     "text": [
      "price: 1233 colour: blue brand: carmy is_second_hand: True\n"
     ]
    }
   ],
   "source": [
    "sale_car(1233,colour='blue')"
   ]
  },
  {
   "cell_type": "code",
   "execution_count": 8,
   "metadata": {
    "collapsed": true
   },
   "outputs": [],
   "source": [
    "def sale_car(price,brand,colour='red',is_second_hand=True):\n",
    "    print('price:',price,\n",
    "         'colour:',colour,\n",
    "         'brand:',brand,\n",
    "         'is_second_hand:',is_second_hand)"
   ]
  },
  {
   "cell_type": "code",
   "execution_count": 9,
   "metadata": {},
   "outputs": [
    {
     "name": "stdout",
     "output_type": "stream",
     "text": [
      "price: 1233 colour: red brand: BMW is_second_hand: True\n"
     ]
    }
   ],
   "source": [
    "sale_car(1233,'BMW')"
   ]
  },
  {
   "cell_type": "code",
   "execution_count": null,
   "metadata": {
    "collapsed": true
   },
   "outputs": [],
   "source": []
  }
 ],
 "metadata": {
  "kernelspec": {
   "display_name": "Python 3",
   "language": "python",
   "name": "python3"
  },
  "language_info": {
   "codemirror_mode": {
    "name": "ipython",
    "version": 3
   },
   "file_extension": ".py",
   "mimetype": "text/x-python",
   "name": "python",
   "nbconvert_exporter": "python",
   "pygments_lexer": "ipython3",
   "version": "3.6.3"
  }
 },
 "nbformat": 4,
 "nbformat_minor": 2
}
