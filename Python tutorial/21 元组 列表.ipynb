{
 "cells": [
  {
   "cell_type": "code",
   "execution_count": 2,
   "metadata": {},
   "outputs": [],
   "source": [
    "# tuple list\n",
    "a_tuple = (12,3,5,15,6)\n",
    "anther_tuple = 2,4,6,7,8\n",
    "\n",
    "a_list = [12,3,67,7,82]"
   ]
  },
  {
   "cell_type": "code",
   "execution_count": 3,
   "metadata": {},
   "outputs": [
    {
     "name": "stdout",
     "output_type": "stream",
     "text": [
      "12\n",
      "3\n",
      "67\n",
      "7\n",
      "82\n"
     ]
    }
   ],
   "source": [
    "for content in a_list:\n",
    "    print(content)"
   ]
  },
  {
   "cell_type": "code",
   "execution_count": 5,
   "metadata": {},
   "outputs": [
    {
     "name": "stdout",
     "output_type": "stream",
     "text": [
      "12\n",
      "3\n",
      "5\n",
      "15\n",
      "6\n"
     ]
    }
   ],
   "source": [
    "for content in a_tuple:\n",
    "    print(content)"
   ]
  },
  {
   "cell_type": "code",
   "execution_count": 6,
   "metadata": {},
   "outputs": [
    {
     "name": "stdout",
     "output_type": "stream",
     "text": [
      "index= 0 number in list= 12\n",
      "index= 1 number in list= 3\n",
      "index= 2 number in list= 67\n",
      "index= 3 number in list= 7\n",
      "index= 4 number in list= 82\n"
     ]
    }
   ],
   "source": [
    "for index in range(len(a_list)):\n",
    "    print('index=',index,'number in list=',a_list[index])"
   ]
  },
  {
   "cell_type": "code",
   "execution_count": 7,
   "metadata": {},
   "outputs": [
    {
     "name": "stdout",
     "output_type": "stream",
     "text": [
      "index= 0 number in tuple= 12\n",
      "index= 1 number in tuple= 3\n",
      "index= 2 number in tuple= 5\n",
      "index= 3 number in tuple= 15\n",
      "index= 4 number in tuple= 6\n"
     ]
    }
   ],
   "source": [
    "for index in range(len(a_tuple)):\n",
    "    print('index=',index,'number in tuple=',a_tuple[index])"
   ]
  },
  {
   "cell_type": "code",
   "execution_count": null,
   "metadata": {
    "collapsed": true
   },
   "outputs": [],
   "source": []
  }
 ],
 "metadata": {
  "kernelspec": {
   "display_name": "Python 3",
   "language": "python",
   "name": "python3"
  },
  "language_info": {
   "codemirror_mode": {
    "name": "ipython",
    "version": 3
   },
   "file_extension": ".py",
   "mimetype": "text/x-python",
   "name": "python",
   "nbconvert_exporter": "python",
   "pygments_lexer": "ipython3",
   "version": "3.6.3"
  }
 },
 "nbformat": 4,
 "nbformat_minor": 2
}
