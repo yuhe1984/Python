{
 "cells": [
  {
   "cell_type": "code",
   "execution_count": 1,
   "metadata": {
    "collapsed": true
   },
   "outputs": [],
   "source": [
    "from __future__ import print_function\n",
    "import pandas as pd\n",
    "import numpy as np"
   ]
  },
  {
   "cell_type": "code",
   "execution_count": 2,
   "metadata": {
    "collapsed": true
   },
   "outputs": [],
   "source": [
    "dates = pd.date_range('20130101', periods=6)\n",
    "df = pd.DataFrame(np.random.randn(6,4), index=dates, columns=['A','B','C','D'])"
   ]
  },
  {
   "cell_type": "code",
   "execution_count": 3,
   "metadata": {},
   "outputs": [
    {
     "name": "stdout",
     "output_type": "stream",
     "text": [
      "                   A         B         C         D\n",
      "2013-01-01 -1.210113 -0.368499  0.959603 -0.908960\n",
      "2013-01-02 -0.744418 -0.112409  1.147674 -0.005518\n",
      "2013-01-03 -2.499021  0.512268  1.213700 -1.406225\n",
      "2013-01-04 -1.437484 -0.730062 -1.223347  1.981294\n",
      "2013-01-05 -1.522278 -1.573895 -0.149252 -0.588182\n",
      "2013-01-06 -0.299499 -0.729764 -0.445902 -1.204214\n"
     ]
    }
   ],
   "source": [
    "print(df)"
   ]
  },
  {
   "cell_type": "code",
   "execution_count": 4,
   "metadata": {},
   "outputs": [
    {
     "name": "stdout",
     "output_type": "stream",
     "text": [
      "                   A         B         C         D\n",
      "2013-01-01 -1.210113       NaN  0.959603 -0.908960\n",
      "2013-01-02 -0.744418 -0.112409       NaN -0.005518\n",
      "2013-01-03 -2.499021  0.512268  1.213700 -1.406225\n",
      "2013-01-04 -1.437484 -0.730062 -1.223347  1.981294\n",
      "2013-01-05 -1.522278 -1.573895 -0.149252 -0.588182\n",
      "2013-01-06 -0.299499 -0.729764 -0.445902 -1.204214\n",
      "                   A         B         C         D\n",
      "2013-01-03 -2.499021  0.512268  1.213700 -1.406225\n",
      "2013-01-04 -1.437484 -0.730062 -1.223347  1.981294\n",
      "2013-01-05 -1.522278 -1.573895 -0.149252 -0.588182\n",
      "2013-01-06 -0.299499 -0.729764 -0.445902 -1.204214\n"
     ]
    }
   ],
   "source": [
    "df.iloc[0,1] = np.nan\n",
    "df.iloc[1,2] = np.nan\n",
    "print(df)\n",
    "print(df.dropna(axis=0, how='any'))    # how={'any', 'all'}"
   ]
  },
  {
   "cell_type": "code",
   "execution_count": 5,
   "metadata": {},
   "outputs": [
    {
     "name": "stdout",
     "output_type": "stream",
     "text": [
      "                   A         B         C         D\n",
      "2013-01-01 -0.295926  0.000000  0.335472 -0.143574\n",
      "2013-01-02  0.273542  1.661943  0.000000  0.296166\n",
      "2013-01-03  1.624503  0.988810 -0.516969  0.662139\n",
      "2013-01-04 -1.143981  2.633064 -0.958227  0.677128\n",
      "2013-01-05  0.324900 -0.102916  1.085197 -0.627769\n",
      "2013-01-06  0.074162 -0.206528  0.182152  0.677470\n"
     ]
    }
   ],
   "source": [
    "print(df.fillna(value=0))"
   ]
  },
  {
   "cell_type": "code",
   "execution_count": 6,
   "metadata": {},
   "outputs": [
    {
     "name": "stdout",
     "output_type": "stream",
     "text": [
      "                A      B      C      D\n",
      "2013-01-01  False   True  False  False\n",
      "2013-01-02  False  False   True  False\n",
      "2013-01-03  False  False  False  False\n",
      "2013-01-04  False  False  False  False\n",
      "2013-01-05  False  False  False  False\n",
      "2013-01-06  False  False  False  False\n"
     ]
    }
   ],
   "source": [
    "print(pd.isnull(df))"
   ]
  },
  {
   "cell_type": "code",
   "execution_count": null,
   "metadata": {
    "collapsed": true
   },
   "outputs": [],
   "source": []
  }
 ],
 "metadata": {
  "kernelspec": {
   "display_name": "Python 3",
   "language": "python",
   "name": "python3"
  },
  "language_info": {
   "codemirror_mode": {
    "name": "ipython",
    "version": 3
   },
   "file_extension": ".py",
   "mimetype": "text/x-python",
   "name": "python",
   "nbconvert_exporter": "python",
   "pygments_lexer": "ipython3",
   "version": "3.6.3"
  }
 },
 "nbformat": 4,
 "nbformat_minor": 2
}
