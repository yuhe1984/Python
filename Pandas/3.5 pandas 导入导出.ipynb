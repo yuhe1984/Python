{
 "cells": [
  {
   "cell_type": "code",
   "execution_count": 3,
   "metadata": {
    "collapsed": true
   },
   "outputs": [],
   "source": [
    "import pandas as pd"
   ]
  },
  {
   "cell_type": "code",
   "execution_count": 9,
   "metadata": {},
   "outputs": [
    {
     "name": "stdout",
     "output_type": "stream",
     "text": [
      "   地点  名字  职位  工资  在职情况\n",
      "0   1   1   1   1     1\n",
      "1   1   2   2   2     2\n",
      "2   1   3   2   3     1\n",
      "3   2   4   3   4     1\n",
      "4   2   5   4   5     2\n",
      "5   2   6   5   4     1\n",
      "6   3   7   6   6     1\n",
      "7   3   8   6   6     1\n",
      "8   3   9   7   5     2\n",
      "9   3  10   8   7     1\n"
     ]
    }
   ],
   "source": [
    "data = pd.read_csv('people.csv',encoding='gbk')\n",
    "print(data)"
   ]
  },
  {
   "cell_type": "code",
   "execution_count": 10,
   "metadata": {
    "collapsed": true
   },
   "outputs": [],
   "source": [
    "data.to_pickle('people.pickle')"
   ]
  },
  {
   "cell_type": "code",
   "execution_count": null,
   "metadata": {
    "collapsed": true
   },
   "outputs": [],
   "source": []
  }
 ],
 "metadata": {
  "kernelspec": {
   "display_name": "Python 3",
   "language": "python",
   "name": "python3"
  },
  "language_info": {
   "codemirror_mode": {
    "name": "ipython",
    "version": 3
   },
   "file_extension": ".py",
   "mimetype": "text/x-python",
   "name": "python",
   "nbconvert_exporter": "python",
   "pygments_lexer": "ipython3",
   "version": "3.6.3"
  }
 },
 "nbformat": 4,
 "nbformat_minor": 2
}
