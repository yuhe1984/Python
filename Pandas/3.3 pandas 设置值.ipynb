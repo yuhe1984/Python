{
 "cells": [
  {
   "cell_type": "code",
   "execution_count": 1,
   "metadata": {
    "collapsed": true
   },
   "outputs": [],
   "source": [
    "from __future__ import print_function\n",
    "import pandas as pd\n",
    "import numpy as np"
   ]
  },
  {
   "cell_type": "code",
   "execution_count": 2,
   "metadata": {
    "collapsed": true
   },
   "outputs": [],
   "source": [
    "dates = pd.date_range('20130101', periods=6)\n",
    "df = pd.DataFrame(np.random.randn(6,4), index=dates, columns=['A','B','C','D'])"
   ]
  },
  {
   "cell_type": "code",
   "execution_count": 3,
   "metadata": {},
   "outputs": [
    {
     "name": "stdout",
     "output_type": "stream",
     "text": [
      "                   A         B         C         D\n",
      "2013-01-01  0.516617 -0.041740 -0.960879 -0.176295\n",
      "2013-01-02  0.577982 -0.609739  0.743550  0.136135\n",
      "2013-01-03  0.438908  0.825350 -1.137901 -0.994185\n",
      "2013-01-04  0.892819  2.037757 -1.857323 -0.446532\n",
      "2013-01-05 -2.700438 -2.344339  0.682805 -0.725164\n",
      "2013-01-06 -0.446879  0.097986  0.989156  0.102514\n"
     ]
    }
   ],
   "source": [
    "print(df)"
   ]
  },
  {
   "cell_type": "code",
   "execution_count": 4,
   "metadata": {},
   "outputs": [
    {
     "name": "stdout",
     "output_type": "stream",
     "text": [
      "                   A         B            C            D   F  G\n",
      "2013-01-01  0.000000 -0.041740    -0.960879    -0.176295 NaN  1\n",
      "2013-01-02  0.000000 -0.609739     0.743550     0.136135 NaN  2\n",
      "2013-01-03  0.000000  0.825350  1111.000000  2222.000000 NaN  3\n",
      "2013-01-04  0.000000  2.037757    -1.857323    -0.446532 NaN  4\n",
      "2013-01-05 -2.700438 -2.344339     0.682805    -0.725164 NaN  5\n",
      "2013-01-06 -0.446879  0.097986     0.989156     0.102514 NaN  6\n"
     ]
    }
   ],
   "source": [
    "df.iloc[2,2] = 1111\n",
    "df.loc['2013-01-03', 'D'] = 2222\n",
    "df.A[df.A>0] = 0\n",
    "df['F'] = np.nan\n",
    "df['G'] = pd.Series([1,2,3,4,5,6], index=pd.date_range('20130101', periods=6))\n",
    "print(df)"
   ]
  },
  {
   "cell_type": "code",
   "execution_count": 5,
   "metadata": {},
   "outputs": [
    {
     "name": "stdout",
     "output_type": "stream",
     "text": [
      "                   A         B            C            D   F  G\n",
      "2013-01-01  0.000000 -0.041740    -0.960879    -0.176295 NaN  1\n",
      "2013-01-02  0.000000 -0.609739     0.743550     0.136135 NaN  2\n",
      "2013-01-03  0.000000  0.825350  1111.000000  2222.000000 NaN  3\n",
      "2013-01-04  0.000000  2.037757    -1.857323    -0.446532 NaN  4\n",
      "2013-01-05 -2.700438 -2.344339     0.682805    -0.725164 NaN  5\n",
      "2013-01-06 -0.446879  0.097986     0.989156     0.102514 NaN  6\n"
     ]
    }
   ],
   "source": [
    "df['G'] = pd.Series([1,2,3,4,5,6], index=dates)\n",
    "print(df)"
   ]
  },
  {
   "cell_type": "code",
   "execution_count": null,
   "metadata": {
    "collapsed": true
   },
   "outputs": [],
   "source": []
  }
 ],
 "metadata": {
  "kernelspec": {
   "display_name": "Python 3",
   "language": "python",
   "name": "python3"
  },
  "language_info": {
   "codemirror_mode": {
    "name": "ipython",
    "version": 3
   },
   "file_extension": ".py",
   "mimetype": "text/x-python",
   "name": "python",
   "nbconvert_exporter": "python",
   "pygments_lexer": "ipython3",
   "version": "3.6.3"
  }
 },
 "nbformat": 4,
 "nbformat_minor": 2
}
