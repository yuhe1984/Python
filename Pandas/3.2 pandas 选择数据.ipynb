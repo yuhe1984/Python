{
 "cells": [
  {
   "cell_type": "code",
   "execution_count": 1,
   "metadata": {
    "collapsed": true
   },
   "outputs": [],
   "source": [
    "from __future__ import print_function\n",
    "import pandas as pd\n",
    "import numpy as np"
   ]
  },
  {
   "cell_type": "code",
   "execution_count": 2,
   "metadata": {
    "collapsed": true
   },
   "outputs": [],
   "source": [
    "dates = pd.date_range('20130101', periods=6)\n",
    "df = pd.DataFrame(np.random.randn(6,4), index=dates, columns=['A','B','C','D'])"
   ]
  },
  {
   "cell_type": "code",
   "execution_count": 7,
   "metadata": {},
   "outputs": [
    {
     "name": "stdout",
     "output_type": "stream",
     "text": [
      "                   A         B         C         D\n",
      "2013-01-01 -0.180895 -1.323473  0.284043 -0.145573\n",
      "2013-01-02  0.136510  2.151426  0.047334 -0.788746\n",
      "2013-01-03 -0.393339 -1.031438 -0.883324 -0.310175\n",
      "2013-01-04 -1.241920  1.748788 -0.318242 -1.108411\n",
      "2013-01-05  0.562505  0.875352  0.003114  0.735654\n",
      "2013-01-06  0.499583 -1.584903 -2.392182  0.049332\n"
     ]
    }
   ],
   "source": [
    "print(df)"
   ]
  },
  {
   "cell_type": "code",
   "execution_count": 3,
   "metadata": {},
   "outputs": [
    {
     "name": "stdout",
     "output_type": "stream",
     "text": [
      "2013-01-01   -0.180895\n",
      "2013-01-02    0.136510\n",
      "2013-01-03   -0.393339\n",
      "2013-01-04   -1.241920\n",
      "2013-01-05    0.562505\n",
      "2013-01-06    0.499583\n",
      "Freq: D, Name: A, dtype: float64 2013-01-01   -0.180895\n",
      "2013-01-02    0.136510\n",
      "2013-01-03   -0.393339\n",
      "2013-01-04   -1.241920\n",
      "2013-01-05    0.562505\n",
      "2013-01-06    0.499583\n",
      "Freq: D, Name: A, dtype: float64\n",
      "\n",
      "\n",
      "                   A         B         C         D\n",
      "2013-01-01 -0.180895 -1.323473  0.284043 -0.145573\n",
      "2013-01-02  0.136510  2.151426  0.047334 -0.788746\n",
      "2013-01-03 -0.393339 -1.031438 -0.883324 -0.310175                    A         B         C         D\n",
      "2013-01-02  0.136510  2.151426  0.047334 -0.788746\n",
      "2013-01-03 -0.393339 -1.031438 -0.883324 -0.310175\n",
      "2013-01-04 -1.241920  1.748788 -0.318242 -1.108411\n"
     ]
    }
   ],
   "source": [
    "print(df['A'], df.A)\n",
    "print('\\n')\n",
    "print(df[0:3], df['20130102':'20130104'])"
   ]
  },
  {
   "cell_type": "code",
   "execution_count": 11,
   "metadata": {},
   "outputs": [
    {
     "name": "stdout",
     "output_type": "stream",
     "text": [
      "A   -0.339970\n",
      "B    0.372808\n",
      "C   -0.051014\n",
      "D    1.133009\n",
      "Name: 2013-01-02 00:00:00, dtype: float64\n",
      "                   A         B\n",
      "2013-01-01  2.454861  0.428722\n",
      "2013-01-02 -0.339970  0.372808\n",
      "2013-01-03  0.427432 -1.188180\n",
      "2013-01-04  0.319715  1.161965\n",
      "2013-01-05  0.256862  0.646820\n",
      "2013-01-06 -0.217322 -0.561179\n",
      "A   -0.339970\n",
      "B    0.372808\n",
      "Name: 2013-01-02 00:00:00, dtype: float64\n"
     ]
    }
   ],
   "source": [
    "# select by label: loc\n",
    "print(df.loc['20130102'])\n",
    "print(df.loc[:,['A','B']])\n",
    "print(df.loc['20130102', ['A','B']])"
   ]
  },
  {
   "cell_type": "code",
   "execution_count": 12,
   "metadata": {},
   "outputs": [
    {
     "name": "stdout",
     "output_type": "stream",
     "text": [
      "A    0.319715\n",
      "B    1.161965\n",
      "C    0.248188\n",
      "D    0.816240\n",
      "Name: 2013-01-04 00:00:00, dtype: float64\n",
      "1.1619647581371908\n",
      "                   A         B\n",
      "2013-01-04  0.319715  1.161965\n",
      "2013-01-05  0.256862  0.646820\n",
      "                   A         C\n",
      "2013-01-02 -0.339970 -0.051014\n",
      "2013-01-03  0.427432  0.169977\n",
      "2013-01-05  0.256862  0.975434\n"
     ]
    }
   ],
   "source": [
    "# select by position: iloc\n",
    "print(df.iloc[3])\n",
    "print(df.iloc[3, 1])\n",
    "print(df.iloc[3:5,0:2])\n",
    "print(df.iloc[[1,2,4],[0,2]])"
   ]
  },
  {
   "cell_type": "code",
   "execution_count": 17,
   "metadata": {},
   "outputs": [
    {
     "name": "stdout",
     "output_type": "stream",
     "text": [
      "                   A         C\n",
      "2013-01-01  2.454861  1.369905\n",
      "2013-01-02 -0.339970 -0.051014\n",
      "2013-01-03  0.427432  0.169977\n"
     ]
    }
   ],
   "source": [
    "# mix selection :ix\n",
    "print(df.ix[:3, ['A', 'C']])"
   ]
  },
  {
   "cell_type": "code",
   "execution_count": 18,
   "metadata": {},
   "outputs": [
    {
     "name": "stdout",
     "output_type": "stream",
     "text": [
      "                   A         B         C         D\n",
      "2013-01-01  2.454861  0.428722  1.369905  0.191857\n",
      "2013-01-03  0.427432 -1.188180  0.169977  0.841083\n",
      "2013-01-04  0.319715  1.161965  0.248188  0.816240\n",
      "2013-01-05  0.256862  0.646820  0.975434 -1.249749\n"
     ]
    }
   ],
   "source": [
    "# Boolean indexing\n",
    "print(df[df.A > 0])"
   ]
  },
  {
   "cell_type": "code",
   "execution_count": null,
   "metadata": {
    "collapsed": true
   },
   "outputs": [],
   "source": []
  }
 ],
 "metadata": {
  "kernelspec": {
   "display_name": "Python 3",
   "language": "python",
   "name": "python3"
  },
  "language_info": {
   "codemirror_mode": {
    "name": "ipython",
    "version": 3
   },
   "file_extension": ".py",
   "mimetype": "text/x-python",
   "name": "python",
   "nbconvert_exporter": "python",
   "pygments_lexer": "ipython3",
   "version": "3.6.3"
  }
 },
 "nbformat": 4,
 "nbformat_minor": 2
}
