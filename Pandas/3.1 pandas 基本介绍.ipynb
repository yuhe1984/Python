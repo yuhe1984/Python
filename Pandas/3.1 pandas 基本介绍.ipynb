{
 "cells": [
  {
   "cell_type": "code",
   "execution_count": 1,
   "metadata": {
    "collapsed": true
   },
   "outputs": [],
   "source": [
    "from __future__ import print_function\n",
    "import pandas as pd\n",
    "import numpy as np"
   ]
  },
  {
   "cell_type": "code",
   "execution_count": 2,
   "metadata": {},
   "outputs": [
    {
     "name": "stdout",
     "output_type": "stream",
     "text": [
      "0    1.0\n",
      "1    3.0\n",
      "2    6.0\n",
      "3    NaN\n",
      "4    4.0\n",
      "5    1.0\n",
      "dtype: float64\n"
     ]
    }
   ],
   "source": [
    "s = pd.Series([1,3,6,np.nan,4,1]) # similar with 10 numpy\n",
    "print(s)"
   ]
  },
  {
   "cell_type": "code",
   "execution_count": 5,
   "metadata": {},
   "outputs": [
    {
     "name": "stdout",
     "output_type": "stream",
     "text": [
      "                   A         B         C         D\n",
      "2016-01-01 -1.364374  1.785699  1.368524  0.226391\n",
      "2016-01-02  1.598420 -2.089530  0.958098 -0.803967\n",
      "2016-01-03  0.272006  0.142945 -1.667050  0.599994\n",
      "2016-01-04 -1.048698  0.376605 -0.068549  1.656107\n",
      "2016-01-05 -0.468398 -0.453217 -0.686230 -0.401664\n",
      "2016-01-06 -0.501126 -0.496239 -2.285627 -0.074838\n",
      "2016-01-01    1.785699\n",
      "2016-01-02   -2.089530\n",
      "2016-01-03    0.142945\n",
      "2016-01-04    0.376605\n",
      "2016-01-05   -0.453217\n",
      "2016-01-06   -0.496239\n",
      "Freq: D, Name: B, dtype: float64\n"
     ]
    }
   ],
   "source": [
    "dates = pd.date_range('20160101', periods=6)\n",
    "df = pd.DataFrame(np.random.randn(6,4), index=dates, columns=['A','B','C','D'])  # columns列,index行\n",
    "print(df)\n",
    "print(df['B'])"
   ]
  },
  {
   "cell_type": "code",
   "execution_count": 6,
   "metadata": {
    "collapsed": true
   },
   "outputs": [],
   "source": [
    "df2 = pd.DataFrame({'A' : 1,\n",
    "                    'B' : pd.Timestamp('20130102'),\n",
    "                    'C' : pd.Series(1,index=list(range(4)),dtype='float32'),\n",
    "                    'D' : np.array([3] * 4,dtype='int32'),\n",
    "                    'E' : pd.Categorical([\"test\",\"train\",\"test\",\"train\"]),\n",
    "                    'F' : 'foo'})"
   ]
  },
  {
   "cell_type": "code",
   "execution_count": 11,
   "metadata": {},
   "outputs": [
    {
     "name": "stdout",
     "output_type": "stream",
     "text": [
      "   A          B    C  D      E    F\n",
      "0  1 2013-01-02  1.0  3   test  foo\n",
      "1  1 2013-01-02  1.0  3  train  foo\n",
      "2  1 2013-01-02  1.0  3   test  foo\n",
      "3  1 2013-01-02  1.0  3  train  foo\n",
      "A             int64\n",
      "B    datetime64[ns]\n",
      "C           float32\n",
      "D             int32\n",
      "E          category\n",
      "F            object\n",
      "dtype: object\n"
     ]
    }
   ],
   "source": [
    "print(df2)\n",
    "print(df2.dtypes)"
   ]
  },
  {
   "cell_type": "code",
   "execution_count": 12,
   "metadata": {},
   "outputs": [
    {
     "name": "stdout",
     "output_type": "stream",
     "text": [
      "DatetimeIndex(['2016-01-01', '2016-01-02', '2016-01-03', '2016-01-04',\n",
      "               '2016-01-05', '2016-01-06'],\n",
      "              dtype='datetime64[ns]', freq='D')\n",
      "Index(['A', 'B', 'C', 'D'], dtype='object')\n"
     ]
    }
   ],
   "source": [
    "print(df.index)\n",
    "print(df.columns)"
   ]
  },
  {
   "cell_type": "code",
   "execution_count": 13,
   "metadata": {},
   "outputs": [
    {
     "name": "stdout",
     "output_type": "stream",
     "text": [
      "[[-1.36437395  1.78569889  1.36852391  0.22639068]\n",
      " [ 1.59842005 -2.0895297   0.95809798 -0.80396689]\n",
      " [ 0.27200639  0.14294518 -1.66705007  0.59999437]\n",
      " [-1.04869843  0.37660515 -0.06854928  1.65610744]\n",
      " [-0.46839808 -0.45321744 -0.68623049 -0.4016642 ]\n",
      " [-0.50112565 -0.49623859 -2.28562674 -0.07483814]]\n",
      "              A         B         C         D\n",
      "count  6.000000  6.000000  6.000000  6.000000\n",
      "mean  -0.252028 -0.122289 -0.396806  0.200337\n",
      "std    1.065799  1.271145  1.436999  0.863299\n",
      "min   -1.364374 -2.089530 -2.285627 -0.803967\n",
      "25%   -0.911805 -0.485483 -1.421845 -0.319958\n",
      "50%   -0.484762 -0.155136 -0.377390  0.075776\n",
      "75%    0.086905  0.318190  0.701436  0.506593\n",
      "max    1.598420  1.785699  1.368524  1.656107\n"
     ]
    }
   ],
   "source": [
    "print(df.values)\n",
    "print(df.describe())"
   ]
  },
  {
   "cell_type": "code",
   "execution_count": 16,
   "metadata": {},
   "outputs": [
    {
     "name": "stdout",
     "output_type": "stream",
     "text": [
      "   2016-01-01  2016-01-02  2016-01-03  2016-01-04  2016-01-05  2016-01-06\n",
      "A   -1.364374    1.598420    0.272006   -1.048698   -0.468398   -0.501126\n",
      "B    1.785699   -2.089530    0.142945    0.376605   -0.453217   -0.496239\n",
      "C    1.368524    0.958098   -1.667050   -0.068549   -0.686230   -2.285627\n",
      "D    0.226391   -0.803967    0.599994    1.656107   -0.401664   -0.074838\n",
      "                   D         C         B         A\n",
      "2016-01-01  0.226391  1.368524  1.785699 -1.364374\n",
      "2016-01-02 -0.803967  0.958098 -2.089530  1.598420\n",
      "2016-01-03  0.599994 -1.667050  0.142945  0.272006\n",
      "2016-01-04  1.656107 -0.068549  0.376605 -1.048698\n",
      "2016-01-05 -0.401664 -0.686230 -0.453217 -0.468398\n",
      "2016-01-06 -0.074838 -2.285627 -0.496239 -0.501126\n",
      "                   A         B         C         D\n",
      "2016-01-02  1.598420 -2.089530  0.958098 -0.803967\n",
      "2016-01-06 -0.501126 -0.496239 -2.285627 -0.074838\n",
      "2016-01-05 -0.468398 -0.453217 -0.686230 -0.401664\n",
      "2016-01-03  0.272006  0.142945 -1.667050  0.599994\n",
      "2016-01-04 -1.048698  0.376605 -0.068549  1.656107\n",
      "2016-01-01 -1.364374  1.785699  1.368524  0.226391\n"
     ]
    }
   ],
   "source": [
    "print(df.T)\n",
    "print(df.sort_index(axis=1, ascending=False))\n",
    "print(df.sort_values(by='B'))"
   ]
  },
  {
   "cell_type": "code",
   "execution_count": null,
   "metadata": {
    "collapsed": true
   },
   "outputs": [],
   "source": []
  }
 ],
 "metadata": {
  "kernelspec": {
   "display_name": "Python 3",
   "language": "python",
   "name": "python3"
  },
  "language_info": {
   "codemirror_mode": {
    "name": "ipython",
    "version": 3
   },
   "file_extension": ".py",
   "mimetype": "text/x-python",
   "name": "python",
   "nbconvert_exporter": "python",
   "pygments_lexer": "ipython3",
   "version": "3.6.3"
  }
 },
 "nbformat": 4,
 "nbformat_minor": 2
}
