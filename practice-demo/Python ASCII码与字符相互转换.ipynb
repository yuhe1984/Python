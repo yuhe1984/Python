{
 "cells": [
  {
   "cell_type": "code",
   "execution_count": 1,
   "metadata": {},
   "outputs": [
    {
     "name": "stdout",
     "output_type": "stream",
     "text": [
      "请输入一个字节: 1\n",
      "请输入一个ASCII码: 101\n",
      "1 的ASCII码为 49\n",
      "101  对应的字符为 e\n"
     ]
    }
   ],
   "source": [
    "c = input(\"请输入一个字节: \")\n",
    "\n",
    "a = int(input(\"请输入一个ASCII码: \"))\n",
    "\n",
    "print(c + \" 的ASCII码为\", ord(c))\n",
    "print(a , \" 对应的字符为\", chr(a))"
   ]
  },
  {
   "cell_type": "code",
   "execution_count": null,
   "metadata": {
    "collapsed": true
   },
   "outputs": [],
   "source": []
  }
 ],
 "metadata": {
  "kernelspec": {
   "display_name": "Python 3",
   "language": "python",
   "name": "python3"
  },
  "language_info": {
   "codemirror_mode": {
    "name": "ipython",
    "version": 3
   },
   "file_extension": ".py",
   "mimetype": "text/x-python",
   "name": "python",
   "nbconvert_exporter": "python",
   "pygments_lexer": "ipython3",
   "version": "3.6.3"
  }
 },
 "nbformat": 4,
 "nbformat_minor": 2
}
