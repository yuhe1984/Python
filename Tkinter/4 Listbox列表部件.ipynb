{
 "cells": [
  {
   "cell_type": "code",
   "execution_count": 1,
   "metadata": {
    "collapsed": true
   },
   "outputs": [],
   "source": [
    "import tkinter as tk"
   ]
  },
  {
   "cell_type": "code",
   "execution_count": 13,
   "metadata": {},
   "outputs": [],
   "source": [
    "window = tk.Tk()\n",
    "window.title('my window')\n",
    "window.geometry('200x200')\n",
    "\n",
    "var1 = tk.StringVar()\n",
    "l = tk.Label(window, bg='yellow', width=4, textvariable=var1)\n",
    "l.pack()\n",
    "\n",
    "def print_selection():\n",
    "    value = lb.get(lb.curselection())\n",
    "    var1.set(value)\n",
    "    \n",
    "b1 = tk.Button(window, text='print selection', width=15,\n",
    "              height=2, command=print_selection)\n",
    "b1.pack()\n",
    "\n",
    "var2 = tk.StringVar()\n",
    "var2.set((11,22,33,44))\n",
    "lb = tk.Listbox(window, listvariable=var2)\n",
    "list_items = [1,2,3,4]\n",
    "for item in list_items:\n",
    "    lb.insert('end', item)\n",
    "lb.insert(1, 'first')\n",
    "lb.insert(2, 'second')\n",
    "lb.delete(2)\n",
    "lb.pack()\n",
    "\n",
    "\n",
    "window.mainloop()"
   ]
  },
  {
   "cell_type": "code",
   "execution_count": null,
   "metadata": {
    "collapsed": true
   },
   "outputs": [],
   "source": []
  }
 ],
 "metadata": {
  "kernelspec": {
   "display_name": "Python 3",
   "language": "python",
   "name": "python3"
  },
  "language_info": {
   "codemirror_mode": {
    "name": "ipython",
    "version": 3
   },
   "file_extension": ".py",
   "mimetype": "text/x-python",
   "name": "python",
   "nbconvert_exporter": "python",
   "pygments_lexer": "ipython3",
   "version": "3.6.3"
  }
 },
 "nbformat": 4,
 "nbformat_minor": 2
}
