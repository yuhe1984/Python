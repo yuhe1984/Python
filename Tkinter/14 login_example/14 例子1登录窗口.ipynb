{
 "cells": [
  {
   "cell_type": "code",
   "execution_count": 8,
   "metadata": {
    "collapsed": true
   },
   "outputs": [],
   "source": [
    "import tkinter as tk\n",
    "import pickle\n",
    "import tkinter.messagebox"
   ]
  },
  {
   "cell_type": "code",
   "execution_count": 11,
   "metadata": {
    "collapsed": true
   },
   "outputs": [],
   "source": [
    "window = tk.Tk()\n",
    "window.title('Welcome to Python')\n",
    "window.geometry('450x300')\n",
    "\n",
    "# welcome image\n",
    "canvas = tk.Canvas(window, height=200, width=500)\n",
    "image_file = tk.PhotoImage(file='welcome.gif')\n",
    "image = canvas.create_image(0,0, anchor='nw', image=image_file)\n",
    "canvas.pack(side='top')\n",
    "\n",
    "# user information\n",
    "tk.Label(window, text='User name: ').place(x=50, y = 150)\n",
    "tk.Label(window, text='Password: ').place(x=50, y = 190)\n",
    "\n",
    "var_usr_name = tk.StringVar()\n",
    "var_usr_name.set('example@python.com')\n",
    "entry_usr_name = tk.Entry(window, textvariable=var_usr_name)\n",
    "entry_usr_name.place(x=160, y=150)\n",
    "var_usr_pwd = tk.StringVar()\n",
    "entry_usr_pwd = tk.Entry(window, textvariable=var_usr_pwd, show='*')\n",
    "entry_usr_pwd.place(x=160, y=190)\n",
    "\n",
    "def usr_login():\n",
    "    usr_name = var_usr_name.get()\n",
    "    usr_pwd = var_usr_pwd.get()\n",
    "    try:\n",
    "        with open('usrs_info.pickle', 'rb') as usr_file:\n",
    "            usrs_info = pickle.load(usr_file)\n",
    "    except FileNotFoundError:\n",
    "        with open('user_info.pickle', 'wb') as usr_file:\n",
    "            usrs_info = {'admin': 'admin'}\n",
    "            pickle.dump(usrs_info, usr_file)\n",
    "    if usr_name in usrs_info:\n",
    "        if usr_pwd == usrs_info[usr_name]:\n",
    "            tk.massagebox.showinfo(title='Welcome', message='How are you? ' + usr_name)\n",
    "        else:\n",
    "            tk.messagebox.showerror(message='Error, your password is wrong, try again.')\n",
    "    else:\n",
    "        is_sign_up = tk.messagebox.askyesno('Welcome',\n",
    "                                            'You have not sign up yet. Sign up today?')\n",
    "        if is_sign_up:\n",
    "            usr_sign_up()\n",
    "    \n",
    "def usr_sign_up():\n",
    "    pass\n",
    "\n",
    "# login and sign up button\n",
    "btn_login = tk.Button(window, text='Login', command=usr_login)\n",
    "btn_login.place(x=170, y=230)\n",
    "btn_sign_up = tk.Button(window, text='Sign up', command=usr_sign_up)\n",
    "btn_sign_up.place(x=270, y=230)\n",
    "\n",
    "window.mainloop()"
   ]
  },
  {
   "cell_type": "code",
   "execution_count": null,
   "metadata": {
    "collapsed": true
   },
   "outputs": [],
   "source": []
  }
 ],
 "metadata": {
  "kernelspec": {
   "display_name": "Python 3",
   "language": "python",
   "name": "python3"
  },
  "language_info": {
   "codemirror_mode": {
    "name": "ipython",
    "version": 3
   },
   "file_extension": ".py",
   "mimetype": "text/x-python",
   "name": "python",
   "nbconvert_exporter": "python",
   "pygments_lexer": "ipython3",
   "version": "3.6.3"
  }
 },
 "nbformat": 4,
 "nbformat_minor": 2
}
