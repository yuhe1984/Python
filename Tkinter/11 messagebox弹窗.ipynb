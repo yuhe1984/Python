{
 "cells": [
  {
   "cell_type": "code",
   "execution_count": 2,
   "metadata": {
    "collapsed": true
   },
   "outputs": [],
   "source": [
    "import tkinter as tk\n",
    "import tkinter.messagebox"
   ]
  },
  {
   "cell_type": "code",
   "execution_count": 6,
   "metadata": {},
   "outputs": [
    {
     "name": "stdout",
     "output_type": "stream",
     "text": [
      "True\n",
      "True\n",
      "True\n"
     ]
    }
   ],
   "source": [
    "window = tk.Tk()\n",
    "window.title('my title')\n",
    "window.geometry('200x200')\n",
    "\n",
    "def hit_me():\n",
    "    #tk.messagebox.showinfo(title='Hi', message='hahahaha')   # return 'ok'\n",
    "    #tk.messagebox.showwarning(title='Hi', message='nononono')   # return 'ok'\n",
    "    #tk.messagebox.showerror(title='Hi', message='No!! never')   # return 'ok'\n",
    "    #print(tk.messagebox.askquestion(title='Hi', message='hahahaha'))   # return 'yes' , 'no'\n",
    "    #print(tk.messagebox.askyesno(title='Hi', message='hahahaha'))   # return True, False\n",
    "    print(tk.messagebox.askretrycancel(title='Hi', message='hahaha'))     # return True, False\n",
    "    print(tk.messagebox.askokcancel(title='Hi', message='hahaha'))     # return True, False\n",
    "    print(tk.messagebox.askyesnocancel(title=\"Hi\", message=\"haha\"))     # return True, False\n",
    "\n",
    "tk.Button(window, text='hit me', command=hit_me).pack()\n",
    "window.mainloop()"
   ]
  },
  {
   "cell_type": "code",
   "execution_count": null,
   "metadata": {
    "collapsed": true
   },
   "outputs": [],
   "source": []
  }
 ],
 "metadata": {
  "kernelspec": {
   "display_name": "Python 3",
   "language": "python",
   "name": "python3"
  },
  "language_info": {
   "codemirror_mode": {
    "name": "ipython",
    "version": 3
   },
   "file_extension": ".py",
   "mimetype": "text/x-python",
   "name": "python",
   "nbconvert_exporter": "python",
   "pygments_lexer": "ipython3",
   "version": "3.6.3"
  }
 },
 "nbformat": 4,
 "nbformat_minor": 2
}
