{
 "cells": [
  {
   "cell_type": "code",
   "execution_count": 1,
   "metadata": {
    "collapsed": true
   },
   "outputs": [],
   "source": [
    "import tkinter as tk"
   ]
  },
  {
   "cell_type": "code",
   "execution_count": 5,
   "metadata": {
    "collapsed": true
   },
   "outputs": [],
   "source": [
    "window = tk.Tk()\n",
    "window.title('my window')\n",
    "window.geometry('200x200')\n",
    "# e = tk.Emtry(window, show=\"*\")\n",
    "e = tk.Entry(window, show=\"l\")\n",
    "e.pack()\n",
    "\n",
    "def insert_point():\n",
    "    var = e.get()\n",
    "    t.insert('insert', var)\n",
    "def insert_end():\n",
    "    var = e.get()\n",
    "    # t.insert('end', var)\n",
    "    t.insert(2.2, var)\n",
    "    \n",
    "b1 = tk.Button(window, text='insert point', width=15,\n",
    "              height=2, command=insert_point)\n",
    "b1.pack()\n",
    "b2 = tk.Button(window, text='insert end',\n",
    "              command=insert_end)\n",
    "b2.pack()\n",
    "t = tk.Text(window, height=2)\n",
    "t.pack()\n",
    "\n",
    "window.mainloop()"
   ]
  },
  {
   "cell_type": "code",
   "execution_count": null,
   "metadata": {
    "collapsed": true
   },
   "outputs": [],
   "source": []
  }
 ],
 "metadata": {
  "kernelspec": {
   "display_name": "Python 3",
   "language": "python",
   "name": "python3"
  },
  "language_info": {
   "codemirror_mode": {
    "name": "ipython",
    "version": 3
   },
   "file_extension": ".py",
   "mimetype": "text/x-python",
   "name": "python",
   "nbconvert_exporter": "python",
   "pygments_lexer": "ipython3",
   "version": "3.6.3"
  }
 },
 "nbformat": 4,
 "nbformat_minor": 2
}
