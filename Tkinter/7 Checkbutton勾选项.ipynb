{
 "cells": [
  {
   "cell_type": "code",
   "execution_count": 1,
   "metadata": {
    "collapsed": true
   },
   "outputs": [],
   "source": [
    "import tkinter as tk"
   ]
  },
  {
   "cell_type": "code",
   "execution_count": 5,
   "metadata": {},
   "outputs": [],
   "source": [
    "window = tk.Tk()\n",
    "window.title('my window')\n",
    "window.geometry('200x200')\n",
    "\n",
    "l = tk.Label(window, bg='yellow', width=20, text='empty')\n",
    "l.pack()\n",
    "\n",
    "def print_selection():\n",
    "    if (var1.get() == 1) & (var2.get() == 0):\n",
    "        l.config(text='I love only python ')\n",
    "    elif (var1.get() == 0) & (var2.get() == 1):\n",
    "        l.config(text='I love only C++')\n",
    "    elif (var1.get() == 0) & (var2.get() == 0):\n",
    "        l.config(text='I do not love either')\n",
    "    else:\n",
    "        l.config(text='I love both')\n",
    "        \n",
    "var1 = tk.IntVar()\n",
    "var2 = tk.IntVar()\n",
    "c1 = tk.Checkbutton(window, text='Python', variable=var1, onvalue=1, offvalue=0,\n",
    "                   command=print_selection)\n",
    "c2 = tk.Checkbutton(window, text='C++', variable=var2, onvalue=1, offvalue=0,\n",
    "                   command=print_selection)\n",
    "c1.pack()\n",
    "c2.pack()\n",
    "\n",
    "\n",
    "window.mainloop()"
   ]
  },
  {
   "cell_type": "code",
   "execution_count": null,
   "metadata": {
    "collapsed": true
   },
   "outputs": [],
   "source": []
  }
 ],
 "metadata": {
  "kernelspec": {
   "display_name": "Python 3",
   "language": "python",
   "name": "python3"
  },
  "language_info": {
   "codemirror_mode": {
    "name": "ipython",
    "version": 3
   },
   "file_extension": ".py",
   "mimetype": "text/x-python",
   "name": "python",
   "nbconvert_exporter": "python",
   "pygments_lexer": "ipython3",
   "version": "3.6.3"
  }
 },
 "nbformat": 4,
 "nbformat_minor": 2
}
